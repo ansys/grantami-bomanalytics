{
 "cells": [
  {
   "cell_type": "markdown",
   "id": "ba6222df",
   "metadata": {},
   "source": [
    "# Perform a substance compliance query"
   ]
  },
  {
   "cell_type": "markdown",
   "id": "d49e51e6",
   "metadata": {},
   "source": [
    "A substance compliance query determines whether one or more substances are compliant with the specified indicators.\n",
    "This example checks several materials for substances included on two watch lists (\"EU REACH - The Candidate List\" and\n",
    "\"The SIN List 2.1\"), specifying substance amounts and thresholds for compliance."
   ]
  },
  {
   "cell_type": "markdown",
   "id": "fa39ef2c",
   "metadata": {},
   "source": [
    "## Connect to Granta MI"
   ]
  },
  {
   "cell_type": "markdown",
   "id": "8e845d71",
   "metadata": {},
   "source": [
    "Import the ``Connection`` class and create the connection. For more information, see the\n",
    "[Basic Usage](../0_Basic_usage.ipynb) example."
   ]
  },
  {
   "cell_type": "code",
   "execution_count": 1,
   "id": "fa2e840d",
   "metadata": {
    "execution": {
     "iopub.execute_input": "2025-07-29T16:53:40.643056Z",
     "iopub.status.busy": "2025-07-29T16:53:40.642884Z",
     "iopub.status.idle": "2025-07-29T16:53:41.131444Z",
     "shell.execute_reply": "2025-07-29T16:53:41.130892Z"
    },
    "tags": []
   },
   "outputs": [],
   "source": [
    "from ansys.grantami.bomanalytics import Connection\n",
    "\n",
    "server_url = \"http://my_grantami_server/mi_servicelayer\"\n",
    "cxn = Connection(server_url).with_credentials(\"user_name\", \"password\").connect()"
   ]
  },
  {
   "cell_type": "markdown",
   "id": "8df2c552",
   "metadata": {},
   "source": [
    "## Define an indicator"
   ]
  },
  {
   "cell_type": "markdown",
   "id": "1f10bf2f",
   "metadata": {},
   "source": [
    "A Compliance query determines compliance against indicators, as opposed to an Impacted Substances query which\n",
    "determines compliance directly against legislations.\n",
    "\n",
    "There are two types of indicator objects (``WatchListIndicator`` and ``RohsIndicator``), and the syntax that\n",
    "follows applies to both object types. The differences in the internal implementation of the two objects are\n",
    "described in the API documentation.\n",
    "\n",
    "Generally speaking, if a substance is impacted by a legislation associated with an indicator and in a quantity\n",
    "above a specified threshold, the substance is non-compliant with that indicator. This non-compliance applies to\n",
    "any other items in the BoM hierarchy that directly or indirectly include that substance."
   ]
  },
  {
   "cell_type": "markdown",
   "id": "a434ba4c",
   "metadata": {},
   "source": [
    "First, create two ``WatchListIndicator`` objects."
   ]
  },
  {
   "cell_type": "code",
   "execution_count": 2,
   "id": "0d32c6f0",
   "metadata": {
    "execution": {
     "iopub.execute_input": "2025-07-29T16:53:41.133993Z",
     "iopub.status.busy": "2025-07-29T16:53:41.133355Z",
     "iopub.status.idle": "2025-07-29T16:53:41.137965Z",
     "shell.execute_reply": "2025-07-29T16:53:41.137356Z"
    },
    "tags": []
   },
   "outputs": [],
   "source": [
    "from ansys.grantami.bomanalytics import indicators\n",
    "\n",
    "svhc = indicators.WatchListIndicator(\n",
    "    name=\"SVHC\",\n",
    "    legislation_ids=[\"Candidate_AnnexXV\"],\n",
    "    default_threshold_percentage=0.1,\n",
    ")\n",
    "sin = indicators.WatchListIndicator(\n",
    "    name=\"SIN\",\n",
    "    legislation_ids=[\"SINList\"]\n",
    ")"
   ]
  },
  {
   "cell_type": "markdown",
   "id": "23e7c3ed",
   "metadata": {
    "tags": []
   },
   "source": [
    "## Build and run the query"
   ]
  },
  {
   "cell_type": "markdown",
   "id": "e839ed8b",
   "metadata": {},
   "source": [
    "Next, define the query itself. Substances can be referenced by Granta MI record reference, CAS\n",
    "number, EC number, or chemical name.\n",
    "\n",
    "The substance quantity, an optional argument, defaults to 100% if no value is specified."
   ]
  },
  {
   "cell_type": "code",
   "execution_count": 3,
   "id": "907d2b4b",
   "metadata": {
    "execution": {
     "iopub.execute_input": "2025-07-29T16:53:41.139719Z",
     "iopub.status.busy": "2025-07-29T16:53:41.139541Z",
     "iopub.status.idle": "2025-07-29T16:53:41.146340Z",
     "shell.execute_reply": "2025-07-29T16:53:41.145918Z"
    },
    "tags": []
   },
   "outputs": [],
   "source": [
    "from ansys.grantami.bomanalytics import queries\n",
    "\n",
    "sub_query = queries.SubstanceComplianceQuery().with_indicators([svhc, sin])\n",
    "sub_query = sub_query.with_cas_numbers_and_amounts([(\"50-00-0\", 10),\n",
    "                                                    (\"110-00-9\", 25),\n",
    "                                                    (\"302-17-0\", 100),\n",
    "                                                    (\"7440-23-5\", 100)])"
   ]
  },
  {
   "cell_type": "markdown",
   "id": "23d64d0e",
   "metadata": {},
   "source": [
    "Finally, run the query. Passing a ``SubstanceComplianceQuery`` object to the ``Connection.run()`` method returns a\n",
    "``SubstanceComplianceQueryResult`` object."
   ]
  },
  {
   "cell_type": "code",
   "execution_count": 4,
   "id": "2f05a892",
   "metadata": {
    "execution": {
     "iopub.execute_input": "2025-07-29T16:53:41.147876Z",
     "iopub.status.busy": "2025-07-29T16:53:41.147722Z",
     "iopub.status.idle": "2025-07-29T16:53:41.460256Z",
     "shell.execute_reply": "2025-07-29T16:53:41.459784Z"
    },
    "tags": []
   },
   "outputs": [
    {
     "data": {
      "text/plain": [
       "<SubstanceComplianceQueryResult: 4 SubstanceWithCompliance results>"
      ]
     },
     "execution_count": 4,
     "metadata": {},
     "output_type": "execute_result"
    }
   ],
   "source": [
    "sub_result = cxn.run(sub_query)\n",
    "sub_result"
   ]
  },
  {
   "cell_type": "markdown",
   "id": "61fc413a",
   "metadata": {
    "tags": []
   },
   "source": [
    "The result object contains two properties: ``compliance_by_substance_and_indicator`` and ``compliance_by_indicator``."
   ]
  },
  {
   "cell_type": "markdown",
   "id": "19e08f75",
   "metadata": {},
   "source": [
    "## Group results by substance"
   ]
  },
  {
   "cell_type": "markdown",
   "id": "7a1431d7",
   "metadata": {
    "tags": []
   },
   "source": [
    "``compliance_by_substance_and_indicator`` contains a list of ``SubstanceWithComplianceResult`` objects that contain\n",
    "the reference to the substance record and the compliance status in the list of indicators. To determine which\n",
    "substances are compliant, loop over each one and compare the indicator to a certain threshold. This\n",
    "example examines the SVHC indicator."
   ]
  },
  {
   "cell_type": "markdown",
   "id": "2ea0247e",
   "metadata": {},
   "source": [
    "The possible states of the indicator are available on the ``Indicator.available_flags`` attribute and can be compared\n",
    "using standard Python operators."
   ]
  },
  {
   "cell_type": "code",
   "execution_count": 5,
   "id": "310cc452",
   "metadata": {
    "execution": {
     "iopub.execute_input": "2025-07-29T16:53:41.462182Z",
     "iopub.status.busy": "2025-07-29T16:53:41.461828Z",
     "iopub.status.idle": "2025-07-29T16:53:41.465344Z",
     "shell.execute_reply": "2025-07-29T16:53:41.464905Z"
    },
    "tags": []
   },
   "outputs": [],
   "source": [
    "compliant_substances = []\n",
    "non_compliant_substances = []\n",
    "threshold = svhc.available_flags.WatchListAboveThreshold\n",
    "\n",
    "for substance in sub_result.compliance_by_substance_and_indicator:\n",
    "    if (substance.indicators[\"SVHC\"] >= threshold):\n",
    "        non_compliant_substances.append(substance)\n",
    "    else:\n",
    "        compliant_substances.append(substance)"
   ]
  },
  {
   "cell_type": "markdown",
   "id": "492313e4",
   "metadata": {},
   "source": [
    "Now print the SVHC and non-SVHC substances."
   ]
  },
  {
   "cell_type": "code",
   "execution_count": 6,
   "id": "afa1b317",
   "metadata": {
    "execution": {
     "iopub.execute_input": "2025-07-29T16:53:41.466873Z",
     "iopub.status.busy": "2025-07-29T16:53:41.466720Z",
     "iopub.status.idle": "2025-07-29T16:53:41.470282Z",
     "shell.execute_reply": "2025-07-29T16:53:41.469837Z"
    },
    "tags": []
   },
   "outputs": [
    {
     "name": "stdout",
     "output_type": "stream",
     "text": [
      "Non-SVHC substances: 50-00-0, 302-17-0, 7440-23-5\n",
      "SVHCs: 110-00-9\n"
     ]
    }
   ],
   "source": [
    "compliant_cas_numbers = [sub.cas_number for sub in compliant_substances]\n",
    "print(f'Non-SVHC substances: {\", \".join(compliant_cas_numbers)}')\n",
    "\n",
    "non_compliant_cas_numbers = [sub.cas_number for sub in non_compliant_substances]\n",
    "print(f'SVHCs: {\", \".join(non_compliant_cas_numbers)}')"
   ]
  },
  {
   "cell_type": "markdown",
   "id": "f16ddbc8",
   "metadata": {},
   "source": [
    "## Group results by indicator"
   ]
  },
  {
   "cell_type": "markdown",
   "id": "c4a96d9a",
   "metadata": {},
   "source": [
    "Alternatively, using the ``compliance_by_indicator`` property provides a single indicator result\n",
    "that summarizes the results across all substances in the query. This would be useful in a situation\n",
    "where a *concept* material is stored outside of Granta MI but its compliance must be determined.\n",
    "Because you know it contains the substances specified in the preceding query, you can use the\n",
    "``compliance_by_indicator`` property to tell if this concept material is compliant based on\n",
    "the worst result of the individual substances."
   ]
  },
  {
   "cell_type": "code",
   "execution_count": 7,
   "id": "15b8fdc5",
   "metadata": {
    "execution": {
     "iopub.execute_input": "2025-07-29T16:53:41.472065Z",
     "iopub.status.busy": "2025-07-29T16:53:41.471744Z",
     "iopub.status.idle": "2025-07-29T16:53:41.474489Z",
     "shell.execute_reply": "2025-07-29T16:53:41.474033Z"
    },
    "tags": []
   },
   "outputs": [
    {
     "name": "stdout",
     "output_type": "stream",
     "text": [
      "One or more substances is an SVHC with a quantity greater than 0.1%\n"
     ]
    }
   ],
   "source": [
    "if sub_result.compliance_by_indicator[\"SVHC\"] >= threshold:\n",
    "    print(\"One or more substances is an SVHC with a quantity greater than 0.1%\")\n",
    "else:\n",
    "    print(\"No SVHCs are present, or no SVHCs have a quantity less than 0.1%.\")"
   ]
  },
  {
   "cell_type": "markdown",
   "id": "a51a3b17",
   "metadata": {},
   "source": [
    "Note that this property does not tell you which substance is responsible for the non-compliance. This would require\n",
    "either performing a more granular analysis as shown earlier or importing the material into Granta MI and running\n",
    "a compliance query on that material record."
   ]
  }
 ],
 "metadata": {
  "jupytext": {
   "formats": "ipynb,py:light"
  },
  "kernelspec": {
   "display_name": "Python 3 (ipykernel)",
   "language": "python",
   "name": "python3"
  },
  "language_info": {
   "codemirror_mode": {
    "name": "ipython",
    "version": 3
   },
   "file_extension": ".py",
   "mimetype": "text/x-python",
   "name": "python",
   "nbconvert_exporter": "python",
   "pygments_lexer": "ipython3",
   "version": "3.11.13"
  }
 },
 "nbformat": 4,
 "nbformat_minor": 5
}
