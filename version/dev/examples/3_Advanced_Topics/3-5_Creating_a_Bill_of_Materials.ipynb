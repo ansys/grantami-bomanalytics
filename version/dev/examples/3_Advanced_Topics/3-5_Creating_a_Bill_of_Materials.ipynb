{
 "cells": [
  {
   "cell_type": "markdown",
   "id": "d0f8de3b",
   "metadata": {},
   "source": [
    "# Create a BoM from an external data source"
   ]
  },
  {
   "cell_type": "markdown",
   "id": "a07b37ce",
   "metadata": {},
   "source": [
    "This example shows how to use the ``bom_types`` subpackage to create a valid Granta MI XML\n",
    "BoM. This subpackage can be used to help construct a Granta 23/01-compliant XML BoM file to\n",
    "use with the BoM queries provided by this package. The code in this example shows how to generate\n",
    "a BoM from a representative JSON data source. The general approach can be applied to data\n",
    "in other formats or provided by other APIs."
   ]
  },
  {
   "cell_type": "markdown",
   "id": "2526986b",
   "metadata": {},
   "source": [
    "You can download the [external data source](supporting-files/source_data_sustainability.json) used in this example."
   ]
  },
  {
   "cell_type": "markdown",
   "id": "eb7d6f22",
   "metadata": {},
   "source": [
    "The result of this example is a Granta 23/01-compliant XML BoM file that is suitable for\n",
    "sustainability analysis with the Granta MI BoM Analytics API. For more information on the\n",
    "expected content of XML BoMs, see the Granta MI documentation."
   ]
  },
  {
   "cell_type": "markdown",
   "id": "7795004d",
   "metadata": {},
   "source": [
    "## Load the external data"
   ]
  },
  {
   "cell_type": "markdown",
   "id": "c6fc7f31",
   "metadata": {},
   "source": [
    "First load the JSON file and use the ``json`` module, which converts the text into a hierarchical\n",
    "structure of ``dict`` and ``list`` objects."
   ]
  },
  {
   "cell_type": "code",
   "execution_count": 1,
   "id": "50ba829c",
   "metadata": {
    "execution": {
     "iopub.execute_input": "2024-05-06T14:22:00.068663Z",
     "iopub.status.busy": "2024-05-06T14:22:00.068128Z",
     "iopub.status.idle": "2024-05-06T14:22:00.076092Z",
     "shell.execute_reply": "2024-05-06T14:22:00.075492Z"
    }
   },
   "outputs": [
    {
     "name": "stdout",
     "output_type": "stream",
     "text": [
      "[{'part_identifier': 'Part1[ProductAssembly]', 'type': 'Product'},\n",
      " {'parent_part_identifier': 'Part1[ProductAssembly]',\n",
      "  'part_identifier': 'Part1.1[SubAssembly]',\n",
      "  'quantity_in_parent': 1.0,\n",
      "  'type': 'Assembly'},\n",
      " {'parent_part_identifier': 'Part1.1[SubAssembly]',\n",
      "  'part_identifier': 'Part1.1.A[LeafPart]',\n",
      "  'part_mass_in_kg': 0.925,\n",
      "  'quantity_in_parent': 1.0,\n",
      "  'type': 'Part'}]\n"
     ]
    }
   ],
   "source": [
    "import json\n",
    "from pprint import pprint\n",
    "\n",
    "with open(\"supporting-files/source_data_sustainability.json\") as f:\n",
    "    data = json.load(f)\n",
    "pprint(data[:3])"
   ]
  },
  {
   "cell_type": "markdown",
   "id": "6c89e82e",
   "metadata": {},
   "source": [
    "## Inspect the external data\n",
    "The external data source defines a flat list of items. Each item has at least the following:\n",
    "\n",
    "- A ``type`` field that identifies the type of the item.\n",
    "- A ``parent_part_identifier`` field that identifies the parent part in the hierarchy.\n",
    "\n",
    "Because items that refer to components do not have an equivalent record in Granta MI, they\n",
    "contain only the preceding fields and quantity and mass fields.\n",
    "\n",
    "Items that refer to materials, processes, and transport stages correspond to records in Granta MI\n",
    "that contain the relevant sustainability metrics for these items. As a result, these items\n",
    "contain both a human-readable ``name`` field and a ``Granta_MI_Record_GUID`` field. In this\n",
    "scenario, the system that provided the data source contains the direct material assignments from\n",
    "Granta MI."
   ]
  },
  {
   "cell_type": "markdown",
   "id": "06ea5321",
   "metadata": {},
   "source": [
    "### Components\n",
    "The external data source defines three different types of component:\n",
    "\n",
    "- A single item of type ``Product``. The external data source describes the BoM for\n",
    "  this product. All other items are expected to be children of this item.\n",
    "- Items of type ``Assembly``.\n",
    "- Items of type ``Part``.\n",
    "\n",
    "Extract the items into separate lists based on the ``type`` field. The ``Product`` item is stored\n",
    "in a variable directly because there can only be one product per BoM by definition."
   ]
  },
  {
   "cell_type": "code",
   "execution_count": 2,
   "id": "af9162db",
   "metadata": {
    "execution": {
     "iopub.execute_input": "2024-05-06T14:22:00.078571Z",
     "iopub.status.busy": "2024-05-06T14:22:00.078216Z",
     "iopub.status.idle": "2024-05-06T14:22:00.084407Z",
     "shell.execute_reply": "2024-05-06T14:22:00.083776Z"
    }
   },
   "outputs": [
    {
     "data": {
      "text/plain": [
       "{'type': 'Product', 'part_identifier': 'Part1[ProductAssembly]'}"
      ]
     },
     "execution_count": 2,
     "metadata": {},
     "output_type": "execute_result"
    }
   ],
   "source": [
    "source_product = next(item for item in data if item[\"type\"] == \"Product\")\n",
    "source_product"
   ]
  },
  {
   "cell_type": "code",
   "execution_count": 3,
   "id": "54da961e",
   "metadata": {
    "execution": {
     "iopub.execute_input": "2024-05-06T14:22:00.086783Z",
     "iopub.status.busy": "2024-05-06T14:22:00.086428Z",
     "iopub.status.idle": "2024-05-06T14:22:00.090890Z",
     "shell.execute_reply": "2024-05-06T14:22:00.090260Z"
    }
   },
   "outputs": [
    {
     "data": {
      "text/plain": [
       "{'type': 'Assembly',\n",
       " 'parent_part_identifier': 'Part1[ProductAssembly]',\n",
       " 'part_identifier': 'Part1.1[SubAssembly]',\n",
       " 'quantity_in_parent': 1.0}"
      ]
     },
     "execution_count": 3,
     "metadata": {},
     "output_type": "execute_result"
    }
   ],
   "source": [
    "source_assemblies = [item for item in data if item[\"type\"] == \"Assembly\"]\n",
    "source_assemblies[0]"
   ]
  },
  {
   "cell_type": "code",
   "execution_count": 4,
   "id": "8a4e320a",
   "metadata": {
    "execution": {
     "iopub.execute_input": "2024-05-06T14:22:00.093332Z",
     "iopub.status.busy": "2024-05-06T14:22:00.093004Z",
     "iopub.status.idle": "2024-05-06T14:22:00.097306Z",
     "shell.execute_reply": "2024-05-06T14:22:00.096722Z"
    }
   },
   "outputs": [
    {
     "data": {
      "text/plain": [
       "{'type': 'Part',\n",
       " 'parent_part_identifier': 'Part1.1[SubAssembly]',\n",
       " 'part_identifier': 'Part1.1.A[LeafPart]',\n",
       " 'quantity_in_parent': 1.0,\n",
       " 'part_mass_in_kg': 0.925}"
      ]
     },
     "execution_count": 4,
     "metadata": {},
     "output_type": "execute_result"
    }
   ],
   "source": [
    "source_parts = [item for item in data if item[\"type\"] == \"Part\"]\n",
    "source_parts[0]"
   ]
  },
  {
   "cell_type": "markdown",
   "id": "80a605f4",
   "metadata": {},
   "source": [
    "### Materials\n",
    "Because the third-party system only allows assignment of a single material per part, there is no\n",
    "'quantity' associated with the material. It is assumed that the part is made entirely of the\n",
    "referenced material.\n",
    "\n",
    "Extract the material items into a list based on the ``type`` field."
   ]
  },
  {
   "cell_type": "code",
   "execution_count": 5,
   "id": "b159a042",
   "metadata": {
    "execution": {
     "iopub.execute_input": "2024-05-06T14:22:00.099714Z",
     "iopub.status.busy": "2024-05-06T14:22:00.099359Z",
     "iopub.status.idle": "2024-05-06T14:22:00.103658Z",
     "shell.execute_reply": "2024-05-06T14:22:00.103045Z"
    }
   },
   "outputs": [
    {
     "data": {
      "text/plain": [
       "{'type': 'Material',\n",
       " 'parent_part_identifier': 'Part1.1.A[LeafPart]',\n",
       " 'name': 'stainless-astm-cn-7ms-cast',\n",
       " 'Granta_MI_Record_GUID': '2086f56a-4f4d-4850-9891-3d6ad155d1f9'}"
      ]
     },
     "execution_count": 5,
     "metadata": {},
     "output_type": "execute_result"
    }
   ],
   "source": [
    "source_materials = [item for item in data if item[\"type\"] == \"Material\"]\n",
    "source_materials[0]"
   ]
  },
  {
   "cell_type": "markdown",
   "id": "ad6c2e9c",
   "metadata": {},
   "source": [
    "### Processes\n",
    "The external data source defines three different types of process:\n",
    "\n",
    "- ``MaterialFormingStep`` items describe a process that forms a mass of material into a shaped\n",
    "  component. In this scenario, the third-party system defines a single forming process for each\n",
    "  part. These processes are mapped to ``Primary processes`` in the Granta MI BoM.\n",
    "- ``MaterialProcessingStep`` items describe extra processing steps applied after the main forming\n",
    "  processing step. These items include ``step_order`` and ``mass_removed_in_kg`` fields, which\n",
    "  together fully describe the material removal. These processes are mapped to\n",
    "  ``Secondary processes`` in the Granta MI BoM.\n",
    "- ``PartProcessingStep`` items describe processes applied directly to parts. These processes are\n",
    "  mapped to ``Joining & Finishing processes`` in the Granta MI BoM.\n",
    "\n",
    "Extract the process items into lists based on their ``type`` fields."
   ]
  },
  {
   "cell_type": "code",
   "execution_count": 6,
   "id": "527acd30",
   "metadata": {
    "execution": {
     "iopub.execute_input": "2024-05-06T14:22:00.106062Z",
     "iopub.status.busy": "2024-05-06T14:22:00.105710Z",
     "iopub.status.idle": "2024-05-06T14:22:00.110021Z",
     "shell.execute_reply": "2024-05-06T14:22:00.109388Z"
    }
   },
   "outputs": [
    {
     "data": {
      "text/plain": [
       "{'type': 'MaterialFormingStep',\n",
       " 'name': 'Primary processing, Casting',\n",
       " 'parent_part_identifier': 'Part1.1.A[LeafPart]',\n",
       " 'Granta_MI_Record_GUID': 'baa6c95b-ff0e-4811-9120-92717ee15bda'}"
      ]
     },
     "execution_count": 6,
     "metadata": {},
     "output_type": "execute_result"
    }
   ],
   "source": [
    "source_primary_processes = [item for item in data if item[\"type\"] == \"MaterialFormingStep\"]\n",
    "source_primary_processes[0]"
   ]
  },
  {
   "cell_type": "code",
   "execution_count": 7,
   "id": "85ab5ab3",
   "metadata": {
    "execution": {
     "iopub.execute_input": "2024-05-06T14:22:00.112373Z",
     "iopub.status.busy": "2024-05-06T14:22:00.112026Z",
     "iopub.status.idle": "2024-05-06T14:22:00.116350Z",
     "shell.execute_reply": "2024-05-06T14:22:00.115781Z"
    }
   },
   "outputs": [
    {
     "data": {
      "text/plain": [
       "{'type': 'MaterialProcessingStep',\n",
       " 'name': 'Machining, coarse',\n",
       " 'parent_part_identifier': 'Part1.1.A[LeafPart]',\n",
       " 'Granta_MI_Record_GUID': '907bda29-e800-44f6-b7ea-4eb8e7cff375',\n",
       " 'step_order': 0,\n",
       " 'mass_removed_in_kg': 0.0808}"
      ]
     },
     "execution_count": 7,
     "metadata": {},
     "output_type": "execute_result"
    }
   ],
   "source": [
    "source_secondary_processes = [item for item in data if item[\"type\"] == \"MaterialProcessingStep\"]\n",
    "source_secondary_processes[0]"
   ]
  },
  {
   "cell_type": "code",
   "execution_count": 8,
   "id": "6d08a605",
   "metadata": {
    "execution": {
     "iopub.execute_input": "2024-05-06T14:22:00.118888Z",
     "iopub.status.busy": "2024-05-06T14:22:00.118710Z",
     "iopub.status.idle": "2024-05-06T14:22:00.123068Z",
     "shell.execute_reply": "2024-05-06T14:22:00.122486Z"
    }
   },
   "outputs": [
    {
     "data": {
      "text/plain": [
       "{'type': 'PartProcessingStep',\n",
       " 'name': 'Joining and finishing, Welding, electric',\n",
       " 'parent_part_identifier': 'Part1.1[SubAssembly]',\n",
       " 'Granta_MI_Record_GUID': '21941b5e-fdbc-47fe-8180-809bb42e5e0a',\n",
       " 'step_order': 0,\n",
       " 'quantity': 0.45,\n",
       " 'quantity_unit': 'm'}"
      ]
     },
     "execution_count": 8,
     "metadata": {},
     "output_type": "execute_result"
    }
   ],
   "source": [
    "source_joining_processes = [item for item in data if item[\"type\"] == \"PartProcessingStep\"]\n",
    "source_joining_processes[0]"
   ]
  },
  {
   "cell_type": "markdown",
   "id": "19c4ad5e",
   "metadata": {},
   "source": [
    "### Transports\n",
    "The external data source defines transport stages. These items of type ``Transport`` contain a\n",
    "``distance_in_km`` field that contains the distance covered by the transport step.\n",
    "\n",
    "Extract the transport items into a list based on their ``type`` fields."
   ]
  },
  {
   "cell_type": "code",
   "execution_count": 9,
   "id": "e5c4bd4b",
   "metadata": {
    "execution": {
     "iopub.execute_input": "2024-05-06T14:22:00.125481Z",
     "iopub.status.busy": "2024-05-06T14:22:00.125110Z",
     "iopub.status.idle": "2024-05-06T14:22:00.129496Z",
     "shell.execute_reply": "2024-05-06T14:22:00.128971Z"
    }
   },
   "outputs": [
    {
     "data": {
      "text/plain": [
       "{'type': 'Transport',\n",
       " 'name': 'Port to airport by truck',\n",
       " 'Granta_MI_Record_GUID': '8d37ee4c-41ca-4cb5-9e8e-264646fcafa8',\n",
       " 'distance_in_km': 350.0}"
      ]
     },
     "execution_count": 9,
     "metadata": {},
     "output_type": "execute_result"
    }
   ],
   "source": [
    "source_transports = [item for item in data if item[\"type\"] == \"Transport\"]\n",
    "source_transports[0]"
   ]
  },
  {
   "cell_type": "markdown",
   "id": "d299af27",
   "metadata": {},
   "source": [
    "## Build the ``BillOfMaterials`` object\n",
    "\n",
    "The PyGranta BoM Analytics package provides the ``bom_types`` subpackage, which implements\n",
    "serialization and deserialization between the Granta 23/01 BoM XML schema and Python objects. This\n",
    "section shows how data from the external data source is processed to create BoM Python objects,\n",
    "which can then be serialized to an XML BoM."
   ]
  },
  {
   "cell_type": "markdown",
   "id": "3ad1e805",
   "metadata": {},
   "source": [
    "If you are using a customized database, before running any queries, change the database key value\n",
    " in the following cell and see the\n",
    "[Database specific configuration](3-3_Database-specific_configuration.ipynb) example to\n",
    "appropriately configure the connection."
   ]
  },
  {
   "cell_type": "code",
   "execution_count": 10,
   "id": "9ad8814e",
   "metadata": {
    "execution": {
     "iopub.execute_input": "2024-05-06T14:22:00.132027Z",
     "iopub.status.busy": "2024-05-06T14:22:00.131620Z",
     "iopub.status.idle": "2024-05-06T14:22:00.134547Z",
     "shell.execute_reply": "2024-05-06T14:22:00.134005Z"
    }
   },
   "outputs": [],
   "source": [
    "from ansys.grantami.bomanalytics import bom_types\n",
    "DB_KEY = \"MI_Restricted_Substances\""
   ]
  },
  {
   "cell_type": "markdown",
   "id": "ea00350f",
   "metadata": {},
   "source": [
    "### Components\n",
    "\n",
    "The external system defines a ``part_identifier`` field that uniquely identifies parts. However,\n",
    "the Granta MI BoM schema requires a part to define a ``Part number``. Use the external\n",
    "``part_identifier`` as a part number.\n",
    "\n",
    "First, create a ``bom_types.Part`` object for every item that maps to a BoM part and add it to a\n",
    "dictionary indexed by the part number. This allows you to identify the correct parent part\n",
    "when adding materials and processes."
   ]
  },
  {
   "cell_type": "code",
   "execution_count": 11,
   "id": "971c94e3",
   "metadata": {
    "execution": {
     "iopub.execute_input": "2024-05-06T14:22:00.136837Z",
     "iopub.status.busy": "2024-05-06T14:22:00.136662Z",
     "iopub.status.idle": "2024-05-06T14:22:00.141922Z",
     "shell.execute_reply": "2024-05-06T14:22:00.141291Z"
    }
   },
   "outputs": [
    {
     "name": "stdout",
     "output_type": "stream",
     "text": [
      "The components dict contains 8 items.\n"
     ]
    }
   ],
   "source": [
    "components = {}\n",
    "\n",
    "# Product\n",
    "product_id = source_product[\"part_identifier\"]\n",
    "components[product_id] = bom_types.Part(\n",
    "    part_number=product_id,\n",
    "    quantity=bom_types.UnittedValue(\n",
    "        value=1.0,\n",
    "        unit=\"Each\"\n",
    "    )\n",
    ")\n",
    "\n",
    "# Assemblies\n",
    "for item in source_assemblies:\n",
    "    item_id = item[\"part_identifier\"]\n",
    "    components[item_id] = bom_types.Part(\n",
    "        part_number=item_id,\n",
    "        quantity=bom_types.UnittedValue(\n",
    "            value=item[\"quantity_in_parent\"],\n",
    "            unit=\"Each\",\n",
    "        )\n",
    "    )\n",
    "\n",
    "# Parts\n",
    "for item in source_parts:\n",
    "    item_id = item[\"part_identifier\"]\n",
    "    components[item_id] = bom_types.Part(\n",
    "        part_number=item_id,\n",
    "        quantity=bom_types.UnittedValue(\n",
    "            value=item[\"quantity_in_parent\"],\n",
    "            unit=\"Each\",\n",
    "        ),\n",
    "        mass_per_unit_of_measure=bom_types.UnittedValue(\n",
    "            value=item[\"part_mass_in_kg\"],\n",
    "            unit=\"kg/Each\"\n",
    "        )\n",
    "    )\n",
    "\n",
    "print(f\"The components dict contains {len(components)} items.\")"
   ]
  },
  {
   "cell_type": "markdown",
   "id": "4797d263",
   "metadata": {},
   "source": [
    "Next, define the hierarchy. The external data source defines a hierarchy by reference (for example, the\n",
    "child part contains the identity of the parent part), but the Granta MI BoM represents the\n",
    "hierarchy using the BoM structure (for example, a parent part contains all child parts as properties on the\n",
    "parent).\n",
    "\n",
    "The following cell iterates over all source parts and assemblies again and appends child parts to\n",
    "their parents' ``components`` property."
   ]
  },
  {
   "cell_type": "code",
   "execution_count": 12,
   "id": "3e560fc8",
   "metadata": {
    "execution": {
     "iopub.execute_input": "2024-05-06T14:22:00.144372Z",
     "iopub.status.busy": "2024-05-06T14:22:00.144000Z",
     "iopub.status.idle": "2024-05-06T14:22:00.147350Z",
     "shell.execute_reply": "2024-05-06T14:22:00.146804Z"
    },
    "lines_to_next_cell": 1
   },
   "outputs": [],
   "source": [
    "for item in source_assemblies + source_parts:\n",
    "    item_id = item[\"part_identifier\"]\n",
    "    parent_item_id = item[\"parent_part_identifier\"]\n",
    "    item_bom_definition = components[item_id]\n",
    "    parent_item_bom_definition = components[parent_item_id]\n",
    "    parent_item_bom_definition.components.append(item_bom_definition)"
   ]
  },
  {
   "cell_type": "markdown",
   "id": "959cb286",
   "metadata": {},
   "source": [
    "### Materials\n",
    "\n",
    "Next, create ``bom_types.Material`` objects for each material and add the materials to their\n",
    "parent part object.\n",
    "\n",
    "There are multiple possible ways of identifying Granta MI records in the BoM. In this example, the\n",
    "external data source holds references to Granta MI records by record GUIDs, and so the GUIDs are\n",
    "used to instantiate the required ``MIRecordReference`` objects."
   ]
  },
  {
   "cell_type": "code",
   "execution_count": 13,
   "id": "8266bdb0",
   "metadata": {
    "execution": {
     "iopub.execute_input": "2024-05-06T14:22:00.149749Z",
     "iopub.status.busy": "2024-05-06T14:22:00.149384Z",
     "iopub.status.idle": "2024-05-06T14:22:00.153141Z",
     "shell.execute_reply": "2024-05-06T14:22:00.152579Z"
    }
   },
   "outputs": [],
   "source": [
    "def make_record_reference(item, db_key=DB_KEY):\n",
    "    return bom_types.MIRecordReference(\n",
    "        db_key=db_key,\n",
    "        record_guid=item[\"Granta_MI_Record_GUID\"]\n",
    "    )\n",
    "\n",
    "\n",
    "for item in source_materials:\n",
    "    parent_part_id = item[\"parent_part_identifier\"]\n",
    "    material = bom_types.Material(\n",
    "        mi_material_reference=make_record_reference(item),\n",
    "        identity=item[\"name\"],\n",
    "        percentage=100.0,\n",
    "        )\n",
    "    components[parent_part_id].materials.append(material)"
   ]
  },
  {
   "cell_type": "markdown",
   "id": "6b04e6db",
   "metadata": {},
   "source": [
    "### Processes\n",
    "\n",
    "In general, the order in which processes are applied is significant and can affect the result. To\n",
    "ensure consistency, the external system defines a ``step_order`` field, which represents the order\n",
    "in which processes are applied to the parent part or material. The cells in this section first\n",
    "sort the processes by ``step_order`` to ensure that they are added to the BoM correctly.\n",
    "\n",
    "First, apply primary and secondary processes to materials. In the external data source, the parent\n",
    "of a process item is always the parent part, but sustainability analysis expects only a single\n",
    "material assigned to each part. As a result, the process can be moved from the part to the\n",
    "material when constructing the Granta BoM.\n",
    "\n",
    "``MaterialFormingStep`` processes from the external data source are all mapped to ``Process`` with\n",
    "a ``Mass`` dimension type. This is the default value for processes whose environmental impact is\n",
    "calculated based on the mass of material that goes through the process. This mass is calculated\n",
    "from the final mass of the part and mass removed during additional processing steps. For more\n",
    "information on mass calculations, see the Granta MI documentation."
   ]
  },
  {
   "cell_type": "code",
   "execution_count": 14,
   "id": "e6c8f6a5",
   "metadata": {
    "execution": {
     "iopub.execute_input": "2024-05-06T14:22:00.155556Z",
     "iopub.status.busy": "2024-05-06T14:22:00.155185Z",
     "iopub.status.idle": "2024-05-06T14:22:00.158779Z",
     "shell.execute_reply": "2024-05-06T14:22:00.158245Z"
    }
   },
   "outputs": [],
   "source": [
    "for item in source_primary_processes:\n",
    "    process = bom_types.Process(\n",
    "        mi_process_reference=make_record_reference(item),\n",
    "        identity=item[\"name\"],\n",
    "        dimension_type=bom_types.DimensionType.Mass,\n",
    "        percentage=100.0\n",
    "    )\n",
    "    # Use the parent part identifier to retrieve the part created earlier\n",
    "    parent_part_id = item[\"parent_part_identifier\"]\n",
    "    # Append the process to the part via the assigned material\n",
    "    components[parent_part_id].materials[0].processes.append(process)"
   ]
  },
  {
   "cell_type": "markdown",
   "id": "b1619a8e",
   "metadata": {},
   "source": [
    "Next, apply secondary processes to materials. These are added sequentially to the list of\n",
    "processes on the material object, in the same order as defined by the ``step_order`` field.\n",
    "\n",
    "``MaterialProcessingStep`` processes from the external data source are mapped to ``Process`` with\n",
    "a ``MassRemoved`` dimension type. For these processes, the environmental impact is\n",
    "calculated based on the mass of material removed."
   ]
  },
  {
   "cell_type": "code",
   "execution_count": 15,
   "id": "38243fcc",
   "metadata": {
    "execution": {
     "iopub.execute_input": "2024-05-06T14:22:00.161099Z",
     "iopub.status.busy": "2024-05-06T14:22:00.160752Z",
     "iopub.status.idle": "2024-05-06T14:22:00.164830Z",
     "shell.execute_reply": "2024-05-06T14:22:00.164212Z"
    }
   },
   "outputs": [],
   "source": [
    "# Sort the list of secondary processes by the ``step_order`` field.\n",
    "source_secondary_processes.sort(key=lambda item: (item[\"parent_part_identifier\"], item[\"step_order\"]))\n",
    "for item in source_secondary_processes:\n",
    "    process = bom_types.Process(\n",
    "        mi_process_reference=make_record_reference(item),\n",
    "        identity=item[\"name\"],\n",
    "        dimension_type=bom_types.DimensionType.MassRemoved,\n",
    "        quantity=bom_types.UnittedValue(\n",
    "            value=item[\"mass_removed_in_kg\"],\n",
    "            unit=\"kg\",\n",
    "        )\n",
    "    )\n",
    "    parent_part_id = item[\"parent_part_identifier\"]\n",
    "    components[parent_part_id].materials[0].processes.append(process)"
   ]
  },
  {
   "cell_type": "markdown",
   "id": "a703bf3e",
   "metadata": {},
   "source": [
    "Finally, apply joining and finishing processes to the part.\n",
    "\n",
    "The example external data only includes part processes characterized by the length dimension.\n",
    "However, the Granta MI BoM schema has support for different ``DimensionType`` values depending on\n",
    "the process. For example, welding is typically defined by a welding path length, but a coating\n",
    "operation would be best quantified by an area."
   ]
  },
  {
   "cell_type": "code",
   "execution_count": 16,
   "id": "fad1c532",
   "metadata": {
    "execution": {
     "iopub.execute_input": "2024-05-06T14:22:00.167254Z",
     "iopub.status.busy": "2024-05-06T14:22:00.166909Z",
     "iopub.status.idle": "2024-05-06T14:22:00.171119Z",
     "shell.execute_reply": "2024-05-06T14:22:00.170487Z"
    }
   },
   "outputs": [],
   "source": [
    "unit_to_dimension_type = {\n",
    "    \"m\": bom_types.DimensionType.Length,\n",
    "}\n",
    "\n",
    "source_joining_processes.sort(key=lambda item: (item[\"parent_part_identifier\"], item[\"step_order\"]))\n",
    "\n",
    "for item in source_joining_processes:\n",
    "    process = bom_types.Process(\n",
    "        mi_process_reference=make_record_reference(item),\n",
    "        identity=item[\"name\"],\n",
    "        # Map the unit in the input file to the DimensionType enum.\n",
    "        dimension_type=unit_to_dimension_type[item[\"quantity_unit\"]],\n",
    "        quantity=bom_types.UnittedValue(\n",
    "            value=item[\"quantity\"],\n",
    "            unit=item[\"quantity_unit\"]\n",
    "        ),\n",
    "    )\n",
    "    parent_part_id = item[\"parent_part_identifier\"]\n",
    "    components[parent_part_id].processes.append(process)"
   ]
  },
  {
   "cell_type": "markdown",
   "id": "8e6530b2",
   "metadata": {},
   "source": [
    "### ``BillOfMaterials`` object\n",
    "\n",
    "The original root part can now be retrieved from the ``components`` dictionary. This ``Part`` item\n",
    "contains the entire structure of parts, materials, and process objects. The following cell extracts\n",
    "this component from the dictionary of all components, deletes the dictionary, and prints\n",
    "an arbitrary property of the root component to illustrate this structure."
   ]
  },
  {
   "cell_type": "code",
   "execution_count": 17,
   "id": "91a764a3",
   "metadata": {
    "execution": {
     "iopub.execute_input": "2024-05-06T14:22:00.173528Z",
     "iopub.status.busy": "2024-05-06T14:22:00.173178Z",
     "iopub.status.idle": "2024-05-06T14:22:00.176797Z",
     "shell.execute_reply": "2024-05-06T14:22:00.176193Z"
    }
   },
   "outputs": [
    {
     "name": "stdout",
     "output_type": "stream",
     "text": [
      "Machining, fine\n"
     ]
    }
   ],
   "source": [
    "root_component = components[source_product[\"part_identifier\"]]\n",
    "del components\n",
    "print(root_component.components[0].components[1].materials[0].processes[1].identity)"
   ]
  },
  {
   "cell_type": "markdown",
   "id": "3aa252d3",
   "metadata": {},
   "source": [
    "The final step is to create a ``BillOfMaterials`` object and add the root component and transport\n",
    "stages. Note that the transport stages are added to the ``BillOfMaterials`` object itself, not to\n",
    "a specific component."
   ]
  },
  {
   "cell_type": "code",
   "execution_count": 18,
   "id": "a507b71b",
   "metadata": {
    "execution": {
     "iopub.execute_input": "2024-05-06T14:22:00.179214Z",
     "iopub.status.busy": "2024-05-06T14:22:00.178840Z",
     "iopub.status.idle": "2024-05-06T14:22:00.182497Z",
     "shell.execute_reply": "2024-05-06T14:22:00.181958Z"
    }
   },
   "outputs": [],
   "source": [
    "bom = bom_types.BillOfMaterials(components=[root_component])\n",
    "\n",
    "transports = [\n",
    "    bom_types.TransportStage(\n",
    "        name=item[\"name\"],\n",
    "        mi_transport_reference=make_record_reference(item),\n",
    "        distance=bom_types.UnittedValue(value=item[\"distance_in_km\"], unit=\"km\")\n",
    "    )\n",
    "    for item in source_transports\n",
    "]\n",
    "bom.transport_phase = transports"
   ]
  },
  {
   "cell_type": "markdown",
   "id": "cec704e3",
   "metadata": {},
   "source": [
    "# Serialize the BoM\n",
    "\n",
    "Use the ``BomHandler`` helper class to serialize the object to XML. The resulting string can be\n",
    "used in a sustainability query. For more information, see the\n",
    "[Sustainability examples](../4_Sustainability/index.rst)."
   ]
  },
  {
   "cell_type": "code",
   "execution_count": 19,
   "id": "0cddb826",
   "metadata": {
    "execution": {
     "iopub.execute_input": "2024-05-06T14:22:00.185010Z",
     "iopub.status.busy": "2024-05-06T14:22:00.184570Z",
     "iopub.status.idle": "2024-05-06T14:22:00.407744Z",
     "shell.execute_reply": "2024-05-06T14:22:00.407173Z"
    }
   },
   "outputs": [
    {
     "name": "stdout",
     "output_type": "stream",
     "text": [
      "<ns0:PartsEco xmlns:ns0=\"http://www.grantadesign.com/23/01/BillOfMaterialsEco\" xmlns:ns1=\"http://www.grantadesign.com/12/05/GrantaBaseTypes\">\n",
      "    <ns0:Components>\n",
      "        <ns0:Part>\n",
      "            <ns0:Quantity Unit=\"Each\">1.0</ns0:Quantity>\n",
      "            <ns0:PartNumber>Part1[ProductAssembly]</ns0:PartNumber>\n",
      "            <ns0:Components>\n",
      "                <ns0:Part>\n",
      "                    <ns0:Quantity Unit=\"Each\">1.0</ns0:Quantity>\n",
      "                    <ns0:PartNumber>Part1.1[SubAssembly]</ns0:PartNumber...\n"
     ]
    }
   ],
   "source": [
    "from ansys.grantami.bomanalytics import BoMHandler\n",
    "bom_as_xml = BoMHandler().dump_bom(bom)\n",
    "print(f\"{bom_as_xml[:500]}...\")"
   ]
  }
 ],
 "metadata": {
  "jupytext": {
   "formats": "ipynb,py:light"
  },
  "kernelspec": {
   "display_name": "Python 3 (ipykernel)",
   "language": "python",
   "name": "python3"
  },
  "language_info": {
   "codemirror_mode": {
    "name": "ipython",
    "version": 3
   },
   "file_extension": ".py",
   "mimetype": "text/x-python",
   "name": "python",
   "nbconvert_exporter": "python",
   "pygments_lexer": "ipython3",
   "version": "3.10.14"
  }
 },
 "nbformat": 4,
 "nbformat_minor": 5
}
