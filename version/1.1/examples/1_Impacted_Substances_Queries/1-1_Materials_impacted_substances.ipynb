{
 "cells": [
  {
   "cell_type": "markdown",
   "id": "e37085c0",
   "metadata": {},
   "source": [
    "# Perform a material impacted substances query"
   ]
  },
  {
   "cell_type": "markdown",
   "id": "5180a26f",
   "metadata": {},
   "source": [
    "A Material Impacted Substances Query is used to identify the substances associated with a material that are impacted\n",
    "by one or more defined legislations."
   ]
  },
  {
   "cell_type": "markdown",
   "id": "fd186376",
   "metadata": {},
   "source": [
    "This example shows how to perform an Impacted Substance query on material records, and how to process the results."
   ]
  },
  {
   "cell_type": "markdown",
   "id": "c25c9319",
   "metadata": {},
   "source": [
    "## Connecting to Granta MI"
   ]
  },
  {
   "cell_type": "markdown",
   "id": "59502d04",
   "metadata": {},
   "source": [
    "Import the ``Connection`` class and create the connection. See the [Getting Started](../0_Getting_started.ipynb)\n",
    "example for more detail."
   ]
  },
  {
   "cell_type": "code",
   "execution_count": 1,
   "id": "01da47c0",
   "metadata": {
    "execution": {
     "iopub.execute_input": "2023-03-17T09:34:08.218005Z",
     "iopub.status.busy": "2023-03-17T09:34:08.217736Z",
     "iopub.status.idle": "2023-03-17T09:34:09.875699Z",
     "shell.execute_reply": "2023-03-17T09:34:09.875055Z"
    },
    "tags": []
   },
   "outputs": [],
   "source": [
    "from ansys.grantami.bomanalytics import Connection\n",
    "\n",
    "server_url = \"http://my_grantami_server/mi_servicelayer\"\n",
    "cxn = Connection(server_url).with_credentials(\"user_name\", \"password\").connect()"
   ]
  },
  {
   "cell_type": "markdown",
   "id": "12fd0796",
   "metadata": {},
   "source": [
    "## Building and running the query"
   ]
  },
  {
   "cell_type": "markdown",
   "id": "f96e74d4",
   "metadata": {},
   "source": [
    "The query is assembled by providing lists of material references and legislations of interest. The query will return\n",
    "the substances that are present in the specified materials and are impacted by the specified legislations."
   ]
  },
  {
   "cell_type": "markdown",
   "id": "5278c30b",
   "metadata": {},
   "source": [
    "First specify some constants that contain the material and legislation references we will use."
   ]
  },
  {
   "cell_type": "code",
   "execution_count": 2,
   "id": "36d7f527",
   "metadata": {
    "execution": {
     "iopub.execute_input": "2023-03-17T09:34:09.879593Z",
     "iopub.status.busy": "2023-03-17T09:34:09.879364Z",
     "iopub.status.idle": "2023-03-17T09:34:09.882791Z",
     "shell.execute_reply": "2023-03-17T09:34:09.882150Z"
    },
    "tags": []
   },
   "outputs": [],
   "source": [
    "PPS_ID = \"plastic-pps-generalpurpose\"\n",
    "PC_ID = \"plastic-pc-20carbonfiber\"\n",
    "SIN_LIST = \"The SIN List 2.1 (Substitute It Now!)\"\n",
    "REACH = \"REACH - The Candidate List\""
   ]
  },
  {
   "cell_type": "markdown",
   "id": "6c255f1f",
   "metadata": {},
   "source": [
    "Next import the ``queries`` module and build the query with the references in the previous cell."
   ]
  },
  {
   "cell_type": "code",
   "execution_count": 3,
   "id": "ebea01b8",
   "metadata": {
    "execution": {
     "iopub.execute_input": "2023-03-17T09:34:09.885878Z",
     "iopub.status.busy": "2023-03-17T09:34:09.885660Z",
     "iopub.status.idle": "2023-03-17T09:34:09.889128Z",
     "shell.execute_reply": "2023-03-17T09:34:09.888513Z"
    },
    "tags": []
   },
   "outputs": [],
   "source": [
    "from ansys.grantami.bomanalytics import queries\n",
    "\n",
    "mat_query = (\n",
    "    queries.MaterialImpactedSubstancesQuery()\n",
    "    .with_material_ids([PPS_ID, PC_ID])\n",
    "    .with_legislations([REACH, SIN_LIST])\n",
    ")"
   ]
  },
  {
   "cell_type": "markdown",
   "id": "28694771",
   "metadata": {},
   "source": [
    "Finally, run the query. Passing a ``MaterialImpactedSubstancesQuery`` object to the ``Connection.run()`` method\n",
    "returns a ``MaterialImpactedSubstancesQueryResult`` object."
   ]
  },
  {
   "cell_type": "code",
   "execution_count": 4,
   "id": "714ce8a9",
   "metadata": {
    "execution": {
     "iopub.execute_input": "2023-03-17T09:34:09.892115Z",
     "iopub.status.busy": "2023-03-17T09:34:09.891899Z",
     "iopub.status.idle": "2023-03-17T09:34:10.629736Z",
     "shell.execute_reply": "2023-03-17T09:34:10.629088Z"
    },
    "tags": []
   },
   "outputs": [
    {
     "data": {
      "text/plain": [
       "<MaterialImpactedSubstancesQueryResult: 2 MaterialWithImpactedSubstances results>"
      ]
     },
     "execution_count": 4,
     "metadata": {},
     "output_type": "execute_result"
    }
   ],
   "source": [
    "results = cxn.run(mat_query)\n",
    "results"
   ]
  },
  {
   "cell_type": "markdown",
   "id": "04279776",
   "metadata": {},
   "source": [
    "A ``MaterialImpactedSubstancesQueryResult`` object contains three properties:\n",
    "``impacted_substances_by_material``, ``impacted_substances_by_legislation``, and ``impacted_substances``. They provide\n",
    "different views of the impacted substances at different levels of granularity."
   ]
  },
  {
   "cell_type": "markdown",
   "id": "e7f17e42",
   "metadata": {},
   "source": [
    "## View results grouped by material"
   ]
  },
  {
   "cell_type": "markdown",
   "id": "aae633a3",
   "metadata": {},
   "source": [
    "This property is structured first as a list of ``materialWithImpactedSubstancesResult`` objects, each of which\n",
    "contains a dictionary of lists of ``ImpactedSubstance`` objects keyed by legislation or a single flat list of all\n",
    "substances."
   ]
  },
  {
   "cell_type": "markdown",
   "id": "141146b6",
   "metadata": {},
   "source": [
    "First, we can simplify the structure somewhat because we are only using Material IDs. The cell below creates a\n",
    "dictionary that maps Material IDs to lists of substances impacted by the 'SIN List'."
   ]
  },
  {
   "cell_type": "code",
   "execution_count": 5,
   "id": "84f74810",
   "metadata": {
    "execution": {
     "iopub.execute_input": "2023-03-17T09:34:10.634751Z",
     "iopub.status.busy": "2023-03-17T09:34:10.634294Z",
     "iopub.status.idle": "2023-03-17T09:34:10.637917Z",
     "shell.execute_reply": "2023-03-17T09:34:10.637357Z"
    },
    "tags": []
   },
   "outputs": [],
   "source": [
    "substances_by_material = {}\n",
    "for material in results.impacted_substances_by_material:\n",
    "    substances = material.substances_by_legislation[SIN_LIST]\n",
    "    substances_by_material[material.material_id] = substances"
   ]
  },
  {
   "cell_type": "markdown",
   "id": "e9effe73",
   "metadata": {},
   "source": [
    "Then use the ``tabulate`` package to print a table of the substances and their quantities for the polycarbonate\n",
    "material only."
   ]
  },
  {
   "cell_type": "code",
   "execution_count": 6,
   "id": "95b5eb18",
   "metadata": {
    "execution": {
     "iopub.execute_input": "2023-03-17T09:34:10.641184Z",
     "iopub.status.busy": "2023-03-17T09:34:10.640831Z",
     "iopub.status.idle": "2023-03-17T09:34:10.664521Z",
     "shell.execute_reply": "2023-03-17T09:34:10.663865Z"
    },
    "tags": []
   },
   "outputs": [
    {
     "name": "stdout",
     "output_type": "stream",
     "text": [
      "Substances impacted by \"The SIN List 2.1 (Substitute It Now!)\" in \"plastic-pc-20carbonfiber\" (10/16)\n",
      "CAS Number      Amount (wt. %)\n",
      "------------  ----------------\n",
      "10124-36-4                 0.6\n",
      "10325-94-7                 0.6\n",
      "131-56-6                   1.6\n",
      "131-57-7                   1.6\n",
      "15087-24-8                 1.6\n",
      "21041-95-2                 0.6\n",
      "25973-55-1                 1.6\n",
      "31119-53-6                 0.6\n",
      "36437-37-3                 1.6\n",
      "36861-47-9                 1.6\n"
     ]
    }
   ],
   "source": [
    "from tabulate import tabulate\n",
    "\n",
    "rows = [(substance.cas_number, substance.max_percentage_amount_in_material)\n",
    "    for substance in substances_by_material[PC_ID]]\n",
    "\n",
    "print(f'Substances impacted by \"{SIN_LIST}\" in \"{PC_ID}\" (10/{len(rows)})')\n",
    "print(tabulate(rows[:10], headers=[\"CAS Number\", \"Amount (wt. %)\"]))"
   ]
  },
  {
   "cell_type": "markdown",
   "id": "e3fc61c5",
   "metadata": {},
   "source": [
    "## View results grouped by legislation"
   ]
  },
  {
   "cell_type": "markdown",
   "id": "691b5676",
   "metadata": {},
   "source": [
    "This property merges the results across all materials, resulting in a single dictionary of legislations that contain\n",
    "all impacted substances for all materials."
   ]
  },
  {
   "cell_type": "markdown",
   "id": "f1c5268b",
   "metadata": {},
   "source": [
    "Again we use the ``tabulate`` package to print a table of substances, but this time we are including the substances in\n",
    "all materials, but again limited to the SIN List only."
   ]
  },
  {
   "cell_type": "code",
   "execution_count": 7,
   "id": "e5945742",
   "metadata": {
    "execution": {
     "iopub.execute_input": "2023-03-17T09:34:10.667768Z",
     "iopub.status.busy": "2023-03-17T09:34:10.667549Z",
     "iopub.status.idle": "2023-03-17T09:34:10.672228Z",
     "shell.execute_reply": "2023-03-17T09:34:10.671744Z"
    },
    "tags": []
   },
   "outputs": [
    {
     "name": "stdout",
     "output_type": "stream",
     "text": [
      "Substances impacted by \"The SIN List 2.1 (Substitute It Now!)\" in all materials (10/27)\n",
      "CAS Number      Amount (wt. %)\n",
      "------------  ----------------\n",
      "131-56-6                     2\n",
      "131-57-7                     2\n",
      "15087-24-8                   2\n",
      "25973-55-1                   2\n",
      "27193-28-8\n",
      "36437-37-3                   2\n",
      "36861-47-9                   2\n",
      "3846-71-7                    2\n",
      "3864-99-1                    2\n",
      "611-99-4                     2\n"
     ]
    }
   ],
   "source": [
    "material_substances_sin = results.impacted_substances_by_legislation[SIN_LIST]\n",
    "rows = [(substance.cas_number, substance.max_percentage_amount_in_material)\n",
    "    for substance in material_substances_sin]\n",
    "print(f'Substances impacted by \"{SIN_LIST}\" in all materials (10/{len(rows)})')\n",
    "print(tabulate(rows[:10], headers=[\"CAS Number\", \"Amount (wt. %)\"]))"
   ]
  },
  {
   "cell_type": "markdown",
   "id": "6b16987c",
   "metadata": {},
   "source": [
    "## View results as a flat list"
   ]
  },
  {
   "cell_type": "markdown",
   "id": "e0454cf6",
   "metadata": {},
   "source": [
    "This property reduces the granularity further to produce a single flattened list of substances across all legislations\n",
    "for all materials."
   ]
  },
  {
   "cell_type": "markdown",
   "id": "eb6d2d7f",
   "metadata": {},
   "source": [
    "The cell below uses the ``tabulate`` package to print a table of substances. Because we are using the\n",
    "``impacted_substances`` property, we only have one list of ``ImpactedSubstance`` objects which covers both\n",
    "legislations and both materials."
   ]
  },
  {
   "cell_type": "code",
   "execution_count": 8,
   "id": "bcbca570",
   "metadata": {
    "execution": {
     "iopub.execute_input": "2023-03-17T09:34:10.675608Z",
     "iopub.status.busy": "2023-03-17T09:34:10.675039Z",
     "iopub.status.idle": "2023-03-17T09:34:10.680677Z",
     "shell.execute_reply": "2023-03-17T09:34:10.680063Z"
    },
    "tags": []
   },
   "outputs": [
    {
     "name": "stdout",
     "output_type": "stream",
     "text": [
      "Impacted substances for all materials and legislations (10/45)\n",
      "CAS Number      Amount (wt. %)\n",
      "------------  ----------------\n",
      "131-56-6                     2\n",
      "131-57-7                     2\n",
      "15087-24-8                   2\n",
      "25973-55-1                   2\n",
      "27193-28-8\n",
      "36437-37-3                   2\n",
      "36861-47-9                   2\n",
      "3846-71-7                    2\n",
      "3864-99-1                    2\n",
      "611-99-4                     2\n"
     ]
    }
   ],
   "source": [
    "material_substances_all = results.impacted_substances\n",
    "rows = [(substance.cas_number, substance.max_percentage_amount_in_material)\n",
    "    for substance in material_substances_all]\n",
    "print(f\"Impacted substances for all materials and legislations (10/{len(rows)})\")\n",
    "print(tabulate(rows[:10], headers=[\"CAS Number\", \"Amount (wt. %)\"]))"
   ]
  }
 ],
 "metadata": {
  "jupytext": {
   "formats": "ipynb,py:light"
  },
  "kernelspec": {
   "display_name": "Python 3 (ipykernel)",
   "language": "python",
   "name": "python3"
  },
  "language_info": {
   "codemirror_mode": {
    "name": "ipython",
    "version": 3
   },
   "file_extension": ".py",
   "mimetype": "text/x-python",
   "name": "python",
   "nbconvert_exporter": "python",
   "pygments_lexer": "ipython3",
   "version": "3.9.16"
  }
 },
 "nbformat": 4,
 "nbformat_minor": 5
}
