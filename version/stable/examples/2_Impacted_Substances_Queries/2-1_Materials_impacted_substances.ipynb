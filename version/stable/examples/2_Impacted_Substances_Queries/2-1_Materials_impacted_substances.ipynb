{
 "cells": [
  {
   "cell_type": "markdown",
   "id": "7b74ff45",
   "metadata": {},
   "source": [
    "# Perform a material impacted substances query"
   ]
  },
  {
   "cell_type": "markdown",
   "id": "ed36fc78",
   "metadata": {},
   "source": [
    "A material impacted substances query is used to identify the substances associated with a material that are impacted\n",
    "by one or more defined legislations."
   ]
  },
  {
   "cell_type": "markdown",
   "id": "60ed4db0",
   "metadata": {},
   "source": [
    "This example shows how to perform an Impacted Substance query on material records and how to process the results."
   ]
  },
  {
   "cell_type": "markdown",
   "id": "919a1a7e",
   "metadata": {},
   "source": [
    "## Connect to Granta MI"
   ]
  },
  {
   "cell_type": "markdown",
   "id": "bd6a7e84",
   "metadata": {},
   "source": [
    "Import the ``Connection`` class and create the connection. For more information, see the\n",
    "[Basic Usage](../0_Basic_usage.ipynb) example."
   ]
  },
  {
   "cell_type": "code",
   "execution_count": 1,
   "id": "0958db60",
   "metadata": {
    "execution": {
     "iopub.execute_input": "2025-07-29T16:53:26.554240Z",
     "iopub.status.busy": "2025-07-29T16:53:26.553885Z",
     "iopub.status.idle": "2025-07-29T16:53:27.053091Z",
     "shell.execute_reply": "2025-07-29T16:53:27.052508Z"
    },
    "tags": []
   },
   "outputs": [],
   "source": [
    "from ansys.grantami.bomanalytics import Connection\n",
    "\n",
    "server_url = \"http://my_grantami_server/mi_servicelayer\"\n",
    "cxn = Connection(server_url).with_credentials(\"user_name\", \"password\").connect()"
   ]
  },
  {
   "cell_type": "markdown",
   "id": "fc8917cb",
   "metadata": {},
   "source": [
    "## Build and run the query"
   ]
  },
  {
   "cell_type": "markdown",
   "id": "92dc0ddd",
   "metadata": {},
   "source": [
    "The query is assembled by providing lists of material references and legislations of interest. The query returns\n",
    "the substances that are present in the specified materials and are impacted by the specified legislations."
   ]
  },
  {
   "cell_type": "markdown",
   "id": "fab7b743",
   "metadata": {},
   "source": [
    "First specify some constants that contain the material and legislation references to use."
   ]
  },
  {
   "cell_type": "code",
   "execution_count": 2,
   "id": "8fc474f1",
   "metadata": {
    "execution": {
     "iopub.execute_input": "2025-07-29T16:53:27.055194Z",
     "iopub.status.busy": "2025-07-29T16:53:27.054989Z",
     "iopub.status.idle": "2025-07-29T16:53:27.058229Z",
     "shell.execute_reply": "2025-07-29T16:53:27.057630Z"
    },
    "tags": []
   },
   "outputs": [],
   "source": [
    "PPS_ID = \"plastic-pps-generalpurpose\"\n",
    "PC_ID = \"plastic-pc-20carbonfiber\"\n",
    "SIN_LIST = \"SINList\"\n",
    "REACH = \"Candidate_AnnexXV\""
   ]
  },
  {
   "cell_type": "markdown",
   "id": "96b3f797",
   "metadata": {},
   "source": [
    "Next import the ``queries`` module and build the query with the references in the previous cell."
   ]
  },
  {
   "cell_type": "code",
   "execution_count": 3,
   "id": "816bed21",
   "metadata": {
    "execution": {
     "iopub.execute_input": "2025-07-29T16:53:27.059871Z",
     "iopub.status.busy": "2025-07-29T16:53:27.059705Z",
     "iopub.status.idle": "2025-07-29T16:53:27.066918Z",
     "shell.execute_reply": "2025-07-29T16:53:27.066484Z"
    },
    "tags": []
   },
   "outputs": [],
   "source": [
    "from ansys.grantami.bomanalytics import queries\n",
    "\n",
    "mat_query = (\n",
    "    queries.MaterialImpactedSubstancesQuery()\n",
    "    .with_material_ids([PPS_ID, PC_ID])\n",
    "    .with_legislation_ids([REACH, SIN_LIST])\n",
    ")"
   ]
  },
  {
   "cell_type": "markdown",
   "id": "40e671cc",
   "metadata": {},
   "source": [
    "Finally, run the query. Passing a ``MaterialImpactedSubstancesQuery`` object to the ``Connection.run()`` method\n",
    "returns a ``MaterialImpactedSubstancesQueryResult`` object."
   ]
  },
  {
   "cell_type": "code",
   "execution_count": 4,
   "id": "fda77c5d",
   "metadata": {
    "execution": {
     "iopub.execute_input": "2025-07-29T16:53:27.068457Z",
     "iopub.status.busy": "2025-07-29T16:53:27.068291Z",
     "iopub.status.idle": "2025-07-29T16:53:27.714180Z",
     "shell.execute_reply": "2025-07-29T16:53:27.713573Z"
    },
    "tags": []
   },
   "outputs": [
    {
     "data": {
      "text/plain": [
       "<MaterialImpactedSubstancesQueryResult: 2 MaterialWithImpactedSubstances results>"
      ]
     },
     "execution_count": 4,
     "metadata": {},
     "output_type": "execute_result"
    }
   ],
   "source": [
    "results = cxn.run(mat_query)\n",
    "results"
   ]
  },
  {
   "cell_type": "markdown",
   "id": "7849de77",
   "metadata": {},
   "source": [
    "A ``MaterialImpactedSubstancesQueryResult`` object contains three properties:\n",
    "``impacted_substances_by_material``, ``impacted_substances_by_legislation``, and ``impacted_substances``. They provide\n",
    "different views of the impacted substances at different levels of granularity."
   ]
  },
  {
   "cell_type": "markdown",
   "id": "d20c6cce",
   "metadata": {},
   "source": [
    "## View results grouped by material"
   ]
  },
  {
   "cell_type": "markdown",
   "id": "dc6af870",
   "metadata": {},
   "source": [
    "This property is structured first as a list of ``MaterialWithImpactedSubstancesResult`` objects, each of which\n",
    "contains a dictionary of lists of ``ImpactedSubstance`` objects keyed by legislation or a single flat list of all\n",
    "substances."
   ]
  },
  {
   "cell_type": "markdown",
   "id": "2b7e1b98",
   "metadata": {},
   "source": [
    "First, you can simplify the structure somewhat because you are only using Material IDs. The following cell creates a\n",
    "dictionary that maps material IDs to lists of substances impacted by the ``SIN_LIST``."
   ]
  },
  {
   "cell_type": "code",
   "execution_count": 5,
   "id": "8236de07",
   "metadata": {
    "execution": {
     "iopub.execute_input": "2025-07-29T16:53:27.716135Z",
     "iopub.status.busy": "2025-07-29T16:53:27.715952Z",
     "iopub.status.idle": "2025-07-29T16:53:27.718770Z",
     "shell.execute_reply": "2025-07-29T16:53:27.718327Z"
    },
    "tags": []
   },
   "outputs": [],
   "source": [
    "substances_by_material = {}\n",
    "for material in results.impacted_substances_by_material:\n",
    "    substances = material.substances_by_legislation[SIN_LIST]\n",
    "    substances_by_material[material.material_id] = substances"
   ]
  },
  {
   "cell_type": "markdown",
   "id": "77adc88e",
   "metadata": {},
   "source": [
    "Then use the ``tabulate`` package to print a table of the substances and their quantities for the polycarbonate\n",
    "material only."
   ]
  },
  {
   "cell_type": "code",
   "execution_count": 6,
   "id": "706878ff",
   "metadata": {
    "execution": {
     "iopub.execute_input": "2025-07-29T16:53:27.720287Z",
     "iopub.status.busy": "2025-07-29T16:53:27.720124Z",
     "iopub.status.idle": "2025-07-29T16:53:27.741192Z",
     "shell.execute_reply": "2025-07-29T16:53:27.740628Z"
    },
    "tags": []
   },
   "outputs": [
    {
     "name": "stdout",
     "output_type": "stream",
     "text": [
      "Substances impacted by \"SINList\" in \"plastic-pc-20carbonfiber\" (5/16)\n",
      "CAS Number      Amount (wt. %)\n",
      "------------  ----------------\n",
      "10124-36-4                 0.6\n",
      "10325-94-7                 0.6\n",
      "131-56-6                   1.6\n",
      "131-57-7                   1.6\n",
      "15087-24-8                 1.6\n"
     ]
    }
   ],
   "source": [
    "from tabulate import tabulate\n",
    "\n",
    "rows = [(substance.cas_number, substance.max_percentage_amount_in_material)\n",
    "    for substance in substances_by_material[PC_ID]]\n",
    "\n",
    "print(f'Substances impacted by \"{SIN_LIST}\" in \"{PC_ID}\" (5/{len(rows)})')\n",
    "print(tabulate(rows[:5], headers=[\"CAS Number\", \"Amount (wt. %)\"]))"
   ]
  },
  {
   "cell_type": "markdown",
   "id": "32f18f2c",
   "metadata": {},
   "source": [
    "## View results grouped by legislation"
   ]
  },
  {
   "cell_type": "markdown",
   "id": "b842026a",
   "metadata": {},
   "source": [
    "This property merges the results across all materials, resulting in a single dictionary of legislations that contains\n",
    "all impacted substances for all materials."
   ]
  },
  {
   "cell_type": "markdown",
   "id": "25700d6f",
   "metadata": {},
   "source": [
    "Again use the ``tabulate`` package to print a table of substances, but this time include the substances in\n",
    "all materials, one again limited to the ``SIN_LIST`` only."
   ]
  },
  {
   "cell_type": "code",
   "execution_count": 7,
   "id": "67b905ed",
   "metadata": {
    "execution": {
     "iopub.execute_input": "2025-07-29T16:53:27.743074Z",
     "iopub.status.busy": "2025-07-29T16:53:27.742767Z",
     "iopub.status.idle": "2025-07-29T16:53:27.746872Z",
     "shell.execute_reply": "2025-07-29T16:53:27.746395Z"
    },
    "tags": []
   },
   "outputs": [
    {
     "name": "stdout",
     "output_type": "stream",
     "text": [
      "Substances impacted by \"SINList\" in all materials (5/27)\n",
      "CAS Number      Amount (wt. %)\n",
      "------------  ----------------\n",
      "131-56-6                     2\n",
      "131-57-7                     2\n",
      "15087-24-8                   2\n",
      "25973-55-1                   2\n",
      "27193-28-8\n"
     ]
    }
   ],
   "source": [
    "material_substances_sin = results.impacted_substances_by_legislation[SIN_LIST]\n",
    "rows = [(substance.cas_number, substance.max_percentage_amount_in_material)\n",
    "    for substance in material_substances_sin]\n",
    "print(f'Substances impacted by \"{SIN_LIST}\" in all materials (5/{len(rows)})')\n",
    "print(tabulate(rows[:5], headers=[\"CAS Number\", \"Amount (wt. %)\"]))"
   ]
  },
  {
   "cell_type": "markdown",
   "id": "c16c9f24",
   "metadata": {},
   "source": [
    "## View results as a flat list"
   ]
  },
  {
   "cell_type": "markdown",
   "id": "bf942321",
   "metadata": {},
   "source": [
    "This property reduces the granularity further to produce a single flattened list of substances across all legislations\n",
    "for all materials."
   ]
  },
  {
   "cell_type": "markdown",
   "id": "96fcdedd",
   "metadata": {},
   "source": [
    "The following cell uses the ``tabulate`` package to print a table of substances. Because you are using the\n",
    "``impacted_substances`` property, you only have one list of ``ImpactedSubstance`` objects, which covers both\n",
    "legislations and both materials."
   ]
  },
  {
   "cell_type": "code",
   "execution_count": 8,
   "id": "843a7a57",
   "metadata": {
    "execution": {
     "iopub.execute_input": "2025-07-29T16:53:27.748523Z",
     "iopub.status.busy": "2025-07-29T16:53:27.748357Z",
     "iopub.status.idle": "2025-07-29T16:53:27.752289Z",
     "shell.execute_reply": "2025-07-29T16:53:27.751847Z"
    },
    "tags": []
   },
   "outputs": [
    {
     "name": "stdout",
     "output_type": "stream",
     "text": [
      "Impacted substances for all materials and legislations (5/48)\n",
      "CAS Number      Amount (wt. %)\n",
      "------------  ----------------\n",
      "131-56-6                     2\n",
      "131-57-7                     2\n",
      "15087-24-8                   2\n",
      "25973-55-1                   2\n",
      "27193-28-8\n"
     ]
    }
   ],
   "source": [
    "material_substances_all = results.impacted_substances\n",
    "rows = [(substance.cas_number, substance.max_percentage_amount_in_material)\n",
    "    for substance in material_substances_all]\n",
    "print(f\"Impacted substances for all materials and legislations (5/{len(rows)})\")\n",
    "print(tabulate(rows[:5], headers=[\"CAS Number\", \"Amount (wt. %)\"]))"
   ]
  }
 ],
 "metadata": {
  "jupytext": {
   "formats": "ipynb,py:light"
  },
  "kernelspec": {
   "display_name": "Python 3 (ipykernel)",
   "language": "python",
   "name": "python3"
  },
  "language_info": {
   "codemirror_mode": {
    "name": "ipython",
    "version": 3
   },
   "file_extension": ".py",
   "mimetype": "text/x-python",
   "name": "python",
   "nbconvert_exporter": "python",
   "pygments_lexer": "ipython3",
   "version": "3.11.13"
  }
 },
 "nbformat": 4,
 "nbformat_minor": 5
}
