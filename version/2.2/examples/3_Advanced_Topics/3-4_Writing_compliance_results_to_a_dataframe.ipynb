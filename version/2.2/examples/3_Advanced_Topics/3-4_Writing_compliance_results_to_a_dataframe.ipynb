{
 "cells": [
  {
   "cell_type": "markdown",
   "id": "4e426697",
   "metadata": {},
   "source": [
    "# Write compliance results to a ``pandas.DataFrame`` object"
   ]
  },
  {
   "cell_type": "markdown",
   "id": "23d6c20c",
   "metadata": {},
   "source": [
    "Granta MI BoM Analytics presents compliance results in a hierarchical data structure. Alternatively, you can\n",
    "represent the data in a tabular data structure, where each row contains a reference to the parent row.\n",
    "This example shows how compliance data can be translated from one format to another, making use\n",
    "of a ``pandas.DataFrame`` object to store the tabulated data."
   ]
  },
  {
   "cell_type": "markdown",
   "id": "d30ac81b",
   "metadata": {},
   "source": [
    "## Perform a compliance query"
   ]
  },
  {
   "cell_type": "markdown",
   "id": "19d87f8d",
   "metadata": {},
   "source": [
    "The first step is to perform a compliance query on an assembly that results in a deeply\n",
    "nested structure. The following code is presented without explanation. For more information, see the\n",
    "[Perform a Part Compliance Query](../2_Compliance_Queries/2-3_Part_compliance.ipynb) example."
   ]
  },
  {
   "cell_type": "code",
   "execution_count": 1,
   "id": "47ac031c",
   "metadata": {
    "execution": {
     "iopub.execute_input": "2024-12-17T16:59:00.605205Z",
     "iopub.status.busy": "2024-12-17T16:59:00.605007Z",
     "iopub.status.idle": "2024-12-17T16:59:02.417734Z",
     "shell.execute_reply": "2024-12-17T16:59:02.416996Z"
    },
    "tags": []
   },
   "outputs": [],
   "source": [
    "from ansys.grantami.bomanalytics import Connection, indicators, queries\n",
    "\n",
    "server_url = \"http://my_grantami_server/mi_servicelayer\"\n",
    "cxn = Connection(server_url).with_credentials(\"user_name\", \"password\").connect()\n",
    "svhc = indicators.WatchListIndicator(\n",
    "    name=\"SVHC\",\n",
    "    legislation_ids=[\"Candidate_AnnexXV\"],\n",
    "    default_threshold_percentage=0.1,\n",
    ")\n",
    "part_query = (\n",
    "    queries.PartComplianceQuery()\n",
    "    .with_record_history_ids([565060])\n",
    "    .with_indicators([svhc])\n",
    ")\n",
    "part_result = cxn.run(part_query)"
   ]
  },
  {
   "cell_type": "markdown",
   "id": "c04af9e5",
   "metadata": {},
   "source": [
    "The ``part_result`` object contains the compliance result for every subitem. This is ideal for understanding\n",
    "compliance at a certain *level* of the structure, For example, you can display the compliance for each item directly\n",
    "under the root part."
   ]
  },
  {
   "cell_type": "code",
   "execution_count": 2,
   "id": "81021d6f",
   "metadata": {
    "execution": {
     "iopub.execute_input": "2024-12-17T16:59:02.420079Z",
     "iopub.status.busy": "2024-12-17T16:59:02.419872Z",
     "iopub.status.idle": "2024-12-17T16:59:02.423978Z",
     "shell.execute_reply": "2024-12-17T16:59:02.423430Z"
    },
    "tags": []
   },
   "outputs": [
    {
     "name": "stdout",
     "output_type": "stream",
     "text": [
      "Part ID: None, Compliance: WatchListFlag.WatchListCompliant\n",
      "Part ID: None, Compliance: WatchListFlag.WatchListCompliant\n",
      "Part ID: None, Compliance: WatchListFlag.WatchListCompliant\n",
      "Part ID: None, Compliance: WatchListFlag.WatchListCompliant\n",
      "Part ID: None, Compliance: WatchListFlag.WatchListCompliant\n",
      "Part ID: None, Compliance: WatchListFlag.WatchListCompliant\n",
      "Part ID: None, Compliance: WatchListFlag.WatchListCompliant\n",
      "Part ID: None, Compliance: WatchListFlag.WatchListCompliant\n",
      "Part ID: None, Compliance: WatchListFlag.WatchListCompliant\n",
      "Part ID: None, Compliance: WatchListFlag.WatchListCompliant\n",
      "Part ID: None, Compliance: WatchListFlag.WatchListCompliant\n",
      "Part ID: None, Compliance: WatchListFlag.WatchListHasSubstanceAboveThreshold\n"
     ]
    }
   ],
   "source": [
    "for part in part_result.compliance_by_part_and_indicator[0].parts:\n",
    "    print(\n",
    "        f\"Part ID: {part.record_history_identity}, \"\n",
    "        f\"Compliance: {part.indicators['SVHC'].flag}\"\n",
    "    )"
   ]
  },
  {
   "cell_type": "markdown",
   "id": "9573e0a0",
   "metadata": {},
   "source": [
    "However, this structure makes it difficult to compare items at different levels. To do this, you want to flatten the\n",
    "data into a tabular structure."
   ]
  },
  {
   "cell_type": "markdown",
   "id": "75fc303e",
   "metadata": {},
   "source": [
    "## Flatten the hierarchical data structure"
   ]
  },
  {
   "cell_type": "markdown",
   "id": "812196f2",
   "metadata": {},
   "source": [
    "You want to flatten the data into a ``list`` of ``dict`` objects, where each ``dict`` object represents an item in the\n",
    "hierarchy and each value in the ``dict`` object represents a property of this item. You can then use this structure\n",
    "directly or use it to construct a ``pandas.DataFrame`` object."
   ]
  },
  {
   "cell_type": "markdown",
   "id": "dd43d62c",
   "metadata": {
    "lines_to_next_cell": 2
   },
   "source": [
    "First, define a helper function to transform a ``ComplianceQueryResult`` object into a ``dict`` object. In addition to\n",
    "storing properties that are intrinsic to the item (such as the ID, type, and SVHC result), you want to store\n",
    "structural information, such as the level of the item and the ID of its parent."
   ]
  },
  {
   "cell_type": "code",
   "execution_count": 3,
   "id": "a76c890e",
   "metadata": {
    "execution": {
     "iopub.execute_input": "2024-12-17T16:59:02.426103Z",
     "iopub.status.busy": "2024-12-17T16:59:02.425720Z",
     "iopub.status.idle": "2024-12-17T16:59:02.429325Z",
     "shell.execute_reply": "2024-12-17T16:59:02.428830Z"
    },
    "tags": []
   },
   "outputs": [],
   "source": [
    "def create_dict(item, item_type, level, parent_id):\n",
    "    \"\"\"Add a BoM item to a list\"\"\"\n",
    "    item_id = item.record_history_identity\n",
    "    indicator = item.indicators[\"SVHC\"]\n",
    "    row = {\n",
    "        \"Item\": item_id,\n",
    "        \"Parent\": parent_id,\n",
    "        \"Type\": item_type,\n",
    "        \"SVHC\": indicator,\n",
    "        \"Level\": level,\n",
    "    }\n",
    "    return row"
   ]
  },
  {
   "cell_type": "markdown",
   "id": "5b0d94c3",
   "metadata": {
    "lines_to_next_cell": 2
   },
   "source": [
    "To help with the flattening process, you also define a schema, which describes which child item types each item\n",
    "type can contain."
   ]
  },
  {
   "cell_type": "code",
   "execution_count": 4,
   "id": "2d01626a",
   "metadata": {
    "execution": {
     "iopub.execute_input": "2024-12-17T16:59:02.431291Z",
     "iopub.status.busy": "2024-12-17T16:59:02.430900Z",
     "iopub.status.idle": "2024-12-17T16:59:02.433982Z",
     "shell.execute_reply": "2024-12-17T16:59:02.433443Z"
    },
    "lines_to_next_cell": 2,
    "tags": []
   },
   "outputs": [],
   "source": [
    "schema = {\n",
    "    \"Part\": [\"Part\", \"Specification\", \"Material\", \"Substance\"],\n",
    "    \"Specification\": [\"Specification\", \"Coating\", \"Material\", \"Substance\"],\n",
    "    \"Material\": [\"Substance\"],\n",
    "    \"Coating\": [\"Substance\"],\n",
    "    \"Substance\": [],\n",
    "}"
   ]
  },
  {
   "cell_type": "markdown",
   "id": "c42f399d",
   "metadata": {},
   "source": [
    "The function itself performs the flattening using a stack-based approach, where the children of the item currently\n",
    "being processed are iteratively added to the ``items_to_process`` stack. Because this stack is being both modified and\n",
    "iterated over, you must use a ``while`` loop and ``.pop()`` statement instead of a ``for`` loop."
   ]
  },
  {
   "cell_type": "markdown",
   "id": "517a558e",
   "metadata": {
    "lines_to_next_cell": 2
   },
   "source": [
    "The stack uses a special type of collection called a ``deque``, which is similar to a ``list`` but is optimized for\n",
    "these sorts of stack-type use cases involving repeated calls to ``.pop()`` and ``.extend()`` statements."
   ]
  },
  {
   "cell_type": "code",
   "execution_count": 5,
   "id": "91ff8c73",
   "metadata": {
    "execution": {
     "iopub.execute_input": "2024-12-17T16:59:02.435999Z",
     "iopub.status.busy": "2024-12-17T16:59:02.435648Z",
     "iopub.status.idle": "2024-12-17T16:59:02.442125Z",
     "shell.execute_reply": "2024-12-17T16:59:02.441509Z"
    },
    "tags": []
   },
   "outputs": [],
   "source": [
    "from collections import deque\n",
    "\n",
    "\n",
    "def flatten_bom(root_part):\n",
    "    result = []  # List to contain all dicts\n",
    "\n",
    "    # The stack contains a deque of tuples: (item_object, item_type, level, parent_id)\n",
    "    # First seed the stack with the root part\n",
    "    items_to_process = deque([(root_part, \"Part\", 0, None)])\n",
    "\n",
    "    while items_to_process:\n",
    "        # Get the next item from the stack\n",
    "        item_object, item_type, level, parent = items_to_process.pop()\n",
    "        # Create the dict\n",
    "        row = create_dict(item_object, item_type, level, parent)\n",
    "        # Append it to the result list\n",
    "        result.append(row)\n",
    "\n",
    "        # Compute the properties for the child items\n",
    "        item_id = item_object.record_history_identity\n",
    "        child_items = schema[item_type]\n",
    "        child_level = level + 1\n",
    "\n",
    "        # Add the child items to the stack\n",
    "        if \"Part\" in child_items:\n",
    "            items_to_process.extend([(p, \"Part\", child_level, item_id)\n",
    "                                     for p in item_object.parts])\n",
    "        if \"Specification\" in child_items:\n",
    "            items_to_process.extend([(s, \"Specification\", child_level, item_id)\n",
    "                                     for s in item_object.specifications])\n",
    "        if \"Material\" in child_items:\n",
    "            items_to_process.extend([(m, \"Material\", child_level, item_id)\n",
    "                                     for m in item_object.materials])\n",
    "        if \"Coating\" in child_items:\n",
    "            items_to_process.extend([(c, \"Coating\", child_level, item_id)\n",
    "                                     for c in item_object.coatings])\n",
    "        if \"Substance\" in child_items:\n",
    "            items_to_process.extend([(s, \"Substance\", child_level, item_id)\n",
    "                                     for s in item_object.substances])\n",
    "\n",
    "    # When the stack is empty, the while loop exists. Return the result list.\n",
    "    return result"
   ]
  },
  {
   "cell_type": "markdown",
   "id": "e2c2845a",
   "metadata": {},
   "source": [
    "Finally, call the preceding function against the results from the compliance query and use the list to create a\n",
    "``pandas.DataFrame`` object."
   ]
  },
  {
   "cell_type": "code",
   "execution_count": 6,
   "id": "322b1a0c",
   "metadata": {
    "execution": {
     "iopub.execute_input": "2024-12-17T16:59:02.444274Z",
     "iopub.status.busy": "2024-12-17T16:59:02.443912Z",
     "iopub.status.idle": "2024-12-17T16:59:03.635998Z",
     "shell.execute_reply": "2024-12-17T16:59:03.635453Z"
    },
    "tags": []
   },
   "outputs": [
    {
     "name": "stdout",
     "output_type": "stream",
     "text": [
      "301 rows\n"
     ]
    },
    {
     "data": {
      "text/html": [
       "<div>\n",
       "<style scoped>\n",
       "    .dataframe tbody tr th:only-of-type {\n",
       "        vertical-align: middle;\n",
       "    }\n",
       "\n",
       "    .dataframe tbody tr th {\n",
       "        vertical-align: top;\n",
       "    }\n",
       "\n",
       "    .dataframe thead th {\n",
       "        text-align: right;\n",
       "    }\n",
       "</style>\n",
       "<table border=\"1\" class=\"dataframe\">\n",
       "  <thead>\n",
       "    <tr style=\"text-align: right;\">\n",
       "      <th></th>\n",
       "      <th>Item</th>\n",
       "      <th>Parent</th>\n",
       "      <th>Type</th>\n",
       "      <th>SVHC</th>\n",
       "      <th>Level</th>\n",
       "    </tr>\n",
       "  </thead>\n",
       "  <tbody>\n",
       "    <tr>\n",
       "      <th>0</th>\n",
       "      <td>565060</td>\n",
       "      <td>None</td>\n",
       "      <td>Part</td>\n",
       "      <td>SVHC, WatchListHasSubstanceAboveThreshold</td>\n",
       "      <td>0</td>\n",
       "    </tr>\n",
       "    <tr>\n",
       "      <th>1</th>\n",
       "      <td>None</td>\n",
       "      <td>565060</td>\n",
       "      <td>Part</td>\n",
       "      <td>SVHC, WatchListHasSubstanceAboveThreshold</td>\n",
       "      <td>1</td>\n",
       "    </tr>\n",
       "    <tr>\n",
       "      <th>2</th>\n",
       "      <td>None</td>\n",
       "      <td>None</td>\n",
       "      <td>Part</td>\n",
       "      <td>SVHC, WatchListHasSubstanceAboveThreshold</td>\n",
       "      <td>2</td>\n",
       "    </tr>\n",
       "    <tr>\n",
       "      <th>3</th>\n",
       "      <td>None</td>\n",
       "      <td>None</td>\n",
       "      <td>Material</td>\n",
       "      <td>SVHC, WatchListCompliant</td>\n",
       "      <td>3</td>\n",
       "    </tr>\n",
       "    <tr>\n",
       "      <th>4</th>\n",
       "      <td>None</td>\n",
       "      <td>None</td>\n",
       "      <td>Specification</td>\n",
       "      <td>SVHC, WatchListHasSubstanceAboveThreshold</td>\n",
       "      <td>3</td>\n",
       "    </tr>\n",
       "  </tbody>\n",
       "</table>\n",
       "</div>"
      ],
      "text/plain": [
       "     Item  Parent           Type                                       SVHC  \\\n",
       "0  565060    None           Part  SVHC, WatchListHasSubstanceAboveThreshold   \n",
       "1    None  565060           Part  SVHC, WatchListHasSubstanceAboveThreshold   \n",
       "2    None    None           Part  SVHC, WatchListHasSubstanceAboveThreshold   \n",
       "3    None    None       Material                   SVHC, WatchListCompliant   \n",
       "4    None    None  Specification  SVHC, WatchListHasSubstanceAboveThreshold   \n",
       "\n",
       "   Level  \n",
       "0      0  \n",
       "1      1  \n",
       "2      2  \n",
       "3      3  \n",
       "4      3  "
      ]
     },
     "execution_count": 6,
     "metadata": {},
     "output_type": "execute_result"
    }
   ],
   "source": [
    "import pandas as pd\n",
    "\n",
    "data = flatten_bom(part_result.compliance_by_part_and_indicator[0])\n",
    "df_full = pd.DataFrame(data)\n",
    "print(f\"{len(df_full)} rows\")\n",
    "df_full.head()"
   ]
  },
  {
   "cell_type": "markdown",
   "id": "6fc68b93",
   "metadata": {},
   "source": [
    "## Postprocess the ``pandas.DataFrame`` object"
   ]
  },
  {
   "cell_type": "markdown",
   "id": "3dea2741",
   "metadata": {},
   "source": [
    "Now that you have the data in a ``pandas.DataFrame`` object, performing operations across all levels of the\n",
    "structure is easier. For example, you can delete all rows that are less than the ``WatchListAboveThreshold``\n",
    "state, retaining only rows that are non-compliant. (Note that this reduces the number of rows significantly.)"
   ]
  },
  {
   "cell_type": "code",
   "execution_count": 7,
   "id": "7b0e60f2",
   "metadata": {
    "execution": {
     "iopub.execute_input": "2024-12-17T16:59:03.638321Z",
     "iopub.status.busy": "2024-12-17T16:59:03.637809Z",
     "iopub.status.idle": "2024-12-17T16:59:03.647831Z",
     "shell.execute_reply": "2024-12-17T16:59:03.647292Z"
    },
    "tags": []
   },
   "outputs": [
    {
     "name": "stdout",
     "output_type": "stream",
     "text": [
      "18 rows\n"
     ]
    },
    {
     "data": {
      "text/html": [
       "<div>\n",
       "<style scoped>\n",
       "    .dataframe tbody tr th:only-of-type {\n",
       "        vertical-align: middle;\n",
       "    }\n",
       "\n",
       "    .dataframe tbody tr th {\n",
       "        vertical-align: top;\n",
       "    }\n",
       "\n",
       "    .dataframe thead th {\n",
       "        text-align: right;\n",
       "    }\n",
       "</style>\n",
       "<table border=\"1\" class=\"dataframe\">\n",
       "  <thead>\n",
       "    <tr style=\"text-align: right;\">\n",
       "      <th></th>\n",
       "      <th>Item</th>\n",
       "      <th>Parent</th>\n",
       "      <th>Type</th>\n",
       "      <th>SVHC</th>\n",
       "      <th>Level</th>\n",
       "    </tr>\n",
       "  </thead>\n",
       "  <tbody>\n",
       "    <tr>\n",
       "      <th>0</th>\n",
       "      <td>565060</td>\n",
       "      <td>None</td>\n",
       "      <td>Part</td>\n",
       "      <td>SVHC, WatchListHasSubstanceAboveThreshold</td>\n",
       "      <td>0</td>\n",
       "    </tr>\n",
       "    <tr>\n",
       "      <th>1</th>\n",
       "      <td>None</td>\n",
       "      <td>565060</td>\n",
       "      <td>Part</td>\n",
       "      <td>SVHC, WatchListHasSubstanceAboveThreshold</td>\n",
       "      <td>1</td>\n",
       "    </tr>\n",
       "    <tr>\n",
       "      <th>2</th>\n",
       "      <td>None</td>\n",
       "      <td>None</td>\n",
       "      <td>Part</td>\n",
       "      <td>SVHC, WatchListHasSubstanceAboveThreshold</td>\n",
       "      <td>2</td>\n",
       "    </tr>\n",
       "    <tr>\n",
       "      <th>4</th>\n",
       "      <td>None</td>\n",
       "      <td>None</td>\n",
       "      <td>Specification</td>\n",
       "      <td>SVHC, WatchListHasSubstanceAboveThreshold</td>\n",
       "      <td>3</td>\n",
       "    </tr>\n",
       "    <tr>\n",
       "      <th>5</th>\n",
       "      <td>83146</td>\n",
       "      <td>None</td>\n",
       "      <td>Coating</td>\n",
       "      <td>SVHC, WatchListHasSubstanceAboveThreshold</td>\n",
       "      <td>4</td>\n",
       "    </tr>\n",
       "  </tbody>\n",
       "</table>\n",
       "</div>"
      ],
      "text/plain": [
       "     Item  Parent           Type                                       SVHC  \\\n",
       "0  565060    None           Part  SVHC, WatchListHasSubstanceAboveThreshold   \n",
       "1    None  565060           Part  SVHC, WatchListHasSubstanceAboveThreshold   \n",
       "2    None    None           Part  SVHC, WatchListHasSubstanceAboveThreshold   \n",
       "4    None    None  Specification  SVHC, WatchListHasSubstanceAboveThreshold   \n",
       "5   83146    None        Coating  SVHC, WatchListHasSubstanceAboveThreshold   \n",
       "\n",
       "   Level  \n",
       "0      0  \n",
       "1      1  \n",
       "2      2  \n",
       "4      3  \n",
       "5      4  "
      ]
     },
     "execution_count": 7,
     "metadata": {},
     "output_type": "execute_result"
    }
   ],
   "source": [
    "threshold = indicators.WatchListFlag.WatchListAboveThreshold\n",
    "df_non_compliant = df_full.drop(df_full[df_full.SVHC < threshold].index)\n",
    "print(f\"{len(df_non_compliant)} rows\")\n",
    "df_non_compliant.head()"
   ]
  }
 ],
 "metadata": {
  "jupytext": {
   "formats": "ipynb,py:light"
  },
  "kernelspec": {
   "display_name": "Python 3 (ipykernel)",
   "language": "python",
   "name": "python3"
  },
  "language_info": {
   "codemirror_mode": {
    "name": "ipython",
    "version": 3
   },
   "file_extension": ".py",
   "mimetype": "text/x-python",
   "name": "python",
   "nbconvert_exporter": "python",
   "pygments_lexer": "ipython3",
   "version": "3.10.15"
  }
 },
 "nbformat": 4,
 "nbformat_minor": 5
}
