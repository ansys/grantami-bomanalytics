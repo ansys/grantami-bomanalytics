{
 "cells": [
  {
   "cell_type": "markdown",
   "id": "9b2404a1",
   "metadata": {},
   "source": [
    "# Create an XML BoM from a CSV data source"
   ]
  },
  {
   "cell_type": "markdown",
   "id": "120ab3c1",
   "metadata": {},
   "source": [
    "This example shows how to use the ``bom_types`` subpackage to create a Granta MI BoM.\n",
    "This subpackage can be used to help construct a Granta 24/12-compliant XML BoM file to\n",
    "use with the BoM queries provided by this package. The code in this example shows how to generate\n",
    "a BoM from a representative CSV data source. The general approach can be applied to data\n",
    "in other formats or provided by other APIs."
   ]
  },
  {
   "cell_type": "markdown",
   "id": "2bf76c10",
   "metadata": {},
   "source": [
    "You can download the [CSV file](../supporting-files/glass_door.csv) used in this example."
   ]
  },
  {
   "cell_type": "markdown",
   "id": "8e782a23",
   "metadata": {},
   "source": [
    "The result of this example is a Granta 24/12-compliant XML BoM file that is suitable for\n",
    "compliance or sustainability analysis with the Granta MI BoM Analytics API. For more information on the\n",
    "expected content of XML BoMs, see the Granta MI documentation."
   ]
  },
  {
   "cell_type": "markdown",
   "id": "c85d635d",
   "metadata": {},
   "source": [
    "## Load the external data"
   ]
  },
  {
   "cell_type": "markdown",
   "id": "17d59dbd",
   "metadata": {},
   "source": [
    "First load the CSV file and use ``pandas`` to load the content in a dataframe."
   ]
  },
  {
   "cell_type": "code",
   "execution_count": 1,
   "id": "751edbb8",
   "metadata": {
    "execution": {
     "iopub.execute_input": "2025-10-28T10:02:38.435167Z",
     "iopub.status.busy": "2025-10-28T10:02:38.434718Z",
     "iopub.status.idle": "2025-10-28T10:02:38.724008Z",
     "shell.execute_reply": "2025-10-28T10:02:38.723500Z"
    }
   },
   "outputs": [
    {
     "data": {
      "text/html": [
       "<div>\n",
       "<style scoped>\n",
       "    .dataframe tbody tr th:only-of-type {\n",
       "        vertical-align: middle;\n",
       "    }\n",
       "\n",
       "    .dataframe tbody tr th {\n",
       "        vertical-align: top;\n",
       "    }\n",
       "\n",
       "    .dataframe thead th {\n",
       "        text-align: right;\n",
       "    }\n",
       "</style>\n",
       "<table border=\"1\" class=\"dataframe\">\n",
       "  <thead>\n",
       "    <tr style=\"text-align: right;\">\n",
       "      <th></th>\n",
       "      <th>BoM Level</th>\n",
       "      <th>ID</th>\n",
       "      <th>Name</th>\n",
       "      <th>Item Type</th>\n",
       "      <th>Quantity</th>\n",
       "      <th>Unit of measure</th>\n",
       "      <th>Measured mass (per UoM)</th>\n",
       "      <th>Measured mass unit</th>\n",
       "    </tr>\n",
       "  </thead>\n",
       "  <tbody>\n",
       "    <tr>\n",
       "      <th>0</th>\n",
       "      <td>1</td>\n",
       "      <td>24X6-30</td>\n",
       "      <td>24X6-30</td>\n",
       "      <td>Part</td>\n",
       "      <td>1.0</td>\n",
       "      <td>Each</td>\n",
       "      <td>NaN</td>\n",
       "      <td>NaN</td>\n",
       "    </tr>\n",
       "    <tr>\n",
       "      <th>1</th>\n",
       "      <td>2</td>\n",
       "      <td>HA-42-Al</td>\n",
       "      <td>HA-42-Al</td>\n",
       "      <td>Part</td>\n",
       "      <td>2.0</td>\n",
       "      <td>Each</td>\n",
       "      <td>NaN</td>\n",
       "      <td>NaN</td>\n",
       "    </tr>\n",
       "    <tr>\n",
       "      <th>2</th>\n",
       "      <td>3</td>\n",
       "      <td>HA-42-Al(A)</td>\n",
       "      <td>HA-42-Al(A)</td>\n",
       "      <td>Part</td>\n",
       "      <td>1.0</td>\n",
       "      <td>Each</td>\n",
       "      <td>146.0</td>\n",
       "      <td>g/Part</td>\n",
       "    </tr>\n",
       "    <tr>\n",
       "      <th>3</th>\n",
       "      <td>4</td>\n",
       "      <td>aluminum-319-0-moldcast-t6</td>\n",
       "      <td>Aluminum, 319.0, permanent mold cast, T6</td>\n",
       "      <td>Material</td>\n",
       "      <td>100.0</td>\n",
       "      <td>%</td>\n",
       "      <td>NaN</td>\n",
       "      <td>NaN</td>\n",
       "    </tr>\n",
       "    <tr>\n",
       "      <th>4</th>\n",
       "      <td>3</td>\n",
       "      <td>HA-42-Al(B)</td>\n",
       "      <td>HA-42-Al(B)</td>\n",
       "      <td>Part</td>\n",
       "      <td>1.0</td>\n",
       "      <td>Each</td>\n",
       "      <td>220.0</td>\n",
       "      <td>g/Part</td>\n",
       "    </tr>\n",
       "  </tbody>\n",
       "</table>\n",
       "</div>"
      ],
      "text/plain": [
       "   BoM Level                          ID  \\\n",
       "0          1                     24X6-30   \n",
       "1          2                    HA-42-Al   \n",
       "2          3                 HA-42-Al(A)   \n",
       "3          4  aluminum-319-0-moldcast-t6   \n",
       "4          3                 HA-42-Al(B)   \n",
       "\n",
       "                                       Name Item Type  Quantity  \\\n",
       "0                                   24X6-30      Part       1.0   \n",
       "1                                  HA-42-Al      Part       2.0   \n",
       "2                               HA-42-Al(A)      Part       1.0   \n",
       "3  Aluminum, 319.0, permanent mold cast, T6  Material     100.0   \n",
       "4                               HA-42-Al(B)      Part       1.0   \n",
       "\n",
       "  Unit of measure  Measured mass (per UoM) Measured mass unit  \n",
       "0            Each                      NaN                NaN  \n",
       "1            Each                      NaN                NaN  \n",
       "2            Each                    146.0             g/Part  \n",
       "3               %                      NaN                NaN  \n",
       "4            Each                    220.0             g/Part  "
      ]
     },
     "execution_count": 1,
     "metadata": {},
     "output_type": "execute_result"
    }
   ],
   "source": [
    "import pandas as pd\n",
    "\n",
    "df = pd.read_csv(\"../supporting-files/glass_door.csv\")\n",
    "df.head()"
   ]
  },
  {
   "cell_type": "markdown",
   "id": "3409ac9a",
   "metadata": {},
   "source": [
    "## Inspect the external data\n",
    "The CSV file describes the bill of materials for the door assembly introduced in the\n",
    "[Creating an XML BoM](./6-1_Creating_an_XML_BoM.ipynb) example.\n",
    "The door (24X6-30) contains two hinges (HA-42-Al) and a handle (H-S-BR-Dual), both fixed to the panel (P-30-L) with\n",
    "machine screws (DIN-7991-M8-20) and washers (N0403.12N.2). The door glass (321-51) is coated with a partially\n",
    "reflective polymer film (7000001298).\n",
    "\n",
    "The hierarchy of items within the BoM is defined by the order of items in the CSV and the ``BoM Level`` column. If an\n",
    "item has the BoM level *n*, then the item's parent is the first level preceding it in the CSV with a BoM level *n-1*.\n",
    "\n",
    "Each item includes an ``Item Type`` column that identifies the type of the item, in this example the only values are\n",
    "``Part`` or ``Material``.\n",
    "Additional columns are specific to the type of item.\n",
    "\n",
    "### Part items\n",
    "\n",
    "Items that refer to parts only exist in the BoM and do not reference records in Granta MI. Their ``Name`` and ``ID``\n",
    "are defined only in the BoM to identify parts.\n",
    "\n",
    "The ``Quantity`` and ``Unit of measure`` columns describe the quantity of part expected in the parent. This can be\n",
    "done by specifying how many occurrences of a part are in an assembly, or for example for the glass door, the surface\n",
    "area of laminated glass.\n",
    "\n",
    "There are three types of components in this example BoM:\n",
    "\n",
    " - The product described by the BoM, whose ``BoM Level`` is ``1``.\n",
    " - Assemblies which are made of sub-parts.\n",
    "   - Their mass isn't defined in the BoM because it can be computed by rolling up the mass of the sub-parts.\n",
    " - Parts which are defined by their mass and the material they are made of.\n",
    "   - Their mass is defined via the ``Measured mass (per UoM)`` and ``Measured mass unit``. The units for the mass\n",
    "      must be consistent with the unit used to define the quantity of the part, so that when the quantity is\n",
    "      multiplied with the mass per UoM, it resolves to a mass. For example, the quantity of glass panel included in\n",
    "      the door is defined as a surface area ``1.51 m^2``, which requires the mass per unit of measure to be defined\n",
    "      as a mass per surface area ``19.6 kg/m^2``.\n",
    "\n",
    "For more information on the different options available for specifying part quantities and part masses, see the\n",
    "Granta MI documentation.\n",
    "\n",
    "### Material items\n",
    "\n",
    "Items that refer to materials correspond to records in Granta MI that contain the relevant compliance or\n",
    "sustainability information for these items. As a result, these items include both a human-readable ``Name`` column and\n",
    "an ``ID`` column. In this scenario, the system that provided the data source contains the Granta MI material\n",
    "assignments for each part based on the ``Material ID`` attribute, which is included in the ``ID`` column.\n",
    "\n",
    "Materials are described in terms of percentage of the parent part made of the material."
   ]
  },
  {
   "cell_type": "markdown",
   "id": "b3db78c3",
   "metadata": {},
   "source": [
    "## Build the ``BillsOfMaterials`` object\n",
    "\n",
    "Import the ``eco2412`` sub-package and helper classes to build record and attribute references."
   ]
  },
  {
   "cell_type": "code",
   "execution_count": 2,
   "id": "87186ebe",
   "metadata": {
    "execution": {
     "iopub.execute_input": "2025-10-28T10:02:38.726007Z",
     "iopub.status.busy": "2025-10-28T10:02:38.725635Z",
     "iopub.status.idle": "2025-10-28T10:02:38.728697Z",
     "shell.execute_reply": "2025-10-28T10:02:38.728129Z"
    },
    "lines_to_end_of_cell_marker": 0,
    "lines_to_next_cell": 1
   },
   "outputs": [],
   "source": [
    "from ansys.grantami.bomanalytics.bom_types import eco2412, AttributeReferenceBuilder, RecordReferenceBuilder\n",
    "\n",
    "DB_KEY = \"MI_Restricted_Substances\"\n",
    "TABLE_NAME = \"MaterialUniverse\""
   ]
  },
  {
   "cell_type": "markdown",
   "id": "00e8a548",
   "metadata": {},
   "source": [
    "Define a function that accepts a part row as input and returns a ``eco2412.Part`` object."
   ]
  },
  {
   "cell_type": "code",
   "execution_count": 3,
   "id": "c6734cb0",
   "metadata": {
    "execution": {
     "iopub.execute_input": "2025-10-28T10:02:38.730501Z",
     "iopub.status.busy": "2025-10-28T10:02:38.730101Z",
     "iopub.status.idle": "2025-10-28T10:02:38.733588Z",
     "shell.execute_reply": "2025-10-28T10:02:38.733148Z"
    },
    "lines_to_next_cell": 1
   },
   "outputs": [],
   "source": [
    "def make_part(item: pd.Series) -> eco2412.Part:\n",
    "    mass = item[\"Measured mass (per UoM)\"]\n",
    "    if not pd.isna(mass):\n",
    "        mass_per_unit_of_measure = eco2412.UnittedValue(\n",
    "            value=mass,\n",
    "            unit=item[\"Measured mass unit\"],\n",
    "        )\n",
    "    else:\n",
    "        mass_per_unit_of_measure = None\n",
    "    return eco2412.Part(\n",
    "        part_number=item[\"ID\"],\n",
    "        part_name=item[\"Name\"],\n",
    "        quantity=eco2412.UnittedValue(value=item[\"Quantity\"], unit=item[\"Unit of measure\"]),\n",
    "        mass_per_unit_of_measure=mass_per_unit_of_measure,\n",
    "    )"
   ]
  },
  {
   "cell_type": "markdown",
   "id": "9734ef8a",
   "metadata": {},
   "source": [
    "Define a function that accepts a material row as input and returns a ``eco2412.Material`` object. Materials are\n",
    "identified by their attribute value ``Material ID``, so the record reference is defined using a lookup value."
   ]
  },
  {
   "cell_type": "code",
   "execution_count": 4,
   "id": "35565b46",
   "metadata": {
    "execution": {
     "iopub.execute_input": "2025-10-28T10:02:38.735132Z",
     "iopub.status.busy": "2025-10-28T10:02:38.734955Z",
     "iopub.status.idle": "2025-10-28T10:02:38.739049Z",
     "shell.execute_reply": "2025-10-28T10:02:38.738588Z"
    }
   },
   "outputs": [],
   "source": [
    "material_id_reference = (\n",
    "    AttributeReferenceBuilder(DB_KEY)\n",
    "    .with_attribute_name(\"Material ID\")\n",
    "    .with_table_name(TABLE_NAME)\n",
    "    .build()\n",
    ")\n",
    "\n",
    "def make_material(item: pd.Series) -> eco2412.Material:\n",
    "    unit = item[\"Unit of measure\"]\n",
    "    if unit == \"%\":\n",
    "        percentage = item[\"Quantity\"]\n",
    "    else:\n",
    "        raise ValueError(\"Method 'make_material' only supports quantities defined as percentages.\")\n",
    "\n",
    "    material_reference = (\n",
    "        RecordReferenceBuilder(db_key=DB_KEY)\n",
    "        .with_lookup_value(lookup_value=item[\"ID\"], lookup_attribute_reference=material_id_reference)\n",
    "        .build()\n",
    "    )\n",
    "    return eco2412.Material(\n",
    "        mi_material_reference=material_reference,\n",
    "        identity=item[\"ID\"],\n",
    "        name=item[\"Name\"],\n",
    "        percentage=percentage,\n",
    "    )"
   ]
  },
  {
   "cell_type": "markdown",
   "id": "c26fb629",
   "metadata": {},
   "source": [
    "Iterate over the rows in the CSV file and convert to ``bom_types`` objects. Because items only ever appear after\n",
    "their parent, a list is used to keep track of possible parent items in the BoM."
   ]
  },
  {
   "cell_type": "code",
   "execution_count": 5,
   "id": "ab01f497",
   "metadata": {
    "execution": {
     "iopub.execute_input": "2025-10-28T10:02:38.740744Z",
     "iopub.status.busy": "2025-10-28T10:02:38.740416Z",
     "iopub.status.idle": "2025-10-28T10:02:38.743175Z",
     "shell.execute_reply": "2025-10-28T10:02:38.742707Z"
    }
   },
   "outputs": [],
   "source": [
    "# Instantiate the hierarchy with an empty BoM object\n",
    "bom = eco2412.BillOfMaterials(components=[])\n",
    "path = [bom]"
   ]
  },
  {
   "cell_type": "code",
   "execution_count": 6,
   "id": "46936ea3",
   "metadata": {
    "execution": {
     "iopub.execute_input": "2025-10-28T10:02:38.744664Z",
     "iopub.status.busy": "2025-10-28T10:02:38.744511Z",
     "iopub.status.idle": "2025-10-28T10:02:38.750828Z",
     "shell.execute_reply": "2025-10-28T10:02:38.750375Z"
    }
   },
   "outputs": [],
   "source": [
    "for _, item_row in df.iterrows():\n",
    "    item_level = item_row[\"BoM Level\"]\n",
    "    parent = path[item_level - 1]\n",
    "\n",
    "    item_type = item_row[\"Item Type\"]\n",
    "    if item_type == \"Part\":\n",
    "        item = make_part(item_row)\n",
    "        parent.components.append(item)\n",
    "    elif item_type == \"Material\":\n",
    "        item = make_material(item_row)\n",
    "        parent.materials.append(item)\n",
    "    else:\n",
    "        raise ValueError(f\"Unsupported 'Item Type': '{item_type}'\")\n",
    "\n",
    "    # Update the hierarchy with the newly created item\n",
    "    path = path[:item_level] + [item]"
   ]
  },
  {
   "cell_type": "markdown",
   "id": "37765076",
   "metadata": {},
   "source": [
    "## Serialize the BoM\n",
    "\n",
    "Use the ``BomHandler`` helper class to serialize the object to XML. The resulting string can be\n",
    "used in a BoM query."
   ]
  },
  {
   "cell_type": "code",
   "execution_count": 7,
   "id": "694bff91",
   "metadata": {
    "execution": {
     "iopub.execute_input": "2025-10-28T10:02:38.752527Z",
     "iopub.status.busy": "2025-10-28T10:02:38.752204Z",
     "iopub.status.idle": "2025-10-28T10:02:39.099155Z",
     "shell.execute_reply": "2025-10-28T10:02:39.098621Z"
    }
   },
   "outputs": [
    {
     "name": "stdout",
     "output_type": "stream",
     "text": [
      "<ns0:PartsEco xmlns:ns0=\"http://www.grantadesign.com/24/12/BillOfMaterialsEco\" xmlns:ns1=\"http://www.grantadesign.com/12/05/GrantaBaseTypes\">\n",
      "    <ns0:Components>\n",
      "        <ns0:Part>\n",
      "            <ns0:Quantity Unit=\"Each\">1.0</ns0:Quantity>\n",
      "            <ns0:PartNumber>24X6-30</ns0:PartNumber>\n",
      "            <ns0:Name>24X6-30</ns0:Name>\n",
      "            <ns0:Components>\n",
      "                <ns0:Part>\n",
      "                    <ns0:Quantity Unit=\"Each\">2.0</ns0:Quantity>\n",
      "                    <ns0:PartNumber>HA-42-Al</...\n"
     ]
    }
   ],
   "source": [
    "from ansys.grantami.bomanalytics import BoMHandler\n",
    "bom_as_xml = BoMHandler().dump_bom(bom)\n",
    "print(f\"{bom_as_xml[:500]}...\")"
   ]
  }
 ],
 "metadata": {
  "jupytext": {
   "formats": "ipynb,py:light"
  },
  "kernelspec": {
   "display_name": "Python 3 (ipykernel)",
   "language": "python",
   "name": "python3"
  },
  "language_info": {
   "codemirror_mode": {
    "name": "ipython",
    "version": 3
   },
   "file_extension": ".py",
   "mimetype": "text/x-python",
   "name": "python",
   "nbconvert_exporter": "python",
   "pygments_lexer": "ipython3",
   "version": "3.11.13"
  }
 },
 "nbformat": 4,
 "nbformat_minor": 5
}
