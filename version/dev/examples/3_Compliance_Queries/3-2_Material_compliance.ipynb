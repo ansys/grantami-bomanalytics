{
 "cells": [
  {
   "cell_type": "markdown",
   "id": "322261cc",
   "metadata": {},
   "source": [
    "# Perform a material compliance query"
   ]
  },
  {
   "cell_type": "markdown",
   "id": "1c740a3f",
   "metadata": {},
   "source": [
    "A material compliance query determines whether one or more materials are compliant with the specified indicators. This\n",
    "is done by first determining compliance for the substances associated with the material and then rolling up the\n",
    "results to the material."
   ]
  },
  {
   "cell_type": "markdown",
   "id": "96012ed1",
   "metadata": {},
   "source": [
    "## Connect to Granta MI"
   ]
  },
  {
   "cell_type": "markdown",
   "id": "cc6dc105",
   "metadata": {},
   "source": [
    "Import the ``Connection`` class and create the connection. For more information, see the\n",
    "[Basic Usage](../0_Basic_usage.ipynb) example."
   ]
  },
  {
   "cell_type": "code",
   "execution_count": 1,
   "id": "8ebe4835",
   "metadata": {
    "execution": {
     "iopub.execute_input": "2025-10-28T10:01:20.867865Z",
     "iopub.status.busy": "2025-10-28T10:01:20.867679Z",
     "iopub.status.idle": "2025-10-28T10:01:21.061426Z",
     "shell.execute_reply": "2025-10-28T10:01:21.060794Z"
    },
    "tags": []
   },
   "outputs": [],
   "source": [
    "from ansys.grantami.bomanalytics import Connection\n",
    "\n",
    "server_url = \"http://my_grantami_server/mi_servicelayer\"\n",
    "cxn = Connection(server_url).with_credentials(\"user_name\", \"password\").connect()"
   ]
  },
  {
   "cell_type": "markdown",
   "id": "2042085a",
   "metadata": {},
   "source": [
    "## Define an indicator"
   ]
  },
  {
   "cell_type": "markdown",
   "id": "e15b3201",
   "metadata": {},
   "source": [
    "A Compliance query determines compliance against indicators, as opposed to an Impacted Substances query which\n",
    "determines compliance directly against legislations.\n",
    "\n",
    "There are two types of indicator objects (``WatchListIndicator`` and ``RohsIndicator``), and the following syntax\n",
    "applies to both object types. The differences in the internal implementation of the two objects are described\n",
    "in the API documentation.\n",
    "\n",
    "Generally speaking, if a substance is impacted by a legislation associated with an indicator and in a quantity\n",
    "above a specified threshold, the substance is non-compliant with that indicator. This non-compliance applies to\n",
    "any other items in the BoM hierarchy that directly or indirectly include that substance."
   ]
  },
  {
   "cell_type": "markdown",
   "id": "c86943ee",
   "metadata": {},
   "source": [
    "First, create two ``WatchListIndicator`` objects."
   ]
  },
  {
   "cell_type": "code",
   "execution_count": 2,
   "id": "45fed300",
   "metadata": {
    "execution": {
     "iopub.execute_input": "2025-10-28T10:01:21.063408Z",
     "iopub.status.busy": "2025-10-28T10:01:21.063236Z",
     "iopub.status.idle": "2025-10-28T10:01:21.067975Z",
     "shell.execute_reply": "2025-10-28T10:01:21.067404Z"
    },
    "tags": []
   },
   "outputs": [],
   "source": [
    "from ansys.grantami.bomanalytics import indicators\n",
    "\n",
    "svhc = indicators.WatchListIndicator(\n",
    "    name=\"SVHC\",\n",
    "    legislation_ids=[\"Candidate_AnnexXV\"],\n",
    "    default_threshold_percentage=0.1,\n",
    ")\n",
    "sin = indicators.WatchListIndicator(\n",
    "    name=\"SIN\",\n",
    "    legislation_ids=[\"SINList\"]\n",
    ")"
   ]
  },
  {
   "cell_type": "markdown",
   "id": "21012647",
   "metadata": {
    "tags": []
   },
   "source": [
    "## Build and run the query"
   ]
  },
  {
   "cell_type": "markdown",
   "id": "37914260",
   "metadata": {},
   "source": [
    "Next define the query itself. Materials can be referenced by Granta MI record reference or Material ID.\n",
    "The table containing the Material records is not required because this is enforced by the Restricted Substances\n",
    "database schema."
   ]
  },
  {
   "cell_type": "code",
   "execution_count": 3,
   "id": "4133532c",
   "metadata": {
    "execution": {
     "iopub.execute_input": "2025-10-28T10:01:21.069722Z",
     "iopub.status.busy": "2025-10-28T10:01:21.069329Z",
     "iopub.status.idle": "2025-10-28T10:01:21.077958Z",
     "shell.execute_reply": "2025-10-28T10:01:21.077412Z"
    },
    "tags": []
   },
   "outputs": [],
   "source": [
    "from ansys.grantami.bomanalytics import queries\n",
    "\n",
    "mat_query = queries.MaterialComplianceQuery().with_indicators([svhc, sin])\n",
    "mat_query = mat_query.with_material_ids([\"plastic-pa66-60glassfiber\",\n",
    "                                         \"zinc-pb-cdlow-alloy-z21220-rolled\",\n",
    "                                         \"stainless-316h\"])"
   ]
  },
  {
   "cell_type": "markdown",
   "id": "d1d06357",
   "metadata": {},
   "source": [
    "Finally, run the query. Passing a ``MaterialComplianceQuery`` object to the ``Connection.run()`` method returns a\n",
    "``MaterialComplianceQueryResult`` object."
   ]
  },
  {
   "cell_type": "code",
   "execution_count": 4,
   "id": "d9a20abc",
   "metadata": {
    "execution": {
     "iopub.execute_input": "2025-10-28T10:01:21.079632Z",
     "iopub.status.busy": "2025-10-28T10:01:21.079371Z",
     "iopub.status.idle": "2025-10-28T10:01:21.551693Z",
     "shell.execute_reply": "2025-10-28T10:01:21.551203Z"
    },
    "tags": []
   },
   "outputs": [
    {
     "data": {
      "text/plain": [
       "<MaterialComplianceQueryResult: 3 MaterialWithCompliance results>"
      ]
     },
     "execution_count": 4,
     "metadata": {},
     "output_type": "execute_result"
    }
   ],
   "source": [
    "mat_result = cxn.run(mat_query)\n",
    "mat_result"
   ]
  },
  {
   "cell_type": "markdown",
   "id": "061d986b",
   "metadata": {
    "tags": []
   },
   "source": [
    "The result object contains two properties: ``compliance_by_material_and_indicator`` and ``compliance_by_indicator``."
   ]
  },
  {
   "cell_type": "markdown",
   "id": "22491fa2",
   "metadata": {},
   "source": [
    "## Group results by material"
   ]
  },
  {
   "cell_type": "markdown",
   "id": "76d2e815",
   "metadata": {
    "tags": []
   },
   "source": [
    "The ``compliance_by_material_and_indicator`` property contains a list of ``MaterialWithComplianceResult`` objects with\n",
    "the reference to the material record and the compliance status for each indicator. The\n",
    "``SubstanceWithComplianceResult`` objects are also included because compliance was determined based on the substances\n",
    "associated with the material object. These are also accompanied by their compliance status for each indicator."
   ]
  },
  {
   "cell_type": "markdown",
   "id": "9a3f19eb",
   "metadata": {},
   "source": [
    "Initially, you can print only the results for the reinforced PA66 record."
   ]
  },
  {
   "cell_type": "code",
   "execution_count": 5,
   "id": "a78cf40e",
   "metadata": {
    "execution": {
     "iopub.execute_input": "2025-10-28T10:01:21.553711Z",
     "iopub.status.busy": "2025-10-28T10:01:21.553253Z",
     "iopub.status.idle": "2025-10-28T10:01:21.556582Z",
     "shell.execute_reply": "2025-10-28T10:01:21.556005Z"
    },
    "lines_to_end_of_cell_marker": 0,
    "lines_to_next_cell": 1,
    "tags": []
   },
   "outputs": [
    {
     "name": "stdout",
     "output_type": "stream",
     "text": [
      "PA66 (60% glass fiber): WatchListHasSubstanceAboveThreshold\n"
     ]
    }
   ],
   "source": [
    "pa_66 = mat_result.compliance_by_material_and_indicator[0]\n",
    "print(f\"PA66 (60% glass fiber): {pa_66.indicators['SVHC'].flag.name}\")"
   ]
  },
  {
   "cell_type": "markdown",
   "id": "d75826b2",
   "metadata": {},
   "source": [
    "The reinforced PA66 record has a status of ``WatchListHasSubstanceAboveThreshold``, which tells\n",
    "you that the material is not compliant with the indicator and therefore contains SVHCs above the\n",
    "0.1% threshold."
   ]
  },
  {
   "cell_type": "markdown",
   "id": "d8ac72dc",
   "metadata": {},
   "source": [
    "To understand which substances have caused this status, you can print the substances that are not compliant with the\n",
    "legislation and the percentage amount of that substance in the parent material. The possible states of the indicator\n",
    "are available on the ``Indicator.available_flags`` attribute and can be compared using standard Python operators.\n",
    "\n",
    "For substances, the critical threshold is the ``WatchListAboveThreshold`` state."
   ]
  },
  {
   "cell_type": "code",
   "execution_count": 6,
   "id": "0dd6dc7c",
   "metadata": {
    "execution": {
     "iopub.execute_input": "2025-10-28T10:01:21.558396Z",
     "iopub.status.busy": "2025-10-28T10:01:21.558035Z",
     "iopub.status.idle": "2025-10-28T10:01:21.562463Z",
     "shell.execute_reply": "2025-10-28T10:01:21.561909Z"
    },
    "tags": []
   },
   "outputs": [
    {
     "name": "stdout",
     "output_type": "stream",
     "text": [
      "16 SVHCs\n",
      "Substance record history identity: 75821, Unknown concentration\n",
      "Substance record history identity: 74483, 0.3%\n",
      "Substance record history identity: 75073, 0.3%\n",
      "Substance record history identity: 75822, Unknown concentration\n",
      "Substance record history identity: 119243, 0.8%\n",
      "Substance record history identity: 74441, 0.3%\n",
      "Substance record history identity: 161216, 0.8%\n",
      "Substance record history identity: 270848, 0.3%\n",
      "Substance record history identity: 161215, 0.8%\n",
      "Substance record history identity: 119242, 0.8%\n",
      "Substance record history identity: 76444, 0.8%\n",
      "Substance record history identity: 76445, 0.8%\n",
      "Substance record history identity: 74449, 0.3%\n",
      "Substance record history identity: 77133, 0.3%\n",
      "Substance record history identity: 76672, Unknown concentration\n",
      "Substance record history identity: 75282, Unknown concentration\n"
     ]
    }
   ],
   "source": [
    "def convert_substance_to_string(substance):\n",
    "    result = f\"Substance record history identity: {substance.record_history_identity}\"\n",
    "    if substance.percentage_amount is None:\n",
    "        return f\"{result}, Unknown concentration\"\n",
    "    else:\n",
    "        return f\"{result}, {substance.percentage_amount}%\"\n",
    "\n",
    "\n",
    "above_threshold_flag = svhc.available_flags.WatchListAboveThreshold\n",
    "pa_66_svhcs = [sub for sub in pa_66.substances\n",
    "               if sub.indicators[\"SVHC\"] >= above_threshold_flag\n",
    "               ]\n",
    "print(f\"{len(pa_66_svhcs)} SVHCs\")\n",
    "for substance in pa_66_svhcs:\n",
    "    print(convert_substance_to_string(substance))"
   ]
  },
  {
   "cell_type": "markdown",
   "id": "82bfffff",
   "metadata": {},
   "source": [
    "Substances with an unknown amount are always treated as if they have a 100% concentration. Note that children of items\n",
    "passed into the compliance query are returned with record references based on record history identities only. The\n",
    "Granta MI Scripting Toolkit for Python can be used to translate record history identities into CAS numbers if\n",
    "required."
   ]
  },
  {
   "cell_type": "markdown",
   "id": "faafb361",
   "metadata": {},
   "source": [
    "Next, look at the state of the zinc alloy record."
   ]
  },
  {
   "cell_type": "code",
   "execution_count": 7,
   "id": "4c1d43ad",
   "metadata": {
    "execution": {
     "iopub.execute_input": "2025-10-28T10:01:21.564050Z",
     "iopub.status.busy": "2025-10-28T10:01:21.563794Z",
     "iopub.status.idle": "2025-10-28T10:01:21.566922Z",
     "shell.execute_reply": "2025-10-28T10:01:21.566404Z"
    },
    "tags": []
   },
   "outputs": [
    {
     "name": "stdout",
     "output_type": "stream",
     "text": [
      "Zn-Pb-Cd low alloy: WatchListAllSubstancesBelowThreshold\n"
     ]
    }
   ],
   "source": [
    "zn_pb_cd = mat_result.compliance_by_material_and_indicator[1]\n",
    "print(f\"Zn-Pb-Cd low alloy: {zn_pb_cd.indicators['SVHC'].flag.name}\")"
   ]
  },
  {
   "cell_type": "markdown",
   "id": "5049398e",
   "metadata": {},
   "source": [
    "The zinc alloy record has the status ``WatchListAllSubstancesBelowThreshold``, which means that there are\n",
    "substances present that are impacted by the legislation but are below the 0.1% threshold."
   ]
  },
  {
   "cell_type": "markdown",
   "id": "c3df8c80",
   "metadata": {},
   "source": [
    "You can print these substances using the ``WatchListBelowThreshold`` flag as the threshold."
   ]
  },
  {
   "cell_type": "code",
   "execution_count": 8,
   "id": "ce972a5c",
   "metadata": {
    "execution": {
     "iopub.execute_input": "2025-10-28T10:01:21.568462Z",
     "iopub.status.busy": "2025-10-28T10:01:21.568312Z",
     "iopub.status.idle": "2025-10-28T10:01:21.571640Z",
     "shell.execute_reply": "2025-10-28T10:01:21.571225Z"
    },
    "tags": []
   },
   "outputs": [
    {
     "name": "stdout",
     "output_type": "stream",
     "text": [
      "2 SVHCs below threshold\n",
      "Substance record history identity: 72969, 0.1%\n",
      "Substance record history identity: 74252, 0.1%\n"
     ]
    }
   ],
   "source": [
    "below_threshold_flag = svhc.available_flags.WatchListBelowThreshold\n",
    "zn_svhcs_below_threshold = [sub for sub in zn_pb_cd.substances\n",
    "                            if sub.indicators[\"SVHC\"].flag == below_threshold_flag]\n",
    "print(f\"{len(zn_svhcs_below_threshold)} SVHCs below threshold\")\n",
    "for substance in zn_svhcs_below_threshold:\n",
    "    print(convert_substance_to_string(substance))"
   ]
  },
  {
   "cell_type": "markdown",
   "id": "9178fb0d",
   "metadata": {},
   "source": [
    "Finally, look at the stainless steel record."
   ]
  },
  {
   "cell_type": "code",
   "execution_count": 9,
   "id": "78f238f7",
   "metadata": {
    "execution": {
     "iopub.execute_input": "2025-10-28T10:01:21.573210Z",
     "iopub.status.busy": "2025-10-28T10:01:21.572889Z",
     "iopub.status.idle": "2025-10-28T10:01:21.575977Z",
     "shell.execute_reply": "2025-10-28T10:01:21.575450Z"
    },
    "tags": []
   },
   "outputs": [
    {
     "name": "stdout",
     "output_type": "stream",
     "text": [
      "316H stainless steel: WatchListCompliant\n"
     ]
    }
   ],
   "source": [
    "ss_316h = mat_result.compliance_by_material_and_indicator[2]\n",
    "print(f\"316H stainless steel: {ss_316h.indicators['SVHC'].flag.name}\")"
   ]
  },
  {
   "cell_type": "markdown",
   "id": "6e95f36c",
   "metadata": {},
   "source": [
    "The stainless steel record has the status ``WatchListCompliant``, which means there are no impacted substances in the\n",
    "material."
   ]
  },
  {
   "cell_type": "markdown",
   "id": "e1afbbe0",
   "metadata": {},
   "source": [
    "You can print these substances using the ``WatchListNotImpacted`` flag as the threshold."
   ]
  },
  {
   "cell_type": "code",
   "execution_count": 10,
   "id": "4e7c87eb",
   "metadata": {
    "execution": {
     "iopub.execute_input": "2025-10-28T10:01:21.577614Z",
     "iopub.status.busy": "2025-10-28T10:01:21.577316Z",
     "iopub.status.idle": "2025-10-28T10:01:21.580972Z",
     "shell.execute_reply": "2025-10-28T10:01:21.580416Z"
    },
    "tags": []
   },
   "outputs": [
    {
     "name": "stdout",
     "output_type": "stream",
     "text": [
      "10 non-SVHC substances\n",
      "Substance record history identity: 75489, Unknown concentration\n",
      "Substance record history identity: 73449, Unknown concentration\n",
      "Substance record history identity: 75307, Unknown concentration\n",
      "Substance record history identity: 75352, Unknown concentration\n",
      "Substance record history identity: 75516, Unknown concentration\n",
      "Substance record history identity: 77816, Unknown concentration\n",
      "Substance record history identity: 75373, Unknown concentration\n",
      "Substance record history identity: 75306, Unknown concentration\n",
      "Substance record history identity: 77307, Unknown concentration\n",
      "Substance record history identity: 74250, Unknown concentration\n"
     ]
    }
   ],
   "source": [
    "not_impacted_flag = svhc.available_flags.WatchListNotImpacted\n",
    "ss_not_impacted = [\n",
    "    sub\n",
    "    for sub in ss_316h.substances\n",
    "    if sub.indicators[\"SVHC\"].flag == not_impacted_flag\n",
    "]\n",
    "print(f\"{len(ss_not_impacted)} non-SVHC substances\")\n",
    "for substance in ss_not_impacted:\n",
    "    print(convert_substance_to_string(substance))"
   ]
  },
  {
   "cell_type": "markdown",
   "id": "7a386f43",
   "metadata": {},
   "source": [
    "## Group results by indicator"
   ]
  },
  {
   "cell_type": "markdown",
   "id": "76e37ab2",
   "metadata": {},
   "source": [
    "Alternatively, using the ``compliance_by_indicator`` property provides a single indicator result that summarizes the\n",
    "results across all materials in the query. This would be useful in a situation where you have a *concept* assembly\n",
    "stored outside of Granta MI and want to determine its compliance. You know it contains the materials specified in\n",
    "the preceding query, and so using the ``compliance_by_indicator`` property tells you if that concept assembly is\n",
    "compliant based on the worst result from individual materials."
   ]
  },
  {
   "cell_type": "code",
   "execution_count": 11,
   "id": "716eeae7",
   "metadata": {
    "execution": {
     "iopub.execute_input": "2025-10-28T10:01:21.582759Z",
     "iopub.status.busy": "2025-10-28T10:01:21.582389Z",
     "iopub.status.idle": "2025-10-28T10:01:21.585295Z",
     "shell.execute_reply": "2025-10-28T10:01:21.584852Z"
    },
    "tags": []
   },
   "outputs": [
    {
     "name": "stdout",
     "output_type": "stream",
     "text": [
      "One or more materials contains an SVHC with a quantity greater than 0.1%.\n"
     ]
    }
   ],
   "source": [
    "if mat_result.compliance_by_indicator[\"SVHC\"] >= above_threshold_flag:\n",
    "    print(\"One or more materials contains an SVHC with a quantity greater than 0.1%.\")\n",
    "else:\n",
    "    print(\"No SVHCs are present, or no SVHCs have a quantity less than 0.1%.\")"
   ]
  },
  {
   "cell_type": "markdown",
   "id": "4725ff83",
   "metadata": {},
   "source": [
    "Note that this cannot tell you which material is responsible for the non-compliance. This would require either\n",
    "performing a more granular analysis as shown earlier or importing the assembly into Granta MI and running the\n",
    "compliance on that part record."
   ]
  }
 ],
 "metadata": {
  "jupytext": {
   "formats": "ipynb,py:light"
  },
  "kernelspec": {
   "display_name": "Python 3 (ipykernel)",
   "language": "python",
   "name": "python3"
  },
  "language_info": {
   "codemirror_mode": {
    "name": "ipython",
    "version": 3
   },
   "file_extension": ".py",
   "mimetype": "text/x-python",
   "name": "python",
   "nbconvert_exporter": "python",
   "pygments_lexer": "ipython3",
   "version": "3.11.13"
  }
 },
 "nbformat": 4,
 "nbformat_minor": 5
}
