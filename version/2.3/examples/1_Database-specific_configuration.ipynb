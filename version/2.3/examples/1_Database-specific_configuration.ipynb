{
 "cells": [
  {
   "cell_type": "markdown",
   "id": "a264c757",
   "metadata": {},
   "source": [
    "# Database-specific configuration"
   ]
  },
  {
   "cell_type": "markdown",
   "id": "50272fab",
   "metadata": {},
   "source": [
    "Granta MI BoM Analytics work with an off-the-shelf Granta MI Restricted Substances database. However, there are\n",
    "some situations in which additional run-time configuration changes are required:\n",
    "\n",
    "- If the database key or table names have been modified from their default values, these must be set on the\n",
    "  ``Connection`` object.\n",
    "- If the number of linked records is very large, the batch sizes should be changed for each query. For more\n",
    "  information, see [Batching requests](../user_guide/batching.rst)."
   ]
  },
  {
   "cell_type": "markdown",
   "id": "fa36d14b",
   "metadata": {},
   "source": [
    "## Specify a custom database key or table name"
   ]
  },
  {
   "cell_type": "markdown",
   "id": "9a25b965",
   "metadata": {},
   "source": [
    "The default database key, ``MI_Restricted_Substances``, is used if no database key is specified. To specify a\n",
    "key, use the ``Connection.set_database_details()`` method. The specified key is then used for all queries made\n",
    "with this ``Connection`` object."
   ]
  },
  {
   "cell_type": "code",
   "execution_count": 1,
   "id": "ce99a08c",
   "metadata": {
    "execution": {
     "iopub.execute_input": "2025-07-29T16:53:24.210110Z",
     "iopub.status.busy": "2025-07-29T16:53:24.209705Z",
     "iopub.status.idle": "2025-07-29T16:53:24.745821Z",
     "shell.execute_reply": "2025-07-29T16:53:24.745212Z"
    },
    "tags": []
   },
   "outputs": [
    {
     "data": {
      "text/plain": [
       "<BomAnalyticsClient: url=\"http://my_grantami_server/mi_servicelayer\", maximum_spec_link_depth=\"unlimited\", dbkey=\"ACME_SUBSTANCES_DATABASE\">"
      ]
     },
     "execution_count": 1,
     "metadata": {},
     "output_type": "execute_result"
    }
   ],
   "source": [
    "from ansys.grantami.bomanalytics import Connection\n",
    "\n",
    "server_url = \"http://my_grantami_server/mi_servicelayer\"\n",
    "cxn = Connection(server_url).with_credentials(\"user_name\", \"password\").connect()\n",
    "cxn.set_database_details(database_key=\"ACME_SUBSTANCES_DATABASE\")\n",
    "cxn"
   ]
  },
  {
   "cell_type": "markdown",
   "id": "df993c49",
   "metadata": {},
   "source": [
    "It is also possible to specify alternative names for the relevant restricted substances tables if they\n",
    "have been modified from the defaults. You provide the names to the ``.set_database_details()`` method in the same way."
   ]
  },
  {
   "cell_type": "code",
   "execution_count": 2,
   "id": "5a59bf58",
   "metadata": {
    "execution": {
     "iopub.execute_input": "2025-07-29T16:53:24.747501Z",
     "iopub.status.busy": "2025-07-29T16:53:24.747330Z",
     "iopub.status.idle": "2025-07-29T16:53:24.751300Z",
     "shell.execute_reply": "2025-07-29T16:53:24.750734Z"
    },
    "tags": []
   },
   "outputs": [
    {
     "data": {
      "text/plain": [
       "<BomAnalyticsClient: url=\"http://my_grantami_server/mi_servicelayer\", maximum_spec_link_depth=\"unlimited\", dbkey=\"MI_Restricted_Substances\", inhouse_materials_table_name=\"ACME Materials\">"
      ]
     },
     "execution_count": 2,
     "metadata": {},
     "output_type": "execute_result"
    }
   ],
   "source": [
    "cxn.set_database_details(in_house_materials_table_name=\"ACME Materials\")\n",
    "cxn"
   ]
  },
  {
   "cell_type": "markdown",
   "id": "a0326827",
   "metadata": {},
   "source": [
    "## Change batch size"
   ]
  },
  {
   "cell_type": "markdown",
   "id": "c0df2af4",
   "metadata": {},
   "source": [
    "The queries that can be performed with this package are batched if they exceed a certain size. This is achieved by\n",
    "splitting the list of parts, materials, and so on into smaller lists to reduce the overall time taken\n",
    "to perform the query. Default batch sizes have been chosen based on typical tabular attribute sizes, but\n",
    "these might need to be changed in some situations. For examples, see the relevant page in the API documentation."
   ]
  },
  {
   "cell_type": "markdown",
   "id": "1c05fc17",
   "metadata": {},
   "source": [
    "The batch size is included in the query ``__repr__``. The following cell shows a ``SpecificationComplianceQuery``\n",
    "object with the default batch size."
   ]
  },
  {
   "cell_type": "code",
   "execution_count": 3,
   "id": "e068d05e",
   "metadata": {
    "execution": {
     "iopub.execute_input": "2025-07-29T16:53:24.752885Z",
     "iopub.status.busy": "2025-07-29T16:53:24.752721Z",
     "iopub.status.idle": "2025-07-29T16:53:24.760777Z",
     "shell.execute_reply": "2025-07-29T16:53:24.760203Z"
    },
    "tags": []
   },
   "outputs": [
    {
     "data": {
      "text/plain": [
       "<SpecificationComplianceQuery: 0 specifications, batch size = 10, 0 indicators>"
      ]
     },
     "execution_count": 3,
     "metadata": {},
     "output_type": "execute_result"
    }
   ],
   "source": [
    "from ansys.grantami.bomanalytics import queries\n",
    "\n",
    "spec_query = queries.SpecificationComplianceQuery()\n",
    "spec_query"
   ]
  },
  {
   "cell_type": "markdown",
   "id": "2341652b",
   "metadata": {},
   "source": [
    "You can manually set the batch size like this:"
   ]
  },
  {
   "cell_type": "code",
   "execution_count": 4,
   "id": "7da8f164",
   "metadata": {
    "execution": {
     "iopub.execute_input": "2025-07-29T16:53:24.762340Z",
     "iopub.status.busy": "2025-07-29T16:53:24.762166Z",
     "iopub.status.idle": "2025-07-29T16:53:24.766077Z",
     "shell.execute_reply": "2025-07-29T16:53:24.765511Z"
    },
    "tags": []
   },
   "outputs": [
    {
     "data": {
      "text/plain": [
       "<SpecificationComplianceQuery: 0 specifications, batch size = 5, 0 indicators>"
      ]
     },
     "execution_count": 4,
     "metadata": {},
     "output_type": "execute_result"
    }
   ],
   "source": [
    "spec_query = spec_query.with_batch_size(5)\n",
    "spec_query"
   ]
  },
  {
   "cell_type": "markdown",
   "id": "7c6d4538",
   "metadata": {},
   "source": [
    "## Set depth of specification-to-specification links"
   ]
  },
  {
   "cell_type": "markdown",
   "id": "a65ca356",
   "metadata": {},
   "source": [
    "> Supported with Restricted Substances Reports 2023 R2 and later"
   ]
  },
  {
   "cell_type": "markdown",
   "id": "c0305c71",
   "metadata": {},
   "source": [
    "The Restricted Substances database allows Specification records to be defined in terms of other Specification records.\n",
    "Since this is a recursive relationship, there is in principle no limit to the complexity of these\n",
    "specification-to-specification (spec-to-spec) hierarchies. By default, this package considers every spec-to-spec\n",
    "hierarchy completely, with no truncation imposed."
   ]
  },
  {
   "cell_type": "markdown",
   "id": "f572f097",
   "metadata": {},
   "source": [
    "For typical databases this is the correct and desired behavior. However, in some circumstances, this may cause query\n",
    "times and response sizes to become very large. In such cases, you should control the maximum spec-to-spec hierarchy\n",
    "depth followed using the ``maximum_spec_link_depth`` parameter on the ``BomAnalyticsClient`` object."
   ]
  },
  {
   "cell_type": "markdown",
   "id": "ad0ea970",
   "metadata": {},
   "source": [
    "The default value is ``None``. Setting it to a positive integer limits the depth to at most that many spec-to-spec\n",
    "links."
   ]
  },
  {
   "cell_type": "code",
   "execution_count": 5,
   "id": "c2ed8ca9",
   "metadata": {
    "execution": {
     "iopub.execute_input": "2025-07-29T16:53:24.767918Z",
     "iopub.status.busy": "2025-07-29T16:53:24.767580Z",
     "iopub.status.idle": "2025-07-29T16:53:24.771204Z",
     "shell.execute_reply": "2025-07-29T16:53:24.770774Z"
    },
    "tags": []
   },
   "outputs": [
    {
     "data": {
      "text/plain": [
       "<BomAnalyticsClient: url=\"http://my_grantami_server/mi_servicelayer\", maximum_spec_link_depth=2, dbkey=\"MI_Restricted_Substances\", inhouse_materials_table_name=\"ACME Materials\">"
      ]
     },
     "execution_count": 5,
     "metadata": {},
     "output_type": "execute_result"
    }
   ],
   "source": [
    "cxn.maximum_spec_link_depth = 2\n",
    "cxn"
   ]
  }
 ],
 "metadata": {
  "jupytext": {
   "formats": "ipynb,py:light"
  },
  "kernelspec": {
   "display_name": "Python 3 (ipykernel)",
   "language": "python",
   "name": "python3"
  },
  "language_info": {
   "codemirror_mode": {
    "name": "ipython",
    "version": 3
   },
   "file_extension": ".py",
   "mimetype": "text/x-python",
   "name": "python",
   "nbconvert_exporter": "python",
   "pygments_lexer": "ipython3",
   "version": "3.11.13"
  }
 },
 "nbformat": 4,
 "nbformat_minor": 5
}
