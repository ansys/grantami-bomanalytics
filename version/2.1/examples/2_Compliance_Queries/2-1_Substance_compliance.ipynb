{
 "cells": [
  {
   "cell_type": "markdown",
   "id": "f8e87c74",
   "metadata": {},
   "source": [
    "# Performing a Substance Compliance Query"
   ]
  },
  {
   "cell_type": "markdown",
   "id": "c202297c",
   "metadata": {},
   "source": [
    "A Substance Compliance Query determines whether one or more substances are compliant with the specified indicators.\n",
    "This example checks several materials for substances included on two watch lists (\"EU REACH - The Candidate List\", and\n",
    "\"The SIN List 2.1\"), specifying substance amounts and thresholds for compliance."
   ]
  },
  {
   "cell_type": "markdown",
   "id": "16a3688f",
   "metadata": {},
   "source": [
    "## Connecting to Granta MI"
   ]
  },
  {
   "cell_type": "markdown",
   "id": "a34d0dc2",
   "metadata": {},
   "source": [
    "Import the ``Connection`` class and create the connection. See the [Getting Started](../0_Getting_started.ipynb)\n",
    "example for more details."
   ]
  },
  {
   "cell_type": "code",
   "execution_count": 1,
   "id": "6786c101",
   "metadata": {
    "execution": {
     "iopub.execute_input": "2024-06-10T15:26:47.977230Z",
     "iopub.status.busy": "2024-06-10T15:26:47.977035Z",
     "iopub.status.idle": "2024-06-10T15:26:48.206560Z",
     "shell.execute_reply": "2024-06-10T15:26:48.205928Z"
    },
    "tags": []
   },
   "outputs": [],
   "source": [
    "from ansys.grantami.bomanalytics import Connection\n",
    "\n",
    "server_url = \"http://my_grantami_server/mi_servicelayer\"\n",
    "cxn = Connection(server_url).with_credentials(\"user_name\", \"password\").connect()"
   ]
  },
  {
   "cell_type": "markdown",
   "id": "27405e83",
   "metadata": {},
   "source": [
    "## Defining an Indicator"
   ]
  },
  {
   "cell_type": "markdown",
   "id": "18ca40ad",
   "metadata": {},
   "source": [
    "A Compliance query determines compliance against 'Indicators', as opposed to an Impacted Substances query which\n",
    "determines compliance directly against legislations.\n",
    "\n",
    "There are two types of Indicator object (``WatchListIndicator`` and ``RohsIndicator``), and the syntax presented below\n",
    "applies to both. The differences in the internal implementation of the two objects are described in the API\n",
    "documentation.\n",
    "\n",
    "Generally speaking, if a substance is impacted by a legislation associated with an indicator, and in a quantity\n",
    "above a specified threshold, the substance is non-compliant with that indicator. This non-compliance applies to\n",
    "any other items in the BoM hierarchy that directly or indirectly include that substance."
   ]
  },
  {
   "cell_type": "markdown",
   "id": "97a1aaa2",
   "metadata": {},
   "source": [
    "First, create two ``WatchListIndicator`` objects."
   ]
  },
  {
   "cell_type": "code",
   "execution_count": 2,
   "id": "999f5fb5",
   "metadata": {
    "execution": {
     "iopub.execute_input": "2024-06-10T15:26:48.208942Z",
     "iopub.status.busy": "2024-06-10T15:26:48.208766Z",
     "iopub.status.idle": "2024-06-10T15:26:48.213396Z",
     "shell.execute_reply": "2024-06-10T15:26:48.212910Z"
    },
    "tags": []
   },
   "outputs": [],
   "source": [
    "from ansys.grantami.bomanalytics import indicators\n",
    "\n",
    "svhc = indicators.WatchListIndicator(\n",
    "    name=\"SVHC\",\n",
    "    legislation_ids=[\"Candidate_AnnexXV\"],\n",
    "    default_threshold_percentage=0.1,\n",
    ")\n",
    "sin = indicators.WatchListIndicator(\n",
    "    name=\"SIN\",\n",
    "    legislation_ids=[\"SINList\"]\n",
    ")"
   ]
  },
  {
   "cell_type": "markdown",
   "id": "73e0cf50",
   "metadata": {
    "tags": []
   },
   "source": [
    "## Building and Running the Query"
   ]
  },
  {
   "cell_type": "markdown",
   "id": "1b720c9f",
   "metadata": {},
   "source": [
    "Next, define the query itself. Substances can be referenced by Granta MI record reference, CAS\n",
    "Number, EC Number, or Chemical Name.\n",
    "\n",
    "The substance quantity is an optional argument, and defaults to 100% if not specified."
   ]
  },
  {
   "cell_type": "code",
   "execution_count": 3,
   "id": "681fd282",
   "metadata": {
    "execution": {
     "iopub.execute_input": "2024-06-10T15:26:48.215843Z",
     "iopub.status.busy": "2024-06-10T15:26:48.215464Z",
     "iopub.status.idle": "2024-06-10T15:26:48.221857Z",
     "shell.execute_reply": "2024-06-10T15:26:48.221379Z"
    },
    "tags": []
   },
   "outputs": [],
   "source": [
    "from ansys.grantami.bomanalytics import queries\n",
    "\n",
    "sub_query = queries.SubstanceComplianceQuery().with_indicators([svhc, sin])\n",
    "sub_query = sub_query.with_cas_numbers_and_amounts([(\"50-00-0\", 10),\n",
    "                                                    (\"110-00-9\", 25),\n",
    "                                                    (\"302-17-0\", 100),\n",
    "                                                    (\"7440-23-5\", 100)])"
   ]
  },
  {
   "cell_type": "markdown",
   "id": "76f256e6",
   "metadata": {},
   "source": [
    "Finally, run the query. Passing a ``SubstanceComplianceQuery`` object to the ``Connection.run()`` method returns a\n",
    "``SubstanceComplianceQueryResult`` object."
   ]
  },
  {
   "cell_type": "code",
   "execution_count": 4,
   "id": "daf17da0",
   "metadata": {
    "execution": {
     "iopub.execute_input": "2024-06-10T15:26:48.224103Z",
     "iopub.status.busy": "2024-06-10T15:26:48.223771Z",
     "iopub.status.idle": "2024-06-10T15:26:48.530240Z",
     "shell.execute_reply": "2024-06-10T15:26:48.529576Z"
    },
    "tags": []
   },
   "outputs": [
    {
     "data": {
      "text/plain": [
       "<SubstanceComplianceQueryResult: 4 SubstanceWithCompliance results>"
      ]
     },
     "execution_count": 4,
     "metadata": {},
     "output_type": "execute_result"
    }
   ],
   "source": [
    "sub_result = cxn.run(sub_query)\n",
    "sub_result"
   ]
  },
  {
   "cell_type": "markdown",
   "id": "478c44cf",
   "metadata": {
    "tags": []
   },
   "source": [
    "The result object contains two properties: ``compliance_by_substance_and_indicator`` and ``compliance_by_indicator``."
   ]
  },
  {
   "cell_type": "markdown",
   "id": "a1386e6d",
   "metadata": {},
   "source": [
    "## Results Grouped by Substance"
   ]
  },
  {
   "cell_type": "markdown",
   "id": "3edc5b29",
   "metadata": {
    "tags": []
   },
   "source": [
    "``compliance_by_substance_and_indicator`` contains a list of ``SubstanceWithComplianceResult`` objects that contain\n",
    "the reference to the substance record and the compliance status in the list of indicators. To determine which\n",
    "substances are compliant, we can loop over each one and compare the indicator to a certain threshold. For this\n",
    "example, we will only examine the SVHC indicator."
   ]
  },
  {
   "cell_type": "markdown",
   "id": "03291e97",
   "metadata": {},
   "source": [
    "The possible states of the indicator are available on the ``Indicator.available_flags`` attribute and can be compared\n",
    "using standard Python operators."
   ]
  },
  {
   "cell_type": "code",
   "execution_count": 5,
   "id": "a89bb6bf",
   "metadata": {
    "execution": {
     "iopub.execute_input": "2024-06-10T15:26:48.533163Z",
     "iopub.status.busy": "2024-06-10T15:26:48.532731Z",
     "iopub.status.idle": "2024-06-10T15:26:48.536613Z",
     "shell.execute_reply": "2024-06-10T15:26:48.536078Z"
    },
    "tags": []
   },
   "outputs": [],
   "source": [
    "compliant_substances = []\n",
    "non_compliant_substances = []\n",
    "threshold = svhc.available_flags.WatchListAboveThreshold\n",
    "\n",
    "for substance in sub_result.compliance_by_substance_and_indicator:\n",
    "    if (substance.indicators[\"SVHC\"] >= threshold):\n",
    "        non_compliant_substances.append(substance)\n",
    "    else:\n",
    "        compliant_substances.append(substance)"
   ]
  },
  {
   "cell_type": "markdown",
   "id": "f29c1c67",
   "metadata": {},
   "source": [
    "Now print the SVHC and Non-SVHC substances."
   ]
  },
  {
   "cell_type": "code",
   "execution_count": 6,
   "id": "9323aa7e",
   "metadata": {
    "execution": {
     "iopub.execute_input": "2024-06-10T15:26:48.539143Z",
     "iopub.status.busy": "2024-06-10T15:26:48.538776Z",
     "iopub.status.idle": "2024-06-10T15:26:48.542686Z",
     "shell.execute_reply": "2024-06-10T15:26:48.542010Z"
    },
    "tags": []
   },
   "outputs": [
    {
     "name": "stdout",
     "output_type": "stream",
     "text": [
      "Non-SVHC substances: 50-00-0, 302-17-0, 7440-23-5\n",
      "SVHCs: 110-00-9\n"
     ]
    }
   ],
   "source": [
    "compliant_cas_numbers = [sub.cas_number for sub in compliant_substances]\n",
    "print(f'Non-SVHC substances: {\", \".join(compliant_cas_numbers)}')\n",
    "\n",
    "non_compliant_cas_numbers = [sub.cas_number for sub in non_compliant_substances]\n",
    "print(f'SVHCs: {\", \".join(non_compliant_cas_numbers)}')"
   ]
  },
  {
   "cell_type": "markdown",
   "id": "1f5280ca",
   "metadata": {},
   "source": [
    "## Results Grouped by Indicator"
   ]
  },
  {
   "cell_type": "markdown",
   "id": "51930a92",
   "metadata": {},
   "source": [
    "Alternatively, using the ``compliance_by_indicator`` property provides a single indicator result that summarizes the\n",
    "results across all substances in the query. This would be useful in a situation where we have a 'concept' material\n",
    "stored outside of Granta MI, and we want to determine its compliance. We know it contains the substances specified in\n",
    "the query above, and so using ``compliance_by_indicator`` will tell us if that concept material is compliant based on\n",
    "the worst result of the individual substances."
   ]
  },
  {
   "cell_type": "code",
   "execution_count": 7,
   "id": "1af01e64",
   "metadata": {
    "execution": {
     "iopub.execute_input": "2024-06-10T15:26:48.544961Z",
     "iopub.status.busy": "2024-06-10T15:26:48.544770Z",
     "iopub.status.idle": "2024-06-10T15:26:48.548126Z",
     "shell.execute_reply": "2024-06-10T15:26:48.547493Z"
    },
    "tags": []
   },
   "outputs": [
    {
     "name": "stdout",
     "output_type": "stream",
     "text": [
      "One or more substances is an SVHC in a quantity > 0.1%\n"
     ]
    }
   ],
   "source": [
    "if sub_result.compliance_by_indicator[\"SVHC\"] >= threshold:\n",
    "    print(\"One or more substances is an SVHC in a quantity > 0.1%\")\n",
    "else:\n",
    "    print(\"No SVHCs, or SVHCs are present in a quantity < 0.1%\")"
   ]
  },
  {
   "cell_type": "markdown",
   "id": "8c0ebfb0",
   "metadata": {},
   "source": [
    "Note that this property does not tell us which substance is responsible for the non-compliance. This would require\n",
    "performing a more granular analysis as shown above, or importing the material into Granta MI and running a compliance\n",
    "query on that material record."
   ]
  }
 ],
 "metadata": {
  "jupytext": {
   "formats": "ipynb,py:light"
  },
  "kernelspec": {
   "display_name": "Python 3 (ipykernel)",
   "language": "python",
   "name": "python3"
  },
  "language_info": {
   "codemirror_mode": {
    "name": "ipython",
    "version": 3
   },
   "file_extension": ".py",
   "mimetype": "text/x-python",
   "name": "python",
   "nbconvert_exporter": "python",
   "pygments_lexer": "ipython3",
   "version": "3.9.19"
  }
 },
 "nbformat": 4,
 "nbformat_minor": 5
}
