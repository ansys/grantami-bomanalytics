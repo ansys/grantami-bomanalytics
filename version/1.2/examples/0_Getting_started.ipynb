{
 "cells": [
  {
   "cell_type": "markdown",
   "id": "b5ca5ca8",
   "metadata": {},
   "source": [
    "# Basic usage example"
   ]
  },
  {
   "cell_type": "markdown",
   "id": "d85e6ec0",
   "metadata": {},
   "source": [
    "This example shows how to connect to Granta MI and perform a basic query for impacted substances. It also\n",
    "demonstrates how to view logging messages returned by the Granta MI server. For more information about the\n",
    "results of the queries, see the examples in [Impacted Substances](1_Impacted_Substances_Queries/index.rst) and\n",
    "[Compliance](2_Compliance_Queries/index.rst)."
   ]
  },
  {
   "cell_type": "markdown",
   "id": "fd42287d",
   "metadata": {},
   "source": [
    "## Connect to Granta MI"
   ]
  },
  {
   "cell_type": "markdown",
   "id": "e6a3cf48",
   "metadata": {},
   "source": [
    "First, use the ``ansys.grantami.bomanalytics.Connection`` class to connect to the Granta MI server. The ``Connection``\n",
    "class uses a fluent interface to build the connection, which is always invoked in the following sequence:\n",
    "\n",
    "1. Specify your Granta MI Service Layer URL as a parameter to the ``Connection`` class.\n",
    "2. Specify the authentication method using a ``Connection.with_...()`` method.\n",
    "3. Use the ``Connection.connect()`` method to finalize the connection.\n",
    "\n",
    "This returns a connection object, which is called ``cxn`` in these examples."
   ]
  },
  {
   "cell_type": "code",
   "execution_count": 1,
   "id": "2fd26df2",
   "metadata": {
    "execution": {
     "iopub.execute_input": "2023-08-29T18:28:44.317174Z",
     "iopub.status.busy": "2023-08-29T18:28:44.316683Z",
     "iopub.status.idle": "2023-08-29T18:28:44.325805Z",
     "shell.execute_reply": "2023-08-29T18:28:44.325102Z"
    },
    "tags": []
   },
   "outputs": [],
   "source": [
    "from ansys.grantami.bomanalytics import Connection\n",
    "\n",
    "server_url = \"http://my_grantami_server/mi_servicelayer\""
   ]
  },
  {
   "cell_type": "markdown",
   "id": "0c430717",
   "metadata": {},
   "source": [
    "If you are running your Python script on Windows, you are generally able to use ``.with_autologon()``."
   ]
  },
  {
   "cell_type": "code",
   "execution_count": 2,
   "id": "27abd03b",
   "metadata": {
    "execution": {
     "iopub.execute_input": "2023-08-29T18:28:44.329971Z",
     "iopub.status.busy": "2023-08-29T18:28:44.329271Z",
     "iopub.status.idle": "2023-08-29T18:28:45.850841Z",
     "shell.execute_reply": "2023-08-29T18:28:45.849915Z"
    },
    "tags": []
   },
   "outputs": [
    {
     "data": {
      "text/plain": [
       "<BomServicesClient: url=\"http://my_grantami_server/mi_servicelayer\", maximum_spec_link_depth=\"unlimited\", dbkey=\"MI_Restricted_Substances\">"
      ]
     },
     "execution_count": 2,
     "metadata": {},
     "output_type": "execute_result"
    }
   ],
   "source": [
    "cxn = Connection(server_url).with_autologon().connect()\n",
    "cxn"
   ]
  },
  {
   "cell_type": "markdown",
   "id": "1aa02b06",
   "metadata": {},
   "source": [
    "If the Python script is running on Linux without Kerberos enabled, or you want to use an account other than your\n",
    "logged-in account, you can specify credentials explicitly."
   ]
  },
  {
   "cell_type": "code",
   "execution_count": 3,
   "id": "0d45a642",
   "metadata": {
    "execution": {
     "iopub.execute_input": "2023-08-29T18:28:45.855941Z",
     "iopub.status.busy": "2023-08-29T18:28:45.855503Z",
     "iopub.status.idle": "2023-08-29T18:28:47.319051Z",
     "shell.execute_reply": "2023-08-29T18:28:47.317918Z"
    },
    "tags": []
   },
   "outputs": [
    {
     "data": {
      "text/plain": [
       "<BomServicesClient: url=\"http://my_grantami_server/mi_servicelayer\", maximum_spec_link_depth=\"unlimited\", dbkey=\"MI_Restricted_Substances\">"
      ]
     },
     "execution_count": 3,
     "metadata": {},
     "output_type": "execute_result"
    }
   ],
   "source": [
    "cxn = Connection(server_url).with_credentials(\"my_username\", \"my_password\").connect()\n",
    "cxn"
   ]
  },
  {
   "cell_type": "markdown",
   "id": "e925eca4",
   "metadata": {},
   "source": [
    "OIDC and anonymous authentication methods are also available, but they are beyond the scope of this example.\n",
    "For more information, see the [ansys-openapi-common](https://github.com/pyansys/openapi-common) package\n",
    "documentation."
   ]
  },
  {
   "cell_type": "markdown",
   "id": "e1c9432d",
   "metadata": {},
   "source": [
    "## Construct a query"
   ]
  },
  {
   "cell_type": "markdown",
   "id": "4becba44",
   "metadata": {},
   "source": [
    "Queries are also constructed using a fluent interface. However, the ``Query`` constructor takes no arguments. All\n",
    "query details are specified using ``Query`` methods. To demonstrate this, this example builds a query to\n",
    "determine all substances present in an ABS material that are impacted by the REACH Candidate List legislation."
   ]
  },
  {
   "cell_type": "markdown",
   "id": "1f7d6092",
   "metadata": {},
   "source": [
    "First import the ``queries`` module and create a ``MaterialImpactedSubstancesQuery`` object."
   ]
  },
  {
   "cell_type": "code",
   "execution_count": 4,
   "id": "3e4ff709",
   "metadata": {
    "execution": {
     "iopub.execute_input": "2023-08-29T18:28:47.325223Z",
     "iopub.status.busy": "2023-08-29T18:28:47.324633Z",
     "iopub.status.idle": "2023-08-29T18:28:47.330254Z",
     "shell.execute_reply": "2023-08-29T18:28:47.329502Z"
    },
    "tags": []
   },
   "outputs": [
    {
     "data": {
      "text/plain": [
       "<MaterialImpactedSubstancesQuery: 0 materials, batch size = 100, 0 legislations>"
      ]
     },
     "execution_count": 4,
     "metadata": {},
     "output_type": "execute_result"
    }
   ],
   "source": [
    "from ansys.grantami.bomanalytics import queries\n",
    "\n",
    "query = queries.MaterialImpactedSubstancesQuery()\n",
    "query"
   ]
  },
  {
   "cell_type": "markdown",
   "id": "2c1b78f1",
   "metadata": {},
   "source": [
    "Now add the material that you want to query by specifying its material ID. (Alternate methods of specifying records\n",
    "are shown in other examples.)"
   ]
  },
  {
   "cell_type": "code",
   "execution_count": 5,
   "id": "e5eea864",
   "metadata": {
    "execution": {
     "iopub.execute_input": "2023-08-29T18:28:47.335172Z",
     "iopub.status.busy": "2023-08-29T18:28:47.334478Z",
     "iopub.status.idle": "2023-08-29T18:28:47.339860Z",
     "shell.execute_reply": "2023-08-29T18:28:47.339087Z"
    },
    "tags": []
   },
   "outputs": [
    {
     "data": {
      "text/plain": [
       "<MaterialImpactedSubstancesQuery: 1 materials, batch size = 100, 0 legislations>"
      ]
     },
     "execution_count": 5,
     "metadata": {},
     "output_type": "execute_result"
    }
   ],
   "source": [
    "query = query.with_material_ids([\"plastic-abs-high-impact\"])\n",
    "query"
   ]
  },
  {
   "cell_type": "markdown",
   "id": "df3885c9",
   "metadata": {},
   "source": [
    "Note that because the ``MaterialImpactedSubstancesQuery`` object has a fluent interface, you receive the same object\n",
    "back that you started with, but with the material IDs added.\n",
    "\n",
    "Finally, add the legislation to the query. Legislations are identified by their ``Short title`` attribute."
   ]
  },
  {
   "cell_type": "code",
   "execution_count": 6,
   "id": "0f6d4afd",
   "metadata": {
    "execution": {
     "iopub.execute_input": "2023-08-29T18:28:47.344081Z",
     "iopub.status.busy": "2023-08-29T18:28:47.343377Z",
     "iopub.status.idle": "2023-08-29T18:28:47.348529Z",
     "shell.execute_reply": "2023-08-29T18:28:47.347746Z"
    },
    "tags": []
   },
   "outputs": [
    {
     "data": {
      "text/plain": [
       "<MaterialImpactedSubstancesQuery: 1 materials, batch size = 100, 1 legislations>"
      ]
     },
     "execution_count": 6,
     "metadata": {},
     "output_type": "execute_result"
    }
   ],
   "source": [
    "query = query.with_legislations([\"EU REACH - The Candidate List\"])\n",
    "query"
   ]
  },
  {
   "cell_type": "markdown",
   "id": "46ce8998",
   "metadata": {},
   "source": [
    "Fluent interfaces are designed to allow a complex object to be constructed in a single line of code. As such, you can\n",
    "consolidate the cells above into a single step:"
   ]
  },
  {
   "cell_type": "code",
   "execution_count": 7,
   "id": "cc3752e1",
   "metadata": {
    "execution": {
     "iopub.execute_input": "2023-08-29T18:28:47.352235Z",
     "iopub.status.busy": "2023-08-29T18:28:47.351518Z",
     "iopub.status.idle": "2023-08-29T18:28:47.358044Z",
     "shell.execute_reply": "2023-08-29T18:28:47.356861Z"
    },
    "tags": []
   },
   "outputs": [
    {
     "data": {
      "text/plain": [
       "<MaterialImpactedSubstancesQuery: 1 materials, batch size = 100, 1 legislations>"
      ]
     },
     "execution_count": 7,
     "metadata": {},
     "output_type": "execute_result"
    }
   ],
   "source": [
    "query = queries.MaterialImpactedSubstancesQuery().with_material_ids([\"plastic-abs-high-impact\"]).with_legislations([\"EU REACH - The Candidate List\"])  # noqa: E501\n",
    "query"
   ]
  },
  {
   "cell_type": "markdown",
   "id": "795fd724",
   "metadata": {},
   "source": [
    "Because the fluent interface can produce very long lines of code, it's necessary to break your query creation code\n",
    "into multiple lines. The following multi-line format is used throughout the examples. It is functionally equivalent to\n",
    "the preceding cell:"
   ]
  },
  {
   "cell_type": "code",
   "execution_count": 8,
   "id": "7c490647",
   "metadata": {
    "execution": {
     "iopub.execute_input": "2023-08-29T18:28:47.361994Z",
     "iopub.status.busy": "2023-08-29T18:28:47.361351Z",
     "iopub.status.idle": "2023-08-29T18:28:47.367569Z",
     "shell.execute_reply": "2023-08-29T18:28:47.366983Z"
    },
    "tags": []
   },
   "outputs": [
    {
     "data": {
      "text/plain": [
       "<MaterialImpactedSubstancesQuery: 1 materials, batch size = 100, 1 legislations>"
      ]
     },
     "execution_count": 8,
     "metadata": {},
     "output_type": "execute_result"
    }
   ],
   "source": [
    "query = (\n",
    "    queries.MaterialImpactedSubstancesQuery()\n",
    "    .with_material_ids([\"plastic-abs-high-impact\"])\n",
    "    .with_legislations([\"EU REACH - The Candidate List\"])\n",
    ")\n",
    "query"
   ]
  },
  {
   "cell_type": "markdown",
   "id": "0d275230",
   "metadata": {},
   "source": [
    "The multi-line format is the recommended way of creating queries using this API."
   ]
  },
  {
   "cell_type": "markdown",
   "id": "7f6a675b",
   "metadata": {},
   "source": [
    "## Run a query"
   ]
  },
  {
   "cell_type": "markdown",
   "id": "bdcc9616",
   "metadata": {},
   "source": [
    "Now that you have your ``cxn`` and ``query`` objects, you can use the ``cxn.run()`` method to run the query. This\n",
    "returns an object that contains the results of the query."
   ]
  },
  {
   "cell_type": "code",
   "execution_count": 9,
   "id": "3e81ea06",
   "metadata": {
    "execution": {
     "iopub.execute_input": "2023-08-29T18:28:47.372118Z",
     "iopub.status.busy": "2023-08-29T18:28:47.371466Z",
     "iopub.status.idle": "2023-08-29T18:28:48.189781Z",
     "shell.execute_reply": "2023-08-29T18:28:48.188878Z"
    },
    "tags": []
   },
   "outputs": [
    {
     "data": {
      "text/plain": [
       "<MaterialImpactedSubstancesQueryResult: 1 MaterialWithImpactedSubstances results>"
      ]
     },
     "execution_count": 9,
     "metadata": {},
     "output_type": "execute_result"
    }
   ],
   "source": [
    "result = cxn.run(query)\n",
    "result"
   ]
  },
  {
   "cell_type": "markdown",
   "id": "6e453708",
   "metadata": {},
   "source": [
    "## View query results"
   ]
  },
  {
   "cell_type": "markdown",
   "id": "d0b79db8",
   "metadata": {},
   "source": [
    "In the case of ``MaterialImpactedSubstancesQuery``, the results object contains the list of substances present in\n",
    "the material that are impacted by the specified legislations."
   ]
  },
  {
   "cell_type": "code",
   "execution_count": 10,
   "id": "26b3d376",
   "metadata": {
    "execution": {
     "iopub.execute_input": "2023-08-29T18:28:48.194730Z",
     "iopub.status.busy": "2023-08-29T18:28:48.194084Z",
     "iopub.status.idle": "2023-08-29T18:28:48.202377Z",
     "shell.execute_reply": "2023-08-29T18:28:48.201672Z"
    },
    "tags": []
   },
   "outputs": [
    {
     "data": {
      "text/plain": [
       "[<ImpactedSubstance: {\"cas_number\": \"15087-24-8\", \"percent_amount\": 2.0}>,\n",
       " <ImpactedSubstance: {\"cas_number\": \"25973-55-1\", \"percent_amount\": 2.0}>,\n",
       " <ImpactedSubstance: {\"cas_number\": \"36437-37-3\", \"percent_amount\": 2.0}>,\n",
       " <ImpactedSubstance: {\"cas_number\": \"36861-47-9\", \"percent_amount\": 2.0}>,\n",
       " <ImpactedSubstance: {\"cas_number\": \"3846-71-7\", \"percent_amount\": 2.0}>,\n",
       " <ImpactedSubstance: {\"cas_number\": \"3864-99-1\", \"percent_amount\": 2.0}>,\n",
       " <ImpactedSubstance: {\"cas_number\": \"872-50-4\", \"percent_amount\": None}>,\n",
       " <ImpactedSubstance: {\"cas_number\": \"90481-04-2\", \"percent_amount\": None}>]"
      ]
     },
     "execution_count": 10,
     "metadata": {},
     "output_type": "execute_result"
    }
   ],
   "source": [
    "result.impacted_substances"
   ]
  },
  {
   "cell_type": "markdown",
   "id": "1b15b3be",
   "metadata": {},
   "source": [
    "## View logged messages"
   ]
  },
  {
   "cell_type": "markdown",
   "id": "6a45d8a9",
   "metadata": {},
   "source": [
    "All query results also contain a list of messages returned by the server while running the query. These are\n",
    "sorted in order of decreasing severity. The same messages are also available in the MI Service Layer log file."
   ]
  },
  {
   "cell_type": "code",
   "execution_count": 11,
   "id": "34ba88d8",
   "metadata": {
    "execution": {
     "iopub.execute_input": "2023-08-29T18:28:48.205991Z",
     "iopub.status.busy": "2023-08-29T18:28:48.205732Z",
     "iopub.status.idle": "2023-08-29T18:28:48.213003Z",
     "shell.execute_reply": "2023-08-29T18:28:48.212333Z"
    },
    "tags": []
   },
   "outputs": [
    {
     "data": {
      "text/plain": [
       "[]"
      ]
     },
     "execution_count": 11,
     "metadata": {},
     "output_type": "execute_result"
    }
   ],
   "source": [
    "result.messages"
   ]
  },
  {
   "cell_type": "markdown",
   "id": "3b1fcc82",
   "metadata": {},
   "source": [
    "Additionally, these messages are available via the standard ``logging`` module using the\n",
    "``ansys.grantami.bomanalytics`` logger. Alternatively, you can omit the logger name to get the root logger, which\n",
    "includes messages logged by all packages.\n",
    "\n",
    "The following code creates a log handler that outputs all 'ansys.grantami.bomanalytics' logger messages with severity\n",
    "INFO and above to either the terminal or the notebook."
   ]
  },
  {
   "cell_type": "code",
   "execution_count": 12,
   "id": "18b25f25",
   "metadata": {
    "execution": {
     "iopub.execute_input": "2023-08-29T18:28:48.216688Z",
     "iopub.status.busy": "2023-08-29T18:28:48.216437Z",
     "iopub.status.idle": "2023-08-29T18:28:49.022817Z",
     "shell.execute_reply": "2023-08-29T18:28:49.021948Z"
    },
    "tags": []
   },
   "outputs": [
    {
     "name": "stderr",
     "output_type": "stream",
     "text": [
      "INFO:ansys.grantami.bomanalytics:Running query <MaterialImpactedSubstancesQuery: 1 materials, batch size = 100, 1 legislations> with connection <BomServicesClient: url=\"http://my_grantami_server/mi_servicelayer\", maximum_spec_link_depth=\"unlimited\", dbkey=\"MI_Restricted_Substances\">\n"
     ]
    },
    {
     "name": "stderr",
     "output_type": "stream",
     "text": [
      "INFO:ansys.grantami.bomanalytics:No specification-to-specification link depth limit specified. All links will be followed\n"
     ]
    },
    {
     "name": "stderr",
     "output_type": "stream",
     "text": [
      "INFO:ansys.grantami.bomanalytics:Using default table config\n"
     ]
    },
    {
     "name": "stderr",
     "output_type": "stream",
     "text": [
      "INFO:ansys.grantami.bomanalytics:Using default database key (MI_Restricted_Substances)\n"
     ]
    }
   ],
   "source": [
    "import logging\n",
    "\n",
    "logging.basicConfig(level=logging.INFO)\n",
    "logger = logging.getLogger(\"ansys.grantami.bomanalytics\")\n",
    "\n",
    "result = cxn.run(query)"
   ]
  }
 ],
 "metadata": {
  "jupytext": {
   "formats": "ipynb,py:light"
  },
  "kernelspec": {
   "display_name": "Python 3 (ipykernel)",
   "language": "python",
   "name": "python3"
  },
  "language_info": {
   "codemirror_mode": {
    "name": "ipython",
    "version": 3
   },
   "file_extension": ".py",
   "mimetype": "text/x-python",
   "name": "python",
   "nbconvert_exporter": "python",
   "pygments_lexer": "ipython3",
   "version": "3.9.17"
  }
 },
 "nbformat": 4,
 "nbformat_minor": 5
}
