{
 "cells": [
  {
   "cell_type": "markdown",
   "id": "6354bc99",
   "metadata": {},
   "source": [
    "# Perform a material impacted substances query"
   ]
  },
  {
   "cell_type": "markdown",
   "id": "33d2d814",
   "metadata": {},
   "source": [
    "A Material Impacted Substances Query is used to identify the substances associated with a material that are impacted\n",
    "by one or more defined legislations."
   ]
  },
  {
   "cell_type": "markdown",
   "id": "692a7d93",
   "metadata": {},
   "source": [
    "This example shows how to perform an Impacted Substance query on material records, and how to process the results."
   ]
  },
  {
   "cell_type": "markdown",
   "id": "c867d42f",
   "metadata": {},
   "source": [
    "## Connecting to Granta MI"
   ]
  },
  {
   "cell_type": "markdown",
   "id": "f71d2fc3",
   "metadata": {},
   "source": [
    "Import the ``Connection`` class and create the connection. See the [Getting Started](../0_Getting_started.ipynb)\n",
    "example for more detail."
   ]
  },
  {
   "cell_type": "code",
   "execution_count": 1,
   "id": "23a64964",
   "metadata": {
    "execution": {
     "iopub.execute_input": "2023-08-29T18:28:52.349522Z",
     "iopub.status.busy": "2023-08-29T18:28:52.349030Z",
     "iopub.status.idle": "2023-08-29T18:28:53.872238Z",
     "shell.execute_reply": "2023-08-29T18:28:53.871373Z"
    },
    "tags": []
   },
   "outputs": [],
   "source": [
    "from ansys.grantami.bomanalytics import Connection\n",
    "\n",
    "server_url = \"http://my_grantami_server/mi_servicelayer\"\n",
    "cxn = Connection(server_url).with_credentials(\"user_name\", \"password\").connect()"
   ]
  },
  {
   "cell_type": "markdown",
   "id": "e72962b8",
   "metadata": {},
   "source": [
    "## Building and running the query"
   ]
  },
  {
   "cell_type": "markdown",
   "id": "5f6084c4",
   "metadata": {},
   "source": [
    "The query is assembled by providing lists of material references and legislations of interest. The query will return\n",
    "the substances that are present in the specified materials and are impacted by the specified legislations."
   ]
  },
  {
   "cell_type": "markdown",
   "id": "71d7d196",
   "metadata": {},
   "source": [
    "First specify some constants that contain the material and legislation references we will use."
   ]
  },
  {
   "cell_type": "code",
   "execution_count": 2,
   "id": "c9517d2f",
   "metadata": {
    "execution": {
     "iopub.execute_input": "2023-08-29T18:28:53.876467Z",
     "iopub.status.busy": "2023-08-29T18:28:53.876186Z",
     "iopub.status.idle": "2023-08-29T18:28:53.880330Z",
     "shell.execute_reply": "2023-08-29T18:28:53.879517Z"
    },
    "tags": []
   },
   "outputs": [],
   "source": [
    "PPS_ID = \"plastic-pps-generalpurpose\"\n",
    "PC_ID = \"plastic-pc-20carbonfiber\"\n",
    "SIN_LIST = \"The SIN List 2.1 (Substitute It Now!)\"\n",
    "REACH = \"EU REACH - The Candidate List\""
   ]
  },
  {
   "cell_type": "markdown",
   "id": "430ebc38",
   "metadata": {},
   "source": [
    "Next import the ``queries`` module and build the query with the references in the previous cell."
   ]
  },
  {
   "cell_type": "code",
   "execution_count": 3,
   "id": "8e1475ce",
   "metadata": {
    "execution": {
     "iopub.execute_input": "2023-08-29T18:28:53.884345Z",
     "iopub.status.busy": "2023-08-29T18:28:53.883935Z",
     "iopub.status.idle": "2023-08-29T18:28:53.888307Z",
     "shell.execute_reply": "2023-08-29T18:28:53.887523Z"
    },
    "tags": []
   },
   "outputs": [],
   "source": [
    "from ansys.grantami.bomanalytics import queries\n",
    "\n",
    "mat_query = (\n",
    "    queries.MaterialImpactedSubstancesQuery()\n",
    "    .with_material_ids([PPS_ID, PC_ID])\n",
    "    .with_legislations([REACH, SIN_LIST])\n",
    ")"
   ]
  },
  {
   "cell_type": "markdown",
   "id": "d490aae7",
   "metadata": {},
   "source": [
    "Finally, run the query. Passing a ``MaterialImpactedSubstancesQuery`` object to the ``Connection.run()`` method\n",
    "returns a ``MaterialImpactedSubstancesQueryResult`` object."
   ]
  },
  {
   "cell_type": "code",
   "execution_count": 4,
   "id": "7be4d671",
   "metadata": {
    "execution": {
     "iopub.execute_input": "2023-08-29T18:28:53.892315Z",
     "iopub.status.busy": "2023-08-29T18:28:53.891695Z",
     "iopub.status.idle": "2023-08-29T18:28:54.887115Z",
     "shell.execute_reply": "2023-08-29T18:28:54.886274Z"
    },
    "tags": []
   },
   "outputs": [
    {
     "data": {
      "text/plain": [
       "<MaterialImpactedSubstancesQueryResult: 2 MaterialWithImpactedSubstances results>"
      ]
     },
     "execution_count": 4,
     "metadata": {},
     "output_type": "execute_result"
    }
   ],
   "source": [
    "results = cxn.run(mat_query)\n",
    "results"
   ]
  },
  {
   "cell_type": "markdown",
   "id": "1c7ef7f2",
   "metadata": {},
   "source": [
    "A ``MaterialImpactedSubstancesQueryResult`` object contains three properties:\n",
    "``impacted_substances_by_material``, ``impacted_substances_by_legislation``, and ``impacted_substances``. They provide\n",
    "different views of the impacted substances at different levels of granularity."
   ]
  },
  {
   "cell_type": "markdown",
   "id": "9a821b49",
   "metadata": {},
   "source": [
    "## View results grouped by material"
   ]
  },
  {
   "cell_type": "markdown",
   "id": "7fcd6a18",
   "metadata": {},
   "source": [
    "This property is structured first as a list of ``MaterialWithImpactedSubstancesResult`` objects, each of which\n",
    "contains a dictionary of lists of ``ImpactedSubstance`` objects keyed by legislation or a single flat list of all\n",
    "substances."
   ]
  },
  {
   "cell_type": "markdown",
   "id": "4298c306",
   "metadata": {},
   "source": [
    "First, we can simplify the structure somewhat because we are only using Material IDs. The cell below creates a\n",
    "dictionary that maps Material IDs to lists of substances impacted by the 'SIN List'."
   ]
  },
  {
   "cell_type": "code",
   "execution_count": 5,
   "id": "ac8fb3db",
   "metadata": {
    "execution": {
     "iopub.execute_input": "2023-08-29T18:28:54.891602Z",
     "iopub.status.busy": "2023-08-29T18:28:54.891156Z",
     "iopub.status.idle": "2023-08-29T18:28:54.895511Z",
     "shell.execute_reply": "2023-08-29T18:28:54.894776Z"
    },
    "tags": []
   },
   "outputs": [],
   "source": [
    "substances_by_material = {}\n",
    "for material in results.impacted_substances_by_material:\n",
    "    substances = material.substances_by_legislation[SIN_LIST]\n",
    "    substances_by_material[material.material_id] = substances"
   ]
  },
  {
   "cell_type": "markdown",
   "id": "35445883",
   "metadata": {},
   "source": [
    "Then use the ``tabulate`` package to print a table of the substances and their quantities for the polycarbonate\n",
    "material only."
   ]
  },
  {
   "cell_type": "code",
   "execution_count": 6,
   "id": "c0a082a5",
   "metadata": {
    "execution": {
     "iopub.execute_input": "2023-08-29T18:28:54.899878Z",
     "iopub.status.busy": "2023-08-29T18:28:54.899461Z",
     "iopub.status.idle": "2023-08-29T18:28:54.927981Z",
     "shell.execute_reply": "2023-08-29T18:28:54.927134Z"
    },
    "tags": []
   },
   "outputs": [
    {
     "name": "stdout",
     "output_type": "stream",
     "text": [
      "Substances impacted by \"The SIN List 2.1 (Substitute It Now!)\" in \"plastic-pc-20carbonfiber\" (10/16)\n",
      "CAS Number      Amount (wt. %)\n",
      "------------  ----------------\n",
      "10124-36-4                 0.6\n",
      "10325-94-7                 0.6\n",
      "131-56-6                   1.6\n",
      "131-57-7                   1.6\n",
      "15087-24-8                 1.6\n",
      "21041-95-2                 0.6\n",
      "25973-55-1                 1.6\n",
      "31119-53-6                 0.6\n",
      "36437-37-3                 1.6\n",
      "36861-47-9                 1.6\n"
     ]
    }
   ],
   "source": [
    "from tabulate import tabulate\n",
    "\n",
    "rows = [(substance.cas_number, substance.max_percentage_amount_in_material)\n",
    "    for substance in substances_by_material[PC_ID]]\n",
    "\n",
    "print(f'Substances impacted by \"{SIN_LIST}\" in \"{PC_ID}\" (10/{len(rows)})')\n",
    "print(tabulate(rows[:10], headers=[\"CAS Number\", \"Amount (wt. %)\"]))"
   ]
  },
  {
   "cell_type": "markdown",
   "id": "de045783",
   "metadata": {},
   "source": [
    "## View results grouped by legislation"
   ]
  },
  {
   "cell_type": "markdown",
   "id": "03403568",
   "metadata": {},
   "source": [
    "This property merges the results across all materials, resulting in a single dictionary of legislations that contain\n",
    "all impacted substances for all materials."
   ]
  },
  {
   "cell_type": "markdown",
   "id": "46aa2119",
   "metadata": {},
   "source": [
    "Again we use the ``tabulate`` package to print a table of substances, but this time we are including the substances in\n",
    "all materials, but again limited to the SIN List only."
   ]
  },
  {
   "cell_type": "code",
   "execution_count": 7,
   "id": "3d49be98",
   "metadata": {
    "execution": {
     "iopub.execute_input": "2023-08-29T18:28:54.932333Z",
     "iopub.status.busy": "2023-08-29T18:28:54.931649Z",
     "iopub.status.idle": "2023-08-29T18:28:54.939385Z",
     "shell.execute_reply": "2023-08-29T18:28:54.938610Z"
    },
    "tags": []
   },
   "outputs": [
    {
     "name": "stdout",
     "output_type": "stream",
     "text": [
      "Substances impacted by \"The SIN List 2.1 (Substitute It Now!)\" in all materials (10/27)\n",
      "CAS Number      Amount (wt. %)\n",
      "------------  ----------------\n",
      "131-56-6                     2\n",
      "131-57-7                     2\n",
      "15087-24-8                   2\n",
      "25973-55-1                   2\n",
      "27193-28-8\n",
      "36437-37-3                   2\n",
      "36861-47-9                   2\n",
      "3846-71-7                    2\n",
      "3864-99-1                    2\n",
      "611-99-4                     2\n"
     ]
    }
   ],
   "source": [
    "material_substances_sin = results.impacted_substances_by_legislation[SIN_LIST]\n",
    "rows = [(substance.cas_number, substance.max_percentage_amount_in_material)\n",
    "    for substance in material_substances_sin]\n",
    "print(f'Substances impacted by \"{SIN_LIST}\" in all materials (10/{len(rows)})')\n",
    "print(tabulate(rows[:10], headers=[\"CAS Number\", \"Amount (wt. %)\"]))"
   ]
  },
  {
   "cell_type": "markdown",
   "id": "99e3d7cf",
   "metadata": {},
   "source": [
    "## View results as a flat list"
   ]
  },
  {
   "cell_type": "markdown",
   "id": "8b77cf69",
   "metadata": {},
   "source": [
    "This property reduces the granularity further to produce a single flattened list of substances across all legislations\n",
    "for all materials."
   ]
  },
  {
   "cell_type": "markdown",
   "id": "a517b92b",
   "metadata": {},
   "source": [
    "The cell below uses the ``tabulate`` package to print a table of substances. Because we are using the\n",
    "``impacted_substances`` property, we only have one list of ``ImpactedSubstance`` objects which covers both\n",
    "legislations and both materials."
   ]
  },
  {
   "cell_type": "code",
   "execution_count": 8,
   "id": "7dc1d24e",
   "metadata": {
    "execution": {
     "iopub.execute_input": "2023-08-29T18:28:54.943208Z",
     "iopub.status.busy": "2023-08-29T18:28:54.942706Z",
     "iopub.status.idle": "2023-08-29T18:28:54.948339Z",
     "shell.execute_reply": "2023-08-29T18:28:54.947559Z"
    },
    "tags": []
   },
   "outputs": [
    {
     "name": "stdout",
     "output_type": "stream",
     "text": [
      "Impacted substances for all materials and legislations (10/48)\n",
      "CAS Number      Amount (wt. %)\n",
      "------------  ----------------\n",
      "131-56-6                     2\n",
      "131-57-7                     2\n",
      "15087-24-8                   2\n",
      "25973-55-1                   2\n",
      "27193-28-8\n",
      "36437-37-3                   2\n",
      "36861-47-9                   2\n",
      "3846-71-7                    2\n",
      "3864-99-1                    2\n",
      "611-99-4                     2\n"
     ]
    }
   ],
   "source": [
    "material_substances_all = results.impacted_substances\n",
    "rows = [(substance.cas_number, substance.max_percentage_amount_in_material)\n",
    "    for substance in material_substances_all]\n",
    "print(f\"Impacted substances for all materials and legislations (10/{len(rows)})\")\n",
    "print(tabulate(rows[:10], headers=[\"CAS Number\", \"Amount (wt. %)\"]))"
   ]
  }
 ],
 "metadata": {
  "jupytext": {
   "formats": "ipynb,py:light"
  },
  "kernelspec": {
   "display_name": "Python 3 (ipykernel)",
   "language": "python",
   "name": "python3"
  },
  "language_info": {
   "codemirror_mode": {
    "name": "ipython",
    "version": 3
   },
   "file_extension": ".py",
   "mimetype": "text/x-python",
   "name": "python",
   "nbconvert_exporter": "python",
   "pygments_lexer": "ipython3",
   "version": "3.9.17"
  }
 },
 "nbformat": 4,
 "nbformat_minor": 5
}
