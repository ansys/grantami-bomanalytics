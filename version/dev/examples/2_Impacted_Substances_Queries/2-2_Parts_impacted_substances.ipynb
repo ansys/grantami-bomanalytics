{
 "cells": [
  {
   "cell_type": "markdown",
   "id": "45414546",
   "metadata": {
    "tags": []
   },
   "source": [
    "# Perform a part impacted substances query"
   ]
  },
  {
   "cell_type": "markdown",
   "id": "3bb4eab1",
   "metadata": {},
   "source": [
    "A part impacted substances query is used to determine the substances associated with a part that are impacted by one\n",
    "or more defined legislations. The part record can represent either a single component, a subassembly, or a finished\n",
    "product. Thus, the substances can be associated with either the part record itself or any other record that\n",
    "the part directly or indirectly references."
   ]
  },
  {
   "cell_type": "markdown",
   "id": "535e2d54",
   "metadata": {},
   "source": [
    "This example shows how to perform an Impacted Substance query on part records and how to process the results."
   ]
  },
  {
   "cell_type": "markdown",
   "id": "75c35f35",
   "metadata": {},
   "source": [
    "## Connect to Granta MI"
   ]
  },
  {
   "cell_type": "markdown",
   "id": "40748992",
   "metadata": {},
   "source": [
    "Import the ``Connection`` class and create the connection. For more information, see the\n",
    "[Basic Usage](../0_Basic_usage.ipynb) example."
   ]
  },
  {
   "cell_type": "code",
   "execution_count": 1,
   "id": "7d733307",
   "metadata": {
    "execution": {
     "iopub.execute_input": "2025-10-28T10:01:08.823981Z",
     "iopub.status.busy": "2025-10-28T10:01:08.823530Z",
     "iopub.status.idle": "2025-10-28T10:01:09.055097Z",
     "shell.execute_reply": "2025-10-28T10:01:09.054564Z"
    },
    "tags": []
   },
   "outputs": [],
   "source": [
    "from ansys.grantami.bomanalytics import Connection\n",
    "\n",
    "server_url = \"http://my_grantami_server/mi_servicelayer\"\n",
    "cxn = Connection(server_url).with_credentials(\"user_name\", \"password\").connect()"
   ]
  },
  {
   "cell_type": "markdown",
   "id": "5ab046b1",
   "metadata": {
    "tags": []
   },
   "source": [
    "## Build and run the query"
   ]
  },
  {
   "cell_type": "markdown",
   "id": "a1eda9e7",
   "metadata": {},
   "source": [
    "The query is assembled by providing lists of part references and legislations of interest. The query returns\n",
    "the substances that are present in the specified parts and are impacted by the specified legislations.\n",
    "\n",
    "In this example, the ``DRILL`` part is used. In contrast to the Material version of this query shown in\n",
    "a previous example, this part does not reference any substances directly. Instead, it references\n",
    "subcomponents, which in turn reference materials, which then reference substances. The Part Impacted Substances\n",
    "Query flattens all these layers of complexity and aggregates them together into a single list."
   ]
  },
  {
   "cell_type": "markdown",
   "id": "4575e5ab",
   "metadata": {},
   "source": [
    "First specify some constants that contain the part and legislation references to use."
   ]
  },
  {
   "cell_type": "code",
   "execution_count": 2,
   "id": "c4e77c97",
   "metadata": {
    "execution": {
     "iopub.execute_input": "2025-10-28T10:01:09.057156Z",
     "iopub.status.busy": "2025-10-28T10:01:09.056961Z",
     "iopub.status.idle": "2025-10-28T10:01:09.059795Z",
     "shell.execute_reply": "2025-10-28T10:01:09.059353Z"
    },
    "tags": []
   },
   "outputs": [],
   "source": [
    "DRILL = \"DRILL\"\n",
    "WING = \"asm_flap_mating\"\n",
    "SIN_LIST = \"SINList\"\n",
    "REACH = \"Candidate_AnnexXV\""
   ]
  },
  {
   "cell_type": "markdown",
   "id": "1a91dd4e",
   "metadata": {},
   "source": [
    "Next, import the ``queries`` module and build the query with the references in the previous cell."
   ]
  },
  {
   "cell_type": "code",
   "execution_count": 3,
   "id": "c7c68c45",
   "metadata": {
    "execution": {
     "iopub.execute_input": "2025-10-28T10:01:09.061292Z",
     "iopub.status.busy": "2025-10-28T10:01:09.061132Z",
     "iopub.status.idle": "2025-10-28T10:01:09.070588Z",
     "shell.execute_reply": "2025-10-28T10:01:09.070158Z"
    },
    "tags": []
   },
   "outputs": [],
   "source": [
    "from ansys.grantami.bomanalytics import queries\n",
    "\n",
    "part_query = (\n",
    "    queries.PartImpactedSubstancesQuery()\n",
    "    .with_part_numbers([DRILL, WING])\n",
    "    .with_legislation_ids([SIN_LIST, REACH])\n",
    ")"
   ]
  },
  {
   "cell_type": "markdown",
   "id": "793d1b0a",
   "metadata": {},
   "source": [
    "Finally, run the query. Passing a ``PartImpactedSubstancesQuery`` object to the ``Connection.run()`` method returns a\n",
    "``PartImpactedSubstancesQueryResult`` object."
   ]
  },
  {
   "cell_type": "code",
   "execution_count": 4,
   "id": "0368a975",
   "metadata": {
    "execution": {
     "iopub.execute_input": "2025-10-28T10:01:09.072231Z",
     "iopub.status.busy": "2025-10-28T10:01:09.072043Z",
     "iopub.status.idle": "2025-10-28T10:01:12.630607Z",
     "shell.execute_reply": "2025-10-28T10:01:12.630094Z"
    },
    "tags": []
   },
   "outputs": [
    {
     "data": {
      "text/plain": [
       "<PartImpactedSubstancesQueryResult: 2 PartWithImpactedSubstances results>"
      ]
     },
     "execution_count": 4,
     "metadata": {},
     "output_type": "execute_result"
    }
   ],
   "source": [
    "part_result = cxn.run(part_query)\n",
    "part_result"
   ]
  },
  {
   "cell_type": "markdown",
   "id": "0cda3ea4",
   "metadata": {},
   "source": [
    "A ``PartImpactedSubstancesQueryResult`` object contains three properties:\n",
    "``impacted_substances_by_part``, ``impacted_substances_by_legislation``, and ``impacted_substances``. They provide\n",
    "different views of the impacted substances at different levels of granularity."
   ]
  },
  {
   "cell_type": "markdown",
   "id": "5bdd32d1",
   "metadata": {},
   "source": [
    "## Group results by part"
   ]
  },
  {
   "cell_type": "markdown",
   "id": "8f05fae0",
   "metadata": {},
   "source": [
    "This property is structured first as a list of ``PartWithImpactedSubstancesResult`` objects, each of which contains\n",
    "a dictionary of lists of ``ImpactedSubstance`` objects keyed by legislation or a single flat list of all\n",
    "substances."
   ]
  },
  {
   "cell_type": "markdown",
   "id": "49824fff",
   "metadata": {},
   "source": [
    "You can simplify the structure because you are only using part numbers. First, create a\n",
    "dictionary that maps part numbers to lists of substances impacted by the ``SIN_LIST``."
   ]
  },
  {
   "cell_type": "code",
   "execution_count": 5,
   "id": "afb60a65",
   "metadata": {
    "execution": {
     "iopub.execute_input": "2025-10-28T10:01:12.632335Z",
     "iopub.status.busy": "2025-10-28T10:01:12.632181Z",
     "iopub.status.idle": "2025-10-28T10:01:12.634907Z",
     "shell.execute_reply": "2025-10-28T10:01:12.634474Z"
    },
    "tags": []
   },
   "outputs": [],
   "source": [
    "substances_by_part = {}\n",
    "for part in part_result.impacted_substances_by_part:\n",
    "    part_substances = part.substances_by_legislation[SIN_LIST]\n",
    "    substances_by_part[part.part_number] = part_substances"
   ]
  },
  {
   "cell_type": "markdown",
   "id": "2c3ad8d9",
   "metadata": {},
   "source": [
    "Then use the ``tabulate`` package to print a table of the substances and their quantities for the wing assembly only."
   ]
  },
  {
   "cell_type": "code",
   "execution_count": 6,
   "id": "e2447594",
   "metadata": {
    "execution": {
     "iopub.execute_input": "2025-10-28T10:01:12.636394Z",
     "iopub.status.busy": "2025-10-28T10:01:12.636248Z",
     "iopub.status.idle": "2025-10-28T10:01:12.643223Z",
     "shell.execute_reply": "2025-10-28T10:01:12.642737Z"
    },
    "tags": []
   },
   "outputs": [
    {
     "name": "stdout",
     "output_type": "stream",
     "text": [
      "Substances impacted by \"SINList\" in \"asm_flap_mating\"\n",
      "CAS Number    Amount (wt. %)\n",
      "------------  ----------------\n",
      "872-50-4\n"
     ]
    }
   ],
   "source": [
    "from tabulate import tabulate\n",
    "\n",
    "rows = [(substance.cas_number, substance.max_percentage_amount_in_material)\n",
    "        for substance in substances_by_part[WING]]\n",
    "\n",
    "print(f'Substances impacted by \"{SIN_LIST}\" in \"{WING}\"')\n",
    "print(tabulate(rows, headers=[\"CAS Number\", \"Amount (wt. %)\"]))"
   ]
  },
  {
   "cell_type": "markdown",
   "id": "c7dcd083",
   "metadata": {},
   "source": [
    "## Group results by legislation"
   ]
  },
  {
   "cell_type": "markdown",
   "id": "ed24135d",
   "metadata": {},
   "source": [
    "This property merges the results across all parts, returning a single dictionary of legislations that contain\n",
    "all impacted substances for all parts."
   ]
  },
  {
   "cell_type": "markdown",
   "id": "bf0b096d",
   "metadata": {},
   "source": [
    "As before, use the ``tabulate`` package to print a table of substances. This time include substances in\n",
    "all parts, but only those on the ``SIN_LIST``."
   ]
  },
  {
   "cell_type": "code",
   "execution_count": 7,
   "id": "fe6b8ed0",
   "metadata": {
    "execution": {
     "iopub.execute_input": "2025-10-28T10:01:12.644745Z",
     "iopub.status.busy": "2025-10-28T10:01:12.644595Z",
     "iopub.status.idle": "2025-10-28T10:01:12.648530Z",
     "shell.execute_reply": "2025-10-28T10:01:12.648060Z"
    },
    "tags": []
   },
   "outputs": [
    {
     "name": "stdout",
     "output_type": "stream",
     "text": [
      "Substances impacted by \"SINList\" in all parts (5/82)\n",
      "CAS Number    Amount (wt. %)\n",
      "------------  ----------------\n",
      "11113-75-0\n",
      "12035-71-1\n",
      "12068-61-0\n",
      "12142-88-0\n",
      "13775-54-7\n"
     ]
    }
   ],
   "source": [
    "part_substances_sin = part_result.impacted_substances_by_legislation[SIN_LIST]\n",
    "rows = [(substance.cas_number, substance.max_percentage_amount_in_material)\n",
    "        for substance in part_substances_sin]\n",
    "print(f'Substances impacted by \"{SIN_LIST}\" in all parts (5/{len(rows)})')\n",
    "print(tabulate(rows[:5], headers=[\"CAS Number\", \"Amount (wt. %)\"]))"
   ]
  },
  {
   "cell_type": "markdown",
   "id": "c44673b0",
   "metadata": {},
   "source": [
    "## Generate results as a flat list"
   ]
  },
  {
   "cell_type": "markdown",
   "id": "c7d8749a",
   "metadata": {},
   "source": [
    "This property reduces the granularity further, producing a single flattened list of substances across all legislations\n",
    "and for all parts."
   ]
  },
  {
   "cell_type": "markdown",
   "id": "73c9c78c",
   "metadata": {},
   "source": [
    "Use the ``tabulate`` package to print a third table of substances. Because you are using the\n",
    "``impacted_substances`` property, you only have one list of ``ImpactedSubstance`` objects, which covers both\n",
    "legislations and both the parts specified above."
   ]
  },
  {
   "cell_type": "code",
   "execution_count": 8,
   "id": "8b7f58d0",
   "metadata": {
    "execution": {
     "iopub.execute_input": "2025-10-28T10:01:12.650321Z",
     "iopub.status.busy": "2025-10-28T10:01:12.649986Z",
     "iopub.status.idle": "2025-10-28T10:01:12.653443Z",
     "shell.execute_reply": "2025-10-28T10:01:12.652984Z"
    },
    "tags": []
   },
   "outputs": [
    {
     "name": "stdout",
     "output_type": "stream",
     "text": [
      "Impacted substances across all legislations in \"DRILL\" (5/132)\n",
      "CAS Number    Amount (wt. %)\n",
      "------------  ----------------\n",
      "11113-75-0\n",
      "12035-71-1\n",
      "12068-61-0\n",
      "12142-88-0\n",
      "13775-54-7\n"
     ]
    }
   ],
   "source": [
    "part_substances_all = part_result.impacted_substances\n",
    "rows = [(substance.cas_number, substance.max_percentage_amount_in_material)\n",
    "        for substance in part_substances_all]\n",
    "print(f'Impacted substances across all legislations in \"DRILL\" (5/{len(rows)})')\n",
    "print(tabulate(rows[:5], headers=[\"CAS Number\", \"Amount (wt. %)\"]))"
   ]
  }
 ],
 "metadata": {
  "jupytext": {
   "formats": "ipynb,py:light"
  },
  "kernelspec": {
   "display_name": "Python 3 (ipykernel)",
   "language": "python",
   "name": "python3"
  },
  "language_info": {
   "codemirror_mode": {
    "name": "ipython",
    "version": 3
   },
   "file_extension": ".py",
   "mimetype": "text/x-python",
   "name": "python",
   "nbconvert_exporter": "python",
   "pygments_lexer": "ipython3",
   "version": "3.11.13"
  }
 },
 "nbformat": 4,
 "nbformat_minor": 5
}
