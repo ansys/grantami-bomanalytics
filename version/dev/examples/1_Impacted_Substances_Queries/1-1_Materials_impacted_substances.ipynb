{
 "cells": [
  {
   "cell_type": "markdown",
   "id": "2c81bc11",
   "metadata": {},
   "source": [
    "# Perform a material impacted substances query"
   ]
  },
  {
   "cell_type": "markdown",
   "id": "76feef39",
   "metadata": {},
   "source": [
    "A material impacted substances query is used to identify the substances associated with a material that are impacted\n",
    "by one or more defined legislations."
   ]
  },
  {
   "cell_type": "markdown",
   "id": "cf8d31a5",
   "metadata": {},
   "source": [
    "This example shows how to perform an Impacted Substance query on material records and how to process the results."
   ]
  },
  {
   "cell_type": "markdown",
   "id": "651b8252",
   "metadata": {},
   "source": [
    "## Connect to Granta MI"
   ]
  },
  {
   "cell_type": "markdown",
   "id": "ca7ce0cd",
   "metadata": {},
   "source": [
    "Import the ``Connection`` class and create the connection. For more information, see the\n",
    "[Getting Started](../0_Getting_started.ipynb) example."
   ]
  },
  {
   "cell_type": "code",
   "execution_count": 1,
   "id": "0cc26bcf",
   "metadata": {
    "execution": {
     "iopub.execute_input": "2024-05-06T14:21:16.272120Z",
     "iopub.status.busy": "2024-05-06T14:21:16.271928Z",
     "iopub.status.idle": "2024-05-06T14:21:16.816499Z",
     "shell.execute_reply": "2024-05-06T14:21:16.815926Z"
    },
    "tags": []
   },
   "outputs": [],
   "source": [
    "from ansys.grantami.bomanalytics import Connection\n",
    "\n",
    "server_url = \"http://my_grantami_server/mi_servicelayer\"\n",
    "cxn = Connection(server_url).with_credentials(\"user_name\", \"password\").connect()"
   ]
  },
  {
   "cell_type": "markdown",
   "id": "b27b38c2",
   "metadata": {},
   "source": [
    "## Build and run the query"
   ]
  },
  {
   "cell_type": "markdown",
   "id": "856d7700",
   "metadata": {},
   "source": [
    "The query is assembled by providing lists of material references and legislations of interest. The query returns\n",
    "the substances that are present in the specified materials and are impacted by the specified legislations."
   ]
  },
  {
   "cell_type": "markdown",
   "id": "2621d11b",
   "metadata": {},
   "source": [
    "First specify some constants that contain the material and legislation references to use."
   ]
  },
  {
   "cell_type": "code",
   "execution_count": 2,
   "id": "8ba9540e",
   "metadata": {
    "execution": {
     "iopub.execute_input": "2024-05-06T14:21:16.819175Z",
     "iopub.status.busy": "2024-05-06T14:21:16.818795Z",
     "iopub.status.idle": "2024-05-06T14:21:16.821818Z",
     "shell.execute_reply": "2024-05-06T14:21:16.821292Z"
    },
    "tags": []
   },
   "outputs": [],
   "source": [
    "PPS_ID = \"plastic-pps-generalpurpose\"\n",
    "PC_ID = \"plastic-pc-20carbonfiber\"\n",
    "SIN_LIST = \"SINList\"\n",
    "REACH = \"Candidate_AnnexXV\""
   ]
  },
  {
   "cell_type": "markdown",
   "id": "235f3ade",
   "metadata": {},
   "source": [
    "Next import the ``queries`` module and build the query with the references in the previous cell."
   ]
  },
  {
   "cell_type": "code",
   "execution_count": 3,
   "id": "d996c0ee",
   "metadata": {
    "execution": {
     "iopub.execute_input": "2024-05-06T14:21:16.824216Z",
     "iopub.status.busy": "2024-05-06T14:21:16.823847Z",
     "iopub.status.idle": "2024-05-06T14:21:16.831841Z",
     "shell.execute_reply": "2024-05-06T14:21:16.831361Z"
    },
    "tags": []
   },
   "outputs": [],
   "source": [
    "from ansys.grantami.bomanalytics import queries\n",
    "\n",
    "mat_query = (\n",
    "    queries.MaterialImpactedSubstancesQuery()\n",
    "    .with_material_ids([PPS_ID, PC_ID])\n",
    "    .with_legislation_ids([REACH, SIN_LIST])\n",
    ")"
   ]
  },
  {
   "cell_type": "markdown",
   "id": "c9b47c5e",
   "metadata": {},
   "source": [
    "Finally, run the query. Passing a ``MaterialImpactedSubstancesQuery`` object to the ``Connection.run()`` method\n",
    "returns a ``MaterialImpactedSubstancesQueryResult`` object."
   ]
  },
  {
   "cell_type": "code",
   "execution_count": 4,
   "id": "dd2838d3",
   "metadata": {
    "execution": {
     "iopub.execute_input": "2024-05-06T14:21:16.834151Z",
     "iopub.status.busy": "2024-05-06T14:21:16.833778Z",
     "iopub.status.idle": "2024-05-06T14:21:17.519385Z",
     "shell.execute_reply": "2024-05-06T14:21:17.518799Z"
    },
    "tags": []
   },
   "outputs": [
    {
     "data": {
      "text/plain": [
       "<MaterialImpactedSubstancesQueryResult: 2 MaterialWithImpactedSubstances results>"
      ]
     },
     "execution_count": 4,
     "metadata": {},
     "output_type": "execute_result"
    }
   ],
   "source": [
    "results = cxn.run(mat_query)\n",
    "results"
   ]
  },
  {
   "cell_type": "markdown",
   "id": "7f04688e",
   "metadata": {},
   "source": [
    "A ``MaterialImpactedSubstancesQueryResult`` object contains three properties:\n",
    "``impacted_substances_by_material``, ``impacted_substances_by_legislation``, and ``impacted_substances``. They provide\n",
    "different views of the impacted substances at different levels of granularity."
   ]
  },
  {
   "cell_type": "markdown",
   "id": "54579e56",
   "metadata": {},
   "source": [
    "## View results grouped by material"
   ]
  },
  {
   "cell_type": "markdown",
   "id": "55a82d71",
   "metadata": {},
   "source": [
    "This property is structured first as a list of ``MaterialWithImpactedSubstancesResult`` objects, each of which\n",
    "contains a dictionary of lists of ``ImpactedSubstance`` objects keyed by legislation or a single flat list of all\n",
    "substances."
   ]
  },
  {
   "cell_type": "markdown",
   "id": "9b7ff57f",
   "metadata": {},
   "source": [
    "First, you can simplify the structure somewhat because you are only using Material IDs. The following cell creates a\n",
    "dictionary that maps material IDs to lists of substances impacted by the ``SIN_LIST``."
   ]
  },
  {
   "cell_type": "code",
   "execution_count": 5,
   "id": "d291568c",
   "metadata": {
    "execution": {
     "iopub.execute_input": "2024-05-06T14:21:17.522194Z",
     "iopub.status.busy": "2024-05-06T14:21:17.521774Z",
     "iopub.status.idle": "2024-05-06T14:21:17.525045Z",
     "shell.execute_reply": "2024-05-06T14:21:17.524477Z"
    },
    "tags": []
   },
   "outputs": [],
   "source": [
    "substances_by_material = {}\n",
    "for material in results.impacted_substances_by_material:\n",
    "    substances = material.substances_by_legislation[SIN_LIST]\n",
    "    substances_by_material[material.material_id] = substances"
   ]
  },
  {
   "cell_type": "markdown",
   "id": "67a8c454",
   "metadata": {},
   "source": [
    "Then use the ``tabulate`` package to print a table of the substances and their quantities for the polycarbonate\n",
    "material only."
   ]
  },
  {
   "cell_type": "code",
   "execution_count": 6,
   "id": "e6d6ca3a",
   "metadata": {
    "execution": {
     "iopub.execute_input": "2024-05-06T14:21:17.527461Z",
     "iopub.status.busy": "2024-05-06T14:21:17.527102Z",
     "iopub.status.idle": "2024-05-06T14:21:17.548035Z",
     "shell.execute_reply": "2024-05-06T14:21:17.547518Z"
    },
    "tags": []
   },
   "outputs": [
    {
     "name": "stdout",
     "output_type": "stream",
     "text": [
      "Substances impacted by \"SINList\" in \"plastic-pc-20carbonfiber\" (5/16)\n",
      "CAS Number      Amount (wt. %)\n",
      "------------  ----------------\n",
      "10124-36-4                 0.6\n",
      "10325-94-7                 0.6\n",
      "131-56-6                   1.6\n",
      "131-57-7                   1.6\n",
      "15087-24-8                 1.6\n"
     ]
    }
   ],
   "source": [
    "from tabulate import tabulate\n",
    "\n",
    "rows = [(substance.cas_number, substance.max_percentage_amount_in_material)\n",
    "    for substance in substances_by_material[PC_ID]]\n",
    "\n",
    "print(f'Substances impacted by \"{SIN_LIST}\" in \"{PC_ID}\" (5/{len(rows)})')\n",
    "print(tabulate(rows[:5], headers=[\"CAS Number\", \"Amount (wt. %)\"]))"
   ]
  },
  {
   "cell_type": "markdown",
   "id": "4d34c2f6",
   "metadata": {},
   "source": [
    "## View results grouped by legislation"
   ]
  },
  {
   "cell_type": "markdown",
   "id": "314d750f",
   "metadata": {},
   "source": [
    "This property merges the results across all materials, resulting in a single dictionary of legislations that contains\n",
    "all impacted substances for all materials."
   ]
  },
  {
   "cell_type": "markdown",
   "id": "7aae2887",
   "metadata": {},
   "source": [
    "Again use the ``tabulate`` package to print a table of substances, but this time include the substances in\n",
    "all materials, one again limited to the ``SIN_LIST`` only."
   ]
  },
  {
   "cell_type": "code",
   "execution_count": 7,
   "id": "4db8d4da",
   "metadata": {
    "execution": {
     "iopub.execute_input": "2024-05-06T14:21:17.550674Z",
     "iopub.status.busy": "2024-05-06T14:21:17.550281Z",
     "iopub.status.idle": "2024-05-06T14:21:17.554380Z",
     "shell.execute_reply": "2024-05-06T14:21:17.553766Z"
    },
    "tags": []
   },
   "outputs": [
    {
     "name": "stdout",
     "output_type": "stream",
     "text": [
      "Substances impacted by \"SINList\" in all materials (5/27)\n",
      "CAS Number      Amount (wt. %)\n",
      "------------  ----------------\n",
      "131-56-6                     2\n",
      "131-57-7                     2\n",
      "15087-24-8                   2\n",
      "25973-55-1                   2\n",
      "27193-28-8\n"
     ]
    }
   ],
   "source": [
    "material_substances_sin = results.impacted_substances_by_legislation[SIN_LIST]\n",
    "rows = [(substance.cas_number, substance.max_percentage_amount_in_material)\n",
    "    for substance in material_substances_sin]\n",
    "print(f'Substances impacted by \"{SIN_LIST}\" in all materials (5/{len(rows)})')\n",
    "print(tabulate(rows[:5], headers=[\"CAS Number\", \"Amount (wt. %)\"]))"
   ]
  },
  {
   "cell_type": "markdown",
   "id": "6bc615f5",
   "metadata": {},
   "source": [
    "## View results as a flat list"
   ]
  },
  {
   "cell_type": "markdown",
   "id": "687b6963",
   "metadata": {},
   "source": [
    "This property reduces the granularity further to produce a single flattened list of substances across all legislations\n",
    "for all materials."
   ]
  },
  {
   "cell_type": "markdown",
   "id": "bfcb2b26",
   "metadata": {},
   "source": [
    "The following cell uses the ``tabulate`` package to print a table of substances. Because you are using the\n",
    "``impacted_substances`` property, you only have one list of ``ImpactedSubstance`` objects, which covers both\n",
    "legislations and both materials."
   ]
  },
  {
   "cell_type": "code",
   "execution_count": 8,
   "id": "cf71151c",
   "metadata": {
    "execution": {
     "iopub.execute_input": "2024-05-06T14:21:17.557145Z",
     "iopub.status.busy": "2024-05-06T14:21:17.556641Z",
     "iopub.status.idle": "2024-05-06T14:21:17.561181Z",
     "shell.execute_reply": "2024-05-06T14:21:17.560574Z"
    },
    "tags": []
   },
   "outputs": [
    {
     "name": "stdout",
     "output_type": "stream",
     "text": [
      "Impacted substances for all materials and legislations (5/48)\n",
      "CAS Number      Amount (wt. %)\n",
      "------------  ----------------\n",
      "131-56-6                     2\n",
      "131-57-7                     2\n",
      "15087-24-8                   2\n",
      "25973-55-1                   2\n",
      "27193-28-8\n"
     ]
    }
   ],
   "source": [
    "material_substances_all = results.impacted_substances\n",
    "rows = [(substance.cas_number, substance.max_percentage_amount_in_material)\n",
    "    for substance in material_substances_all]\n",
    "print(f\"Impacted substances for all materials and legislations (5/{len(rows)})\")\n",
    "print(tabulate(rows[:5], headers=[\"CAS Number\", \"Amount (wt. %)\"]))"
   ]
  }
 ],
 "metadata": {
  "jupytext": {
   "formats": "ipynb,py:light"
  },
  "kernelspec": {
   "display_name": "Python 3 (ipykernel)",
   "language": "python",
   "name": "python3"
  },
  "language_info": {
   "codemirror_mode": {
    "name": "ipython",
    "version": 3
   },
   "file_extension": ".py",
   "mimetype": "text/x-python",
   "name": "python",
   "nbconvert_exporter": "python",
   "pygments_lexer": "ipython3",
   "version": "3.10.14"
  }
 },
 "nbformat": 4,
 "nbformat_minor": 5
}
