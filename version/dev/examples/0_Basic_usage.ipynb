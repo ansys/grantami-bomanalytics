{
 "cells": [
  {
   "cell_type": "markdown",
   "id": "e9273102",
   "metadata": {},
   "source": [
    "# Basic usage example"
   ]
  },
  {
   "cell_type": "markdown",
   "id": "9f039208",
   "metadata": {},
   "source": [
    "This example shows how to connect to Granta MI and perform a basic query for impacted substances. It also\n",
    "demonstrates how to view logging messages returned by the Granta MI server. For more information about the\n",
    "results of the queries, see the [Impacted substances examples](2_Impacted_Substances_Queries/index.rst),\n",
    "[Compliance examples](3_Compliance_Queries/index.rst), [Sustainability examples](4_Sustainability/index.rst), and\n",
    "[Sustainability summary examples](5_Sustainability_summary/index.rst)."
   ]
  },
  {
   "cell_type": "markdown",
   "id": "32a37536",
   "metadata": {},
   "source": [
    "## Connect to Granta MI"
   ]
  },
  {
   "cell_type": "markdown",
   "id": "f59be634",
   "metadata": {},
   "source": [
    "First, use the ``ansys.grantami.bomanalytics.Connection`` class to connect to the Granta MI server. The ``Connection``\n",
    "class uses a fluent interface to build the connection, which is always invoked in the following sequence:\n",
    "\n",
    "1. Specify your Granta MI Service Layer URL as a parameter to the ``Connection`` class.\n",
    "2. Specify the authentication method using a ``Connection.with_*()`` method.\n",
    "3. Use the ``Connection.connect()`` method to finalize the connection.\n",
    "\n",
    "This returns a connection object, which is called ``cxn`` in these examples."
   ]
  },
  {
   "cell_type": "code",
   "execution_count": 1,
   "id": "21e97dfa",
   "metadata": {
    "execution": {
     "iopub.execute_input": "2025-10-28T10:01:00.449420Z",
     "iopub.status.busy": "2025-10-28T10:01:00.449248Z",
     "iopub.status.idle": "2025-10-28T10:01:00.452537Z",
     "shell.execute_reply": "2025-10-28T10:01:00.452104Z"
    },
    "tags": []
   },
   "outputs": [],
   "source": [
    "from ansys.grantami.bomanalytics import Connection\n",
    "\n",
    "server_url = \"http://my_grantami_server/mi_servicelayer\""
   ]
  },
  {
   "cell_type": "markdown",
   "id": "2dd5e099",
   "metadata": {},
   "source": [
    "If you are running your Python script on Windows, you are generally able to use the\n",
    "``.with_autologon() method``."
   ]
  },
  {
   "cell_type": "code",
   "execution_count": 2,
   "id": "f3245a90",
   "metadata": {
    "execution": {
     "iopub.execute_input": "2025-10-28T10:01:00.454229Z",
     "iopub.status.busy": "2025-10-28T10:01:00.453911Z",
     "iopub.status.idle": "2025-10-28T10:01:00.801943Z",
     "shell.execute_reply": "2025-10-28T10:01:00.801336Z"
    },
    "tags": []
   },
   "outputs": [
    {
     "data": {
      "text/plain": [
       "<BomAnalyticsClient: url=\"http://my_grantami_server/mi_servicelayer\", maximum_spec_link_depth=\"unlimited\", dbkey=\"MI_Restricted_Substances\">"
      ]
     },
     "execution_count": 2,
     "metadata": {},
     "output_type": "execute_result"
    }
   ],
   "source": [
    "cxn = Connection(server_url).with_autologon().connect()\n",
    "cxn"
   ]
  },
  {
   "cell_type": "markdown",
   "id": "77c2de84",
   "metadata": {},
   "source": [
    "If the Python script is running on Linux without Kerberos enabled, or you want to use an account other than your\n",
    "logged-in account, you can specify credentials explicitly."
   ]
  },
  {
   "cell_type": "code",
   "execution_count": 3,
   "id": "108e5503",
   "metadata": {
    "execution": {
     "iopub.execute_input": "2025-10-28T10:01:00.804010Z",
     "iopub.status.busy": "2025-10-28T10:01:00.803680Z",
     "iopub.status.idle": "2025-10-28T10:01:01.055651Z",
     "shell.execute_reply": "2025-10-28T10:01:01.055058Z"
    },
    "tags": []
   },
   "outputs": [
    {
     "data": {
      "text/plain": [
       "<BomAnalyticsClient: url=\"http://my_grantami_server/mi_servicelayer\", maximum_spec_link_depth=\"unlimited\", dbkey=\"MI_Restricted_Substances\">"
      ]
     },
     "execution_count": 3,
     "metadata": {},
     "output_type": "execute_result"
    }
   ],
   "source": [
    "cxn = Connection(server_url).with_credentials(\"my_username\", \"my_password\").connect()\n",
    "cxn"
   ]
  },
  {
   "cell_type": "markdown",
   "id": "7006fa5e",
   "metadata": {},
   "source": [
    "OIDC and anonymous authentication methods are also available, but they are beyond the scope of this example.\n",
    "For more information, see the [ansys-openapi-common](https://github.com/pyansys/openapi-common) package\n",
    "documentation."
   ]
  },
  {
   "cell_type": "markdown",
   "id": "cf9c5ab6",
   "metadata": {},
   "source": [
    "## Construct a query"
   ]
  },
  {
   "cell_type": "markdown",
   "id": "97909bc0",
   "metadata": {},
   "source": [
    "Queries are also constructed using a fluent interface. However, the ``Query`` constructor takes no arguments. All\n",
    "query details are specified using ``Query`` methods. To demonstrate this, this example builds a query to\n",
    "determine all substances present in an ABS material that are impacted by the REACH Candidate List legislation."
   ]
  },
  {
   "cell_type": "markdown",
   "id": "d06dfa0d",
   "metadata": {},
   "source": [
    "First import the ``queries`` module and create a ``MaterialImpactedSubstancesQuery`` object."
   ]
  },
  {
   "cell_type": "code",
   "execution_count": 4,
   "id": "ee7c7510",
   "metadata": {
    "execution": {
     "iopub.execute_input": "2025-10-28T10:01:01.057464Z",
     "iopub.status.busy": "2025-10-28T10:01:01.057284Z",
     "iopub.status.idle": "2025-10-28T10:01:01.067642Z",
     "shell.execute_reply": "2025-10-28T10:01:01.067091Z"
    },
    "tags": []
   },
   "outputs": [
    {
     "data": {
      "text/plain": [
       "<MaterialImpactedSubstancesQuery: 0 materials, batch size = 100, 0 legislations>"
      ]
     },
     "execution_count": 4,
     "metadata": {},
     "output_type": "execute_result"
    }
   ],
   "source": [
    "from ansys.grantami.bomanalytics import queries\n",
    "\n",
    "query = queries.MaterialImpactedSubstancesQuery()\n",
    "query"
   ]
  },
  {
   "cell_type": "markdown",
   "id": "112be262",
   "metadata": {},
   "source": [
    "Now add the material that you want to query by specifying its material ID. (Alternate methods of specifying records\n",
    "are shown in other examples.)"
   ]
  },
  {
   "cell_type": "code",
   "execution_count": 5,
   "id": "c86bf73d",
   "metadata": {
    "execution": {
     "iopub.execute_input": "2025-10-28T10:01:01.069551Z",
     "iopub.status.busy": "2025-10-28T10:01:01.069137Z",
     "iopub.status.idle": "2025-10-28T10:01:01.072938Z",
     "shell.execute_reply": "2025-10-28T10:01:01.072379Z"
    },
    "tags": []
   },
   "outputs": [
    {
     "data": {
      "text/plain": [
       "<MaterialImpactedSubstancesQuery: 1 materials, batch size = 100, 0 legislations>"
      ]
     },
     "execution_count": 5,
     "metadata": {},
     "output_type": "execute_result"
    }
   ],
   "source": [
    "query = query.with_material_ids([\"plastic-abs-high-impact\"])\n",
    "query"
   ]
  },
  {
   "cell_type": "markdown",
   "id": "d15b472a",
   "metadata": {},
   "source": [
    "Note that because the ``MaterialImpactedSubstancesQuery`` object has a fluent interface, you receive the same object\n",
    "back that you started with but with the material IDs added.\n",
    "\n",
    "Finally, add the legislation to the query. Legislations are identified by their ``Legislation ID`` attribute.\n",
    "``Candidate_AnnexXV`` is the ID of the ``EU REACH - The Candidate List`` legislation."
   ]
  },
  {
   "cell_type": "code",
   "execution_count": 6,
   "id": "fd3c2d4b",
   "metadata": {
    "execution": {
     "iopub.execute_input": "2025-10-28T10:01:01.074673Z",
     "iopub.status.busy": "2025-10-28T10:01:01.074269Z",
     "iopub.status.idle": "2025-10-28T10:01:01.077859Z",
     "shell.execute_reply": "2025-10-28T10:01:01.077445Z"
    },
    "tags": []
   },
   "outputs": [
    {
     "data": {
      "text/plain": [
       "<MaterialImpactedSubstancesQuery: 1 materials, batch size = 100, 1 legislations>"
      ]
     },
     "execution_count": 6,
     "metadata": {},
     "output_type": "execute_result"
    }
   ],
   "source": [
    "query = query.with_legislation_ids([\"Candidate_AnnexXV\"])\n",
    "query"
   ]
  },
  {
   "cell_type": "markdown",
   "id": "17235f95",
   "metadata": {},
   "source": [
    "Fluent interfaces are designed to allow a complex object to be constructed in a single line of code. As such, you can\n",
    "consolidate the cells above into a single step:"
   ]
  },
  {
   "cell_type": "code",
   "execution_count": 7,
   "id": "3fd997b9",
   "metadata": {
    "execution": {
     "iopub.execute_input": "2025-10-28T10:01:01.079630Z",
     "iopub.status.busy": "2025-10-28T10:01:01.079195Z",
     "iopub.status.idle": "2025-10-28T10:01:01.083147Z",
     "shell.execute_reply": "2025-10-28T10:01:01.082592Z"
    },
    "tags": []
   },
   "outputs": [
    {
     "data": {
      "text/plain": [
       "<MaterialImpactedSubstancesQuery: 1 materials, batch size = 100, 1 legislations>"
      ]
     },
     "execution_count": 7,
     "metadata": {},
     "output_type": "execute_result"
    }
   ],
   "source": [
    "query = queries.MaterialImpactedSubstancesQuery().with_material_ids([\"plastic-abs-high-impact\"]).with_legislation_ids([\"Candidate_AnnexXV\"])  # noqa: E501\n",
    "query"
   ]
  },
  {
   "cell_type": "markdown",
   "id": "cabc21b1",
   "metadata": {},
   "source": [
    "Because the fluent interface can produce very long lines of code, it's necessary to break your query creation code\n",
    "into multiple lines. The following multi-line format is used throughout the examples. It is functionally equivalent to\n",
    "the preceding cell:"
   ]
  },
  {
   "cell_type": "code",
   "execution_count": 8,
   "id": "999314ff",
   "metadata": {
    "execution": {
     "iopub.execute_input": "2025-10-28T10:01:01.084847Z",
     "iopub.status.busy": "2025-10-28T10:01:01.084427Z",
     "iopub.status.idle": "2025-10-28T10:01:01.088167Z",
     "shell.execute_reply": "2025-10-28T10:01:01.087730Z"
    },
    "tags": []
   },
   "outputs": [
    {
     "data": {
      "text/plain": [
       "<MaterialImpactedSubstancesQuery: 1 materials, batch size = 100, 1 legislations>"
      ]
     },
     "execution_count": 8,
     "metadata": {},
     "output_type": "execute_result"
    }
   ],
   "source": [
    "query = (\n",
    "    queries.MaterialImpactedSubstancesQuery()\n",
    "    .with_material_ids([\"plastic-abs-high-impact\"])\n",
    "    .with_legislation_ids([\"Candidate_AnnexXV\"])\n",
    ")\n",
    "query"
   ]
  },
  {
   "cell_type": "markdown",
   "id": "41260553",
   "metadata": {},
   "source": [
    "The multi-line format is the recommended way of creating queries using this API."
   ]
  },
  {
   "cell_type": "markdown",
   "id": "5a994e26",
   "metadata": {},
   "source": [
    "## Run a query"
   ]
  },
  {
   "cell_type": "markdown",
   "id": "ddf2261e",
   "metadata": {},
   "source": [
    "Now that you have your ``cxn`` and ``query`` objects, you can use the ``cxn.run()`` method to run the query. This\n",
    "returns an object that contains the results of the query."
   ]
  },
  {
   "cell_type": "code",
   "execution_count": 9,
   "id": "11fb3dd0",
   "metadata": {
    "execution": {
     "iopub.execute_input": "2025-10-28T10:01:01.089805Z",
     "iopub.status.busy": "2025-10-28T10:01:01.089546Z",
     "iopub.status.idle": "2025-10-28T10:01:01.459660Z",
     "shell.execute_reply": "2025-10-28T10:01:01.459221Z"
    },
    "tags": []
   },
   "outputs": [
    {
     "data": {
      "text/plain": [
       "<MaterialImpactedSubstancesQueryResult: 1 MaterialWithImpactedSubstances results>"
      ]
     },
     "execution_count": 9,
     "metadata": {},
     "output_type": "execute_result"
    }
   ],
   "source": [
    "result = cxn.run(query)\n",
    "result"
   ]
  },
  {
   "cell_type": "markdown",
   "id": "f2b76561",
   "metadata": {},
   "source": [
    "## View query results"
   ]
  },
  {
   "cell_type": "markdown",
   "id": "da5c4768",
   "metadata": {},
   "source": [
    "In the case of ``MaterialImpactedSubstancesQuery``, the results object contains the list of substances present in\n",
    "the material that are impacted by the specified legislations. Display the five first substances in the list."
   ]
  },
  {
   "cell_type": "code",
   "execution_count": 10,
   "id": "06bfcbc0",
   "metadata": {
    "execution": {
     "iopub.execute_input": "2025-10-28T10:01:01.461347Z",
     "iopub.status.busy": "2025-10-28T10:01:01.461064Z",
     "iopub.status.idle": "2025-10-28T10:01:01.464837Z",
     "shell.execute_reply": "2025-10-28T10:01:01.464405Z"
    },
    "tags": []
   },
   "outputs": [
    {
     "data": {
      "text/plain": [
       "[<ImpactedSubstance: {\"cas_number\": \"15087-24-8\", \"percent_amount\": 2.0}>,\n",
       " <ImpactedSubstance: {\"cas_number\": \"25973-55-1\", \"percent_amount\": 2.0}>,\n",
       " <ImpactedSubstance: {\"cas_number\": \"36437-37-3\", \"percent_amount\": 2.0}>,\n",
       " <ImpactedSubstance: {\"cas_number\": \"36861-47-9\", \"percent_amount\": 2.0}>,\n",
       " <ImpactedSubstance: {\"cas_number\": \"3846-71-7\", \"percent_amount\": 2.0}>]"
      ]
     },
     "execution_count": 10,
     "metadata": {},
     "output_type": "execute_result"
    }
   ],
   "source": [
    "result.impacted_substances[:5]"
   ]
  },
  {
   "cell_type": "markdown",
   "id": "51f774e4",
   "metadata": {},
   "source": [
    "## View logged messages"
   ]
  },
  {
   "cell_type": "markdown",
   "id": "33940d4a",
   "metadata": {},
   "source": [
    "All query results also contain a list of messages returned by the server while running the query. These are\n",
    "sorted in order of decreasing severity. The same messages are also available in the MI Service Layer log file."
   ]
  },
  {
   "cell_type": "code",
   "execution_count": 11,
   "id": "48307947",
   "metadata": {
    "execution": {
     "iopub.execute_input": "2025-10-28T10:01:01.466329Z",
     "iopub.status.busy": "2025-10-28T10:01:01.466172Z",
     "iopub.status.idle": "2025-10-28T10:01:01.469619Z",
     "shell.execute_reply": "2025-10-28T10:01:01.469047Z"
    },
    "tags": []
   },
   "outputs": [
    {
     "data": {
      "text/plain": [
       "[]"
      ]
     },
     "execution_count": 11,
     "metadata": {},
     "output_type": "execute_result"
    }
   ],
   "source": [
    "result.messages"
   ]
  },
  {
   "cell_type": "markdown",
   "id": "03ce9b4d",
   "metadata": {},
   "source": [
    "Additionally, these messages are available via the standard ``logging`` module using the\n",
    "``ansys.grantami.bomanalytics`` logger. Alternatively, you can omit the logger name to get the root logger, which\n",
    "includes messages logged by all packages.\n",
    "\n",
    "The following code creates a log handler that outputs all ``ansys.grantami.bomanalytics`` logger messages\n",
    "with severity INFO and above to either the terminal or the notebook."
   ]
  },
  {
   "cell_type": "code",
   "execution_count": 12,
   "id": "0febbe48",
   "metadata": {
    "execution": {
     "iopub.execute_input": "2025-10-28T10:01:01.471204Z",
     "iopub.status.busy": "2025-10-28T10:01:01.470929Z",
     "iopub.status.idle": "2025-10-28T10:01:01.777553Z",
     "shell.execute_reply": "2025-10-28T10:01:01.776940Z"
    },
    "tags": []
   },
   "outputs": [
    {
     "name": "stderr",
     "output_type": "stream",
     "text": [
      "INFO:ansys.grantami.bomanalytics:Running query <MaterialImpactedSubstancesQuery: 1 materials, batch size = 100, 1 legislations> with connection <BomAnalyticsClient: url=\"http://my_grantami_server/mi_servicelayer\", maximum_spec_link_depth=\"unlimited\", dbkey=\"MI_Restricted_Substances\">\n"
     ]
    },
    {
     "name": "stderr",
     "output_type": "stream",
     "text": [
      "INFO:ansys.grantami.bomanalytics:No specification-to-specification link depth limit is specified. All links will be followed.\n"
     ]
    },
    {
     "name": "stderr",
     "output_type": "stream",
     "text": [
      "INFO:ansys.grantami.bomanalytics:Using default table config\n"
     ]
    },
    {
     "name": "stderr",
     "output_type": "stream",
     "text": [
      "INFO:ansys.grantami.bomanalytics:Using default database key (MI_Restricted_Substances)\n"
     ]
    }
   ],
   "source": [
    "import logging\n",
    "\n",
    "logging.basicConfig(level=logging.INFO)\n",
    "logger = logging.getLogger(\"ansys.grantami.bomanalytics\")\n",
    "\n",
    "result = cxn.run(query)"
   ]
  }
 ],
 "metadata": {
  "jupytext": {
   "formats": "ipynb,py:light"
  },
  "kernelspec": {
   "display_name": "Python 3 (ipykernel)",
   "language": "python",
   "name": "python3"
  },
  "language_info": {
   "codemirror_mode": {
    "name": "ipython",
    "version": 3
   },
   "file_extension": ".py",
   "mimetype": "text/x-python",
   "name": "python",
   "nbconvert_exporter": "python",
   "pygments_lexer": "ipython3",
   "version": "3.11.13"
  }
 },
 "nbformat": 4,
 "nbformat_minor": 5
}
