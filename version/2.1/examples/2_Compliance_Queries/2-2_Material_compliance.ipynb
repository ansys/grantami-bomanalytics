{
 "cells": [
  {
   "cell_type": "markdown",
   "id": "2c66e40b",
   "metadata": {},
   "source": [
    "# Performing a Material Compliance Query"
   ]
  },
  {
   "cell_type": "markdown",
   "id": "f1816ec7",
   "metadata": {},
   "source": [
    "A Material Compliance Query determines whether one or more materials are compliant with the specified indicators. This\n",
    "is done by first determining compliance for the substances associated with the material, and then rolling up the\n",
    "results to the material."
   ]
  },
  {
   "cell_type": "markdown",
   "id": "68f595b9",
   "metadata": {},
   "source": [
    "## Connecting to Granta MI"
   ]
  },
  {
   "cell_type": "markdown",
   "id": "5b12cd4a",
   "metadata": {},
   "source": [
    "Import the ``Connection`` class and create the connection. See the [Getting Started](../0_Getting_started.ipynb)\n",
    "example for more details."
   ]
  },
  {
   "cell_type": "code",
   "execution_count": 1,
   "id": "63d53b0e",
   "metadata": {
    "execution": {
     "iopub.execute_input": "2024-06-10T15:26:51.030031Z",
     "iopub.status.busy": "2024-06-10T15:26:51.029566Z",
     "iopub.status.idle": "2024-06-10T15:26:51.301151Z",
     "shell.execute_reply": "2024-06-10T15:26:51.300610Z"
    },
    "tags": []
   },
   "outputs": [],
   "source": [
    "from ansys.grantami.bomanalytics import Connection\n",
    "\n",
    "server_url = \"http://my_grantami_server/mi_servicelayer\"\n",
    "cxn = Connection(server_url).with_credentials(\"user_name\", \"password\").connect()"
   ]
  },
  {
   "cell_type": "markdown",
   "id": "ca96d187",
   "metadata": {},
   "source": [
    "## Defining an Indicator"
   ]
  },
  {
   "cell_type": "markdown",
   "id": "a3c054d3",
   "metadata": {},
   "source": [
    "A Compliance query determines compliance against 'Indicators', as opposed to an Impacted Substances query which\n",
    "determines compliance directly against legislations.\n",
    "\n",
    "There are two types of Indicator object (``WatchListIndicator`` and ``RohsIndicator``), and the syntax presented below\n",
    "applies to both. The differences in the internal implementation of the two objects are described in the API\n",
    "documentation.\n",
    "\n",
    "Generally speaking, if a substance is impacted by a legislation associated with an indicator, and in a quantity\n",
    "above a specified threshold, the substance is non-compliant with that indicator. This non-compliance applies to\n",
    "any other items in the BoM hierarchy that directly or indirectly include that substance."
   ]
  },
  {
   "cell_type": "markdown",
   "id": "b7630830",
   "metadata": {},
   "source": [
    "First, create two ``WatchListIndicator`` objects."
   ]
  },
  {
   "cell_type": "code",
   "execution_count": 2,
   "id": "8f6e5d43",
   "metadata": {
    "execution": {
     "iopub.execute_input": "2024-06-10T15:26:51.303861Z",
     "iopub.status.busy": "2024-06-10T15:26:51.303495Z",
     "iopub.status.idle": "2024-06-10T15:26:51.307893Z",
     "shell.execute_reply": "2024-06-10T15:26:51.307285Z"
    },
    "tags": []
   },
   "outputs": [],
   "source": [
    "from ansys.grantami.bomanalytics import indicators\n",
    "\n",
    "svhc = indicators.WatchListIndicator(\n",
    "    name=\"SVHC\",\n",
    "    legislation_ids=[\"Candidate_AnnexXV\"],\n",
    "    default_threshold_percentage=0.1,\n",
    ")\n",
    "sin = indicators.WatchListIndicator(\n",
    "    name=\"SIN\",\n",
    "    legislation_ids=[\"SINList\"]\n",
    ")"
   ]
  },
  {
   "cell_type": "markdown",
   "id": "b6a7b55f",
   "metadata": {
    "tags": []
   },
   "source": [
    "## Building and Running the Query"
   ]
  },
  {
   "cell_type": "markdown",
   "id": "fa0b84f1",
   "metadata": {},
   "source": [
    "Next define the query itself. Materials can be referenced by Granta MI record reference or Material ID.\n",
    "The table containing the Material records is not required, since this is enforced by the Restricted Substances\n",
    "database schema."
   ]
  },
  {
   "cell_type": "code",
   "execution_count": 3,
   "id": "74e59291",
   "metadata": {
    "execution": {
     "iopub.execute_input": "2024-06-10T15:26:51.310387Z",
     "iopub.status.busy": "2024-06-10T15:26:51.310020Z",
     "iopub.status.idle": "2024-06-10T15:26:51.316319Z",
     "shell.execute_reply": "2024-06-10T15:26:51.315880Z"
    },
    "tags": []
   },
   "outputs": [],
   "source": [
    "from ansys.grantami.bomanalytics import queries\n",
    "\n",
    "mat_query = queries.MaterialComplianceQuery().with_indicators([svhc, sin])\n",
    "mat_query = mat_query.with_material_ids([\"plastic-pa66-60glassfiber\",\n",
    "                                         \"zinc-pb-cdlow-alloy-z21220-rolled\",\n",
    "                                         \"stainless-316h\"])"
   ]
  },
  {
   "cell_type": "markdown",
   "id": "ead3a481",
   "metadata": {},
   "source": [
    "Finally, run the query. Passing a ``MaterialComplianceQuery`` object to the ``Connection.run()`` method returns a\n",
    "``MaterialComplianceQueryResult`` object."
   ]
  },
  {
   "cell_type": "code",
   "execution_count": 4,
   "id": "e1a31d3b",
   "metadata": {
    "execution": {
     "iopub.execute_input": "2024-06-10T15:26:51.318571Z",
     "iopub.status.busy": "2024-06-10T15:26:51.318178Z",
     "iopub.status.idle": "2024-06-10T15:26:52.053459Z",
     "shell.execute_reply": "2024-06-10T15:26:52.052810Z"
    },
    "tags": []
   },
   "outputs": [
    {
     "data": {
      "text/plain": [
       "<MaterialComplianceQueryResult: 3 MaterialWithCompliance results>"
      ]
     },
     "execution_count": 4,
     "metadata": {},
     "output_type": "execute_result"
    }
   ],
   "source": [
    "mat_result = cxn.run(mat_query)\n",
    "mat_result"
   ]
  },
  {
   "cell_type": "markdown",
   "id": "1957cffb",
   "metadata": {
    "tags": []
   },
   "source": [
    "The result object contains two properties: ``compliance_by_material_and_indicator`` and ``compliance_by_indicator``."
   ]
  },
  {
   "cell_type": "markdown",
   "id": "e2baa8c4",
   "metadata": {},
   "source": [
    "## Results Grouped by Material"
   ]
  },
  {
   "cell_type": "markdown",
   "id": "c2bc2a6e",
   "metadata": {
    "tags": []
   },
   "source": [
    "The ``compliance_by_material_and_indicator`` property contains a list of ``MaterialWithComplianceResult`` objects with\n",
    "the reference to the material record and the compliance status for each indicator. The\n",
    "``SubstanceWithComplianceResult`` objects are also included because compliance was determined based on the substances\n",
    "associated with the material object. These are also accompanied by their compliance status for each indicator."
   ]
  },
  {
   "cell_type": "markdown",
   "id": "1a4891d5",
   "metadata": {},
   "source": [
    "Initially, we can print just the results for the reinforced PA66 record."
   ]
  },
  {
   "cell_type": "code",
   "execution_count": 5,
   "id": "5a1963c1",
   "metadata": {
    "execution": {
     "iopub.execute_input": "2024-06-10T15:26:52.056133Z",
     "iopub.status.busy": "2024-06-10T15:26:52.055777Z",
     "iopub.status.idle": "2024-06-10T15:26:52.059377Z",
     "shell.execute_reply": "2024-06-10T15:26:52.058750Z"
    },
    "lines_to_end_of_cell_marker": 0,
    "lines_to_next_cell": 1,
    "tags": []
   },
   "outputs": [
    {
     "name": "stdout",
     "output_type": "stream",
     "text": [
      "PA66 (60% glass fiber): WatchListHasSubstanceAboveThreshold\n"
     ]
    }
   ],
   "source": [
    "pa_66 = mat_result.compliance_by_material_and_indicator[0]\n",
    "print(f\"PA66 (60% glass fiber): {pa_66.indicators['SVHC'].flag.name}\")"
   ]
  },
  {
   "cell_type": "markdown",
   "id": "8904f465",
   "metadata": {},
   "source": [
    "The reinforced PA66 record has a status of 'WatchListHasSubstanceAboveThreshold', which tells us the material is not\n",
    "compliant with the indicator, and therefore contains SVHCs above the 0.1% threshold."
   ]
  },
  {
   "cell_type": "markdown",
   "id": "6dbbc3aa",
   "metadata": {},
   "source": [
    "To understand which substances have caused this status, we can print the substances that are not compliant with the\n",
    "legislation and the percentage amount of that substance in the parent material. The possible states of the indicator\n",
    "are available on the ``Indicator.available_flags`` attribute and can be compared using standard Python operators.\n",
    "\n",
    "For substances, the critical threshold is the state 'WatchListAboveThreshold'."
   ]
  },
  {
   "cell_type": "code",
   "execution_count": 6,
   "id": "b2cf9ead",
   "metadata": {
    "execution": {
     "iopub.execute_input": "2024-06-10T15:26:52.061754Z",
     "iopub.status.busy": "2024-06-10T15:26:52.061424Z",
     "iopub.status.idle": "2024-06-10T15:26:52.066231Z",
     "shell.execute_reply": "2024-06-10T15:26:52.065614Z"
    },
    "tags": []
   },
   "outputs": [
    {
     "name": "stdout",
     "output_type": "stream",
     "text": [
      "16 SVHCs\n",
      "Substance record history identity: 75821, Unknown concentration\n",
      "Substance record history identity: 74483, 0.3%\n",
      "Substance record history identity: 75073, 0.3%\n",
      "Substance record history identity: 75822, Unknown concentration\n",
      "Substance record history identity: 119243, 0.8%\n",
      "Substance record history identity: 74441, 0.3%\n",
      "Substance record history identity: 161216, 0.8%\n",
      "Substance record history identity: 270848, 0.3%\n",
      "Substance record history identity: 161215, 0.8%\n",
      "Substance record history identity: 119242, 0.8%\n",
      "Substance record history identity: 76444, 0.8%\n",
      "Substance record history identity: 76445, 0.8%\n",
      "Substance record history identity: 74449, 0.3%\n",
      "Substance record history identity: 77133, 0.3%\n",
      "Substance record history identity: 76672, Unknown concentration\n",
      "Substance record history identity: 75282, Unknown concentration\n"
     ]
    }
   ],
   "source": [
    "def convert_substance_to_string(substance):\n",
    "    result = f\"Substance record history identity: {substance.record_history_identity}\"\n",
    "    if substance.percentage_amount is None:\n",
    "        return f\"{result}, Unknown concentration\"\n",
    "    else:\n",
    "        return f\"{result}, {substance.percentage_amount}%\"\n",
    "\n",
    "\n",
    "above_threshold_flag = svhc.available_flags.WatchListAboveThreshold\n",
    "pa_66_svhcs = [sub for sub in pa_66.substances\n",
    "               if sub.indicators[\"SVHC\"] >= above_threshold_flag\n",
    "               ]\n",
    "print(f\"{len(pa_66_svhcs)} SVHCs\")\n",
    "for substance in pa_66_svhcs:\n",
    "    print(convert_substance_to_string(substance))"
   ]
  },
  {
   "cell_type": "markdown",
   "id": "e9d2e873",
   "metadata": {},
   "source": [
    "Substances with an unknown amount are always treated as if they have a 100% concentration. Note that children of items\n",
    "passed into the compliance query are returned with record references based on record history identities only. The\n",
    "Granta MI Scripting Toolkit for Python can be used to translate record history identities into CAS Numbers if\n",
    "required."
   ]
  },
  {
   "cell_type": "markdown",
   "id": "0226c4be",
   "metadata": {},
   "source": [
    "Next, look at the state of the zinc alloy record."
   ]
  },
  {
   "cell_type": "code",
   "execution_count": 7,
   "id": "9923635c",
   "metadata": {
    "execution": {
     "iopub.execute_input": "2024-06-10T15:26:52.068776Z",
     "iopub.status.busy": "2024-06-10T15:26:52.068400Z",
     "iopub.status.idle": "2024-06-10T15:26:52.072108Z",
     "shell.execute_reply": "2024-06-10T15:26:52.071465Z"
    },
    "tags": []
   },
   "outputs": [
    {
     "name": "stdout",
     "output_type": "stream",
     "text": [
      "Zn-Pb-Cd low alloy: WatchListAllSubstancesBelowThreshold\n"
     ]
    }
   ],
   "source": [
    "zn_pb_cd = mat_result.compliance_by_material_and_indicator[1]\n",
    "print(f\"Zn-Pb-Cd low alloy: {zn_pb_cd.indicators['SVHC'].flag.name}\")"
   ]
  },
  {
   "cell_type": "markdown",
   "id": "d7d3a81a",
   "metadata": {},
   "source": [
    "The zinc alloy record has the status 'WatchListAllSubstancesBelowThreshold', which means there are substances present\n",
    "that are impacted by the legislation, but are below the 0.1% threshold."
   ]
  },
  {
   "cell_type": "markdown",
   "id": "5613e4b8",
   "metadata": {},
   "source": [
    "We can print these substances using the 'WatchListBelowThreshold' flag as the threshold."
   ]
  },
  {
   "cell_type": "code",
   "execution_count": 8,
   "id": "a56490a4",
   "metadata": {
    "execution": {
     "iopub.execute_input": "2024-06-10T15:26:52.074679Z",
     "iopub.status.busy": "2024-06-10T15:26:52.074289Z",
     "iopub.status.idle": "2024-06-10T15:26:52.078369Z",
     "shell.execute_reply": "2024-06-10T15:26:52.077718Z"
    },
    "tags": []
   },
   "outputs": [
    {
     "name": "stdout",
     "output_type": "stream",
     "text": [
      "2 SVHCs below threshold\n",
      "Substance record history identity: 72969, 0.1%\n",
      "Substance record history identity: 74252, 0.1%\n"
     ]
    }
   ],
   "source": [
    "below_threshold_flag = svhc.available_flags.WatchListBelowThreshold\n",
    "zn_svhcs_below_threshold = [sub for sub in zn_pb_cd.substances\n",
    "                            if sub.indicators[\"SVHC\"].flag == below_threshold_flag]\n",
    "print(f\"{len(zn_svhcs_below_threshold)} SVHCs below threshold\")\n",
    "for substance in zn_svhcs_below_threshold:\n",
    "    print(convert_substance_to_string(substance))"
   ]
  },
  {
   "cell_type": "markdown",
   "id": "8d221f63",
   "metadata": {},
   "source": [
    "Finally, look at the stainless steel record."
   ]
  },
  {
   "cell_type": "code",
   "execution_count": 9,
   "id": "7ed9d60d",
   "metadata": {
    "execution": {
     "iopub.execute_input": "2024-06-10T15:26:52.080925Z",
     "iopub.status.busy": "2024-06-10T15:26:52.080573Z",
     "iopub.status.idle": "2024-06-10T15:26:52.084041Z",
     "shell.execute_reply": "2024-06-10T15:26:52.083426Z"
    },
    "tags": []
   },
   "outputs": [
    {
     "name": "stdout",
     "output_type": "stream",
     "text": [
      "316H stainless steel: WatchListCompliant\n"
     ]
    }
   ],
   "source": [
    "ss_316h = mat_result.compliance_by_material_and_indicator[2]\n",
    "print(f\"316H stainless steel: {ss_316h.indicators['SVHC'].flag.name}\")"
   ]
  },
  {
   "cell_type": "markdown",
   "id": "20b6af88",
   "metadata": {},
   "source": [
    "The stainless steel record has the status 'WatchListCompliant', which means there are no impacted substances in the\n",
    "material."
   ]
  },
  {
   "cell_type": "markdown",
   "id": "e134ddad",
   "metadata": {},
   "source": [
    "We can print these substances using the 'WatchListNotImpacted' flag as the threshold."
   ]
  },
  {
   "cell_type": "code",
   "execution_count": 10,
   "id": "0b87b77e",
   "metadata": {
    "execution": {
     "iopub.execute_input": "2024-06-10T15:26:52.086486Z",
     "iopub.status.busy": "2024-06-10T15:26:52.086117Z",
     "iopub.status.idle": "2024-06-10T15:26:52.090265Z",
     "shell.execute_reply": "2024-06-10T15:26:52.089638Z"
    },
    "tags": []
   },
   "outputs": [
    {
     "name": "stdout",
     "output_type": "stream",
     "text": [
      "10 non-SVHC substances\n",
      "Substance record history identity: 75489, Unknown concentration\n",
      "Substance record history identity: 73449, Unknown concentration\n",
      "Substance record history identity: 75307, Unknown concentration\n",
      "Substance record history identity: 75352, Unknown concentration\n",
      "Substance record history identity: 75516, Unknown concentration\n",
      "Substance record history identity: 77816, Unknown concentration\n",
      "Substance record history identity: 75373, Unknown concentration\n",
      "Substance record history identity: 75306, Unknown concentration\n",
      "Substance record history identity: 77307, Unknown concentration\n",
      "Substance record history identity: 74250, Unknown concentration\n"
     ]
    }
   ],
   "source": [
    "not_impacted_flag = svhc.available_flags.WatchListNotImpacted\n",
    "ss_not_impacted = [\n",
    "    sub\n",
    "    for sub in ss_316h.substances\n",
    "    if sub.indicators[\"SVHC\"].flag == not_impacted_flag\n",
    "]\n",
    "print(f\"{len(ss_not_impacted)} non-SVHC substances\")\n",
    "for substance in ss_not_impacted:\n",
    "    print(convert_substance_to_string(substance))"
   ]
  },
  {
   "cell_type": "markdown",
   "id": "b73dfde5",
   "metadata": {},
   "source": [
    "## Results Grouped by Indicator"
   ]
  },
  {
   "cell_type": "markdown",
   "id": "f1a8a5f7",
   "metadata": {},
   "source": [
    "Alternatively, using the ``compliance_by_indicator`` property provides a single indicator result that summarizes the\n",
    "results across all materials in the query. This would be useful in a situation where we have a 'concept' assembly\n",
    "stored outside of Granta MI, and want to determine its compliance. We know it contains the materials specified in\n",
    "the query above, and so using ``compliance_by_indicator`` will tell us if that concept assembly is compliant based on\n",
    "the worst result from individual materials."
   ]
  },
  {
   "cell_type": "code",
   "execution_count": 11,
   "id": "961f9064",
   "metadata": {
    "execution": {
     "iopub.execute_input": "2024-06-10T15:26:52.092699Z",
     "iopub.status.busy": "2024-06-10T15:26:52.092348Z",
     "iopub.status.idle": "2024-06-10T15:26:52.095840Z",
     "shell.execute_reply": "2024-06-10T15:26:52.095185Z"
    },
    "tags": []
   },
   "outputs": [
    {
     "name": "stdout",
     "output_type": "stream",
     "text": [
      "One or more materials contains an SVHC in a quantity > 0.1%\n"
     ]
    }
   ],
   "source": [
    "if mat_result.compliance_by_indicator[\"SVHC\"] >= above_threshold_flag:\n",
    "    print(\"One or more materials contains an SVHC in a quantity > 0.1%\")\n",
    "else:\n",
    "    print(\"No SVHCs, or SVHCs are present in a quantity < 0.1%\")"
   ]
  },
  {
   "cell_type": "markdown",
   "id": "08d09909",
   "metadata": {},
   "source": [
    "Note that this cannot tell us which material is responsible for the non-compliance. This would require performing a\n",
    "more granular analysis as shown above, or importing the assembly into Granta MI and running the compliance on that\n",
    "part record."
   ]
  }
 ],
 "metadata": {
  "jupytext": {
   "formats": "ipynb,py:light"
  },
  "kernelspec": {
   "display_name": "Python 3 (ipykernel)",
   "language": "python",
   "name": "python3"
  },
  "language_info": {
   "codemirror_mode": {
    "name": "ipython",
    "version": 3
   },
   "file_extension": ".py",
   "mimetype": "text/x-python",
   "name": "python",
   "nbconvert_exporter": "python",
   "pygments_lexer": "ipython3",
   "version": "3.9.19"
  }
 },
 "nbformat": 4,
 "nbformat_minor": 5
}
