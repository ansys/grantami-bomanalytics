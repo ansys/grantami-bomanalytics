{
 "cells": [
  {
   "cell_type": "markdown",
   "id": "d9431734",
   "metadata": {},
   "source": [
    "# Basic usage example"
   ]
  },
  {
   "cell_type": "markdown",
   "id": "cc386052",
   "metadata": {},
   "source": [
    "This example shows how to connect to Granta MI and perform a basic query for impacted substances. It also\n",
    "demonstrates how to view logging messages returned by the Granta MI server. For more information about the\n",
    " results of the queries, see the examples in [Impacted Substances](1_Impacted_Substances_Queries/index.rst) and\n",
    "[Compliance](2_Compliance_Queries/index.rst)."
   ]
  },
  {
   "cell_type": "markdown",
   "id": "7196bc26",
   "metadata": {},
   "source": [
    "## Connect to Granta MI"
   ]
  },
  {
   "cell_type": "markdown",
   "id": "e8aea462",
   "metadata": {},
   "source": [
    "First, use the ``ansys.grantami.bomanalytics.Connection`` class to connect to the Granta MI server. The ``Connection``\n",
    "class uses a fluent interface to build the connection, which is always invoked in the following sequence:\n",
    "\n",
    "1. Specify your Granta MI Service Layer URL as a parameter to the ``Connection`` class.\n",
    "2. Specify the authentication method using a ``Connection.with_...()`` method.\n",
    "3. Use the ``Connection.connect()`` method to finalize the connection.\n",
    "\n",
    "This returns a connection object, which is called ``cxn`` in these examples."
   ]
  },
  {
   "cell_type": "code",
   "execution_count": 1,
   "id": "819b5ae3",
   "metadata": {
    "execution": {
     "iopub.execute_input": "2023-03-17T09:34:00.994337Z",
     "iopub.status.busy": "2023-03-17T09:34:00.993888Z",
     "iopub.status.idle": "2023-03-17T09:34:01.002182Z",
     "shell.execute_reply": "2023-03-17T09:34:01.001657Z"
    },
    "tags": []
   },
   "outputs": [],
   "source": [
    "from ansys.grantami.bomanalytics import Connection\n",
    "\n",
    "server_url = \"http://my_grantami_server/mi_servicelayer\""
   ]
  },
  {
   "cell_type": "markdown",
   "id": "d9fe351b",
   "metadata": {},
   "source": [
    "If you are running your Python script on Windows, you are generally able to use ``.with_autologon()``."
   ]
  },
  {
   "cell_type": "code",
   "execution_count": 2,
   "id": "f6f2eaa8",
   "metadata": {
    "execution": {
     "iopub.execute_input": "2023-03-17T09:34:01.005052Z",
     "iopub.status.busy": "2023-03-17T09:34:01.004849Z",
     "iopub.status.idle": "2023-03-17T09:34:02.834382Z",
     "shell.execute_reply": "2023-03-17T09:34:02.833757Z"
    },
    "tags": []
   },
   "outputs": [
    {
     "data": {
      "text/plain": [
       "<BomServicesClient: url=\"http://my_grantami_server/mi_servicelayer\", dbkey=\"MI_Restricted_Substances\">"
      ]
     },
     "execution_count": 2,
     "metadata": {},
     "output_type": "execute_result"
    }
   ],
   "source": [
    "cxn = Connection(server_url).with_autologon().connect()\n",
    "cxn"
   ]
  },
  {
   "cell_type": "markdown",
   "id": "3482cb1a",
   "metadata": {},
   "source": [
    "If the Python script is running on Linux without Kerberos enabled, or you want to use an account other than your\n",
    "logged-in account, you can specify credentials explicitly."
   ]
  },
  {
   "cell_type": "code",
   "execution_count": 3,
   "id": "27ce872a",
   "metadata": {
    "execution": {
     "iopub.execute_input": "2023-03-17T09:34:02.837586Z",
     "iopub.status.busy": "2023-03-17T09:34:02.837369Z",
     "iopub.status.idle": "2023-03-17T09:34:04.482885Z",
     "shell.execute_reply": "2023-03-17T09:34:04.482253Z"
    },
    "tags": []
   },
   "outputs": [
    {
     "data": {
      "text/plain": [
       "<BomServicesClient: url=\"http://my_grantami_server/mi_servicelayer\", dbkey=\"MI_Restricted_Substances\">"
      ]
     },
     "execution_count": 3,
     "metadata": {},
     "output_type": "execute_result"
    }
   ],
   "source": [
    "cxn = Connection(server_url).with_credentials(\"my_username\", \"my_password\").connect()\n",
    "cxn"
   ]
  },
  {
   "cell_type": "markdown",
   "id": "4198fe93",
   "metadata": {},
   "source": [
    "OIDC and anonymous authentication methods are also available, but they are beyond the scope of this example.\n",
    "For more information, see the [ansys-openapi-common](https://github.com/pyansys/openapi-common) package\n",
    "documentation."
   ]
  },
  {
   "cell_type": "markdown",
   "id": "afb080eb",
   "metadata": {},
   "source": [
    "## Construct a query"
   ]
  },
  {
   "cell_type": "markdown",
   "id": "a80ba2a6",
   "metadata": {},
   "source": [
    "Queries are also constructed using a fluent interface. However, the ``Query`` constructor takes no arguments. All\n",
    "query details are specified using ``Query`` methods. To demonstrate this, this example builds a query to\n",
    "determine all substances present in an ABS material that are impacted by the REACH Candidate List legislation."
   ]
  },
  {
   "cell_type": "markdown",
   "id": "83a89e41",
   "metadata": {},
   "source": [
    "First import the ``queries`` module and create a ``MaterialImpactedSubstancesQuery`` object."
   ]
  },
  {
   "cell_type": "code",
   "execution_count": 4,
   "id": "ba8ff766",
   "metadata": {
    "execution": {
     "iopub.execute_input": "2023-03-17T09:34:04.486898Z",
     "iopub.status.busy": "2023-03-17T09:34:04.486535Z",
     "iopub.status.idle": "2023-03-17T09:34:04.493259Z",
     "shell.execute_reply": "2023-03-17T09:34:04.492722Z"
    },
    "tags": []
   },
   "outputs": [
    {
     "data": {
      "text/plain": [
       "<MaterialImpactedSubstancesQuery: 0 materials, batch size = 100, 0 legislations>"
      ]
     },
     "execution_count": 4,
     "metadata": {},
     "output_type": "execute_result"
    }
   ],
   "source": [
    "from ansys.grantami.bomanalytics import queries\n",
    "\n",
    "query = queries.MaterialImpactedSubstancesQuery()\n",
    "query"
   ]
  },
  {
   "cell_type": "markdown",
   "id": "624e81c3",
   "metadata": {},
   "source": [
    "Now add the material that you want to query by specifying its naterial ID. (Alternate methods of specifying records\n",
    "are shown in other examples.)"
   ]
  },
  {
   "cell_type": "code",
   "execution_count": 5,
   "id": "6373f5be",
   "metadata": {
    "execution": {
     "iopub.execute_input": "2023-03-17T09:34:04.496234Z",
     "iopub.status.busy": "2023-03-17T09:34:04.496025Z",
     "iopub.status.idle": "2023-03-17T09:34:04.501209Z",
     "shell.execute_reply": "2023-03-17T09:34:04.500639Z"
    },
    "tags": []
   },
   "outputs": [
    {
     "data": {
      "text/plain": [
       "<MaterialImpactedSubstancesQuery: 1 materials, batch size = 100, 0 legislations>"
      ]
     },
     "execution_count": 5,
     "metadata": {},
     "output_type": "execute_result"
    }
   ],
   "source": [
    "query = query.with_material_ids([\"plastic-abs-high-impact\"])\n",
    "query"
   ]
  },
  {
   "cell_type": "markdown",
   "id": "1d794b7b",
   "metadata": {},
   "source": [
    "Note that because the ``MaterialImpactedSubstancesQuery`` object has a fluent interface, you receive the same object\n",
    "back that you started with, but with the material IDs added.\n",
    "\n",
    "Finally, add the legislation to the query."
   ]
  },
  {
   "cell_type": "code",
   "execution_count": 6,
   "id": "de7cdb48",
   "metadata": {
    "execution": {
     "iopub.execute_input": "2023-03-17T09:34:04.503974Z",
     "iopub.status.busy": "2023-03-17T09:34:04.503772Z",
     "iopub.status.idle": "2023-03-17T09:34:04.507783Z",
     "shell.execute_reply": "2023-03-17T09:34:04.507209Z"
    },
    "tags": []
   },
   "outputs": [
    {
     "data": {
      "text/plain": [
       "<MaterialImpactedSubstancesQuery: 1 materials, batch size = 100, 1 legislations>"
      ]
     },
     "execution_count": 6,
     "metadata": {},
     "output_type": "execute_result"
    }
   ],
   "source": [
    "query = query.with_legislations([\"REACH - The Candidate List\"])\n",
    "query"
   ]
  },
  {
   "cell_type": "markdown",
   "id": "a4f913d4",
   "metadata": {},
   "source": [
    "Fluent interfaces are designed to allow a complex object to be constructed in a single line of code. As such, you can\n",
    "consolidate the cells above into a single step:"
   ]
  },
  {
   "cell_type": "code",
   "execution_count": 7,
   "id": "4329d833",
   "metadata": {
    "execution": {
     "iopub.execute_input": "2023-03-17T09:34:04.511238Z",
     "iopub.status.busy": "2023-03-17T09:34:04.511025Z",
     "iopub.status.idle": "2023-03-17T09:34:04.515310Z",
     "shell.execute_reply": "2023-03-17T09:34:04.514721Z"
    },
    "tags": []
   },
   "outputs": [
    {
     "data": {
      "text/plain": [
       "<MaterialImpactedSubstancesQuery: 1 materials, batch size = 100, 1 legislations>"
      ]
     },
     "execution_count": 7,
     "metadata": {},
     "output_type": "execute_result"
    }
   ],
   "source": [
    "query = queries.MaterialImpactedSubstancesQuery().with_material_ids([\"plastic-abs-high-impact\"]).with_legislations([\"REACH - The Candidate List\"])  # noqa: E501\n",
    "query"
   ]
  },
  {
   "cell_type": "markdown",
   "id": "c28e9bf8",
   "metadata": {},
   "source": [
    "Because the fluent interface can produce very long lines of code, it's necessary to break your query creation code\n",
    "into multiple lines. The following multi-line format is used throughout the examples. It is functionally equivalent to\n",
    "the preceding cell:"
   ]
  },
  {
   "cell_type": "code",
   "execution_count": 8,
   "id": "4aab9392",
   "metadata": {
    "execution": {
     "iopub.execute_input": "2023-03-17T09:34:04.518814Z",
     "iopub.status.busy": "2023-03-17T09:34:04.518610Z",
     "iopub.status.idle": "2023-03-17T09:34:04.523246Z",
     "shell.execute_reply": "2023-03-17T09:34:04.522652Z"
    },
    "tags": []
   },
   "outputs": [
    {
     "data": {
      "text/plain": [
       "<MaterialImpactedSubstancesQuery: 1 materials, batch size = 100, 1 legislations>"
      ]
     },
     "execution_count": 8,
     "metadata": {},
     "output_type": "execute_result"
    }
   ],
   "source": [
    "query = (\n",
    "    queries.MaterialImpactedSubstancesQuery()\n",
    "    .with_material_ids([\"plastic-abs-high-impact\"])\n",
    "    .with_legislations([\"REACH - The Candidate List\"])\n",
    ")\n",
    "query"
   ]
  },
  {
   "cell_type": "markdown",
   "id": "98630a44",
   "metadata": {},
   "source": [
    "The multi-line format is the recommended way of creating queries using this API."
   ]
  },
  {
   "cell_type": "markdown",
   "id": "4d576ee0",
   "metadata": {},
   "source": [
    "## Run a query"
   ]
  },
  {
   "cell_type": "markdown",
   "id": "d104cf32",
   "metadata": {},
   "source": [
    "Now that you have your ``cxn`` and ``query`` objects, you can use the ``cxn.run()`` method to run the query. This\n",
    "returns an object that contains the results of the query."
   ]
  },
  {
   "cell_type": "code",
   "execution_count": 9,
   "id": "189602a9",
   "metadata": {
    "execution": {
     "iopub.execute_input": "2023-03-17T09:34:04.527430Z",
     "iopub.status.busy": "2023-03-17T09:34:04.527221Z",
     "iopub.status.idle": "2023-03-17T09:34:05.230386Z",
     "shell.execute_reply": "2023-03-17T09:34:05.229721Z"
    },
    "tags": []
   },
   "outputs": [
    {
     "data": {
      "text/plain": [
       "<MaterialImpactedSubstancesQueryResult: 1 MaterialWithImpactedSubstances results>"
      ]
     },
     "execution_count": 9,
     "metadata": {},
     "output_type": "execute_result"
    }
   ],
   "source": [
    "result = cxn.run(query)\n",
    "result"
   ]
  },
  {
   "cell_type": "markdown",
   "id": "51aad6e4",
   "metadata": {},
   "source": [
    "## View query results"
   ]
  },
  {
   "cell_type": "markdown",
   "id": "665979a2",
   "metadata": {},
   "source": [
    "In the case of ``MaterialsImpactedSubstancesQuery``, the results object contains the list of substances present in\n",
    "the material that are impacted by the specified legislations."
   ]
  },
  {
   "cell_type": "code",
   "execution_count": 10,
   "id": "daf1d8a1",
   "metadata": {
    "execution": {
     "iopub.execute_input": "2023-03-17T09:34:05.233636Z",
     "iopub.status.busy": "2023-03-17T09:34:05.233402Z",
     "iopub.status.idle": "2023-03-17T09:34:05.237731Z",
     "shell.execute_reply": "2023-03-17T09:34:05.237149Z"
    },
    "tags": []
   },
   "outputs": [
    {
     "data": {
      "text/plain": [
       "[<ImpactedSubstance: {\"cas_number\": \"15087-24-8\", \"percent_amount\": 2.0}>,\n",
       " <ImpactedSubstance: {\"cas_number\": \"25973-55-1\", \"percent_amount\": 2.0}>,\n",
       " <ImpactedSubstance: {\"cas_number\": \"36437-37-3\", \"percent_amount\": 2.0}>,\n",
       " <ImpactedSubstance: {\"cas_number\": \"3846-71-7\", \"percent_amount\": 2.0}>,\n",
       " <ImpactedSubstance: {\"cas_number\": \"3864-99-1\", \"percent_amount\": 2.0}>,\n",
       " <ImpactedSubstance: {\"cas_number\": \"872-50-4\", \"percent_amount\": None}>,\n",
       " <ImpactedSubstance: {\"cas_number\": \"90481-04-2\", \"percent_amount\": None}>]"
      ]
     },
     "execution_count": 10,
     "metadata": {},
     "output_type": "execute_result"
    }
   ],
   "source": [
    "result.impacted_substances"
   ]
  },
  {
   "cell_type": "markdown",
   "id": "e5f055d7",
   "metadata": {},
   "source": [
    "## View logged messages"
   ]
  },
  {
   "cell_type": "markdown",
   "id": "25529048",
   "metadata": {},
   "source": [
    "All query results also contain a list of messages returned by the server while running the query. These are\n",
    "sorted in order of decreasing severity. The same messages are also available in the MI Service Layer log file."
   ]
  },
  {
   "cell_type": "code",
   "execution_count": 11,
   "id": "38e41987",
   "metadata": {
    "execution": {
     "iopub.execute_input": "2023-03-17T09:34:05.241449Z",
     "iopub.status.busy": "2023-03-17T09:34:05.241239Z",
     "iopub.status.idle": "2023-03-17T09:34:05.245061Z",
     "shell.execute_reply": "2023-03-17T09:34:05.244483Z"
    },
    "tags": []
   },
   "outputs": [
    {
     "data": {
      "text/plain": [
       "[]"
      ]
     },
     "execution_count": 11,
     "metadata": {},
     "output_type": "execute_result"
    }
   ],
   "source": [
    "result.messages"
   ]
  },
  {
   "cell_type": "markdown",
   "id": "2671b41b",
   "metadata": {},
   "source": [
    "Additionally, these messages are available via the standard ``logging`` module using the\n",
    "``ansys.grantami.bomanalytics`` logger. Alternatively, you can omit the logger name to get the root logger, which\n",
    "includes messages logged by all packages.\n",
    "\n",
    "The following code creates a log handler that outputs all 'ansys.grantami.bomanalytics' logger messages with severity\n",
    "INFO and above to either the terminal or the notebook."
   ]
  },
  {
   "cell_type": "code",
   "execution_count": 12,
   "id": "eeaf8506",
   "metadata": {
    "execution": {
     "iopub.execute_input": "2023-03-17T09:34:05.248606Z",
     "iopub.status.busy": "2023-03-17T09:34:05.248386Z",
     "iopub.status.idle": "2023-03-17T09:34:05.919159Z",
     "shell.execute_reply": "2023-03-17T09:34:05.918548Z"
    },
    "tags": []
   },
   "outputs": [
    {
     "name": "stderr",
     "output_type": "stream",
     "text": [
      "INFO:ansys.grantami.bomanalytics:Running query <MaterialImpactedSubstancesQuery: 1 materials, batch size = 100, 1 legislations> with connection <BomServicesClient: url=\"http://my_grantami_server/mi_servicelayer\", dbkey=\"MI_Restricted_Substances\">\n"
     ]
    },
    {
     "name": "stderr",
     "output_type": "stream",
     "text": [
      "INFO:ansys.grantami.bomanalytics:Using default table config\n"
     ]
    },
    {
     "name": "stderr",
     "output_type": "stream",
     "text": [
      "INFO:ansys.grantami.bomanalytics:Using default database key (MI_Restricted_Substances)\n"
     ]
    }
   ],
   "source": [
    "import logging\n",
    "\n",
    "logging.basicConfig(level=logging.INFO)\n",
    "logger = logging.getLogger(\"ansys.grantami.bomanalytics\")\n",
    "\n",
    "result = cxn.run(query)"
   ]
  }
 ],
 "metadata": {
  "jupytext": {
   "formats": "ipynb,py:light"
  },
  "kernelspec": {
   "display_name": "Python 3 (ipykernel)",
   "language": "python",
   "name": "python3"
  },
  "language_info": {
   "codemirror_mode": {
    "name": "ipython",
    "version": 3
   },
   "file_extension": ".py",
   "mimetype": "text/x-python",
   "name": "python",
   "nbconvert_exporter": "python",
   "pygments_lexer": "ipython3",
   "version": "3.9.16"
  }
 },
 "nbformat": 4,
 "nbformat_minor": 5
}
