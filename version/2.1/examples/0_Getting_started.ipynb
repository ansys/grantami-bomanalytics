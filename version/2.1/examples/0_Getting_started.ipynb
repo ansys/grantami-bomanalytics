{
 "cells": [
  {
   "cell_type": "markdown",
   "id": "0225875b",
   "metadata": {},
   "source": [
    "# Basic usage example"
   ]
  },
  {
   "cell_type": "markdown",
   "id": "0830d82c",
   "metadata": {},
   "source": [
    "This example shows how to connect to Granta MI and perform a basic query for impacted substances. It also\n",
    "demonstrates how to view logging messages returned by the Granta MI server. For more information about the\n",
    "results of the queries, see the examples in [Impacted Substances](1_Impacted_Substances_Queries/index.rst) and\n",
    "[Compliance](2_Compliance_Queries/index.rst)."
   ]
  },
  {
   "cell_type": "markdown",
   "id": "0c01012e",
   "metadata": {},
   "source": [
    "## Connect to Granta MI"
   ]
  },
  {
   "cell_type": "markdown",
   "id": "f3f1770c",
   "metadata": {},
   "source": [
    "First, use the ``ansys.grantami.bomanalytics.Connection`` class to connect to the Granta MI server. The ``Connection``\n",
    "class uses a fluent interface to build the connection, which is always invoked in the following sequence:\n",
    "\n",
    "1. Specify your Granta MI Service Layer URL as a parameter to the ``Connection`` class.\n",
    "2. Specify the authentication method using a ``Connection.with_...()`` method.\n",
    "3. Use the ``Connection.connect()`` method to finalize the connection.\n",
    "\n",
    "This returns a connection object, which is called ``cxn`` in these examples."
   ]
  },
  {
   "cell_type": "code",
   "execution_count": 1,
   "id": "cb15020f",
   "metadata": {
    "execution": {
     "iopub.execute_input": "2024-06-10T15:26:33.710742Z",
     "iopub.status.busy": "2024-06-10T15:26:33.710545Z",
     "iopub.status.idle": "2024-06-10T15:26:33.716721Z",
     "shell.execute_reply": "2024-06-10T15:26:33.716121Z"
    },
    "tags": []
   },
   "outputs": [],
   "source": [
    "from ansys.grantami.bomanalytics import Connection\n",
    "\n",
    "server_url = \"http://my_grantami_server/mi_servicelayer\""
   ]
  },
  {
   "cell_type": "markdown",
   "id": "8a9b3707",
   "metadata": {},
   "source": [
    "If you are running your Python script on Windows, you are generally able to use ``.with_autologon()``."
   ]
  },
  {
   "cell_type": "code",
   "execution_count": 2,
   "id": "8257fcfa",
   "metadata": {
    "execution": {
     "iopub.execute_input": "2024-06-10T15:26:33.719213Z",
     "iopub.status.busy": "2024-06-10T15:26:33.718781Z",
     "iopub.status.idle": "2024-06-10T15:26:34.070874Z",
     "shell.execute_reply": "2024-06-10T15:26:34.070211Z"
    },
    "tags": []
   },
   "outputs": [
    {
     "data": {
      "text/plain": [
       "<BomServicesClient: url=\"http://my_grantami_server/mi_servicelayer\", maximum_spec_link_depth=\"unlimited\", dbkey=\"MI_Restricted_Substances\">"
      ]
     },
     "execution_count": 2,
     "metadata": {},
     "output_type": "execute_result"
    }
   ],
   "source": [
    "cxn = Connection(server_url).with_autologon().connect()\n",
    "cxn"
   ]
  },
  {
   "cell_type": "markdown",
   "id": "0bb848f4",
   "metadata": {},
   "source": [
    "If the Python script is running on Linux without Kerberos enabled, or you want to use an account other than your\n",
    "logged-in account, you can specify credentials explicitly."
   ]
  },
  {
   "cell_type": "code",
   "execution_count": 3,
   "id": "f5f9a7a3",
   "metadata": {
    "execution": {
     "iopub.execute_input": "2024-06-10T15:26:34.073942Z",
     "iopub.status.busy": "2024-06-10T15:26:34.073725Z",
     "iopub.status.idle": "2024-06-10T15:26:34.318672Z",
     "shell.execute_reply": "2024-06-10T15:26:34.318040Z"
    },
    "tags": []
   },
   "outputs": [
    {
     "data": {
      "text/plain": [
       "<BomServicesClient: url=\"http://my_grantami_server/mi_servicelayer\", maximum_spec_link_depth=\"unlimited\", dbkey=\"MI_Restricted_Substances\">"
      ]
     },
     "execution_count": 3,
     "metadata": {},
     "output_type": "execute_result"
    }
   ],
   "source": [
    "cxn = Connection(server_url).with_credentials(\"my_username\", \"my_password\").connect()\n",
    "cxn"
   ]
  },
  {
   "cell_type": "markdown",
   "id": "058f9816",
   "metadata": {},
   "source": [
    "OIDC and anonymous authentication methods are also available, but they are beyond the scope of this example.\n",
    "For more information, see the [ansys-openapi-common](https://github.com/pyansys/openapi-common) package\n",
    "documentation."
   ]
  },
  {
   "cell_type": "markdown",
   "id": "8b7314a7",
   "metadata": {},
   "source": [
    "## Construct a query"
   ]
  },
  {
   "cell_type": "markdown",
   "id": "3984731b",
   "metadata": {},
   "source": [
    "Queries are also constructed using a fluent interface. However, the ``Query`` constructor takes no arguments. All\n",
    "query details are specified using ``Query`` methods. To demonstrate this, this example builds a query to\n",
    "determine all substances present in an ABS material that are impacted by the REACH Candidate List legislation."
   ]
  },
  {
   "cell_type": "markdown",
   "id": "4e685a1a",
   "metadata": {},
   "source": [
    "First import the ``queries`` module and create a ``MaterialImpactedSubstancesQuery`` object."
   ]
  },
  {
   "cell_type": "code",
   "execution_count": 4,
   "id": "080bb1c9",
   "metadata": {
    "execution": {
     "iopub.execute_input": "2024-06-10T15:26:34.321380Z",
     "iopub.status.busy": "2024-06-10T15:26:34.321015Z",
     "iopub.status.idle": "2024-06-10T15:26:34.329493Z",
     "shell.execute_reply": "2024-06-10T15:26:34.328897Z"
    },
    "tags": []
   },
   "outputs": [
    {
     "data": {
      "text/plain": [
       "<MaterialImpactedSubstancesQuery: 0 materials, batch size = 100, 0 legislations>"
      ]
     },
     "execution_count": 4,
     "metadata": {},
     "output_type": "execute_result"
    }
   ],
   "source": [
    "from ansys.grantami.bomanalytics import queries\n",
    "\n",
    "query = queries.MaterialImpactedSubstancesQuery()\n",
    "query"
   ]
  },
  {
   "cell_type": "markdown",
   "id": "61e62817",
   "metadata": {},
   "source": [
    "Now add the material that you want to query by specifying its material ID. (Alternate methods of specifying records\n",
    "are shown in other examples.)"
   ]
  },
  {
   "cell_type": "code",
   "execution_count": 5,
   "id": "582a68b8",
   "metadata": {
    "execution": {
     "iopub.execute_input": "2024-06-10T15:26:34.332088Z",
     "iopub.status.busy": "2024-06-10T15:26:34.331741Z",
     "iopub.status.idle": "2024-06-10T15:26:34.336072Z",
     "shell.execute_reply": "2024-06-10T15:26:34.335521Z"
    },
    "tags": []
   },
   "outputs": [
    {
     "data": {
      "text/plain": [
       "<MaterialImpactedSubstancesQuery: 1 materials, batch size = 100, 0 legislations>"
      ]
     },
     "execution_count": 5,
     "metadata": {},
     "output_type": "execute_result"
    }
   ],
   "source": [
    "query = query.with_material_ids([\"plastic-abs-high-impact\"])\n",
    "query"
   ]
  },
  {
   "cell_type": "markdown",
   "id": "c74d1648",
   "metadata": {},
   "source": [
    "Note that because the ``MaterialImpactedSubstancesQuery`` object has a fluent interface, you receive the same object\n",
    "back that you started with, but with the material IDs added.\n",
    "\n",
    "Finally, add the legislation to the query. Legislations are identified by their ``Legislation ID`` attribute.\n",
    "``Candidate_AnnexXV`` is the ID of the ``EU REACH - The Candidate List`` legislation."
   ]
  },
  {
   "cell_type": "code",
   "execution_count": 6,
   "id": "d49840ff",
   "metadata": {
    "execution": {
     "iopub.execute_input": "2024-06-10T15:26:34.338393Z",
     "iopub.status.busy": "2024-06-10T15:26:34.338206Z",
     "iopub.status.idle": "2024-06-10T15:26:34.342374Z",
     "shell.execute_reply": "2024-06-10T15:26:34.341737Z"
    },
    "tags": []
   },
   "outputs": [
    {
     "data": {
      "text/plain": [
       "<MaterialImpactedSubstancesQuery: 1 materials, batch size = 100, 1 legislations>"
      ]
     },
     "execution_count": 6,
     "metadata": {},
     "output_type": "execute_result"
    }
   ],
   "source": [
    "query = query.with_legislation_ids([\"Candidate_AnnexXV\"])\n",
    "query"
   ]
  },
  {
   "cell_type": "markdown",
   "id": "ed243952",
   "metadata": {},
   "source": [
    "Fluent interfaces are designed to allow a complex object to be constructed in a single line of code. As such, you can\n",
    "consolidate the cells above into a single step:"
   ]
  },
  {
   "cell_type": "code",
   "execution_count": 7,
   "id": "c125aeff",
   "metadata": {
    "execution": {
     "iopub.execute_input": "2024-06-10T15:26:34.344883Z",
     "iopub.status.busy": "2024-06-10T15:26:34.344514Z",
     "iopub.status.idle": "2024-06-10T15:26:34.348830Z",
     "shell.execute_reply": "2024-06-10T15:26:34.348208Z"
    },
    "tags": []
   },
   "outputs": [
    {
     "data": {
      "text/plain": [
       "<MaterialImpactedSubstancesQuery: 1 materials, batch size = 100, 1 legislations>"
      ]
     },
     "execution_count": 7,
     "metadata": {},
     "output_type": "execute_result"
    }
   ],
   "source": [
    "query = queries.MaterialImpactedSubstancesQuery().with_material_ids([\"plastic-abs-high-impact\"]).with_legislation_ids([\"Candidate_AnnexXV\"])  # noqa: E501\n",
    "query"
   ]
  },
  {
   "cell_type": "markdown",
   "id": "6d9dc02c",
   "metadata": {},
   "source": [
    "Because the fluent interface can produce very long lines of code, it's necessary to break your query creation code\n",
    "into multiple lines. The following multi-line format is used throughout the examples. It is functionally equivalent to\n",
    "the preceding cell:"
   ]
  },
  {
   "cell_type": "code",
   "execution_count": 8,
   "id": "dc627f8a",
   "metadata": {
    "execution": {
     "iopub.execute_input": "2024-06-10T15:26:34.351278Z",
     "iopub.status.busy": "2024-06-10T15:26:34.350909Z",
     "iopub.status.idle": "2024-06-10T15:26:34.355434Z",
     "shell.execute_reply": "2024-06-10T15:26:34.354817Z"
    },
    "tags": []
   },
   "outputs": [
    {
     "data": {
      "text/plain": [
       "<MaterialImpactedSubstancesQuery: 1 materials, batch size = 100, 1 legislations>"
      ]
     },
     "execution_count": 8,
     "metadata": {},
     "output_type": "execute_result"
    }
   ],
   "source": [
    "query = (\n",
    "    queries.MaterialImpactedSubstancesQuery()\n",
    "    .with_material_ids([\"plastic-abs-high-impact\"])\n",
    "    .with_legislation_ids([\"Candidate_AnnexXV\"])\n",
    ")\n",
    "query"
   ]
  },
  {
   "cell_type": "markdown",
   "id": "82c8faa4",
   "metadata": {},
   "source": [
    "The multi-line format is the recommended way of creating queries using this API."
   ]
  },
  {
   "cell_type": "markdown",
   "id": "1e9c1b2f",
   "metadata": {},
   "source": [
    "## Run a query"
   ]
  },
  {
   "cell_type": "markdown",
   "id": "131ffe88",
   "metadata": {},
   "source": [
    "Now that you have your ``cxn`` and ``query`` objects, you can use the ``cxn.run()`` method to run the query. This\n",
    "returns an object that contains the results of the query."
   ]
  },
  {
   "cell_type": "code",
   "execution_count": 9,
   "id": "31c57c34",
   "metadata": {
    "execution": {
     "iopub.execute_input": "2024-06-10T15:26:34.357883Z",
     "iopub.status.busy": "2024-06-10T15:26:34.357547Z",
     "iopub.status.idle": "2024-06-10T15:26:34.899880Z",
     "shell.execute_reply": "2024-06-10T15:26:34.899320Z"
    },
    "tags": []
   },
   "outputs": [
    {
     "data": {
      "text/plain": [
       "<MaterialImpactedSubstancesQueryResult: 1 MaterialWithImpactedSubstances results>"
      ]
     },
     "execution_count": 9,
     "metadata": {},
     "output_type": "execute_result"
    }
   ],
   "source": [
    "result = cxn.run(query)\n",
    "result"
   ]
  },
  {
   "cell_type": "markdown",
   "id": "163f4fe5",
   "metadata": {},
   "source": [
    "## View query results"
   ]
  },
  {
   "cell_type": "markdown",
   "id": "7db233ff",
   "metadata": {},
   "source": [
    "In the case of ``MaterialImpactedSubstancesQuery``, the results object contains the list of substances present in\n",
    "the material that are impacted by the specified legislations. Display the five first substances in the list."
   ]
  },
  {
   "cell_type": "code",
   "execution_count": 10,
   "id": "a057d2b3",
   "metadata": {
    "execution": {
     "iopub.execute_input": "2024-06-10T15:26:34.902204Z",
     "iopub.status.busy": "2024-06-10T15:26:34.902012Z",
     "iopub.status.idle": "2024-06-10T15:26:34.906240Z",
     "shell.execute_reply": "2024-06-10T15:26:34.905626Z"
    },
    "tags": []
   },
   "outputs": [
    {
     "data": {
      "text/plain": [
       "[<ImpactedSubstance: {\"cas_number\": \"15087-24-8\", \"percent_amount\": 2.0}>,\n",
       " <ImpactedSubstance: {\"cas_number\": \"25973-55-1\", \"percent_amount\": 2.0}>,\n",
       " <ImpactedSubstance: {\"cas_number\": \"36437-37-3\", \"percent_amount\": 2.0}>,\n",
       " <ImpactedSubstance: {\"cas_number\": \"36861-47-9\", \"percent_amount\": 2.0}>,\n",
       " <ImpactedSubstance: {\"cas_number\": \"3846-71-7\", \"percent_amount\": 2.0}>]"
      ]
     },
     "execution_count": 10,
     "metadata": {},
     "output_type": "execute_result"
    }
   ],
   "source": [
    "result.impacted_substances[:5]"
   ]
  },
  {
   "cell_type": "markdown",
   "id": "9b09cdd2",
   "metadata": {},
   "source": [
    "## View logged messages"
   ]
  },
  {
   "cell_type": "markdown",
   "id": "f2ed7fe0",
   "metadata": {},
   "source": [
    "All query results also contain a list of messages returned by the server while running the query. These are\n",
    "sorted in order of decreasing severity. The same messages are also available in the MI Service Layer log file."
   ]
  },
  {
   "cell_type": "code",
   "execution_count": 11,
   "id": "bb38fc27",
   "metadata": {
    "execution": {
     "iopub.execute_input": "2024-06-10T15:26:34.908748Z",
     "iopub.status.busy": "2024-06-10T15:26:34.908422Z",
     "iopub.status.idle": "2024-06-10T15:26:34.912305Z",
     "shell.execute_reply": "2024-06-10T15:26:34.911689Z"
    },
    "tags": []
   },
   "outputs": [
    {
     "data": {
      "text/plain": [
       "[]"
      ]
     },
     "execution_count": 11,
     "metadata": {},
     "output_type": "execute_result"
    }
   ],
   "source": [
    "result.messages"
   ]
  },
  {
   "cell_type": "markdown",
   "id": "1859ef38",
   "metadata": {},
   "source": [
    "Additionally, these messages are available via the standard ``logging`` module using the\n",
    "``ansys.grantami.bomanalytics`` logger. Alternatively, you can omit the logger name to get the root logger, which\n",
    "includes messages logged by all packages.\n",
    "\n",
    "The following code creates a log handler that outputs all 'ansys.grantami.bomanalytics' logger messages with severity\n",
    "INFO and above to either the terminal or the notebook."
   ]
  },
  {
   "cell_type": "code",
   "execution_count": 12,
   "id": "8be648af",
   "metadata": {
    "execution": {
     "iopub.execute_input": "2024-06-10T15:26:34.914682Z",
     "iopub.status.busy": "2024-06-10T15:26:34.914290Z",
     "iopub.status.idle": "2024-06-10T15:26:35.372526Z",
     "shell.execute_reply": "2024-06-10T15:26:35.371962Z"
    },
    "tags": []
   },
   "outputs": [
    {
     "name": "stderr",
     "output_type": "stream",
     "text": [
      "INFO:ansys.grantami.bomanalytics:Running query <MaterialImpactedSubstancesQuery: 1 materials, batch size = 100, 1 legislations> with connection <BomServicesClient: url=\"http://my_grantami_server/mi_servicelayer\", maximum_spec_link_depth=\"unlimited\", dbkey=\"MI_Restricted_Substances\">\n"
     ]
    },
    {
     "name": "stderr",
     "output_type": "stream",
     "text": [
      "INFO:ansys.grantami.bomanalytics:No specification-to-specification link depth limit specified. All links will be followed\n"
     ]
    },
    {
     "name": "stderr",
     "output_type": "stream",
     "text": [
      "INFO:ansys.grantami.bomanalytics:Using default table config\n"
     ]
    },
    {
     "name": "stderr",
     "output_type": "stream",
     "text": [
      "INFO:ansys.grantami.bomanalytics:Using default database key (MI_Restricted_Substances)\n"
     ]
    }
   ],
   "source": [
    "import logging\n",
    "\n",
    "logging.basicConfig(level=logging.INFO)\n",
    "logger = logging.getLogger(\"ansys.grantami.bomanalytics\")\n",
    "\n",
    "result = cxn.run(query)"
   ]
  }
 ],
 "metadata": {
  "jupytext": {
   "formats": "ipynb,py:light"
  },
  "kernelspec": {
   "display_name": "Python 3 (ipykernel)",
   "language": "python",
   "name": "python3"
  },
  "language_info": {
   "codemirror_mode": {
    "name": "ipython",
    "version": 3
   },
   "file_extension": ".py",
   "mimetype": "text/x-python",
   "name": "python",
   "nbconvert_exporter": "python",
   "pygments_lexer": "ipython3",
   "version": "3.9.19"
  }
 },
 "nbformat": 4,
 "nbformat_minor": 5
}
