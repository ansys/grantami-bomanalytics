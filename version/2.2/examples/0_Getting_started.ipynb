{
 "cells": [
  {
   "cell_type": "markdown",
   "id": "d295a4de",
   "metadata": {},
   "source": [
    "# Basic usage example"
   ]
  },
  {
   "cell_type": "markdown",
   "id": "4c073072",
   "metadata": {},
   "source": [
    "This example shows how to connect to Granta MI and perform a basic query for impacted substances. It also\n",
    "demonstrates how to view logging messages returned by the Granta MI server. For more information about the\n",
    "results of the queries, see the examples in [Impacted Substances](1_Impacted_Substances_Queries/index.rst) and\n",
    "[Compliance](2_Compliance_Queries/index.rst)."
   ]
  },
  {
   "cell_type": "markdown",
   "id": "6b9221ab",
   "metadata": {},
   "source": [
    "## Connect to Granta MI"
   ]
  },
  {
   "cell_type": "markdown",
   "id": "7c3ef5eb",
   "metadata": {},
   "source": [
    "First, use the ``ansys.grantami.bomanalytics.Connection`` class to connect to the Granta MI server. The ``Connection``\n",
    "class uses a fluent interface to build the connection, which is always invoked in the following sequence:\n",
    "\n",
    "1. Specify your Granta MI Service Layer URL as a parameter to the ``Connection`` class.\n",
    "2. Specify the authentication method using a ``Connection.with_*()`` method.\n",
    "3. Use the ``Connection.connect()`` method to finalize the connection.\n",
    "\n",
    "This returns a connection object, which is called ``cxn`` in these examples."
   ]
  },
  {
   "cell_type": "code",
   "execution_count": 1,
   "id": "424d7fea",
   "metadata": {
    "execution": {
     "iopub.execute_input": "2024-12-17T16:58:19.525737Z",
     "iopub.status.busy": "2024-12-17T16:58:19.525517Z",
     "iopub.status.idle": "2024-12-17T16:58:19.531968Z",
     "shell.execute_reply": "2024-12-17T16:58:19.531358Z"
    },
    "tags": []
   },
   "outputs": [],
   "source": [
    "from ansys.grantami.bomanalytics import Connection\n",
    "\n",
    "server_url = \"http://my_grantami_server/mi_servicelayer\""
   ]
  },
  {
   "cell_type": "markdown",
   "id": "8b891eec",
   "metadata": {},
   "source": [
    "If you are running your Python script on Windows, you are generally able to use the\n",
    "``.with_autologon() method``."
   ]
  },
  {
   "cell_type": "code",
   "execution_count": 2,
   "id": "3b5d50c1",
   "metadata": {
    "execution": {
     "iopub.execute_input": "2024-12-17T16:58:19.533833Z",
     "iopub.status.busy": "2024-12-17T16:58:19.533631Z",
     "iopub.status.idle": "2024-12-17T16:58:19.657696Z",
     "shell.execute_reply": "2024-12-17T16:58:19.656967Z"
    },
    "tags": []
   },
   "outputs": [
    {
     "data": {
      "text/plain": [
       "<BomAnalyticsClient: url=\"http://my_grantami_server/mi_servicelayer\", maximum_spec_link_depth=\"unlimited\", dbkey=\"MI_Restricted_Substances\">"
      ]
     },
     "execution_count": 2,
     "metadata": {},
     "output_type": "execute_result"
    }
   ],
   "source": [
    "cxn = Connection(server_url).with_autologon().connect()\n",
    "cxn"
   ]
  },
  {
   "cell_type": "markdown",
   "id": "a9364142",
   "metadata": {},
   "source": [
    "If the Python script is running on Linux without Kerberos enabled, or you want to use an account other than your\n",
    "logged-in account, you can specify credentials explicitly."
   ]
  },
  {
   "cell_type": "code",
   "execution_count": 3,
   "id": "30c9f447",
   "metadata": {
    "execution": {
     "iopub.execute_input": "2024-12-17T16:58:19.659874Z",
     "iopub.status.busy": "2024-12-17T16:58:19.659630Z",
     "iopub.status.idle": "2024-12-17T16:58:19.807295Z",
     "shell.execute_reply": "2024-12-17T16:58:19.806610Z"
    },
    "tags": []
   },
   "outputs": [
    {
     "data": {
      "text/plain": [
       "<BomAnalyticsClient: url=\"http://my_grantami_server/mi_servicelayer\", maximum_spec_link_depth=\"unlimited\", dbkey=\"MI_Restricted_Substances\">"
      ]
     },
     "execution_count": 3,
     "metadata": {},
     "output_type": "execute_result"
    }
   ],
   "source": [
    "cxn = Connection(server_url).with_credentials(\"my_username\", \"my_password\").connect()\n",
    "cxn"
   ]
  },
  {
   "cell_type": "markdown",
   "id": "b168470d",
   "metadata": {},
   "source": [
    "OIDC and anonymous authentication methods are also available, but they are beyond the scope of this example.\n",
    "For more information, see the [ansys-openapi-common](https://github.com/pyansys/openapi-common) package\n",
    "documentation."
   ]
  },
  {
   "cell_type": "markdown",
   "id": "94408364",
   "metadata": {},
   "source": [
    "## Construct a query"
   ]
  },
  {
   "cell_type": "markdown",
   "id": "983beb15",
   "metadata": {},
   "source": [
    "Queries are also constructed using a fluent interface. However, the ``Query`` constructor takes no arguments. All\n",
    "query details are specified using ``Query`` methods. To demonstrate this, this example builds a query to\n",
    "determine all substances present in an ABS material that are impacted by the REACH Candidate List legislation."
   ]
  },
  {
   "cell_type": "markdown",
   "id": "aac6647a",
   "metadata": {},
   "source": [
    "First import the ``queries`` module and create a ``MaterialImpactedSubstancesQuery`` object."
   ]
  },
  {
   "cell_type": "code",
   "execution_count": 4,
   "id": "5c29c381",
   "metadata": {
    "execution": {
     "iopub.execute_input": "2024-12-17T16:58:19.809594Z",
     "iopub.status.busy": "2024-12-17T16:58:19.809360Z",
     "iopub.status.idle": "2024-12-17T16:58:19.819170Z",
     "shell.execute_reply": "2024-12-17T16:58:19.818562Z"
    },
    "tags": []
   },
   "outputs": [
    {
     "data": {
      "text/plain": [
       "<MaterialImpactedSubstancesQuery: 0 materials, batch size = 100, 0 legislations>"
      ]
     },
     "execution_count": 4,
     "metadata": {},
     "output_type": "execute_result"
    }
   ],
   "source": [
    "from ansys.grantami.bomanalytics import queries\n",
    "\n",
    "query = queries.MaterialImpactedSubstancesQuery()\n",
    "query"
   ]
  },
  {
   "cell_type": "markdown",
   "id": "b58a061c",
   "metadata": {},
   "source": [
    "Now add the material that you want to query by specifying its material ID. (Alternate methods of specifying records\n",
    "are shown in other examples.)"
   ]
  },
  {
   "cell_type": "code",
   "execution_count": 5,
   "id": "136eeac3",
   "metadata": {
    "execution": {
     "iopub.execute_input": "2024-12-17T16:58:19.821291Z",
     "iopub.status.busy": "2024-12-17T16:58:19.820952Z",
     "iopub.status.idle": "2024-12-17T16:58:19.825078Z",
     "shell.execute_reply": "2024-12-17T16:58:19.824493Z"
    },
    "tags": []
   },
   "outputs": [
    {
     "data": {
      "text/plain": [
       "<MaterialImpactedSubstancesQuery: 1 materials, batch size = 100, 0 legislations>"
      ]
     },
     "execution_count": 5,
     "metadata": {},
     "output_type": "execute_result"
    }
   ],
   "source": [
    "query = query.with_material_ids([\"plastic-abs-high-impact\"])\n",
    "query"
   ]
  },
  {
   "cell_type": "markdown",
   "id": "7d24b199",
   "metadata": {},
   "source": [
    "Note that because the ``MaterialImpactedSubstancesQuery`` object has a fluent interface, you receive the same object\n",
    "back that you started with but with the material IDs added.\n",
    "\n",
    "Finally, add the legislation to the query. Legislations are identified by their ``Legislation ID`` attribute.\n",
    "``Candidate_AnnexXV`` is the ID of the ``EU REACH - The Candidate List`` legislation."
   ]
  },
  {
   "cell_type": "code",
   "execution_count": 6,
   "id": "e95a9afe",
   "metadata": {
    "execution": {
     "iopub.execute_input": "2024-12-17T16:58:19.826916Z",
     "iopub.status.busy": "2024-12-17T16:58:19.826741Z",
     "iopub.status.idle": "2024-12-17T16:58:19.830999Z",
     "shell.execute_reply": "2024-12-17T16:58:19.830489Z"
    },
    "tags": []
   },
   "outputs": [
    {
     "data": {
      "text/plain": [
       "<MaterialImpactedSubstancesQuery: 1 materials, batch size = 100, 1 legislations>"
      ]
     },
     "execution_count": 6,
     "metadata": {},
     "output_type": "execute_result"
    }
   ],
   "source": [
    "query = query.with_legislation_ids([\"Candidate_AnnexXV\"])\n",
    "query"
   ]
  },
  {
   "cell_type": "markdown",
   "id": "9d385ee9",
   "metadata": {},
   "source": [
    "Fluent interfaces are designed to allow a complex object to be constructed in a single line of code. As such, you can\n",
    "consolidate the cells above into a single step:"
   ]
  },
  {
   "cell_type": "code",
   "execution_count": 7,
   "id": "6b41b244",
   "metadata": {
    "execution": {
     "iopub.execute_input": "2024-12-17T16:58:19.832914Z",
     "iopub.status.busy": "2024-12-17T16:58:19.832575Z",
     "iopub.status.idle": "2024-12-17T16:58:19.836915Z",
     "shell.execute_reply": "2024-12-17T16:58:19.836318Z"
    },
    "tags": []
   },
   "outputs": [
    {
     "data": {
      "text/plain": [
       "<MaterialImpactedSubstancesQuery: 1 materials, batch size = 100, 1 legislations>"
      ]
     },
     "execution_count": 7,
     "metadata": {},
     "output_type": "execute_result"
    }
   ],
   "source": [
    "query = queries.MaterialImpactedSubstancesQuery().with_material_ids([\"plastic-abs-high-impact\"]).with_legislation_ids([\"Candidate_AnnexXV\"])  # noqa: E501\n",
    "query"
   ]
  },
  {
   "cell_type": "markdown",
   "id": "9fea0cf3",
   "metadata": {},
   "source": [
    "Because the fluent interface can produce very long lines of code, it's necessary to break your query creation code\n",
    "into multiple lines. The following multi-line format is used throughout the examples. It is functionally equivalent to\n",
    "the preceding cell:"
   ]
  },
  {
   "cell_type": "code",
   "execution_count": 8,
   "id": "2700a7f6",
   "metadata": {
    "execution": {
     "iopub.execute_input": "2024-12-17T16:58:19.838903Z",
     "iopub.status.busy": "2024-12-17T16:58:19.838556Z",
     "iopub.status.idle": "2024-12-17T16:58:19.842873Z",
     "shell.execute_reply": "2024-12-17T16:58:19.842272Z"
    },
    "tags": []
   },
   "outputs": [
    {
     "data": {
      "text/plain": [
       "<MaterialImpactedSubstancesQuery: 1 materials, batch size = 100, 1 legislations>"
      ]
     },
     "execution_count": 8,
     "metadata": {},
     "output_type": "execute_result"
    }
   ],
   "source": [
    "query = (\n",
    "    queries.MaterialImpactedSubstancesQuery()\n",
    "    .with_material_ids([\"plastic-abs-high-impact\"])\n",
    "    .with_legislation_ids([\"Candidate_AnnexXV\"])\n",
    ")\n",
    "query"
   ]
  },
  {
   "cell_type": "markdown",
   "id": "a234f65c",
   "metadata": {},
   "source": [
    "The multi-line format is the recommended way of creating queries using this API."
   ]
  },
  {
   "cell_type": "markdown",
   "id": "47544d14",
   "metadata": {},
   "source": [
    "## Run a query"
   ]
  },
  {
   "cell_type": "markdown",
   "id": "993eadaf",
   "metadata": {},
   "source": [
    "Now that you have your ``cxn`` and ``query`` objects, you can use the ``cxn.run()`` method to run the query. This\n",
    "returns an object that contains the results of the query."
   ]
  },
  {
   "cell_type": "code",
   "execution_count": 9,
   "id": "e360ae7d",
   "metadata": {
    "execution": {
     "iopub.execute_input": "2024-12-17T16:58:19.844881Z",
     "iopub.status.busy": "2024-12-17T16:58:19.844540Z",
     "iopub.status.idle": "2024-12-17T16:58:20.465320Z",
     "shell.execute_reply": "2024-12-17T16:58:20.464632Z"
    },
    "tags": []
   },
   "outputs": [
    {
     "data": {
      "text/plain": [
       "<MaterialImpactedSubstancesQueryResult: 1 MaterialWithImpactedSubstances results>"
      ]
     },
     "execution_count": 9,
     "metadata": {},
     "output_type": "execute_result"
    }
   ],
   "source": [
    "result = cxn.run(query)\n",
    "result"
   ]
  },
  {
   "cell_type": "markdown",
   "id": "583ba0fb",
   "metadata": {},
   "source": [
    "## View query results"
   ]
  },
  {
   "cell_type": "markdown",
   "id": "6afc99c5",
   "metadata": {},
   "source": [
    "In the case of ``MaterialImpactedSubstancesQuery``, the results object contains the list of substances present in\n",
    "the material that are impacted by the specified legislations. Display the five first substances in the list."
   ]
  },
  {
   "cell_type": "code",
   "execution_count": 10,
   "id": "182a5cdc",
   "metadata": {
    "execution": {
     "iopub.execute_input": "2024-12-17T16:58:20.467645Z",
     "iopub.status.busy": "2024-12-17T16:58:20.467303Z",
     "iopub.status.idle": "2024-12-17T16:58:20.471817Z",
     "shell.execute_reply": "2024-12-17T16:58:20.471198Z"
    },
    "tags": []
   },
   "outputs": [
    {
     "data": {
      "text/plain": [
       "[<ImpactedSubstance: {\"cas_number\": \"15087-24-8\", \"percent_amount\": 2.0}>,\n",
       " <ImpactedSubstance: {\"cas_number\": \"25973-55-1\", \"percent_amount\": 2.0}>,\n",
       " <ImpactedSubstance: {\"cas_number\": \"36437-37-3\", \"percent_amount\": 2.0}>,\n",
       " <ImpactedSubstance: {\"cas_number\": \"36861-47-9\", \"percent_amount\": 2.0}>,\n",
       " <ImpactedSubstance: {\"cas_number\": \"3846-71-7\", \"percent_amount\": 2.0}>]"
      ]
     },
     "execution_count": 10,
     "metadata": {},
     "output_type": "execute_result"
    }
   ],
   "source": [
    "result.impacted_substances[:5]"
   ]
  },
  {
   "cell_type": "markdown",
   "id": "970b2f1e",
   "metadata": {},
   "source": [
    "## View logged messages"
   ]
  },
  {
   "cell_type": "markdown",
   "id": "7e9194ba",
   "metadata": {},
   "source": [
    "All query results also contain a list of messages returned by the server while running the query. These are\n",
    "sorted in order of decreasing severity. The same messages are also available in the MI Service Layer log file."
   ]
  },
  {
   "cell_type": "code",
   "execution_count": 11,
   "id": "bd83ca87",
   "metadata": {
    "execution": {
     "iopub.execute_input": "2024-12-17T16:58:20.473877Z",
     "iopub.status.busy": "2024-12-17T16:58:20.473678Z",
     "iopub.status.idle": "2024-12-17T16:58:20.477595Z",
     "shell.execute_reply": "2024-12-17T16:58:20.477063Z"
    },
    "tags": []
   },
   "outputs": [
    {
     "data": {
      "text/plain": [
       "[]"
      ]
     },
     "execution_count": 11,
     "metadata": {},
     "output_type": "execute_result"
    }
   ],
   "source": [
    "result.messages"
   ]
  },
  {
   "cell_type": "markdown",
   "id": "7a9a5e45",
   "metadata": {},
   "source": [
    "Additionally, these messages are available via the standard ``logging`` module using the\n",
    "``ansys.grantami.bomanalytics`` logger. Alternatively, you can omit the logger name to get the root logger, which\n",
    "includes messages logged by all packages.\n",
    "\n",
    "The following code creates a log handler that outputs all ``ansys.grantami.bomanalytics`` logger messages\n",
    "with severity INFO and above to either the terminal or the notebook."
   ]
  },
  {
   "cell_type": "code",
   "execution_count": 12,
   "id": "288bbabd",
   "metadata": {
    "execution": {
     "iopub.execute_input": "2024-12-17T16:58:20.479288Z",
     "iopub.status.busy": "2024-12-17T16:58:20.479100Z",
     "iopub.status.idle": "2024-12-17T16:58:21.034581Z",
     "shell.execute_reply": "2024-12-17T16:58:21.033913Z"
    },
    "tags": []
   },
   "outputs": [
    {
     "name": "stderr",
     "output_type": "stream",
     "text": [
      "INFO:ansys.grantami.bomanalytics:Running query <MaterialImpactedSubstancesQuery: 1 materials, batch size = 100, 1 legislations> with connection <BomAnalyticsClient: url=\"http://my_grantami_server/mi_servicelayer\", maximum_spec_link_depth=\"unlimited\", dbkey=\"MI_Restricted_Substances\">\n"
     ]
    },
    {
     "name": "stderr",
     "output_type": "stream",
     "text": [
      "INFO:ansys.grantami.bomanalytics:No specification-to-specification link depth limit is specified. All links will be followed.\n"
     ]
    },
    {
     "name": "stderr",
     "output_type": "stream",
     "text": [
      "INFO:ansys.grantami.bomanalytics:Using default table config\n"
     ]
    },
    {
     "name": "stderr",
     "output_type": "stream",
     "text": [
      "INFO:ansys.grantami.bomanalytics:Using default database key (MI_Restricted_Substances)\n"
     ]
    }
   ],
   "source": [
    "import logging\n",
    "\n",
    "logging.basicConfig(level=logging.INFO)\n",
    "logger = logging.getLogger(\"ansys.grantami.bomanalytics\")\n",
    "\n",
    "result = cxn.run(query)"
   ]
  }
 ],
 "metadata": {
  "jupytext": {
   "formats": "ipynb,py:light"
  },
  "kernelspec": {
   "display_name": "Python 3 (ipykernel)",
   "language": "python",
   "name": "python3"
  },
  "language_info": {
   "codemirror_mode": {
    "name": "ipython",
    "version": 3
   },
   "file_extension": ".py",
   "mimetype": "text/x-python",
   "name": "python",
   "nbconvert_exporter": "python",
   "pygments_lexer": "ipython3",
   "version": "3.10.15"
  }
 },
 "nbformat": 4,
 "nbformat_minor": 5
}
