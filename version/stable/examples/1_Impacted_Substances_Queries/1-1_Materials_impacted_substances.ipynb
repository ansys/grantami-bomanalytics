{
 "cells": [
  {
   "cell_type": "markdown",
   "id": "a4fe6ee3",
   "metadata": {},
   "source": [
    "# Perform a material impacted substances query"
   ]
  },
  {
   "cell_type": "markdown",
   "id": "ba2d9671",
   "metadata": {},
   "source": [
    "A Material Impacted Substances Query is used to identify the substances associated with a material that are impacted\n",
    "by one or more defined legislations."
   ]
  },
  {
   "cell_type": "markdown",
   "id": "4033e335",
   "metadata": {},
   "source": [
    "This example shows how to perform an Impacted Substance query on material records, and how to process the results."
   ]
  },
  {
   "cell_type": "markdown",
   "id": "c8dbcdd9",
   "metadata": {},
   "source": [
    "## Connecting to Granta MI"
   ]
  },
  {
   "cell_type": "markdown",
   "id": "17a65364",
   "metadata": {},
   "source": [
    "Import the ``Connection`` class and create the connection. See the [Getting Started](../0_Getting_started.ipynb)\n",
    "example for more detail."
   ]
  },
  {
   "cell_type": "code",
   "execution_count": 1,
   "id": "9db258bb",
   "metadata": {
    "execution": {
     "iopub.execute_input": "2024-01-17T17:41:04.805890Z",
     "iopub.status.busy": "2024-01-17T17:41:04.805675Z",
     "iopub.status.idle": "2024-01-17T17:41:04.950935Z",
     "shell.execute_reply": "2024-01-17T17:41:04.950200Z"
    },
    "tags": []
   },
   "outputs": [],
   "source": [
    "from ansys.grantami.bomanalytics import Connection\n",
    "\n",
    "server_url = \"http://my_grantami_server/mi_servicelayer\"\n",
    "cxn = Connection(server_url).with_credentials(\"user_name\", \"password\").connect()"
   ]
  },
  {
   "cell_type": "markdown",
   "id": "64f6508c",
   "metadata": {},
   "source": [
    "## Building and running the query"
   ]
  },
  {
   "cell_type": "markdown",
   "id": "8e4a1300",
   "metadata": {},
   "source": [
    "The query is assembled by providing lists of material references and legislations of interest. The query will return\n",
    "the substances that are present in the specified materials and are impacted by the specified legislations."
   ]
  },
  {
   "cell_type": "markdown",
   "id": "06bd2e56",
   "metadata": {},
   "source": [
    "First specify some constants that contain the material and legislation references we will use."
   ]
  },
  {
   "cell_type": "code",
   "execution_count": 2,
   "id": "337d103c",
   "metadata": {
    "execution": {
     "iopub.execute_input": "2024-01-17T17:41:04.953966Z",
     "iopub.status.busy": "2024-01-17T17:41:04.953733Z",
     "iopub.status.idle": "2024-01-17T17:41:04.956985Z",
     "shell.execute_reply": "2024-01-17T17:41:04.956433Z"
    },
    "tags": []
   },
   "outputs": [],
   "source": [
    "PPS_ID = \"plastic-pps-generalpurpose\"\n",
    "PC_ID = \"plastic-pc-20carbonfiber\"\n",
    "SIN_LIST = \"SINList\"\n",
    "REACH = \"Candidate_AnnexXV\""
   ]
  },
  {
   "cell_type": "markdown",
   "id": "c257f296",
   "metadata": {},
   "source": [
    "Next import the ``queries`` module and build the query with the references in the previous cell."
   ]
  },
  {
   "cell_type": "code",
   "execution_count": 3,
   "id": "c0e25310",
   "metadata": {
    "execution": {
     "iopub.execute_input": "2024-01-17T17:41:04.959403Z",
     "iopub.status.busy": "2024-01-17T17:41:04.959215Z",
     "iopub.status.idle": "2024-01-17T17:41:04.966840Z",
     "shell.execute_reply": "2024-01-17T17:41:04.966230Z"
    },
    "tags": []
   },
   "outputs": [],
   "source": [
    "from ansys.grantami.bomanalytics import queries\n",
    "\n",
    "mat_query = (\n",
    "    queries.MaterialImpactedSubstancesQuery()\n",
    "    .with_material_ids([PPS_ID, PC_ID])\n",
    "    .with_legislation_ids([REACH, SIN_LIST])\n",
    ")"
   ]
  },
  {
   "cell_type": "markdown",
   "id": "06471299",
   "metadata": {},
   "source": [
    "Finally, run the query. Passing a ``MaterialImpactedSubstancesQuery`` object to the ``Connection.run()`` method\n",
    "returns a ``MaterialImpactedSubstancesQueryResult`` object."
   ]
  },
  {
   "cell_type": "code",
   "execution_count": 4,
   "id": "f89a8a8a",
   "metadata": {
    "execution": {
     "iopub.execute_input": "2024-01-17T17:41:04.969340Z",
     "iopub.status.busy": "2024-01-17T17:41:04.969148Z",
     "iopub.status.idle": "2024-01-17T17:41:05.680184Z",
     "shell.execute_reply": "2024-01-17T17:41:05.679522Z"
    },
    "tags": []
   },
   "outputs": [
    {
     "data": {
      "text/plain": [
       "<MaterialImpactedSubstancesQueryResult: 2 MaterialWithImpactedSubstances results>"
      ]
     },
     "execution_count": 4,
     "metadata": {},
     "output_type": "execute_result"
    }
   ],
   "source": [
    "results = cxn.run(mat_query)\n",
    "results"
   ]
  },
  {
   "cell_type": "markdown",
   "id": "e8f3f910",
   "metadata": {},
   "source": [
    "A ``MaterialImpactedSubstancesQueryResult`` object contains three properties:\n",
    "``impacted_substances_by_material``, ``impacted_substances_by_legislation``, and ``impacted_substances``. They provide\n",
    "different views of the impacted substances at different levels of granularity."
   ]
  },
  {
   "cell_type": "markdown",
   "id": "c3bc8515",
   "metadata": {},
   "source": [
    "## View results grouped by material"
   ]
  },
  {
   "cell_type": "markdown",
   "id": "82c03966",
   "metadata": {},
   "source": [
    "This property is structured first as a list of ``MaterialWithImpactedSubstancesResult`` objects, each of which\n",
    "contains a dictionary of lists of ``ImpactedSubstance`` objects keyed by legislation or a single flat list of all\n",
    "substances."
   ]
  },
  {
   "cell_type": "markdown",
   "id": "2460568d",
   "metadata": {},
   "source": [
    "First, we can simplify the structure somewhat because we are only using Material IDs. The cell below creates a\n",
    "dictionary that maps Material IDs to lists of substances impacted by the 'SIN List'."
   ]
  },
  {
   "cell_type": "code",
   "execution_count": 5,
   "id": "7482037e",
   "metadata": {
    "execution": {
     "iopub.execute_input": "2024-01-17T17:41:05.683359Z",
     "iopub.status.busy": "2024-01-17T17:41:05.682792Z",
     "iopub.status.idle": "2024-01-17T17:41:05.686626Z",
     "shell.execute_reply": "2024-01-17T17:41:05.685964Z"
    },
    "tags": []
   },
   "outputs": [],
   "source": [
    "substances_by_material = {}\n",
    "for material in results.impacted_substances_by_material:\n",
    "    substances = material.substances_by_legislation[SIN_LIST]\n",
    "    substances_by_material[material.material_id] = substances"
   ]
  },
  {
   "cell_type": "markdown",
   "id": "e43feb7d",
   "metadata": {},
   "source": [
    "Then use the ``tabulate`` package to print a table of the substances and their quantities for the polycarbonate\n",
    "material only."
   ]
  },
  {
   "cell_type": "code",
   "execution_count": 6,
   "id": "37d857eb",
   "metadata": {
    "execution": {
     "iopub.execute_input": "2024-01-17T17:41:05.689170Z",
     "iopub.status.busy": "2024-01-17T17:41:05.688686Z",
     "iopub.status.idle": "2024-01-17T17:41:05.710842Z",
     "shell.execute_reply": "2024-01-17T17:41:05.710135Z"
    },
    "tags": []
   },
   "outputs": [
    {
     "name": "stdout",
     "output_type": "stream",
     "text": [
      "Substances impacted by \"SINList\" in \"plastic-pc-20carbonfiber\" (5/16)\n",
      "CAS Number      Amount (wt. %)\n",
      "------------  ----------------\n",
      "10124-36-4                 0.6\n",
      "10325-94-7                 0.6\n",
      "131-56-6                   1.6\n",
      "131-57-7                   1.6\n",
      "15087-24-8                 1.6\n"
     ]
    }
   ],
   "source": [
    "from tabulate import tabulate\n",
    "\n",
    "rows = [(substance.cas_number, substance.max_percentage_amount_in_material)\n",
    "    for substance in substances_by_material[PC_ID]]\n",
    "\n",
    "print(f'Substances impacted by \"{SIN_LIST}\" in \"{PC_ID}\" (5/{len(rows)})')\n",
    "print(tabulate(rows[:5], headers=[\"CAS Number\", \"Amount (wt. %)\"]))"
   ]
  },
  {
   "cell_type": "markdown",
   "id": "dcd7210f",
   "metadata": {},
   "source": [
    "## View results grouped by legislation"
   ]
  },
  {
   "cell_type": "markdown",
   "id": "29247d5d",
   "metadata": {},
   "source": [
    "This property merges the results across all materials, resulting in a single dictionary of legislations that contain\n",
    "all impacted substances for all materials."
   ]
  },
  {
   "cell_type": "markdown",
   "id": "784c399e",
   "metadata": {},
   "source": [
    "Again we use the ``tabulate`` package to print a table of substances, but this time we are including the substances in\n",
    "all materials, but again limited to the SIN List only."
   ]
  },
  {
   "cell_type": "code",
   "execution_count": 7,
   "id": "4f88786c",
   "metadata": {
    "execution": {
     "iopub.execute_input": "2024-01-17T17:41:05.713725Z",
     "iopub.status.busy": "2024-01-17T17:41:05.713314Z",
     "iopub.status.idle": "2024-01-17T17:41:05.718172Z",
     "shell.execute_reply": "2024-01-17T17:41:05.717512Z"
    },
    "tags": []
   },
   "outputs": [
    {
     "name": "stdout",
     "output_type": "stream",
     "text": [
      "Substances impacted by \"SINList\" in all materials (5/27)\n",
      "CAS Number      Amount (wt. %)\n",
      "------------  ----------------\n",
      "131-56-6                     2\n",
      "131-57-7                     2\n",
      "15087-24-8                   2\n",
      "25973-55-1                   2\n",
      "27193-28-8\n"
     ]
    }
   ],
   "source": [
    "material_substances_sin = results.impacted_substances_by_legislation[SIN_LIST]\n",
    "rows = [(substance.cas_number, substance.max_percentage_amount_in_material)\n",
    "    for substance in material_substances_sin]\n",
    "print(f'Substances impacted by \"{SIN_LIST}\" in all materials (5/{len(rows)})')\n",
    "print(tabulate(rows[:5], headers=[\"CAS Number\", \"Amount (wt. %)\"]))"
   ]
  },
  {
   "cell_type": "markdown",
   "id": "db970ed1",
   "metadata": {},
   "source": [
    "## View results as a flat list"
   ]
  },
  {
   "cell_type": "markdown",
   "id": "a63c0e1d",
   "metadata": {},
   "source": [
    "This property reduces the granularity further to produce a single flattened list of substances across all legislations\n",
    "for all materials."
   ]
  },
  {
   "cell_type": "markdown",
   "id": "2bdb4ca1",
   "metadata": {},
   "source": [
    "The cell below uses the ``tabulate`` package to print a table of substances. Because we are using the\n",
    "``impacted_substances`` property, we only have one list of ``ImpactedSubstance`` objects which covers both\n",
    "legislations and both materials."
   ]
  },
  {
   "cell_type": "code",
   "execution_count": 8,
   "id": "72a26acf",
   "metadata": {
    "execution": {
     "iopub.execute_input": "2024-01-17T17:41:05.720795Z",
     "iopub.status.busy": "2024-01-17T17:41:05.720440Z",
     "iopub.status.idle": "2024-01-17T17:41:05.725098Z",
     "shell.execute_reply": "2024-01-17T17:41:05.724448Z"
    },
    "tags": []
   },
   "outputs": [
    {
     "name": "stdout",
     "output_type": "stream",
     "text": [
      "Impacted substances for all materials and legislations (5/48)\n",
      "CAS Number      Amount (wt. %)\n",
      "------------  ----------------\n",
      "131-56-6                     2\n",
      "131-57-7                     2\n",
      "15087-24-8                   2\n",
      "25973-55-1                   2\n",
      "27193-28-8\n"
     ]
    }
   ],
   "source": [
    "material_substances_all = results.impacted_substances\n",
    "rows = [(substance.cas_number, substance.max_percentage_amount_in_material)\n",
    "    for substance in material_substances_all]\n",
    "print(f\"Impacted substances for all materials and legislations (5/{len(rows)})\")\n",
    "print(tabulate(rows[:5], headers=[\"CAS Number\", \"Amount (wt. %)\"]))"
   ]
  }
 ],
 "metadata": {
  "jupytext": {
   "formats": "ipynb,py:light"
  },
  "kernelspec": {
   "display_name": "Python 3 (ipykernel)",
   "language": "python",
   "name": "python3"
  },
  "language_info": {
   "codemirror_mode": {
    "name": "ipython",
    "version": 3
   },
   "file_extension": ".py",
   "mimetype": "text/x-python",
   "name": "python",
   "nbconvert_exporter": "python",
   "pygments_lexer": "ipython3",
   "version": "3.9.18"
  }
 },
 "nbformat": 4,
 "nbformat_minor": 5
}
