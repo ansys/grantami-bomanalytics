{
 "cells": [
  {
   "cell_type": "markdown",
   "id": "680e5e8b",
   "metadata": {},
   "source": [
    "# Write compliance results to a ``pandas.DataFrame`` object"
   ]
  },
  {
   "cell_type": "markdown",
   "id": "855b1481",
   "metadata": {},
   "source": [
    "Granta MI BoM Analytics presents compliance results in a hierarchical data structure. Alternatively, you can\n",
    "represent the data in a tabular data structure, where each row contains a reference to the parent row.\n",
    "This example shows how compliance data can be translated from one format to another, making use\n",
    "of a ``pandas.DataFrame`` object to store the tabulated data."
   ]
  },
  {
   "cell_type": "markdown",
   "id": "1741b211",
   "metadata": {},
   "source": [
    "## Perform a compliance query"
   ]
  },
  {
   "cell_type": "markdown",
   "id": "67dd4bb3",
   "metadata": {},
   "source": [
    "The first step is to perform a compliance query on an assembly that results in a deeply\n",
    "nested structure. The following code is presented without explanation. For more information, see the\n",
    "[Perform a Part Compliance Query](../3_Compliance_Queries/3-3_Part_compliance.ipynb) example."
   ]
  },
  {
   "cell_type": "code",
   "execution_count": 1,
   "id": "08c0fbda",
   "metadata": {
    "execution": {
     "iopub.execute_input": "2025-07-29T16:54:03.124461Z",
     "iopub.status.busy": "2025-07-29T16:54:03.124290Z",
     "iopub.status.idle": "2025-07-29T16:54:06.147932Z",
     "shell.execute_reply": "2025-07-29T16:54:06.147301Z"
    },
    "tags": []
   },
   "outputs": [],
   "source": [
    "from ansys.grantami.bomanalytics import Connection, indicators, queries\n",
    "\n",
    "server_url = \"http://my_grantami_server/mi_servicelayer\"\n",
    "cxn = Connection(server_url).with_credentials(\"user_name\", \"password\").connect()\n",
    "svhc = indicators.WatchListIndicator(\n",
    "    name=\"SVHC\",\n",
    "    legislation_ids=[\"Candidate_AnnexXV\"],\n",
    "    default_threshold_percentage=0.1,\n",
    ")\n",
    "part_query = (\n",
    "    queries.PartComplianceQuery()\n",
    "    .with_record_history_ids([565060])\n",
    "    .with_indicators([svhc])\n",
    ")\n",
    "part_result = cxn.run(part_query)"
   ]
  },
  {
   "cell_type": "markdown",
   "id": "c9369816",
   "metadata": {},
   "source": [
    "The ``part_result`` object contains the compliance result for every subitem. This is ideal for understanding\n",
    "compliance at a certain *level* of the structure, For example, you can display the compliance for each item directly\n",
    "under the root part."
   ]
  },
  {
   "cell_type": "code",
   "execution_count": 2,
   "id": "bad35f44",
   "metadata": {
    "execution": {
     "iopub.execute_input": "2025-07-29T16:54:06.149795Z",
     "iopub.status.busy": "2025-07-29T16:54:06.149631Z",
     "iopub.status.idle": "2025-07-29T16:54:06.152905Z",
     "shell.execute_reply": "2025-07-29T16:54:06.152462Z"
    },
    "tags": []
   },
   "outputs": [
    {
     "name": "stdout",
     "output_type": "stream",
     "text": [
      "Part ID: None, Compliance: WatchListFlag.WatchListCompliant\n",
      "Part ID: None, Compliance: WatchListFlag.WatchListCompliant\n",
      "Part ID: None, Compliance: WatchListFlag.WatchListCompliant\n",
      "Part ID: None, Compliance: WatchListFlag.WatchListCompliant\n",
      "Part ID: None, Compliance: WatchListFlag.WatchListCompliant\n",
      "Part ID: None, Compliance: WatchListFlag.WatchListCompliant\n",
      "Part ID: None, Compliance: WatchListFlag.WatchListCompliant\n",
      "Part ID: None, Compliance: WatchListFlag.WatchListCompliant\n",
      "Part ID: None, Compliance: WatchListFlag.WatchListCompliant\n",
      "Part ID: None, Compliance: WatchListFlag.WatchListCompliant\n",
      "Part ID: None, Compliance: WatchListFlag.WatchListCompliant\n",
      "Part ID: None, Compliance: WatchListFlag.WatchListHasSubstanceAboveThreshold\n"
     ]
    }
   ],
   "source": [
    "for part in part_result.compliance_by_part_and_indicator[0].parts:\n",
    "    print(\n",
    "        f\"Part ID: {part.record_history_identity}, \"\n",
    "        f\"Compliance: {part.indicators['SVHC'].flag}\"\n",
    "    )"
   ]
  },
  {
   "cell_type": "markdown",
   "id": "6d1c7a18",
   "metadata": {},
   "source": [
    "However, this structure makes it difficult to compare items at different levels. To do this, you want to flatten the\n",
    "data into a tabular structure."
   ]
  },
  {
   "cell_type": "markdown",
   "id": "a5762812",
   "metadata": {},
   "source": [
    "## Flatten the hierarchical data structure"
   ]
  },
  {
   "cell_type": "markdown",
   "id": "892010f4",
   "metadata": {},
   "source": [
    "You want to flatten the data into a ``list`` of ``dict`` objects, where each ``dict`` object represents an item in the\n",
    "hierarchy and each value in the ``dict`` object represents a property of this item. You can then use this structure\n",
    "directly or use it to construct a ``pandas.DataFrame`` object."
   ]
  },
  {
   "cell_type": "markdown",
   "id": "a92802d6",
   "metadata": {
    "lines_to_next_cell": 2
   },
   "source": [
    "First, define a helper function to transform a ``ComplianceQueryResult`` object into a ``dict`` object. In addition to\n",
    "storing properties that are intrinsic to the item (such as the ID, type, and SVHC result), you want to store\n",
    "structural information, such as the level of the item and the ID of its parent."
   ]
  },
  {
   "cell_type": "code",
   "execution_count": 3,
   "id": "5451abae",
   "metadata": {
    "execution": {
     "iopub.execute_input": "2025-07-29T16:54:06.154484Z",
     "iopub.status.busy": "2025-07-29T16:54:06.154332Z",
     "iopub.status.idle": "2025-07-29T16:54:06.157622Z",
     "shell.execute_reply": "2025-07-29T16:54:06.157182Z"
    },
    "tags": []
   },
   "outputs": [],
   "source": [
    "def create_dict(item, item_type, level, parent_id):\n",
    "    \"\"\"Add a BoM item to a list\"\"\"\n",
    "    item_id = item.record_history_identity\n",
    "    indicator = item.indicators[\"SVHC\"]\n",
    "    row = {\n",
    "        \"Item\": item_id,\n",
    "        \"Parent\": parent_id,\n",
    "        \"Type\": item_type,\n",
    "        \"SVHC\": indicator,\n",
    "        \"Level\": level,\n",
    "    }\n",
    "    return row"
   ]
  },
  {
   "cell_type": "markdown",
   "id": "db086b99",
   "metadata": {
    "lines_to_next_cell": 2
   },
   "source": [
    "To help with the flattening process, you also define a schema, which describes which child item types each item\n",
    "type can contain."
   ]
  },
  {
   "cell_type": "code",
   "execution_count": 4,
   "id": "93526434",
   "metadata": {
    "execution": {
     "iopub.execute_input": "2025-07-29T16:54:06.159317Z",
     "iopub.status.busy": "2025-07-29T16:54:06.159001Z",
     "iopub.status.idle": "2025-07-29T16:54:06.161757Z",
     "shell.execute_reply": "2025-07-29T16:54:06.161327Z"
    },
    "lines_to_next_cell": 2,
    "tags": []
   },
   "outputs": [],
   "source": [
    "schema = {\n",
    "    \"Part\": [\"Part\", \"Specification\", \"Material\", \"Substance\"],\n",
    "    \"Specification\": [\"Specification\", \"Coating\", \"Material\", \"Substance\"],\n",
    "    \"Material\": [\"Substance\"],\n",
    "    \"Coating\": [\"Substance\"],\n",
    "    \"Substance\": [],\n",
    "}"
   ]
  },
  {
   "cell_type": "markdown",
   "id": "5a7d220f",
   "metadata": {},
   "source": [
    "The function itself performs the flattening using a stack-based approach, where the children of the item currently\n",
    "being processed are iteratively added to the ``items_to_process`` stack. Because this stack is being both modified and\n",
    "iterated over, you must use a ``while`` loop and ``.pop()`` statement instead of a ``for`` loop."
   ]
  },
  {
   "cell_type": "markdown",
   "id": "3e111a45",
   "metadata": {
    "lines_to_next_cell": 2
   },
   "source": [
    "The stack uses a special type of collection called a ``deque``, which is similar to a ``list`` but is optimized for\n",
    "these sorts of stack-type use cases involving repeated calls to ``.pop()`` and ``.extend()`` statements."
   ]
  },
  {
   "cell_type": "code",
   "execution_count": 5,
   "id": "09f6df3d",
   "metadata": {
    "execution": {
     "iopub.execute_input": "2025-07-29T16:54:06.163260Z",
     "iopub.status.busy": "2025-07-29T16:54:06.163110Z",
     "iopub.status.idle": "2025-07-29T16:54:06.168218Z",
     "shell.execute_reply": "2025-07-29T16:54:06.167798Z"
    },
    "tags": []
   },
   "outputs": [],
   "source": [
    "from collections import deque\n",
    "\n",
    "\n",
    "def flatten_bom(root_part):\n",
    "    result = []  # List to contain all dicts\n",
    "\n",
    "    # The stack contains a deque of tuples: (item_object, item_type, level, parent_id)\n",
    "    # First seed the stack with the root part\n",
    "    items_to_process = deque([(root_part, \"Part\", 0, None)])\n",
    "\n",
    "    while items_to_process:\n",
    "        # Get the next item from the stack\n",
    "        item_object, item_type, level, parent = items_to_process.pop()\n",
    "        # Create the dict\n",
    "        row = create_dict(item_object, item_type, level, parent)\n",
    "        # Append it to the result list\n",
    "        result.append(row)\n",
    "\n",
    "        # Compute the properties for the child items\n",
    "        item_id = item_object.record_history_identity\n",
    "        child_items = schema[item_type]\n",
    "        child_level = level + 1\n",
    "\n",
    "        # Add the child items to the stack\n",
    "        if \"Part\" in child_items:\n",
    "            items_to_process.extend([(p, \"Part\", child_level, item_id)\n",
    "                                     for p in item_object.parts])\n",
    "        if \"Specification\" in child_items:\n",
    "            items_to_process.extend([(s, \"Specification\", child_level, item_id)\n",
    "                                     for s in item_object.specifications])\n",
    "        if \"Material\" in child_items:\n",
    "            items_to_process.extend([(m, \"Material\", child_level, item_id)\n",
    "                                     for m in item_object.materials])\n",
    "        if \"Coating\" in child_items:\n",
    "            items_to_process.extend([(c, \"Coating\", child_level, item_id)\n",
    "                                     for c in item_object.coatings])\n",
    "        if \"Substance\" in child_items:\n",
    "            items_to_process.extend([(s, \"Substance\", child_level, item_id)\n",
    "                                     for s in item_object.substances])\n",
    "\n",
    "    # When the stack is empty, the while loop exists. Return the result list.\n",
    "    return result"
   ]
  },
  {
   "cell_type": "markdown",
   "id": "6cd0c463",
   "metadata": {},
   "source": [
    "Finally, call the preceding function against the results from the compliance query and use the list to create a\n",
    "``pandas.DataFrame`` object."
   ]
  },
  {
   "cell_type": "code",
   "execution_count": 6,
   "id": "2e81d4f8",
   "metadata": {
    "execution": {
     "iopub.execute_input": "2025-07-29T16:54:06.169710Z",
     "iopub.status.busy": "2025-07-29T16:54:06.169540Z",
     "iopub.status.idle": "2025-07-29T16:54:07.383092Z",
     "shell.execute_reply": "2025-07-29T16:54:07.382576Z"
    },
    "tags": []
   },
   "outputs": [
    {
     "name": "stdout",
     "output_type": "stream",
     "text": [
      "301 rows\n"
     ]
    },
    {
     "data": {
      "text/html": [
       "<div>\n",
       "<style scoped>\n",
       "    .dataframe tbody tr th:only-of-type {\n",
       "        vertical-align: middle;\n",
       "    }\n",
       "\n",
       "    .dataframe tbody tr th {\n",
       "        vertical-align: top;\n",
       "    }\n",
       "\n",
       "    .dataframe thead th {\n",
       "        text-align: right;\n",
       "    }\n",
       "</style>\n",
       "<table border=\"1\" class=\"dataframe\">\n",
       "  <thead>\n",
       "    <tr style=\"text-align: right;\">\n",
       "      <th></th>\n",
       "      <th>Item</th>\n",
       "      <th>Parent</th>\n",
       "      <th>Type</th>\n",
       "      <th>SVHC</th>\n",
       "      <th>Level</th>\n",
       "    </tr>\n",
       "  </thead>\n",
       "  <tbody>\n",
       "    <tr>\n",
       "      <th>0</th>\n",
       "      <td>565060</td>\n",
       "      <td>None</td>\n",
       "      <td>Part</td>\n",
       "      <td>SVHC, WatchListHasSubstanceAboveThreshold</td>\n",
       "      <td>0</td>\n",
       "    </tr>\n",
       "    <tr>\n",
       "      <th>1</th>\n",
       "      <td>None</td>\n",
       "      <td>565060</td>\n",
       "      <td>Part</td>\n",
       "      <td>SVHC, WatchListHasSubstanceAboveThreshold</td>\n",
       "      <td>1</td>\n",
       "    </tr>\n",
       "    <tr>\n",
       "      <th>2</th>\n",
       "      <td>None</td>\n",
       "      <td>None</td>\n",
       "      <td>Part</td>\n",
       "      <td>SVHC, WatchListHasSubstanceAboveThreshold</td>\n",
       "      <td>2</td>\n",
       "    </tr>\n",
       "    <tr>\n",
       "      <th>3</th>\n",
       "      <td>None</td>\n",
       "      <td>None</td>\n",
       "      <td>Material</td>\n",
       "      <td>SVHC, WatchListCompliant</td>\n",
       "      <td>3</td>\n",
       "    </tr>\n",
       "    <tr>\n",
       "      <th>4</th>\n",
       "      <td>None</td>\n",
       "      <td>None</td>\n",
       "      <td>Specification</td>\n",
       "      <td>SVHC, WatchListHasSubstanceAboveThreshold</td>\n",
       "      <td>3</td>\n",
       "    </tr>\n",
       "  </tbody>\n",
       "</table>\n",
       "</div>"
      ],
      "text/plain": [
       "     Item  Parent           Type                                       SVHC  \\\n",
       "0  565060    None           Part  SVHC, WatchListHasSubstanceAboveThreshold   \n",
       "1    None  565060           Part  SVHC, WatchListHasSubstanceAboveThreshold   \n",
       "2    None    None           Part  SVHC, WatchListHasSubstanceAboveThreshold   \n",
       "3    None    None       Material                   SVHC, WatchListCompliant   \n",
       "4    None    None  Specification  SVHC, WatchListHasSubstanceAboveThreshold   \n",
       "\n",
       "   Level  \n",
       "0      0  \n",
       "1      1  \n",
       "2      2  \n",
       "3      3  \n",
       "4      3  "
      ]
     },
     "execution_count": 6,
     "metadata": {},
     "output_type": "execute_result"
    }
   ],
   "source": [
    "import pandas as pd\n",
    "\n",
    "data = flatten_bom(part_result.compliance_by_part_and_indicator[0])\n",
    "df_full = pd.DataFrame(data)\n",
    "print(f\"{len(df_full)} rows\")\n",
    "df_full.head()"
   ]
  },
  {
   "cell_type": "markdown",
   "id": "0fe51115",
   "metadata": {},
   "source": [
    "## Postprocess the ``pandas.DataFrame`` object"
   ]
  },
  {
   "cell_type": "markdown",
   "id": "2235685b",
   "metadata": {},
   "source": [
    "Now that you have the data in a ``pandas.DataFrame`` object, performing operations across all levels of the\n",
    "structure is easier. For example, you can delete all rows that are less than the ``WatchListAboveThreshold``\n",
    "state, retaining only rows that are non-compliant. (Note that this reduces the number of rows significantly.)"
   ]
  },
  {
   "cell_type": "code",
   "execution_count": 7,
   "id": "0abdb322",
   "metadata": {
    "execution": {
     "iopub.execute_input": "2025-07-29T16:54:07.385131Z",
     "iopub.status.busy": "2025-07-29T16:54:07.384666Z",
     "iopub.status.idle": "2025-07-29T16:54:07.393204Z",
     "shell.execute_reply": "2025-07-29T16:54:07.392749Z"
    },
    "tags": []
   },
   "outputs": [
    {
     "name": "stdout",
     "output_type": "stream",
     "text": [
      "18 rows\n"
     ]
    },
    {
     "data": {
      "text/html": [
       "<div>\n",
       "<style scoped>\n",
       "    .dataframe tbody tr th:only-of-type {\n",
       "        vertical-align: middle;\n",
       "    }\n",
       "\n",
       "    .dataframe tbody tr th {\n",
       "        vertical-align: top;\n",
       "    }\n",
       "\n",
       "    .dataframe thead th {\n",
       "        text-align: right;\n",
       "    }\n",
       "</style>\n",
       "<table border=\"1\" class=\"dataframe\">\n",
       "  <thead>\n",
       "    <tr style=\"text-align: right;\">\n",
       "      <th></th>\n",
       "      <th>Item</th>\n",
       "      <th>Parent</th>\n",
       "      <th>Type</th>\n",
       "      <th>SVHC</th>\n",
       "      <th>Level</th>\n",
       "    </tr>\n",
       "  </thead>\n",
       "  <tbody>\n",
       "    <tr>\n",
       "      <th>0</th>\n",
       "      <td>565060</td>\n",
       "      <td>None</td>\n",
       "      <td>Part</td>\n",
       "      <td>SVHC, WatchListHasSubstanceAboveThreshold</td>\n",
       "      <td>0</td>\n",
       "    </tr>\n",
       "    <tr>\n",
       "      <th>1</th>\n",
       "      <td>None</td>\n",
       "      <td>565060</td>\n",
       "      <td>Part</td>\n",
       "      <td>SVHC, WatchListHasSubstanceAboveThreshold</td>\n",
       "      <td>1</td>\n",
       "    </tr>\n",
       "    <tr>\n",
       "      <th>2</th>\n",
       "      <td>None</td>\n",
       "      <td>None</td>\n",
       "      <td>Part</td>\n",
       "      <td>SVHC, WatchListHasSubstanceAboveThreshold</td>\n",
       "      <td>2</td>\n",
       "    </tr>\n",
       "    <tr>\n",
       "      <th>4</th>\n",
       "      <td>None</td>\n",
       "      <td>None</td>\n",
       "      <td>Specification</td>\n",
       "      <td>SVHC, WatchListHasSubstanceAboveThreshold</td>\n",
       "      <td>3</td>\n",
       "    </tr>\n",
       "    <tr>\n",
       "      <th>5</th>\n",
       "      <td>83146</td>\n",
       "      <td>None</td>\n",
       "      <td>Coating</td>\n",
       "      <td>SVHC, WatchListHasSubstanceAboveThreshold</td>\n",
       "      <td>4</td>\n",
       "    </tr>\n",
       "  </tbody>\n",
       "</table>\n",
       "</div>"
      ],
      "text/plain": [
       "     Item  Parent           Type                                       SVHC  \\\n",
       "0  565060    None           Part  SVHC, WatchListHasSubstanceAboveThreshold   \n",
       "1    None  565060           Part  SVHC, WatchListHasSubstanceAboveThreshold   \n",
       "2    None    None           Part  SVHC, WatchListHasSubstanceAboveThreshold   \n",
       "4    None    None  Specification  SVHC, WatchListHasSubstanceAboveThreshold   \n",
       "5   83146    None        Coating  SVHC, WatchListHasSubstanceAboveThreshold   \n",
       "\n",
       "   Level  \n",
       "0      0  \n",
       "1      1  \n",
       "2      2  \n",
       "4      3  \n",
       "5      4  "
      ]
     },
     "execution_count": 7,
     "metadata": {},
     "output_type": "execute_result"
    }
   ],
   "source": [
    "threshold = indicators.WatchListFlag.WatchListAboveThreshold\n",
    "df_non_compliant = df_full.drop(df_full[df_full.SVHC < threshold].index)\n",
    "print(f\"{len(df_non_compliant)} rows\")\n",
    "df_non_compliant.head()"
   ]
  }
 ],
 "metadata": {
  "jupytext": {
   "formats": "ipynb,py:light"
  },
  "kernelspec": {
   "display_name": "Python 3 (ipykernel)",
   "language": "python",
   "name": "python3"
  },
  "language_info": {
   "codemirror_mode": {
    "name": "ipython",
    "version": 3
   },
   "file_extension": ".py",
   "mimetype": "text/x-python",
   "name": "python",
   "nbconvert_exporter": "python",
   "pygments_lexer": "ipython3",
   "version": "3.11.13"
  }
 },
 "nbformat": 4,
 "nbformat_minor": 5
}
