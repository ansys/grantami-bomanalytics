{
 "cells": [
  {
   "cell_type": "markdown",
   "id": "68ec9503",
   "metadata": {},
   "source": [
    "# Database-specific configuration options"
   ]
  },
  {
   "cell_type": "markdown",
   "id": "82ce8c65",
   "metadata": {},
   "source": [
    "Granta MI BoM Analytics work with an off-the-shelf Granta MI Restricted Substances database. However, there are\n",
    "some situations in which additional run-time configuration changes are required:\n",
    "\n",
    "- If the database key or table names have been modified from their default values, these must be set on the\n",
    "  ``Connection`` object.\n",
    "- If the number of linked records is very large, the batch sizes should be changed for each query. For more\n",
    "  informatioon, see [Batching requests](../../api/batching.rst)."
   ]
  },
  {
   "cell_type": "markdown",
   "id": "5d5ec3f2",
   "metadata": {},
   "source": [
    "## Specify a custom database key or table name"
   ]
  },
  {
   "cell_type": "markdown",
   "id": "c4fd1ad6",
   "metadata": {},
   "source": [
    "The default database key, ``MI_Restricted_Substances``, is used if no database key is specified. To specify a\n",
    "key, use the ``Connection.set_database_details()`` method. The specified key is then used for all queries made\n",
    "with this ``Connection`` object."
   ]
  },
  {
   "cell_type": "code",
   "execution_count": 1,
   "id": "0ad659bf",
   "metadata": {
    "execution": {
     "iopub.execute_input": "2023-08-29T18:29:42.916118Z",
     "iopub.status.busy": "2023-08-29T18:29:42.915850Z",
     "iopub.status.idle": "2023-08-29T18:29:44.720428Z",
     "shell.execute_reply": "2023-08-29T18:29:44.719512Z"
    },
    "tags": []
   },
   "outputs": [
    {
     "data": {
      "text/plain": [
       "<BomServicesClient: url=\"http://my_grantami_server/mi_servicelayer\", maximum_spec_link_depth=\"unlimited\", dbkey=\"ACME_SUBSTANCES_DATABASE\">"
      ]
     },
     "execution_count": 1,
     "metadata": {},
     "output_type": "execute_result"
    }
   ],
   "source": [
    "from ansys.grantami.bomanalytics import Connection\n",
    "\n",
    "server_url = \"http://my_grantami_server/mi_servicelayer\"\n",
    "cxn = Connection(server_url).with_credentials(\"user_name\", \"password\").connect()\n",
    "cxn.set_database_details(database_key=\"ACME_SUBSTANCES_DATABASE\")\n",
    "cxn"
   ]
  },
  {
   "cell_type": "markdown",
   "id": "6c71047f",
   "metadata": {},
   "source": [
    "It is also possible to specify alternative names for the relevant restricted substances tables, if they\n",
    "have been modified from the defaults. You provide the names to the ``.set_database_details()`` method in the same way."
   ]
  },
  {
   "cell_type": "code",
   "execution_count": 2,
   "id": "ceb0c0cc",
   "metadata": {
    "execution": {
     "iopub.execute_input": "2023-08-29T18:29:44.725653Z",
     "iopub.status.busy": "2023-08-29T18:29:44.725232Z",
     "iopub.status.idle": "2023-08-29T18:29:44.730258Z",
     "shell.execute_reply": "2023-08-29T18:29:44.729677Z"
    },
    "tags": []
   },
   "outputs": [
    {
     "data": {
      "text/plain": [
       "<BomServicesClient: url=\"http://my_grantami_server/mi_servicelayer\", maximum_spec_link_depth=\"unlimited\", dbkey=\"MI_Restricted_Substances\", inhouse_materials_table_name=\"ACME Materials\">"
      ]
     },
     "execution_count": 2,
     "metadata": {},
     "output_type": "execute_result"
    }
   ],
   "source": [
    "cxn.set_database_details(in_house_materials_table_name=\"ACME Materials\")\n",
    "cxn"
   ]
  },
  {
   "cell_type": "markdown",
   "id": "1800dc75",
   "metadata": {},
   "source": [
    "## Batch size"
   ]
  },
  {
   "cell_type": "markdown",
   "id": "8406604f",
   "metadata": {},
   "source": [
    "The queries that can be performed with this package are batched if they exceed a certain size. This is achieved by\n",
    "splitting the list of parts, materials, etc. into smaller lists to reduce the overall time taken\n",
    "to perform the query. Default batch sizes have been chosen based on typical tabular attribute sizes, but\n",
    "these might need to be changed in some situations. For examples, see the relevant page in the API documentation."
   ]
  },
  {
   "cell_type": "markdown",
   "id": "5e074470",
   "metadata": {},
   "source": [
    "The batch size is included in the query ``__repr__``. The following cell shows a ``SpecificationComplianceQuery``\n",
    "object with the default batch size."
   ]
  },
  {
   "cell_type": "code",
   "execution_count": 3,
   "id": "60b860fc",
   "metadata": {
    "execution": {
     "iopub.execute_input": "2023-08-29T18:29:44.734084Z",
     "iopub.status.busy": "2023-08-29T18:29:44.733493Z",
     "iopub.status.idle": "2023-08-29T18:29:44.738939Z",
     "shell.execute_reply": "2023-08-29T18:29:44.738205Z"
    },
    "tags": []
   },
   "outputs": [
    {
     "data": {
      "text/plain": [
       "<SpecificationComplianceQuery: 0 specifications, batch size = 10, 0 indicators>"
      ]
     },
     "execution_count": 3,
     "metadata": {},
     "output_type": "execute_result"
    }
   ],
   "source": [
    "from ansys.grantami.bomanalytics import queries\n",
    "\n",
    "spec_query = queries.SpecificationComplianceQuery()\n",
    "spec_query"
   ]
  },
  {
   "cell_type": "markdown",
   "id": "08c39374",
   "metadata": {},
   "source": [
    "You can manually set the batch size like this:"
   ]
  },
  {
   "cell_type": "code",
   "execution_count": 4,
   "id": "2f081f29",
   "metadata": {
    "execution": {
     "iopub.execute_input": "2023-08-29T18:29:44.743444Z",
     "iopub.status.busy": "2023-08-29T18:29:44.743050Z",
     "iopub.status.idle": "2023-08-29T18:29:44.748172Z",
     "shell.execute_reply": "2023-08-29T18:29:44.747425Z"
    },
    "tags": []
   },
   "outputs": [
    {
     "data": {
      "text/plain": [
       "<SpecificationComplianceQuery: 0 specifications, batch size = 5, 0 indicators>"
      ]
     },
     "execution_count": 4,
     "metadata": {},
     "output_type": "execute_result"
    }
   ],
   "source": [
    "spec_query = spec_query.with_batch_size(5)\n",
    "spec_query"
   ]
  },
  {
   "cell_type": "markdown",
   "id": "58bf27c4",
   "metadata": {},
   "source": [
    "## Specification to Specification links"
   ]
  },
  {
   "cell_type": "markdown",
   "id": "78556ebc",
   "metadata": {},
   "source": [
    "> Supported with Restricted Substances Reports 2023 R2 and newer"
   ]
  },
  {
   "cell_type": "markdown",
   "id": "2292a06d",
   "metadata": {},
   "source": [
    "The Restricted Substances database allows Specification records to be defined in terms of other Specification records.\n",
    "Since this is a recursive relationship, there is in principle no limit to the complexity of these\n",
    "Specification-to-Specification (spec-to-spec) hierarchies. By default, this package will consider every spec-to-spec\n",
    "hierarchy completely, with no truncation imposed."
   ]
  },
  {
   "cell_type": "markdown",
   "id": "141aee1a",
   "metadata": {},
   "source": [
    "For typical databases this is the correct and desired behavior, however in some circumstances this may cause query\n",
    "times and response sizes to become very large. In such cases you should control the maximum spec-to-spec hierarchy\n",
    "depth followed using the ``maximum_spec_link_depth`` parameter on the ``BomAnalyticsClient`` object."
   ]
  },
  {
   "cell_type": "markdown",
   "id": "c69c9fba",
   "metadata": {},
   "source": [
    "The default value is None, setting it to a positive integer will limit the depth to at most that many spec-to-spec\n",
    "links."
   ]
  },
  {
   "cell_type": "code",
   "execution_count": 5,
   "id": "08707d1a",
   "metadata": {
    "execution": {
     "iopub.execute_input": "2023-08-29T18:29:44.753493Z",
     "iopub.status.busy": "2023-08-29T18:29:44.752266Z",
     "iopub.status.idle": "2023-08-29T18:29:44.757859Z",
     "shell.execute_reply": "2023-08-29T18:29:44.757130Z"
    },
    "tags": []
   },
   "outputs": [
    {
     "data": {
      "text/plain": [
       "<BomServicesClient: url=\"http://my_grantami_server/mi_servicelayer\", maximum_spec_link_depth=2, dbkey=\"MI_Restricted_Substances\", inhouse_materials_table_name=\"ACME Materials\">"
      ]
     },
     "execution_count": 5,
     "metadata": {},
     "output_type": "execute_result"
    }
   ],
   "source": [
    "cxn.maximum_spec_link_depth = 2\n",
    "cxn"
   ]
  }
 ],
 "metadata": {
  "jupytext": {
   "formats": "ipynb,py:light"
  },
  "kernelspec": {
   "display_name": "Python 3 (ipykernel)",
   "language": "python",
   "name": "python3"
  },
  "language_info": {
   "codemirror_mode": {
    "name": "ipython",
    "version": 3
   },
   "file_extension": ".py",
   "mimetype": "text/x-python",
   "name": "python",
   "nbconvert_exporter": "python",
   "pygments_lexer": "ipython3",
   "version": "3.9.17"
  }
 },
 "nbformat": 4,
 "nbformat_minor": 5
}
