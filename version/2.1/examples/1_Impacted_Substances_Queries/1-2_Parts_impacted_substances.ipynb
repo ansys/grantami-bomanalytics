{
 "cells": [
  {
   "cell_type": "markdown",
   "id": "8f22a93e",
   "metadata": {
    "tags": []
   },
   "source": [
    "# Performing a Part Impacted Substances Query"
   ]
  },
  {
   "cell_type": "markdown",
   "id": "93806e50",
   "metadata": {},
   "source": [
    "A Part Impacted Substances Query is used to determine the substances associated with a part that are impacted by one\n",
    "or more defined legislations. The part record can represent either a single component, a subassembly, or a finished\n",
    "product, and therefore the substances can be associated with either the part record itself, or any other record that\n",
    "the part directly or indirectly references."
   ]
  },
  {
   "cell_type": "markdown",
   "id": "fa34f4cd",
   "metadata": {},
   "source": [
    "This example shows how to perform an Impacted Substance query on part records, and how to process the results."
   ]
  },
  {
   "cell_type": "markdown",
   "id": "7f6b9fd4",
   "metadata": {},
   "source": [
    "## Connecting to Granta MI"
   ]
  },
  {
   "cell_type": "markdown",
   "id": "2d7fc424",
   "metadata": {},
   "source": [
    "Import the ``Connection`` class and create the connection. See the [Getting Started](../0_Getting_started.ipynb)\n",
    "example for more details."
   ]
  },
  {
   "cell_type": "code",
   "execution_count": 1,
   "id": "0d949540",
   "metadata": {
    "execution": {
     "iopub.execute_input": "2024-06-10T15:26:41.320638Z",
     "iopub.status.busy": "2024-06-10T15:26:41.320447Z",
     "iopub.status.idle": "2024-06-10T15:26:41.561740Z",
     "shell.execute_reply": "2024-06-10T15:26:41.561123Z"
    },
    "tags": []
   },
   "outputs": [],
   "source": [
    "from ansys.grantami.bomanalytics import Connection\n",
    "\n",
    "server_url = \"http://my_grantami_server/mi_servicelayer\"\n",
    "cxn = Connection(server_url).with_credentials(\"user_name\", \"password\").connect()"
   ]
  },
  {
   "cell_type": "markdown",
   "id": "f23a22c0",
   "metadata": {
    "tags": []
   },
   "source": [
    "## Building and Running the Query"
   ]
  },
  {
   "cell_type": "markdown",
   "id": "edae7683",
   "metadata": {},
   "source": [
    "The query is assembled by providing lists of part references and legislations of interest. The query will return\n",
    "the substances that are present in the specified parts and are impacted by the specified legislations.\n",
    "\n",
    "In this example, the 'Drill' part will be used. In contrast to the Material version of this query shown in\n",
    "a previous example, the Drill part does not reference any substances directly. Instead, it references\n",
    "sub-components, which in turn reference materials, which then reference substances. The Part Impacted Substances\n",
    "Query flattens all these layers of complexity and aggregates them together into a single list."
   ]
  },
  {
   "cell_type": "markdown",
   "id": "eb2ae705",
   "metadata": {},
   "source": [
    "First specify some constants that contain the part and legislation references we will use."
   ]
  },
  {
   "cell_type": "code",
   "execution_count": 2,
   "id": "657fbdea",
   "metadata": {
    "execution": {
     "iopub.execute_input": "2024-06-10T15:26:41.564184Z",
     "iopub.status.busy": "2024-06-10T15:26:41.563995Z",
     "iopub.status.idle": "2024-06-10T15:26:41.566840Z",
     "shell.execute_reply": "2024-06-10T15:26:41.566319Z"
    },
    "tags": []
   },
   "outputs": [],
   "source": [
    "DRILL = \"DRILL\"\n",
    "WING = \"asm_flap_mating\"\n",
    "SIN_LIST = \"SINList\"\n",
    "REACH = \"Candidate_AnnexXV\""
   ]
  },
  {
   "cell_type": "markdown",
   "id": "a64a4e83",
   "metadata": {},
   "source": [
    "Next, import the ``queries`` module and build the query with the references in the previous cell."
   ]
  },
  {
   "cell_type": "code",
   "execution_count": 3,
   "id": "a186994c",
   "metadata": {
    "execution": {
     "iopub.execute_input": "2024-06-10T15:26:41.568901Z",
     "iopub.status.busy": "2024-06-10T15:26:41.568728Z",
     "iopub.status.idle": "2024-06-10T15:26:41.575780Z",
     "shell.execute_reply": "2024-06-10T15:26:41.575291Z"
    },
    "tags": []
   },
   "outputs": [],
   "source": [
    "from ansys.grantami.bomanalytics import queries\n",
    "\n",
    "part_query = (\n",
    "    queries.PartImpactedSubstancesQuery()\n",
    "    .with_part_numbers([DRILL, WING])\n",
    "    .with_legislation_ids([SIN_LIST, REACH])\n",
    ")"
   ]
  },
  {
   "cell_type": "markdown",
   "id": "094b6205",
   "metadata": {},
   "source": [
    "Finally, run the query. Passing a ``PartImpactedSubstancesQuery`` object to the ``Connection.run()`` method returns a\n",
    "``PartImpactedSubstancesQueryResult`` object."
   ]
  },
  {
   "cell_type": "code",
   "execution_count": 4,
   "id": "69b2322f",
   "metadata": {
    "execution": {
     "iopub.execute_input": "2024-06-10T15:26:41.578174Z",
     "iopub.status.busy": "2024-06-10T15:26:41.577815Z",
     "iopub.status.idle": "2024-06-10T15:26:45.482063Z",
     "shell.execute_reply": "2024-06-10T15:26:45.481330Z"
    },
    "tags": []
   },
   "outputs": [
    {
     "data": {
      "text/plain": [
       "<PartImpactedSubstancesQueryResult: 2 PartWithImpactedSubstances results>"
      ]
     },
     "execution_count": 4,
     "metadata": {},
     "output_type": "execute_result"
    }
   ],
   "source": [
    "part_result = cxn.run(part_query)\n",
    "part_result"
   ]
  },
  {
   "cell_type": "markdown",
   "id": "48ec8773",
   "metadata": {},
   "source": [
    "A ``PartImpactedSubstancesQueryResult`` object contains three properties:\n",
    "``impacted_substances_by_part``, ``impacted_substances_by_legislation`` and ``impacted_substances``. They provide\n",
    "different views of the impacted substances at different levels of granularity."
   ]
  },
  {
   "cell_type": "markdown",
   "id": "4969c1fa",
   "metadata": {},
   "source": [
    "## Results Grouped by Part"
   ]
  },
  {
   "cell_type": "markdown",
   "id": "ce8807ca",
   "metadata": {},
   "source": [
    "This property is structured first as a list of ``PartWithImpactedSubstancesResult`` objects, each of which contains\n",
    "a dictionary of lists of ``ImpactedSubstance`` objects keyed by legislation, or a single flat list of all\n",
    "substances."
   ]
  },
  {
   "cell_type": "markdown",
   "id": "b8f47c37",
   "metadata": {},
   "source": [
    "We can simplify the structure because we are only using Part Numbers. First, create a\n",
    "dictionary that maps Part Numbers to lists of substances impacted by the 'SIN List'."
   ]
  },
  {
   "cell_type": "code",
   "execution_count": 5,
   "id": "c9c5ccfe",
   "metadata": {
    "execution": {
     "iopub.execute_input": "2024-06-10T15:26:45.484828Z",
     "iopub.status.busy": "2024-06-10T15:26:45.484635Z",
     "iopub.status.idle": "2024-06-10T15:26:45.487873Z",
     "shell.execute_reply": "2024-06-10T15:26:45.487326Z"
    },
    "tags": []
   },
   "outputs": [],
   "source": [
    "substances_by_part = {}\n",
    "for part in part_result.impacted_substances_by_part:\n",
    "    part_substances = part.substances_by_legislation[SIN_LIST]\n",
    "    substances_by_part[part.part_number] = part_substances"
   ]
  },
  {
   "cell_type": "markdown",
   "id": "6354975b",
   "metadata": {},
   "source": [
    "Then use the ``tabulate`` package to print a table of the substances and their quantities for the wing assembly only."
   ]
  },
  {
   "cell_type": "code",
   "execution_count": 6,
   "id": "f54531f8",
   "metadata": {
    "execution": {
     "iopub.execute_input": "2024-06-10T15:26:45.490084Z",
     "iopub.status.busy": "2024-06-10T15:26:45.489895Z",
     "iopub.status.idle": "2024-06-10T15:26:45.498727Z",
     "shell.execute_reply": "2024-06-10T15:26:45.498187Z"
    },
    "tags": []
   },
   "outputs": [
    {
     "name": "stdout",
     "output_type": "stream",
     "text": [
      "Substances impacted by \"SINList\" in \"asm_flap_mating\"\n",
      "CAS Number    Amount (wt. %)\n",
      "------------  ----------------\n",
      "872-50-4\n"
     ]
    }
   ],
   "source": [
    "from tabulate import tabulate\n",
    "\n",
    "rows = [(substance.cas_number, substance.max_percentage_amount_in_material)\n",
    "        for substance in substances_by_part[WING]]\n",
    "\n",
    "print(f'Substances impacted by \"{SIN_LIST}\" in \"{WING}\"')\n",
    "print(tabulate(rows, headers=[\"CAS Number\", \"Amount (wt. %)\"]))"
   ]
  },
  {
   "cell_type": "markdown",
   "id": "75854024",
   "metadata": {},
   "source": [
    "## Results Grouped by Legislation"
   ]
  },
  {
   "cell_type": "markdown",
   "id": "a106e115",
   "metadata": {},
   "source": [
    "This property merges the results across all parts, returning a single dictionary of legislations that contain\n",
    "all impacted substances for all parts."
   ]
  },
  {
   "cell_type": "markdown",
   "id": "f4767b78",
   "metadata": {},
   "source": [
    "As before, use the ``tabulate`` package to print a table of substances. This time we are including substances in\n",
    "all parts, but only those on the SIN List."
   ]
  },
  {
   "cell_type": "code",
   "execution_count": 7,
   "id": "314b37af",
   "metadata": {
    "execution": {
     "iopub.execute_input": "2024-06-10T15:26:45.501353Z",
     "iopub.status.busy": "2024-06-10T15:26:45.500918Z",
     "iopub.status.idle": "2024-06-10T15:26:45.505372Z",
     "shell.execute_reply": "2024-06-10T15:26:45.504735Z"
    },
    "tags": []
   },
   "outputs": [
    {
     "name": "stdout",
     "output_type": "stream",
     "text": [
      "Substances impacted by \"SINList\" in all parts (5/81)\n",
      "CAS Number    Amount (wt. %)\n",
      "------------  ----------------\n",
      "11113-75-0\n",
      "12035-71-1\n",
      "12068-61-0\n",
      "12142-88-0\n",
      "13775-54-7\n"
     ]
    }
   ],
   "source": [
    "part_substances_sin = part_result.impacted_substances_by_legislation[SIN_LIST]\n",
    "rows = [(substance.cas_number, substance.max_percentage_amount_in_material)\n",
    "        for substance in part_substances_sin]\n",
    "print(f'Substances impacted by \"{SIN_LIST}\" in all parts (5/{len(rows)})')\n",
    "print(tabulate(rows[:5], headers=[\"CAS Number\", \"Amount (wt. %)\"]))"
   ]
  },
  {
   "cell_type": "markdown",
   "id": "9a50f86c",
   "metadata": {},
   "source": [
    "## Results as a Flat List"
   ]
  },
  {
   "cell_type": "markdown",
   "id": "4d5b3ef6",
   "metadata": {},
   "source": [
    "This property reduces the granularity further, producing a single flattened list of substances across all legislations\n",
    "and for all parts."
   ]
  },
  {
   "cell_type": "markdown",
   "id": "b57d9bab",
   "metadata": {},
   "source": [
    "Use the ``tabulate`` package to print a third table of substances. Because we are using the\n",
    "``impacted_substances`` property, we only have one list of ``ImpactedSubstance`` objects, which covers both\n",
    "legislations and both the parts specified above."
   ]
  },
  {
   "cell_type": "code",
   "execution_count": 8,
   "id": "7df4d73f",
   "metadata": {
    "execution": {
     "iopub.execute_input": "2024-06-10T15:26:45.507774Z",
     "iopub.status.busy": "2024-06-10T15:26:45.507586Z",
     "iopub.status.idle": "2024-06-10T15:26:45.511918Z",
     "shell.execute_reply": "2024-06-10T15:26:45.511314Z"
    },
    "tags": []
   },
   "outputs": [
    {
     "name": "stdout",
     "output_type": "stream",
     "text": [
      "Impacted substances across all legislations in \"DRILL\" (5/131)\n",
      "CAS Number    Amount (wt. %)\n",
      "------------  ----------------\n",
      "11113-75-0\n",
      "12035-71-1\n",
      "12068-61-0\n",
      "12142-88-0\n",
      "13775-54-7\n"
     ]
    }
   ],
   "source": [
    "part_substances_all = part_result.impacted_substances\n",
    "rows = [(substance.cas_number, substance.max_percentage_amount_in_material)\n",
    "        for substance in part_substances_all]\n",
    "print(f'Impacted substances across all legislations in \"DRILL\" (5/{len(rows)})')\n",
    "print(tabulate(rows[:5], headers=[\"CAS Number\", \"Amount (wt. %)\"]))"
   ]
  }
 ],
 "metadata": {
  "jupytext": {
   "formats": "ipynb,py:light"
  },
  "kernelspec": {
   "display_name": "Python 3 (ipykernel)",
   "language": "python",
   "name": "python3"
  },
  "language_info": {
   "codemirror_mode": {
    "name": "ipython",
    "version": 3
   },
   "file_extension": ".py",
   "mimetype": "text/x-python",
   "name": "python",
   "nbconvert_exporter": "python",
   "pygments_lexer": "ipython3",
   "version": "3.9.19"
  }
 },
 "nbformat": 4,
 "nbformat_minor": 5
}
