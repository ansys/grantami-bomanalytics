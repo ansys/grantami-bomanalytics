{
 "cells": [
  {
   "cell_type": "markdown",
   "id": "9738ba76",
   "metadata": {},
   "source": [
    "# Performing a Part Compliance Query"
   ]
  },
  {
   "cell_type": "markdown",
   "id": "57bfcf1b",
   "metadata": {},
   "source": [
    "A Part Compliance Query determines whether one or more parts are compliant with the specified indicators. This is\n",
    "done by first finding all substances directly or indirectly associated with that part, determining compliance for\n",
    "those substances, and then rolling up the results to the material."
   ]
  },
  {
   "cell_type": "markdown",
   "id": "600eacc2",
   "metadata": {},
   "source": [
    "## Connecting to Granta MI"
   ]
  },
  {
   "cell_type": "markdown",
   "id": "c527299c",
   "metadata": {},
   "source": [
    "Import the ``Connection`` class and create the connection. See the [Getting Started](../0_Getting_started.ipynb)\n",
    "example for more details."
   ]
  },
  {
   "cell_type": "code",
   "execution_count": 1,
   "id": "63466a01",
   "metadata": {
    "execution": {
     "iopub.execute_input": "2023-03-17T09:34:31.127348Z",
     "iopub.status.busy": "2023-03-17T09:34:31.126876Z",
     "iopub.status.idle": "2023-03-17T09:34:32.493200Z",
     "shell.execute_reply": "2023-03-17T09:34:32.492559Z"
    },
    "tags": []
   },
   "outputs": [],
   "source": [
    "from ansys.grantami.bomanalytics import Connection\n",
    "\n",
    "server_url = \"http://my_grantami_server/mi_servicelayer\"\n",
    "cxn = Connection(server_url).with_credentials(\"user_name\", \"password\").connect()"
   ]
  },
  {
   "cell_type": "markdown",
   "id": "4f120d46",
   "metadata": {},
   "source": [
    "## Defining an Indicator"
   ]
  },
  {
   "cell_type": "markdown",
   "id": "afe79da1",
   "metadata": {},
   "source": [
    "A Compliance query determines compliance against 'Indicators', as opposed to an Impacted Substances query which\n",
    "determines compliance directly against legislations.\n",
    "\n",
    "There are two types of Indicator object (``WatchListIndicator`` and ``RohsIndicator``), and the syntax presented below\n",
    "applies to both. The differences in the internal implementation of the two objects are described in the API\n",
    "documentation.\n",
    "\n",
    "Generally speaking, if a substance is impacted by a legislation associated with an indicator, and in a quantity\n",
    "above a specified threshold, the substance is non-compliant with that indicator. This non-compliance applies to\n",
    "any other items in the BoM hierarchy that directly or indirectly include that substance."
   ]
  },
  {
   "cell_type": "markdown",
   "id": "69fe8006",
   "metadata": {},
   "source": [
    "First, create two ``WatchListIndicator`` objects."
   ]
  },
  {
   "cell_type": "code",
   "execution_count": 2,
   "id": "0c475a58",
   "metadata": {
    "execution": {
     "iopub.execute_input": "2023-03-17T09:34:32.496889Z",
     "iopub.status.busy": "2023-03-17T09:34:32.496663Z",
     "iopub.status.idle": "2023-03-17T09:34:32.500612Z",
     "shell.execute_reply": "2023-03-17T09:34:32.499979Z"
    },
    "tags": []
   },
   "outputs": [],
   "source": [
    "from ansys.grantami.bomanalytics import indicators\n",
    "\n",
    "svhc = indicators.WatchListIndicator(\n",
    "    name=\"SVHC\",\n",
    "    legislation_names=[\"REACH - The Candidate List\"],\n",
    "    default_threshold_percentage=0.1,\n",
    ")\n",
    "sin = indicators.WatchListIndicator(\n",
    "    name=\"SIN\",\n",
    "    legislation_names=[\"The SIN List 2.1 (Substitute It Now!)\"]\n",
    ")"
   ]
  },
  {
   "cell_type": "markdown",
   "id": "60178a10",
   "metadata": {
    "tags": []
   },
   "source": [
    "## Building and Running the Query"
   ]
  },
  {
   "cell_type": "markdown",
   "id": "a612a312",
   "metadata": {},
   "source": [
    "Next define the query itself. Parts can be referenced by Granta MI record reference or Part Number. The\n",
    "table containing the Part records is not required, since this is enforced by the Restricted Substances database\n",
    "schema."
   ]
  },
  {
   "cell_type": "code",
   "execution_count": 3,
   "id": "fcda5896",
   "metadata": {
    "execution": {
     "iopub.execute_input": "2023-03-17T09:34:32.504147Z",
     "iopub.status.busy": "2023-03-17T09:34:32.503929Z",
     "iopub.status.idle": "2023-03-17T09:34:32.507839Z",
     "shell.execute_reply": "2023-03-17T09:34:32.507240Z"
    },
    "tags": []
   },
   "outputs": [],
   "source": [
    "from ansys.grantami.bomanalytics import queries\n",
    "\n",
    "part_query = (\n",
    "    queries.PartComplianceQuery()\n",
    "    .with_part_numbers([\"asm_flap_mating\", \"DRILL\"])\n",
    "    .with_indicators([svhc])\n",
    ")"
   ]
  },
  {
   "cell_type": "markdown",
   "id": "de80f270",
   "metadata": {},
   "source": [
    "Finally, run the query. Passing a ``PartComplianceQuery`` object to the ``Connection.run()`` method returns a\n",
    "``PartComplianceQueryResult`` object."
   ]
  },
  {
   "cell_type": "code",
   "execution_count": 4,
   "id": "8c2de18b",
   "metadata": {
    "execution": {
     "iopub.execute_input": "2023-03-17T09:34:32.510884Z",
     "iopub.status.busy": "2023-03-17T09:34:32.510679Z",
     "iopub.status.idle": "2023-03-17T09:34:37.205469Z",
     "shell.execute_reply": "2023-03-17T09:34:37.204795Z"
    },
    "tags": []
   },
   "outputs": [
    {
     "data": {
      "text/plain": [
       "<PartComplianceQueryResult: 2 PartWithCompliance results>"
      ]
     },
     "execution_count": 4,
     "metadata": {},
     "output_type": "execute_result"
    }
   ],
   "source": [
    "part_result = cxn.run(part_query)\n",
    "part_result"
   ]
  },
  {
   "cell_type": "markdown",
   "id": "a992731c",
   "metadata": {
    "tags": []
   },
   "source": [
    "The result object contains two properties, ``compliance_by_part_and_indicator`` and ``compliance_by_indicator``."
   ]
  },
  {
   "cell_type": "markdown",
   "id": "b223addc",
   "metadata": {},
   "source": [
    "## Results Grouped by Part"
   ]
  },
  {
   "cell_type": "markdown",
   "id": "044f9327",
   "metadata": {
    "tags": []
   },
   "source": [
    "``compliance_by_part_and_indicator`` contains a list of ``PartWithComplianceResult`` objects with the\n",
    "reference to the part record and the compliance status for each indicator.\n",
    "\n",
    "In Granta MI, Parts can link to the following record types:\n",
    "\n",
    "- Parts\n",
    "- Specifications (which can link to Specifications, Materials, Substances, and Coatings)\n",
    "- Materials (which can link to Substances)\n",
    "- Substances\n",
    "\n",
    "Because compliance of a part is determined based on the compliance of the items that the record is linked to, the\n",
    "corresponding ``ResultWithCompliance`` objects are included in the parent ``PartWithComplianceResult``, each with\n",
    "their own compliance status."
   ]
  },
  {
   "cell_type": "markdown",
   "id": "98baba0f",
   "metadata": {},
   "source": [
    "Since we specified two part records, we have received two result objects back. In this example, we will only look in\n",
    "more detail at results for the wing flap assembly."
   ]
  },
  {
   "cell_type": "code",
   "execution_count": 5,
   "id": "aca03feb",
   "metadata": {
    "execution": {
     "iopub.execute_input": "2023-03-17T09:34:37.209321Z",
     "iopub.status.busy": "2023-03-17T09:34:37.209101Z",
     "iopub.status.idle": "2023-03-17T09:34:37.212776Z",
     "shell.execute_reply": "2023-03-17T09:34:37.212152Z"
    },
    "tags": []
   },
   "outputs": [
    {
     "name": "stdout",
     "output_type": "stream",
     "text": [
      "Wing compliance status: WatchListHasSubstanceAboveThreshold\n"
     ]
    }
   ],
   "source": [
    "wing = part_result.compliance_by_part_and_indicator[0]\n",
    "print(f\"Wing compliance status: {wing.indicators['SVHC'].flag.name}\")"
   ]
  },
  {
   "cell_type": "markdown",
   "id": "df237396",
   "metadata": {},
   "source": [
    "This tells us that the wing flap assembly contains an SVHC above the 0.1% threshold."
   ]
  },
  {
   "cell_type": "markdown",
   "id": "f5e15329",
   "metadata": {},
   "source": [
    "We can print the parts below this part that also contain an SVHC above the threshold. The parts referenced by the\n",
    "``wing`` part are available in the ``parts`` property."
   ]
  },
  {
   "cell_type": "code",
   "execution_count": 6,
   "id": "9f3f689a",
   "metadata": {
    "execution": {
     "iopub.execute_input": "2023-03-17T09:34:37.216773Z",
     "iopub.status.busy": "2023-03-17T09:34:37.216558Z",
     "iopub.status.idle": "2023-03-17T09:34:37.220730Z",
     "shell.execute_reply": "2023-03-17T09:34:37.220106Z"
    },
    "tags": []
   },
   "outputs": [
    {
     "name": "stdout",
     "output_type": "stream",
     "text": [
      "1 parts that contain SVHCs\n",
      "Part: 564821\n"
     ]
    }
   ],
   "source": [
    "above_threshold_flag = svhc.available_flags.WatchListAboveThreshold\n",
    "parts_contain_svhcs = [part for part in wing.parts\n",
    "                       if part.indicators[\"SVHC\"] >= above_threshold_flag]\n",
    "print(f\"{len(parts_contain_svhcs)} parts that contain SVHCs\")\n",
    "for part in parts_contain_svhcs:\n",
    "    print(f\"Part: {part.record_history_identity}\")"
   ]
  },
  {
   "cell_type": "markdown",
   "id": "81ae28d1",
   "metadata": {
    "lines_to_next_cell": 2
   },
   "source": [
    "This process can be performed recursively to show a structure of each part that contains SVHCs either directly or\n",
    "indirectly. The cells below implement the code above in a function that can be called recursively, and then call it\n",
    "on the wing flap assembly."
   ]
  },
  {
   "cell_type": "code",
   "execution_count": 7,
   "id": "cd083444",
   "metadata": {
    "execution": {
     "iopub.execute_input": "2023-03-17T09:34:37.224311Z",
     "iopub.status.busy": "2023-03-17T09:34:37.224108Z",
     "iopub.status.idle": "2023-03-17T09:34:37.227857Z",
     "shell.execute_reply": "2023-03-17T09:34:37.227242Z"
    },
    "tags": []
   },
   "outputs": [],
   "source": [
    "def recursively_print_parts_with_svhcs(parts, depth=0):\n",
    "    parts_contain_svhcs = [part for part in parts\n",
    "                           if part.indicators[\"SVHC\"] >= above_threshold_flag]\n",
    "    for part in parts_contain_svhcs:\n",
    "        print(f\"{'  '*depth}- Part: {part.record_history_identity}\")\n",
    "        recursively_print_parts_with_svhcs(part.parts, depth + 1)"
   ]
  },
  {
   "cell_type": "code",
   "execution_count": 8,
   "id": "a91efdad",
   "metadata": {
    "execution": {
     "iopub.execute_input": "2023-03-17T09:34:37.230553Z",
     "iopub.status.busy": "2023-03-17T09:34:37.230354Z",
     "iopub.status.idle": "2023-03-17T09:34:37.233775Z",
     "shell.execute_reply": "2023-03-17T09:34:37.233141Z"
    },
    "tags": []
   },
   "outputs": [
    {
     "name": "stdout",
     "output_type": "stream",
     "text": [
      "- Part: 564821\n",
      "  - Part: 564794\n",
      "  - Part: 564907\n",
      "  - Part: 565076\n",
      "  - Part: 565088\n"
     ]
    }
   ],
   "source": [
    "recursively_print_parts_with_svhcs(wing.parts)"
   ]
  },
  {
   "cell_type": "markdown",
   "id": "3d3d766a",
   "metadata": {
    "lines_to_next_cell": 2
   },
   "source": [
    "This can be extended further to include all possible BoM components in the recursive iteration, including\n",
    "specifications, coatings, and substances."
   ]
  },
  {
   "cell_type": "code",
   "execution_count": 9,
   "id": "e8db3db7",
   "metadata": {
    "execution": {
     "iopub.execute_input": "2023-03-17T09:34:37.237961Z",
     "iopub.status.busy": "2023-03-17T09:34:37.237750Z",
     "iopub.status.idle": "2023-03-17T09:34:37.242039Z",
     "shell.execute_reply": "2023-03-17T09:34:37.241418Z"
    },
    "tags": []
   },
   "outputs": [],
   "source": [
    "def recursively_print_parts_with_svhcs(parts, depth=0):\n",
    "    parts_contain_svhcs = [part for part in parts\n",
    "                           if part.indicators[\"SVHC\"] >= above_threshold_flag]\n",
    "    for part in parts_contain_svhcs:\n",
    "        print(f\"{'  '*depth}- Part: {part.record_history_identity}\")\n",
    "        recursively_print_parts_with_svhcs(part.parts, depth + 1)\n",
    "        print_materials_with_svhcs(part.materials, depth + 1)\n",
    "        print_specifications_with_svhcs(part.specifications, depth + 1)\n",
    "        print_substances_with_svhcs(part.substances, depth + 1)"
   ]
  },
  {
   "cell_type": "code",
   "execution_count": 10,
   "id": "75d0cd03",
   "metadata": {
    "execution": {
     "iopub.execute_input": "2023-03-17T09:34:37.244812Z",
     "iopub.status.busy": "2023-03-17T09:34:37.244605Z",
     "iopub.status.idle": "2023-03-17T09:34:37.248328Z",
     "shell.execute_reply": "2023-03-17T09:34:37.247717Z"
    },
    "tags": []
   },
   "outputs": [],
   "source": [
    "def print_materials_with_svhcs(materials, depth=0):\n",
    "    mats_contain_svhcs = [m for m in materials\n",
    "                          if m.indicators[\"SVHC\"] >= above_threshold_flag]\n",
    "    for mat in mats_contain_svhcs:\n",
    "        print(f\"{'  '*depth}- Material: {mat.record_history_identity}\")\n",
    "        print_substances_with_svhcs(mat.substances, depth + 1)"
   ]
  },
  {
   "cell_type": "code",
   "execution_count": 11,
   "id": "732cc7dc",
   "metadata": {
    "execution": {
     "iopub.execute_input": "2023-03-17T09:34:37.251114Z",
     "iopub.status.busy": "2023-03-17T09:34:37.250785Z",
     "iopub.status.idle": "2023-03-17T09:34:37.254851Z",
     "shell.execute_reply": "2023-03-17T09:34:37.254204Z"
    },
    "tags": []
   },
   "outputs": [],
   "source": [
    "def print_specifications_with_svhcs(specifications, depth=0):\n",
    "    specs_contain_svhcs = [s for s in specifications\n",
    "                           if s.indicators[\"SVHC\"] >= above_threshold_flag]\n",
    "    for spec in specs_contain_svhcs:\n",
    "        print(f\"{'  '*depth}- Specification: {spec.record_history_identity}\")\n",
    "        print_coatings_with_svhcs(spec.coatings, depth + 1)\n",
    "        print_substances_with_svhcs(spec.substances, depth + 1)"
   ]
  },
  {
   "cell_type": "code",
   "execution_count": 12,
   "id": "3940e6fa",
   "metadata": {
    "execution": {
     "iopub.execute_input": "2023-03-17T09:34:37.257665Z",
     "iopub.status.busy": "2023-03-17T09:34:37.257459Z",
     "iopub.status.idle": "2023-03-17T09:34:37.261299Z",
     "shell.execute_reply": "2023-03-17T09:34:37.260702Z"
    },
    "tags": []
   },
   "outputs": [],
   "source": [
    "def print_coatings_with_svhcs(coatings, depth=0):\n",
    "    coatings_contain_svhcs = [c for c in coatings\n",
    "                             if c.indicators[\"SVHC\"] >= above_threshold_flag]\n",
    "    for coating in coatings_contain_svhcs:\n",
    "        print(f\"{'  '*depth}- Coating: {coating.record_history_identity}\")\n",
    "        print_substances_with_svhcs(coating.substances, depth + 1)"
   ]
  },
  {
   "cell_type": "code",
   "execution_count": 13,
   "id": "f6e72bac",
   "metadata": {
    "execution": {
     "iopub.execute_input": "2023-03-17T09:34:37.263973Z",
     "iopub.status.busy": "2023-03-17T09:34:37.263773Z",
     "iopub.status.idle": "2023-03-17T09:34:37.267421Z",
     "shell.execute_reply": "2023-03-17T09:34:37.266817Z"
    },
    "tags": []
   },
   "outputs": [],
   "source": [
    "def print_substances_with_svhcs(substances, depth=0):\n",
    "    subs_contain_svhcs = [sub for sub in substances\n",
    "                          if sub.indicators[\"SVHC\"] >= above_threshold_flag]\n",
    "    for sub in subs_contain_svhcs:\n",
    "        print(f\"{'  '*depth}- Substance: {sub.record_history_identity}\")"
   ]
  },
  {
   "cell_type": "code",
   "execution_count": 14,
   "id": "fe8ba39b",
   "metadata": {
    "execution": {
     "iopub.execute_input": "2023-03-17T09:34:37.270066Z",
     "iopub.status.busy": "2023-03-17T09:34:37.269863Z",
     "iopub.status.idle": "2023-03-17T09:34:37.273451Z",
     "shell.execute_reply": "2023-03-17T09:34:37.272968Z"
    },
    "tags": []
   },
   "outputs": [
    {
     "name": "stdout",
     "output_type": "stream",
     "text": [
      "- Part: 564821\n",
      "  - Part: 564794\n",
      "    - Specification: 164846\n",
      "      - Coating: 83146\n",
      "        - Substance: 75023\n",
      "  - Part: 564907\n",
      "    - Specification: 164846\n",
      "      - Coating: 83146\n",
      "        - Substance: 75023\n",
      "  - Part: 565076\n",
      "    - Specification: 164846\n",
      "      - Coating: 83146\n",
      "        - Substance: 75023\n",
      "  - Part: 565088\n",
      "    - Specification: 164846\n",
      "      - Coating: 83146\n",
      "        - Substance: 75023\n"
     ]
    }
   ],
   "source": [
    "recursively_print_parts_with_svhcs(wing.parts)"
   ]
  },
  {
   "cell_type": "markdown",
   "id": "68f80834",
   "metadata": {},
   "source": [
    "We have now identified a coating that is causing non-compliance. There is a single coating in the assembly that is\n",
    "non-compliant, but it appears in 4 non-compliant sub-components. The coating also only contains one\n",
    "non-compliant substance."
   ]
  },
  {
   "cell_type": "markdown",
   "id": "fb2d5517",
   "metadata": {},
   "source": [
    "## Results Grouped by Indicator"
   ]
  },
  {
   "cell_type": "markdown",
   "id": "1816df97",
   "metadata": {},
   "source": [
    "Alternatively, using the ``compliance_by_indicator`` property will give us a single indicator result that rolls up the\n",
    "results across all parts in the query. This would be useful in a situation where we have a 'concept' assembly stored\n",
    "outside of Granta MI, and we want to determine its compliance. We know it contains the subassemblies specified in the\n",
    "query above, and so using ``compliance_by_indicator`` will tell us if that concept assembly is compliant based on the\n",
    "worst result of the individual subassemblies."
   ]
  },
  {
   "cell_type": "code",
   "execution_count": 15,
   "id": "1cdfd913",
   "metadata": {
    "execution": {
     "iopub.execute_input": "2023-03-17T09:34:37.276126Z",
     "iopub.status.busy": "2023-03-17T09:34:37.275912Z",
     "iopub.status.idle": "2023-03-17T09:34:37.279594Z",
     "shell.execute_reply": "2023-03-17T09:34:37.278964Z"
    },
    "tags": []
   },
   "outputs": [
    {
     "name": "stdout",
     "output_type": "stream",
     "text": [
      "One or more subassemblies contains an SVHC in a quantity > 0.1%\n"
     ]
    }
   ],
   "source": [
    "if part_result.compliance_by_indicator[\"SVHC\"] >= above_threshold_flag:\n",
    "    print(\"One or more subassemblies contains an SVHC in a quantity > 0.1%\")\n",
    "else:\n",
    "    print(\"No SVHCs, or SVHCs are present in a quantity < 0.1%\")"
   ]
  }
 ],
 "metadata": {
  "jupytext": {
   "formats": "ipynb,py:light"
  },
  "kernelspec": {
   "display_name": "Python 3 (ipykernel)",
   "language": "python",
   "name": "python3"
  },
  "language_info": {
   "codemirror_mode": {
    "name": "ipython",
    "version": 3
   },
   "file_extension": ".py",
   "mimetype": "text/x-python",
   "name": "python",
   "nbconvert_exporter": "python",
   "pygments_lexer": "ipython3",
   "version": "3.9.16"
  }
 },
 "nbformat": 4,
 "nbformat_minor": 5
}
