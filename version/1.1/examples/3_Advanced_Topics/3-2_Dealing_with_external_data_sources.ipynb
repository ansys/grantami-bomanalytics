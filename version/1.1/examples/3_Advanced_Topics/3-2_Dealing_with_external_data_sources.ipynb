{
 "cells": [
  {
   "cell_type": "markdown",
   "id": "6a594dbf",
   "metadata": {},
   "source": [
    "# Determine compliance for BoMs in external data sources"
   ]
  },
  {
   "cell_type": "markdown",
   "id": "fb5cb27a",
   "metadata": {},
   "source": [
    "You might have to deal with BoMs or other data structures stored in third-party systems. This\n",
    "example shows a scenario where compliance must be determined for a BoM-type structure in a JSON file,\n",
    "with the result added to the input file."
   ]
  },
  {
   "cell_type": "markdown",
   "id": "e04c6706",
   "metadata": {},
   "source": [
    "Although it is unlikely that the data structures and processing presented here match your\n",
    "requirements, this example is intended to demonstrate the principles behind using the Granta\n",
    "MI BoM Analytics API within your existing processes. It shows how a BoM-like data structure\n",
    "can be loaded from a neutral format and used as a starting point for compliance analysis.\n",
    "The approach is applicable to data in other formats, or data loaded from other software\n",
    "platform APIs."
   ]
  },
  {
   "cell_type": "markdown",
   "id": "fa954b6a",
   "metadata": {},
   "source": [
    "You can [download](supporting-files/source_data.json) the external data source used in this\n",
    "example ."
   ]
  },
  {
   "cell_type": "markdown",
   "id": "56f2cdd4",
   "metadata": {},
   "source": [
    "## Load the external data"
   ]
  },
  {
   "cell_type": "markdown",
   "id": "1428cef8",
   "metadata": {},
   "source": [
    "First load the JSON file and use the ``json`` module to convert the text into a hierarchical structure of ``dict`` and\n",
    "``list`` objects."
   ]
  },
  {
   "cell_type": "code",
   "execution_count": 1,
   "id": "edb4aa01",
   "metadata": {
    "execution": {
     "iopub.execute_input": "2023-03-17T09:34:45.811193Z",
     "iopub.status.busy": "2023-03-17T09:34:45.810731Z",
     "iopub.status.idle": "2023-03-17T09:34:45.820603Z",
     "shell.execute_reply": "2023-03-17T09:34:45.820080Z"
    },
    "tags": []
   },
   "outputs": [
    {
     "name": "stdout",
     "output_type": "stream",
     "text": [
      "{'components': [{'materials': ['plastic-abs-pvc-flame'],\n",
      "                 'part_number': 'FQC3RQKYE5'},\n",
      "                {'materials': ['plastic-abs-pvc-flame',\n",
      "                               'plastic-pc-10glassfiber'],\n",
      "                 'part_number': '3FF8CXIHWJ'},\n",
      "                {'materials': ['elastomer-pvc-shorea55'],\n",
      "                 'part_number': 'O676WZSGHA'},\n",
      "                {'materials': ['aluminum-6063-t6'],\n",
      "                 'part_number': 'L8NTU4BZY2'},\n",
      "                {'materials': ['aluminum-6063-t6'],\n",
      "                 'part_number': '7N9EUBALU2'},\n",
      "                {'materials': ['stainless-316-annealed'],\n",
      "                 'part_number': 'U921IQSW6K'},\n",
      "                {'materials': ['aluminum-6063-t6', 'glass-borosilicate-7050'],\n",
      "                 'part_number': 'TUSMQ1ZDFM'}]}\n"
     ]
    }
   ],
   "source": [
    "import json\n",
    "from pprint import pprint\n",
    "\n",
    "with open(\"supporting-files/source_data.json\") as f:\n",
    "    data = json.load(f)\n",
    "pprint(data)"
   ]
  },
  {
   "cell_type": "markdown",
   "id": "a1e8fbfb",
   "metadata": {},
   "source": [
    "The list of components is used frequently, so store it in a variable for convenience."
   ]
  },
  {
   "cell_type": "code",
   "execution_count": 2,
   "id": "cf3925f2",
   "metadata": {
    "execution": {
     "iopub.execute_input": "2023-03-17T09:34:45.823386Z",
     "iopub.status.busy": "2023-03-17T09:34:45.823175Z",
     "iopub.status.idle": "2023-03-17T09:34:45.826438Z",
     "shell.execute_reply": "2023-03-17T09:34:45.825819Z"
    },
    "tags": []
   },
   "outputs": [],
   "source": [
    "components = data[\"components\"]"
   ]
  },
  {
   "cell_type": "markdown",
   "id": "b4b29ff7",
   "metadata": {},
   "source": [
    "It is clear from viewing this data that some parts include multiple materials, and some materials appear in the JSON\n",
    "file more than once. However, the material compliance is not dependent on the component it is used in, and the\n",
    "compliance of a part only depends on the worst compliance status of the constituent materials. Therefore, you can\n",
    "simplify the compliance query by get the compliance for the unique set of materials in the JSON file. You can then\n",
    "perform some data manipulation of the results."
   ]
  },
  {
   "cell_type": "markdown",
   "id": "afea92ae",
   "metadata": {},
   "source": [
    "Because the compliance status of a material does not depend on which component it is used in, and part compliance\n",
    "depends only on the worst compliance status of its constituent materials, you can simplify the query by running it\n",
    "against the set of unique materials in the JSON file. You can then rebuild the data structure from these results to\n",
    "view the compliance by component."
   ]
  },
  {
   "cell_type": "markdown",
   "id": "b8c5691b",
   "metadata": {},
   "source": [
    "First, use a set comprehension to get the unique materials, which you can then cast into a list."
   ]
  },
  {
   "cell_type": "code",
   "execution_count": 3,
   "id": "8f3dadc9",
   "metadata": {
    "execution": {
     "iopub.execute_input": "2023-03-17T09:34:45.829633Z",
     "iopub.status.busy": "2023-03-17T09:34:45.829420Z",
     "iopub.status.idle": "2023-03-17T09:34:45.838377Z",
     "shell.execute_reply": "2023-03-17T09:34:45.837756Z"
    },
    "tags": []
   },
   "outputs": [
    {
     "data": {
      "text/plain": [
       "{'aluminum-6063-t6',\n",
       " 'elastomer-pvc-shorea55',\n",
       " 'glass-borosilicate-7050',\n",
       " 'plastic-abs-pvc-flame',\n",
       " 'plastic-pc-10glassfiber',\n",
       " 'stainless-316-annealed'}"
      ]
     },
     "execution_count": 3,
     "metadata": {},
     "output_type": "execute_result"
    }
   ],
   "source": [
    "material_ids = {m for comp in components for m in comp[\"materials\"]}\n",
    "material_ids"
   ]
  },
  {
   "cell_type": "markdown",
   "id": "2a887199",
   "metadata": {},
   "source": [
    "## Get the compliance status"
   ]
  },
  {
   "cell_type": "markdown",
   "id": "8778a63a",
   "metadata": {},
   "source": [
    "Next, create and run a compliance query using the list of material IDs, as shown in previous examples."
   ]
  },
  {
   "cell_type": "code",
   "execution_count": 4,
   "id": "8218553b",
   "metadata": {
    "execution": {
     "iopub.execute_input": "2023-03-17T09:34:45.842194Z",
     "iopub.status.busy": "2023-03-17T09:34:45.841970Z",
     "iopub.status.idle": "2023-03-17T09:34:48.497032Z",
     "shell.execute_reply": "2023-03-17T09:34:48.496372Z"
    },
    "tags": []
   },
   "outputs": [
    {
     "data": {
      "text/plain": [
       "<MaterialComplianceQueryResult: 6 MaterialWithCompliance results>"
      ]
     },
     "execution_count": 4,
     "metadata": {},
     "output_type": "execute_result"
    }
   ],
   "source": [
    "from ansys.grantami.bomanalytics import Connection, indicators, queries\n",
    "\n",
    "server_url = \"http://my_grantami_server/mi_servicelayer\"\n",
    "cxn = Connection(server_url).with_credentials(\"user_name\", \"password\").connect()\n",
    "svhc = indicators.WatchListIndicator(\n",
    "    name=\"SVHC\",\n",
    "    legislation_names=[\"REACH - The Candidate List\"],\n",
    "    default_threshold_percentage=0.1,\n",
    ")\n",
    "mat_query = (\n",
    "    queries.MaterialComplianceQuery()\n",
    "    .with_indicators([svhc])\n",
    "    .with_material_ids(material_ids)\n",
    ")\n",
    "mat_results = cxn.run(mat_query)\n",
    "mat_results"
   ]
  },
  {
   "cell_type": "markdown",
   "id": "6bb34073",
   "metadata": {},
   "source": [
    "## Postprocess the results"
   ]
  },
  {
   "cell_type": "markdown",
   "id": "4b940f44",
   "metadata": {},
   "source": [
    "The preceding results describe the compliance status for each material, but more work is needed to\n",
    "provide the compliance status for all the components in the original JSON file."
   ]
  },
  {
   "cell_type": "markdown",
   "id": "4c47d5a4",
   "metadata": {},
   "source": [
    "When a component contains only one material, the result can simply be copied over. In the general case, moving from\n",
    "material compliance to component compliance means taking the worst compliance result across all the constituent\n",
    "materials."
   ]
  },
  {
   "cell_type": "markdown",
   "id": "332bcef1",
   "metadata": {},
   "source": [
    "To do this, first create a dictionary that maps a material ID to the indicator result returned by the query."
   ]
  },
  {
   "cell_type": "code",
   "execution_count": 5,
   "id": "4127fb77",
   "metadata": {
    "execution": {
     "iopub.execute_input": "2023-03-17T09:34:48.500525Z",
     "iopub.status.busy": "2023-03-17T09:34:48.500304Z",
     "iopub.status.idle": "2023-03-17T09:34:48.503455Z",
     "shell.execute_reply": "2023-03-17T09:34:48.502846Z"
    },
    "tags": []
   },
   "outputs": [],
   "source": [
    "material_lookup = {mat.material_id: mat.indicators[\"SVHC\"]\n",
    "                   for mat in mat_results.compliance_by_material_and_indicator}"
   ]
  },
  {
   "cell_type": "markdown",
   "id": "23c02680",
   "metadata": {
    "lines_to_next_cell": 2
   },
   "source": [
    "Next, define a function that takes a list of material IDs and returns the worst compliance status associated with the\n",
    "materials in the list.\n",
    "\n",
    "You can use the built-in ``max()`` function to do this because you can compare ``WatchListIndicator`` with ``>``\n",
    "and ``<`` operators. The convention is that a worse result is *greater than* a better result."
   ]
  },
  {
   "cell_type": "code",
   "execution_count": 6,
   "id": "71bf5fa4",
   "metadata": {
    "execution": {
     "iopub.execute_input": "2023-03-17T09:34:48.506878Z",
     "iopub.status.busy": "2023-03-17T09:34:48.506663Z",
     "iopub.status.idle": "2023-03-17T09:34:48.510020Z",
     "shell.execute_reply": "2023-03-17T09:34:48.509417Z"
    },
    "tags": []
   },
   "outputs": [],
   "source": [
    "def rollup_results(material_ids) -> str:\n",
    "    indicator_results = [material_lookup[mat_id] for mat_id in material_ids]\n",
    "    worst_result = max(indicator_results)\n",
    "    return worst_result.flag.name"
   ]
  },
  {
   "cell_type": "markdown",
   "id": "4c20ab3c",
   "metadata": {},
   "source": [
    "Now call this function for each component in a ``dict`` comprehension to obtain a mapping between part number\n",
    "and compliance status."
   ]
  },
  {
   "cell_type": "code",
   "execution_count": 7,
   "id": "bd161236",
   "metadata": {
    "execution": {
     "iopub.execute_input": "2023-03-17T09:34:48.513043Z",
     "iopub.status.busy": "2023-03-17T09:34:48.512840Z",
     "iopub.status.idle": "2023-03-17T09:34:48.517285Z",
     "shell.execute_reply": "2023-03-17T09:34:48.516695Z"
    },
    "tags": []
   },
   "outputs": [
    {
     "data": {
      "text/plain": [
       "{'FQC3RQKYE5': 'WatchListHasSubstanceAboveThreshold',\n",
       " '3FF8CXIHWJ': 'WatchListHasSubstanceAboveThreshold',\n",
       " 'O676WZSGHA': 'WatchListHasSubstanceAboveThreshold',\n",
       " 'L8NTU4BZY2': 'WatchListCompliant',\n",
       " '7N9EUBALU2': 'WatchListCompliant',\n",
       " 'U921IQSW6K': 'WatchListCompliant',\n",
       " 'TUSMQ1ZDFM': 'WatchListHasSubstanceAboveThreshold'}"
      ]
     },
     "execution_count": 7,
     "metadata": {},
     "output_type": "execute_result"
    }
   ],
   "source": [
    "component_results = {comp[\"part_number\"]: rollup_results(comp[\"materials\"])\n",
    "                     for comp in components}\n",
    "component_results"
   ]
  },
  {
   "cell_type": "markdown",
   "id": "2807f208",
   "metadata": {},
   "source": [
    "These results include text defined by the API for compliance status. However, you might want the compliance\n",
    "status to determine the approvals required to release the part in a design review process. In this case, you can\n",
    "define a mapping between compliance status and approval requirements."
   ]
  },
  {
   "cell_type": "code",
   "execution_count": 8,
   "id": "c6bfc55f",
   "metadata": {
    "execution": {
     "iopub.execute_input": "2023-03-17T09:34:48.520945Z",
     "iopub.status.busy": "2023-03-17T09:34:48.520741Z",
     "iopub.status.idle": "2023-03-17T09:34:48.524000Z",
     "shell.execute_reply": "2023-03-17T09:34:48.523400Z"
    },
    "tags": []
   },
   "outputs": [],
   "source": [
    "flags = indicators.WatchListFlag\n",
    "result_map = {\n",
    "    flags.WatchListCompliant.name: \"No Approval Required\",\n",
    "    flags.WatchListAllSubstancesBelowThreshold.name: \"Level 1 Approval Required\",\n",
    "    flags.WatchListHasSubstanceAboveThreshold.name: \"Level 2 Approval Required\",\n",
    "}"
   ]
  },
  {
   "cell_type": "markdown",
   "id": "f5598f2b",
   "metadata": {},
   "source": [
    "You can now use this dictionary to map from the Granta MI result to the approval requirements."
   ]
  },
  {
   "cell_type": "code",
   "execution_count": 9,
   "id": "3d1919bd",
   "metadata": {
    "execution": {
     "iopub.execute_input": "2023-03-17T09:34:48.526811Z",
     "iopub.status.busy": "2023-03-17T09:34:48.526610Z",
     "iopub.status.idle": "2023-03-17T09:34:48.530903Z",
     "shell.execute_reply": "2023-03-17T09:34:48.530291Z"
    },
    "tags": []
   },
   "outputs": [
    {
     "data": {
      "text/plain": [
       "{'FQC3RQKYE5': 'Level 2 Approval Required',\n",
       " '3FF8CXIHWJ': 'Level 2 Approval Required',\n",
       " 'O676WZSGHA': 'Level 2 Approval Required',\n",
       " 'L8NTU4BZY2': 'No Approval Required',\n",
       " '7N9EUBALU2': 'No Approval Required',\n",
       " 'U921IQSW6K': 'No Approval Required',\n",
       " 'TUSMQ1ZDFM': 'Level 2 Approval Required'}"
      ]
     },
     "execution_count": 9,
     "metadata": {},
     "output_type": "execute_result"
    }
   ],
   "source": [
    "results = {part_number: result_map[result]\n",
    "           for part_number, result in component_results.items()}\n",
    "results"
   ]
  },
  {
   "cell_type": "markdown",
   "id": "b5d59121",
   "metadata": {},
   "source": [
    "## Write the output"
   ]
  },
  {
   "cell_type": "markdown",
   "id": "fcb1b732",
   "metadata": {},
   "source": [
    "Once you have your final result, you can take your result ``dict`` and use it to extend the original JSON data\n",
    "structure, with approval requirements added in."
   ]
  },
  {
   "cell_type": "code",
   "execution_count": 10,
   "id": "bc557a36",
   "metadata": {
    "execution": {
     "iopub.execute_input": "2023-03-17T09:34:48.534488Z",
     "iopub.status.busy": "2023-03-17T09:34:48.534281Z",
     "iopub.status.idle": "2023-03-17T09:34:48.537870Z",
     "shell.execute_reply": "2023-03-17T09:34:48.537260Z"
    }
   },
   "outputs": [],
   "source": [
    "components_with_result = []\n",
    "for component in components:\n",
    "    component_with_result = component\n",
    "    part_number = component[\"part_number\"]\n",
    "    component_with_result[\"approval\"] = results[part_number]\n",
    "    components_with_result.append(component_with_result)\n",
    "\n",
    "data_results = {}\n",
    "data_results[\"components\"] = components_with_result"
   ]
  },
  {
   "cell_type": "markdown",
   "id": "2d0683c0",
   "metadata": {},
   "source": [
    "Print the results to see that the new data structure includes the results."
   ]
  },
  {
   "cell_type": "code",
   "execution_count": 11,
   "id": "cdfca0e3",
   "metadata": {
    "execution": {
     "iopub.execute_input": "2023-03-17T09:34:48.540712Z",
     "iopub.status.busy": "2023-03-17T09:34:48.540499Z",
     "iopub.status.idle": "2023-03-17T09:34:48.544379Z",
     "shell.execute_reply": "2023-03-17T09:34:48.543771Z"
    },
    "tags": []
   },
   "outputs": [
    {
     "name": "stdout",
     "output_type": "stream",
     "text": [
      "{'components': [{'approval': 'Level 2 Approval Required',\n",
      "                 'materials': ['plastic-abs-pvc-flame'],\n",
      "                 'part_number': 'FQC3RQKYE5'},\n",
      "                {'approval': 'Level 2 Approval Required',\n",
      "                 'materials': ['plastic-abs-pvc-flame',\n",
      "                               'plastic-pc-10glassfiber'],\n",
      "                 'part_number': '3FF8CXIHWJ'},\n",
      "                {'approval': 'Level 2 Approval Required',\n",
      "                 'materials': ['elastomer-pvc-shorea55'],\n",
      "                 'part_number': 'O676WZSGHA'},\n",
      "                {'approval': 'No Approval Required',\n",
      "                 'materials': ['aluminum-6063-t6'],\n",
      "                 'part_number': 'L8NTU4BZY2'},\n",
      "                {'approval': 'No Approval Required',\n",
      "                 'materials': ['aluminum-6063-t6'],\n",
      "                 'part_number': '7N9EUBALU2'},\n",
      "                {'approval': 'No Approval Required',\n",
      "                 'materials': ['stainless-316-annealed'],\n",
      "                 'part_number': 'U921IQSW6K'},\n",
      "                {'approval': 'Level 2 Approval Required',\n",
      "                 'materials': ['aluminum-6063-t6', 'glass-borosilicate-7050'],\n",
      "                 'part_number': 'TUSMQ1ZDFM'}]}\n"
     ]
    }
   ],
   "source": [
    "pprint(data_results)"
   ]
  }
 ],
 "metadata": {
  "jupytext": {
   "formats": "ipynb,py:light"
  },
  "kernelspec": {
   "display_name": "Python 3 (ipykernel)",
   "language": "python",
   "name": "python3"
  },
  "language_info": {
   "codemirror_mode": {
    "name": "ipython",
    "version": 3
   },
   "file_extension": ".py",
   "mimetype": "text/x-python",
   "name": "python",
   "nbconvert_exporter": "python",
   "pygments_lexer": "ipython3",
   "version": "3.9.16"
  }
 },
 "nbformat": 4,
 "nbformat_minor": 5
}
